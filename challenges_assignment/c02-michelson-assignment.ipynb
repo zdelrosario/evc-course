{
 "cells": [
  {
   "cell_type": "markdown",
   "id": "424f8515",
   "metadata": {
    "tags": []
   },
   "source": [
    "# c02-michelson\n",
    "\n",
    "*Purpose*: When studying physical problems, there is an important distinction between *error* and *uncertainty*. The primary purpose of this challenge is to dip our toes into these factors by analyzing a real dataset.\n",
    "\n",
    "*Reading*: [Experimental Determination of the Velocity of Light](https://play.google.com/books/reader?id=343nAAAAMAAJ&hl=en&pg=GBS.PA115) (Optional)\n"
   ]
  },
  {
   "cell_type": "markdown",
   "id": "8fc2f54f",
   "metadata": {},
   "source": [
    "## Setup"
   ]
  },
  {
   "cell_type": "code",
   "execution_count": null,
   "id": "50d707ea",
   "metadata": {},
   "outputs": [],
   "source": [
    "import grama as gr\n",
    "import pandas as pd\n",
    "DF = gr.Intention()\n",
    "%matplotlib inline\n",
    "\n",
    "# For downloading data\n",
    "import os\n",
    "import requests"
   ]
  },
  {
   "cell_type": "markdown",
   "id": "51279986",
   "metadata": {},
   "source": [
    "The following code downloads the data from a public Google sheet.\n",
    "\n",
    "*Note*: Feel free to adapt this code for your own projects!\n"
   ]
  },
  {
   "cell_type": "code",
   "execution_count": null,
   "id": "d655b4e3",
   "metadata": {},
   "outputs": [],
   "source": [
    "# Filename for local data\n",
    "filename_data = \"data/michelson.csv\"\n",
    "\n",
    "# The following code downloads the data, or (after downloaded)\n",
    "# loads the data from a cached CSV on your machine\n",
    "if not os.path.exists(filename_data):\n",
    "    # Make request for data\n",
    "    url_data = \"https://docs.google.com/spreadsheets/d/1av_SXn4j0-4Rk0mQFik3LLr-uf0YdA06i3ugE6n-Zdo/export?format=csv\"\n",
    "    r = requests.get(url_data, allow_redirects=True)\n",
    "    open(filename_data, 'wb').write(r.content)\n",
    "    print(\"   Data downloaded from public Google sheet\")\n",
    "else:\n",
    "    # Note data already exists\n",
    "    print(\"   Data loaded locally\")\n",
    "    \n",
    "# Read the data into memory\n",
    "df_michelson = (\n",
    "    pd.read_csv(filename_data)\n",
    "    >> gr.tf_select(\"Date\", \"Distinctness\", \"Temp\", \"Velocity\")\n",
    ")"
   ]
  },
  {
   "cell_type": "markdown",
   "id": "50c947ee",
   "metadata": {},
   "source": [
    "## Background\n",
    "\n",
    "In 1879 Albert Michelson led an experimental campaign to measure the speed of light [1]. His approach was a development upon the method of Foucault[3], and resulted in a new estimate of $v_0 = 299944 \\pm 51$ kilometers per second (in a vacuum). This is very close to the modern *exact* value of `r LIGHTSPEED_VACUUM`. In this challenge, you will analyze Michelson's original data, and explore some of the factors associated with his experiment.\n",
    "\n",
    "I've already copied Michelson's data from his 1880 publication; the code chunk below will load these data from a public googlesheet.\n",
    "\n",
    "*Aside*: The speed of light is *exact* (there is **zero error** in the value `LIGHTSPEED_VACUUM`) because the meter is actually [*defined*](https://en.wikipedia.org/wiki/Metre#Speed_of_light_definition) in terms of the speed of light!\n"
   ]
  },
  {
   "cell_type": "code",
   "execution_count": null,
   "id": "b1aa9d9b",
   "metadata": {},
   "outputs": [],
   "source": [
    "## NOTE: Don't edit; these are constants used in the challenge\n",
    "LIGHTSPEED_VACUUM    = 299792.458 # Exact speed of light in a vacuum (km / s)\n",
    "LIGHTSPEED_MICHELSON = 299944.00  # Michelson's speed estimate (km / s)\n",
    "LIGHTSPEED_PM        = 51         # Michelson error estimate (km / s)\n"
   ]
  },
  {
   "cell_type": "markdown",
   "id": "bc3feed3",
   "metadata": {},
   "source": [
    "## Data dictionary\n",
    "\n",
    "- `Date`: Date of measurement\n",
    "- `Distinctness`: Distinctness of measured images: 3 = good, 2 = fair, 1 = poor\n",
    "- `Temp`: Ambient temperature (Fahrenheit)\n",
    "- `Velocity`: Measured speed of light (km / s)\n"
   ]
  },
  {
   "cell_type": "markdown",
   "id": "ea457f8a",
   "metadata": {},
   "source": [
    "# First Look\n"
   ]
  },
  {
   "cell_type": "markdown",
   "id": "abbff524",
   "metadata": {
    "jp-MarkdownHeadingCollapsed": true,
    "tags": []
   },
   "source": [
    "### __q1__ Recreate this table\n",
    "\n",
    "Re-create the following table (from Michelson (1880), pg. 139) using `df_michelson` and `grama`. Note that your values *will not* match those of Michelson *exactly*; why might this be?\n",
    "\n",
    "| Distinctness | n  | MeanVelocity |\n",
    "|--------------|----|----------|\n",
    "|            3 | 46 |   299860 |\n",
    "|            2 | 39 |   299860 |\n",
    "|            1 | 15 |   299810 |\n",
    "\n",
    "*Hint*: The helper `gr.n()` may be helpful in this task.\n"
   ]
  },
  {
   "cell_type": "code",
   "execution_count": null,
   "id": "8b832261",
   "metadata": {},
   "outputs": [],
   "source": [
    "## TASK: Re-create the table above using df_michelson\n",
    "df_q1 = (\n",
    "    df_michelson\n",
    "\n",
    ")\n",
    "\n",
    "## NOTE: No need to edit below here\n",
    "(\n",
    "    df_q1\n",
    "    >> gr.tf_arrange(gr.desc(DF.Distinctness))\n",
    ")"
   ]
  },
  {
   "cell_type": "markdown",
   "id": "3f428144",
   "metadata": {},
   "source": [
    "*Observations*\n",
    "\n",
    "- Write your observations here!\n",
    "  - (Your response here)\n",
    "- Why might your table differ from Michelson's?\n",
    "  - (Your response here)\n"
   ]
  },
  {
   "cell_type": "markdown",
   "id": "7fdd23cb",
   "metadata": {},
   "source": [
    "The `Velocity` values in the dataset are the speed of light *in air*; Michelson introduced a couple of adjustments to estimate the speed of light in a vacuum. In total, he added $+92$ km/s to his mean estimate for `VelocityVacuum` (from Michelson (1880), pg. 141). While the following isn't fully rigorous ($+92$ km/s is based on the mean temperature), we'll simply apply this correction to all the observations in the dataset.\n"
   ]
  },
  {
   "cell_type": "markdown",
   "id": "c30400c6",
   "metadata": {},
   "source": [
    "### __q2__ Adjust the velocity values\n",
    "\n",
    "Create a new variable `VelocityVacuum` with the $+92$ km/s adjustment to `Velocity`. Assign this new DataFrame to `df_q2`.\n"
   ]
  },
  {
   "cell_type": "code",
   "execution_count": null,
   "id": "508a8b44",
   "metadata": {},
   "outputs": [],
   "source": [
    "## TASK: Adjust the data, assign to df_q2\n",
    "df_q2 = None\n",
    "\n",
    "\n",
    "df_q2"
   ]
  },
  {
   "cell_type": "markdown",
   "id": "3df95275",
   "metadata": {},
   "source": [
    "# Deeper Look\n",
    "\n",
    "## True values vs estimates\n",
    "\n",
    "As part of his study, Michelson assessed the various potential sources of error, and provided his best-guess for the error in his speed-of-light estimate. These values are provided in `LIGHTSPEED_MICHELSON`---his nominal estimate---and `LIGHTSPEED_PM`---plus/minus bounds on his estimate. Put differently, Michelson believed the true value of the speed-of-light probably lay between `LIGHTSPEED_MICHELSON - LIGHTSPEED_PM` and `LIGHTSPEED_MICHELSON + LIGHTSPEED_PM`.\n",
    "\n",
    "Let's introduce some terminology:\n",
    "\n",
    "- **True Error** refers to the difference between a true value and an estimate of that value; for instance `LIGHTSPEED_VACUUM - LIGHTSPEED_MICHELSON`.\n",
    "- **Estimated Error** is an analyst's *assessment* of the error.\n",
    "\n",
    "Note that, in order to compute the true error **we have to know the true value**. Since a \"true\" value is often not known in practice, one generally does not know the error. The best they can do is quantify their degree of uncertainty. We will learn some means of quantifying uncertainty in this class, but for many real problems uncertainty includes some amount of human judgment [2].\n",
    "\n",
    "However, this scenario is special: We have an *accepted* speed-of-light value that we can treat as the true value. Thus, we have the means to compare Michelson's estimated error against the true error.\n"
   ]
  },
  {
   "cell_type": "markdown",
   "id": "e94270ac",
   "metadata": {},
   "source": [
    "### __q3__ Compare true error and estimated error\n",
    "\n",
    "Compare Michelson's speed of light estimate `LIGHTSPEED_MICHELSON` against the modern speed of light value `LIGHTSPEED_VACUUM`. Is Michelson's estimated error (`LIGHTSPEED_PM`) greater or less than the true error?\n"
   ]
  },
  {
   "cell_type": "code",
   "execution_count": null,
   "id": "22254c90",
   "metadata": {},
   "outputs": [],
   "source": [
    "## TASK: Compare Michelson's estimate and error against the true value\n",
    "# Write your code here\n"
   ]
  },
  {
   "cell_type": "markdown",
   "id": "f48c75ee",
   "metadata": {},
   "source": [
    "*Observations*\n",
    "\n",
    "- Is Michelson's estimate of the error greater or less than the true error? How would you describe Michelson's *confidence* in his estimate? (Was he overconfident? Underconfident?)\n",
    "  - (Your response here)\n",
    "- Make a quantitative comparison between Michelson's uncertainty and his error.\n",
    "  - (Your response here)\n"
   ]
  },
  {
   "cell_type": "markdown",
   "id": "a76591d3",
   "metadata": {},
   "source": [
    "# Searching for patterns\n",
    "\n",
    "When there are errors in our conclusions from data, we should look for an *explanation* for those errors. Michelson's estimate for the speed-of-light is in error. In this last part of the challenge, you'll search for explanations.\n"
   ]
  },
  {
   "cell_type": "markdown",
   "id": "72dc14bf",
   "metadata": {},
   "source": [
    "### __q4__ Search for patterns\n",
    "\n",
    "You have access to a few other variables in `df_q2`. Construct *at least three (3) visualizations* of `VelocityVacuum` against these other factors. Are there other patterns in the data that might help explain the difference between Michelson's estimate and `LIGHTSPEED_VACUUM`?\n"
   ]
  },
  {
   "cell_type": "code",
   "execution_count": null,
   "id": "5f3bfe7d",
   "metadata": {},
   "outputs": [],
   "source": [
    "## TASK: Your visual (1)\n",
    "(\n",
    "    df_q2\n",
    "## Construct your visual here\n",
    "\n",
    ")"
   ]
  },
  {
   "cell_type": "markdown",
   "id": "4e6b3e46",
   "metadata": {},
   "source": [
    "*Observations*\n",
    "\n",
    "- (Your observations from your 1st plot here)\n"
   ]
  },
  {
   "cell_type": "code",
   "execution_count": null,
   "id": "40682fb4",
   "metadata": {},
   "outputs": [],
   "source": [
    "## TASK: Your visual (2)\n",
    "(\n",
    "    df_q2\n",
    "## Construct your visual here\n",
    "\n",
    ")"
   ]
  },
  {
   "cell_type": "markdown",
   "id": "6aa4f2a2",
   "metadata": {},
   "source": [
    "*Observations*\n",
    "\n",
    "- (Your observations from your 2nd plot here)\n"
   ]
  },
  {
   "cell_type": "code",
   "execution_count": null,
   "id": "525459f4",
   "metadata": {},
   "outputs": [],
   "source": [
    "## TASK: Your visual (3)\n",
    "(\n",
    "    df_q2\n",
    "## Construct your visual here\n",
    "\n",
    ")"
   ]
  },
  {
   "cell_type": "markdown",
   "id": "69cd5af1",
   "metadata": {},
   "source": [
    "*Observations*\n",
    "\n",
    "- (Your observations from your 3rd plot here)\n"
   ]
  },
  {
   "cell_type": "markdown",
   "id": "8bce7a87",
   "metadata": {},
   "source": [
    "## A First Look at Control Charts\n",
    "\n",
    "In a future exercise (`e-stat06-spc`) we'll learn about *control charts*: A control chart is a data analysis tool that helps us find *suspicious patterns* in a dataset. A control chart doesn't tell us *why* something happened; rather, it tells us which observations might be important to investigate further.\n",
    "\n",
    "Control charts look for patterns in *groups* of observations (not single observations); this helps us to pick out meaningful patterns while protecting ourselves against randomness (spurious patterns).\n"
   ]
  },
  {
   "cell_type": "markdown",
   "id": "54c8d3cc",
   "metadata": {},
   "source": [
    "### __q5__ Inspect this control chart\n",
    "\n",
    "Inspect the following control chart: It considers the speed-of-light measurements in groups of `8`. Answer the questions under *observations* below.\n",
    "\n",
    "*Note*: You'll probably see a red-highlighted `Warning` when you run the code below; that's OK, so long as the plot shows!\n"
   ]
  },
  {
   "cell_type": "code",
   "execution_count": null,
   "id": "fdc2e941",
   "metadata": {},
   "outputs": [],
   "source": [
    "## NOTE: No need to edit, run and inspect\n",
    "(\n",
    "    df_q2\n",
    "    >> gr.tf_mutate(idx=DF.index // 8)\n",
    "    >> gr.pt_xbs(group=\"idx\", var=\"VelocityVacuum\")\n",
    ")"
   ]
  },
  {
   "cell_type": "markdown",
   "id": "3cf30902",
   "metadata": {},
   "source": [
    "*Observations*\n",
    "\n",
    "- What patterns do you see in the control chart? Where do these patterns occur? (By group number `idx`)\n",
    "  - (Your response here)\n",
    "- In which group of observations would you want to get more information?\n",
    "  - (Your response here)\n"
   ]
  },
  {
   "cell_type": "markdown",
   "id": "9d71d0a0",
   "metadata": {},
   "source": [
    "# References\n",
    "\n",
    "- [1] Michelson, [Experimental Determination of the Velocity of Light](https://play.google.com/books/reader?id=343nAAAAMAAJ&hl=en&pg=GBS.PA115) (1880)\n",
    "- [2] Henrion and Fischhoff, [Assessing Uncertainty in Physical Constants](https://www.cmu.edu/epp/people/faculty/research/Fischoff-Henrion-Assessing%20uncertainty%20in%20physical%20constants.pdf) (1986)\n",
    "- [3] BYU video about a [Fizeau-Foucault apparatus](https://www.youtube.com/watch?v=Ik5ORaaeaME), similar to what Michelson used.\n"
   ]
  }
 ],
 "metadata": {
  "kernelspec": {
   "display_name": "Python 3 (ipykernel)",
   "language": "python",
   "name": "python3"
  },
  "language_info": {
   "codemirror_mode": {
    "name": "ipython",
    "version": 3
   },
   "file_extension": ".py",
   "mimetype": "text/x-python",
   "name": "python",
   "nbconvert_exporter": "python",
   "pygments_lexer": "ipython3",
   "version": "3.9.7"
  }
 },
 "nbformat": 4,
 "nbformat_minor": 5
}
