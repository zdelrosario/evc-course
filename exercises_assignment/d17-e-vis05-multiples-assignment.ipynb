{
 "cells": [
  {
   "cell_type": "markdown",
   "id": "8940f18e",
   "metadata": {},
   "source": [
    "# Vis: Small Multiples\n",
    "\n",
    "*Purpose*: A powerful idea in visualization is the *small multiple*. In this exercise you'll learn how to design and create small multiple graphs.\n",
    "\n",
    "> \"At the heart of quantitative reasoning is a single question: *Compared to what?*\" \n",
    "\n",
    "*Edward Tufte on visual comparison.*\n"
   ]
  },
  {
   "cell_type": "markdown",
   "id": "aad3d029",
   "metadata": {},
   "source": [
    "## Setup\n"
   ]
  },
  {
   "cell_type": "code",
   "execution_count": null,
   "id": "317661a0",
   "metadata": {},
   "outputs": [],
   "source": [
    "import grama as gr\n",
    "DF = gr.Intention()\n",
    "%matplotlib inline"
   ]
  },
  {
   "cell_type": "markdown",
   "id": "e1ca5479",
   "metadata": {
    "tags": []
   },
   "source": [
    "# Fundamentals of small multiples\n",
    "\n",
    "**Facets** in ggplot allow us to apply the ideas of [small multiples](https://en.wikipedia.org/wiki/Small_multiple). As an example, consider the following graph; this example introduces the new ggplot utility `facet_wrap()`. This visual depicts economic data across several decades.\n"
   ]
  },
  {
   "cell_type": "code",
   "execution_count": null,
   "id": "57dd5cfe",
   "metadata": {},
   "outputs": [],
   "source": [
    "## NOTE: No need to edit\n",
    "from plotnine.data import economics as df_economics\n",
    "\n",
    "(\n",
    "    df_economics\n",
    "    >> gr.tf_pivot_longer(\n",
    "        columns=[\"pce\", \"pop\", \"psavert\", \"uempmed\", \"unemploy\"],\n",
    "        names_to=\"variable\",\n",
    "        values_to=\"value\",\n",
    "    )\n",
    "    >> gr.ggplot(gr.aes(\"date\", \"value\"))\n",
    "    + gr.geom_line()\n",
    "    \n",
    "    ## Faceting allows us to implement small multiples\n",
    "    + gr.facet_wrap(\"variable\", scales=\"free_y\")\n",
    "    \n",
    "    + gr.theme(axis_text_x=gr.element_text(angle=270))\n",
    "\n",
    ")"
   ]
  },
  {
   "cell_type": "markdown",
   "id": "9225494e",
   "metadata": {},
   "source": [
    "The \"multiples\" are the different panels; above we've separated the different variables into their own panel, and plotted each one against the date. This allows us to compare trends simply by looking across at different panels. For instance, we can see that `pce` and `pop` exhibit smooth growth over time, while the other variables seem to exhibit cyclical trends.\n",
    "\n",
    "The faceting above works particularly well for *comparing trends*: It's clear by inspection whether the various trends are increasing or decreasing, and we can easily see how each trend compares with others by looking at a different panel.\n",
    "\n",
    "The `facet_wrap(var)` utility takes the name of a column `var` to use as a grouping variable; each unique value in the given column will be used to construct a small multiple. You'll practice using this utility in the next task.\n"
   ]
  },
  {
   "cell_type": "code",
   "execution_count": null,
   "id": "0b5baaf1",
   "metadata": {},
   "outputs": [],
   "source": [
    "## NOTE: Run this cell\n",
    "from grama.data import df_stang"
   ]
  },
  {
   "cell_type": "markdown",
   "id": "7141b8a6",
   "metadata": {},
   "source": [
    "### __q1__ Use `facet_wrap()`\n",
    "\n",
    "Use `gr.facet_wrap()` to create a small multiple for each material `\"property\"`. Make sure to free the `y` scale in order scale both multiples to fit their data properly.\n"
   ]
  },
  {
   "cell_type": "code",
   "execution_count": null,
   "id": "c13e7142",
   "metadata": {},
   "outputs": [],
   "source": [
    "## TASK: \n",
    "(\n",
    "    df_stang\n",
    "    >> gr.tf_pivot_longer(\n",
    "        columns=[\"E\", \"mu\"],\n",
    "        names_to=\"property\",\n",
    "        values_to=\"value\",\n",
    "    )\n",
    "    \n",
    "    >> gr.ggplot(gr.aes(\"thick\", \"value\"))\n",
    "    + gr.geom_point()\n",
    "    ## TODO: Add a facet on \"property\"\n",
    "\n",
    ")"
   ]
  },
  {
   "cell_type": "markdown",
   "id": "d06f3421",
   "metadata": {},
   "source": [
    "\"Freeing\" a scale allows it to adjust to the data. This can be a good idea if each group of values has very different numerical values (or if they have different units!). In the example above `E` and `mu` take very different numerical values (order 10,000 vs order 0.1), so freeing the scale is a good idea.\n",
    "\n",
    "Freeing the scales is *not* always a good idea. The next exercise will have you consider when *not* to free the scales.\n"
   ]
  },
  {
   "cell_type": "code",
   "execution_count": null,
   "id": "e948796b",
   "metadata": {},
   "outputs": [],
   "source": [
    "from plotnine.data import mpg \n",
    "df_mpg = (\n",
    "    mpg\n",
    "    >> gr.tf_rename(carclass=\"class\")\n",
    ")"
   ]
  },
  {
   "cell_type": "markdown",
   "id": "87a1edf5",
   "metadata": {},
   "source": [
    "### __q2__ To free the scales? Or not?\n",
    "\n",
    "Run the following code as-is and inspect the results. Answer the questions under *observations* below. Re-run the code following the instructions below.\n"
   ]
  },
  {
   "cell_type": "code",
   "execution_count": null,
   "id": "d52531cb",
   "metadata": {},
   "outputs": [],
   "source": [
    "## TASK: Run this code, then try disabling the `scales` argument\n",
    "\n",
    "(\n",
    "    df_mpg\n",
    "    >> gr.ggplot(gr.aes(\"displ\", \"hwy\"))\n",
    "    + gr.geom_point()\n",
    "    + gr.facet_wrap(\n",
    "        \"~carclass\", \n",
    "        scales=\"free\",\n",
    "    )\n",
    ")"
   ]
  },
  {
   "cell_type": "markdown",
   "id": "d5664726",
   "metadata": {},
   "source": [
    "*Observations*\n",
    "\n",
    "- Based on the plot above, how much **visual** variation is there among `2seater` vehicles, with respect to their `hwy` fuel economy and engine displacement (`displ`)?\n",
    "  - (Your response here)\n",
    "- Now comment out the `scales=\"free\"` argument, re-run the code, and inspect the new plot.\n",
    "- With the new plot, how much **visual** variation is there among `2seater` vehicles, with respect to their `hwy` fuel economy and engine displacement (`displ`)?\n",
    "  - (Your response here)\n"
   ]
  },
  {
   "cell_type": "markdown",
   "id": "cfa09030",
   "metadata": {},
   "source": [
    "If the different groups have similar values, or if you are trying to encourage *numerical* comparisons rather than just trend comparisons, it may be a good idea to keep the scales fixed.\n"
   ]
  },
  {
   "cell_type": "markdown",
   "id": "3dede1d4",
   "metadata": {
    "tags": []
   },
   "source": [
    "# Finer Points\n",
    "\n",
    "With the basics of facets under our belt, now we can move on to some finer points about constructing small multiple plots.\n",
    "\n",
    "## \"Ghost points\"\n",
    "\n",
    "This version of the `df_mpg` plot is not as effective as it could be:\n"
   ]
  },
  {
   "cell_type": "code",
   "execution_count": null,
   "id": "c5415678",
   "metadata": {},
   "outputs": [],
   "source": [
    "## NOTE: No need to edit\n",
    "(\n",
    "    df_mpg\n",
    "    >> gr.ggplot(gr.aes(\"displ\", \"hwy\"))\n",
    "    + gr.geom_point()\n",
    "    + gr.facet_wrap(\"~carclass\") \n",
    ")"
   ]
  },
  {
   "cell_type": "markdown",
   "id": "6cb6d769",
   "metadata": {},
   "source": [
    "With these scatterplots it's difficult to \"keep in our heads\" the absolute positions of the other points as we look across the multiples. Instead we could add some \"ghost points\":\n"
   ]
  },
  {
   "cell_type": "code",
   "execution_count": null,
   "id": "0b80ad06",
   "metadata": {},
   "outputs": [],
   "source": [
    "## NOTE: No need to edit\n",
    "(\n",
    "    df_mpg\n",
    "    >> gr.ggplot(gr.aes(\"displ\", \"hwy\"))\n",
    "    ## A bit of a trick; remove the facet variable to prevent faceting\n",
    "    + gr.geom_point(\n",
    "        data=df_mpg >> gr.tf_drop(\"carclass\"),\n",
    "        color=\"grey\",\n",
    "    )\n",
    "    + gr.geom_point()\n",
    "    + gr.facet_wrap(\"carclass\")\n",
    ")"
   ]
  },
  {
   "cell_type": "markdown",
   "id": "3f11b541",
   "metadata": {},
   "source": [
    "Here we're using *visual weight* to call attention to the black points within each panel, while using lower-weight grey points to de-emphasize the bulk of data. From this version of the plot we can see clearly that the `2seater` vehicles are tightly clustered **and** they tend to have higher `hwy` for similar `displ` vehicles.\n"
   ]
  },
  {
   "cell_type": "markdown",
   "id": "d59a9e80",
   "metadata": {},
   "source": [
    "There's a trick to getting the visual above; removing the facet variable from an internal dataframe prevents the faceting of that layer. This combined with a second point layer gives the \"ghost\" point effect.\n",
    "\n",
    "The presence of these \"ghost\" points provides more context; they facilitate the \"Compared to what?\" question that Tufte puts at the center of quantitative reasoning.\n"
   ]
  },
  {
   "cell_type": "code",
   "execution_count": null,
   "id": "5a2c019b",
   "metadata": {},
   "outputs": [],
   "source": [
    "from grama.data import df_diamonds"
   ]
  },
  {
   "cell_type": "markdown",
   "id": "4c14b018",
   "metadata": {},
   "source": [
    "### __q3__ Use the \"ghost point\" trick\n",
    "\n",
    "Edit the following figure to use the \"ghost\" point trick demonstrated above.\n"
   ]
  },
  {
   "cell_type": "code",
   "execution_count": null,
   "id": "945e6bf5",
   "metadata": {},
   "outputs": [],
   "source": [
    "## TASK: Add \"ghost points\" to the following plot in order to show\n",
    "## every observation within each panel\n",
    "(\n",
    "    df_diamonds\n",
    "    >> gr.ggplot(gr.aes(\"carat\", \"price\"))\n",
    "\n",
    "    + gr.geom_point()\n",
    "\n",
    ")"
   ]
  },
  {
   "cell_type": "markdown",
   "id": "b0c6b966",
   "metadata": {},
   "source": [
    "## Aside: Reordering factors\n",
    "\n",
    "The utility function `gr.fct_reorder()` allows us to \"reorder\" factor levels according to another variable. This is useful because it enables us to control the *order* in which factor levels are displayed on a plot.\n"
   ]
  },
  {
   "cell_type": "markdown",
   "id": "0a0c4c69",
   "metadata": {},
   "source": [
    "### __q4__ Reorder the `\"carclass\"`\n",
    "\n",
    "Use `gr.fct_reorder()` to reorder the `\"carclass\"` variable according to `\"hwy\"`. Answer the questions under *observations* below.\n",
    "\n",
    "*Hint*: Remember to check the documentation for a new function to learn how to use it!\n"
   ]
  },
  {
   "cell_type": "code",
   "execution_count": null,
   "id": "f2515d61",
   "metadata": {},
   "outputs": [],
   "source": [
    "## TASK: Reorder `carclass` by `hwy`\n",
    "(\n",
    "    df_mpg\n",
    "\n",
    "    \n",
    "    >> gr.ggplot(gr.aes(\"carclass\", \"hwy\"))\n",
    "    + gr.geom_boxplot()\n",
    ")"
   ]
  },
  {
   "cell_type": "markdown",
   "id": "49bb1ff0",
   "metadata": {},
   "source": [
    "*Observations*\n",
    "\n",
    "- When you *do not* reorder `carclass`, what order are the classes listed along the horizontal axis?\n",
    "  - (Your response here?)\n",
    "- When you *do* reorder `carclass`, what is changed about the plot? What do you notice about the boxplots?\n",
    "  - (Your response here?)\n"
   ]
  },
  {
   "cell_type": "markdown",
   "id": "fe311d3f",
   "metadata": {},
   "source": [
    "## Controlling the facet axis\n",
    "\n",
    "Sometimes you'll want to place facets along the horizontal or vertical axis *only*; this is helpful when seeking to make more direct comparisons across an axis. The utility `facet_grid()` allows you to specify whether to facet along the vertical or horizontal axis of the plot.\n",
    "\n",
    "For example, consider the following figure:\n"
   ]
  },
  {
   "cell_type": "code",
   "execution_count": null,
   "id": "0725c962",
   "metadata": {},
   "outputs": [],
   "source": [
    "## NOTE: No need to edit\n",
    "(\n",
    "    df_mpg\n",
    "    ## Find highest fuel economy models within each manufacturer\n",
    "    >> gr.tf_group_by(DF.manufacturer)\n",
    "    >> gr.tf_filter(DF.hwy == gr.max(DF.hwy))\n",
    "    >> gr.tf_ungroup()\n",
    "    ## Reorder manufacturers based on their fuel economy\n",
    "    >> gr.tf_mutate(manufacturer=gr.fct_reorder(DF.manufacturer, DF.hwy))\n",
    "    \n",
    "    ## Visualize\n",
    "    >> gr.ggplot(gr.aes(\"hwy\", \"model\"))\n",
    "    + gr.geom_point()\n",
    "    ## Use facet_grid to control which axis gets the faceting\n",
    "    + gr.facet_grid(\"manufacturer~.\", scales=\"free_y\")\n",
    "    + gr.theme(strip_text_y=gr.element_text(angle=0, hjust=0))\n",
    ")"
   ]
  },
  {
   "cell_type": "markdown",
   "id": "8c7f9a61",
   "metadata": {},
   "source": [
    "For this visual to work I need all facets to share a common horizontal axis. Note what happens when I simply wrap the facets instead:\n"
   ]
  },
  {
   "cell_type": "code",
   "execution_count": null,
   "id": "267eb46f",
   "metadata": {},
   "outputs": [],
   "source": [
    "## NOTE: No need to edit\n",
    "(\n",
    "    df_mpg\n",
    "    ## Find highest fuel economy models within each manufacturer\n",
    "    >> gr.tf_group_by(DF.manufacturer)\n",
    "    >> gr.tf_filter(DF.hwy == gr.max(DF.hwy))\n",
    "    >> gr.tf_ungroup()\n",
    "    ## Reorder manufacturers based on their fuel economy\n",
    "    >> gr.tf_mutate(manufacturer=gr.fct_reorder(DF.manufacturer, DF.hwy))\n",
    "    \n",
    "    ## Visualize\n",
    "    >> gr.ggplot(gr.aes(\"hwy\", \"model\"))\n",
    "    + gr.geom_point()\n",
    "    ## Use facet_grid to control which axis gets the faceting\n",
    "    + gr.facet_wrap(\"manufacturer\", scales=\"free_y\")\n",
    "    + gr.theme(strip_text_y=gr.element_text(angle=0, hjust=0))\n",
    ")\n"
   ]
  },
  {
   "cell_type": "markdown",
   "id": "d0ce87f9",
   "metadata": {},
   "source": [
    "This figure is essentially useless; without a common horizontal axis is it almost impossible to compare values across panels.\n"
   ]
  },
  {
   "cell_type": "markdown",
   "id": "e80021e3",
   "metadata": {},
   "source": [
    "### __q5__ Facet along a single axis\n",
    "\n",
    "Use `gr.facet_grid()` to facet by the `\"metric\"` column. Experiment with both forms of the argument `\"~metric\"` and `\"metric~.\"` to test faceting along the horizontal and vertical axes. Answer the questions under *observations* below.\n"
   ]
  },
  {
   "cell_type": "code",
   "execution_count": null,
   "id": "1b7d87fc",
   "metadata": {},
   "outputs": [],
   "source": [
    "## TASK: Facet by \"metric\" along a single axis\n",
    "(\n",
    "    df_economics\n",
    "    >> gr.tf_select(\"date\", \"pce\", \"pop\", \"psavert\")\n",
    "    >> gr.tf_pivot_longer(\n",
    "        columns=[\"pce\", \"pop\", \"psavert\"],\n",
    "        names_to=\"metric\",\n",
    "        values_to=\"value\",\n",
    "    )\n",
    "    \n",
    "    >> gr.ggplot(gr.aes(\"date\", \"value\"))\n",
    "    + gr.geom_line()\n",
    "    \n",
    "    + gr.facet_grid(\n",
    "        ## TODO: Test both forms of the argument\n",
    "\n",
    "        scales=\"free_y\",\n",
    "    )\n",
    ")"
   ]
  },
  {
   "cell_type": "markdown",
   "id": "ac27a644",
   "metadata": {},
   "source": [
    "*Observations*\n",
    "\n",
    "- Which axis does the argument `\"metric~.\"` facet along?\n",
    "  - (Your response here)\n",
    "- Which axis does the argument `\"~metric\"` facet along?\n",
    "  - (Your response here)\n",
    "- Which version of the faceting---along the horizontal or along the vertical---do you find more effective?\n",
    "  - (Your response here)\n"
   ]
  },
  {
   "cell_type": "markdown",
   "id": "0303ec48",
   "metadata": {},
   "source": [
    "The `facet_grid()` utility also allows us to facet by *multiple* columns through the syntax `gr.facet_grid(\"var1~var2\")`. This functionality is used by a number of functions in grama.\n"
   ]
  },
  {
   "cell_type": "markdown",
   "id": "6d44a454",
   "metadata": {},
   "source": [
    "## Sinew plots and facets\n",
    "\n",
    "Facets show up in a variety of grama functions; for instance, the `ev_sinews()` utility has autoplot functionality that makes heavy use of facets. The autoplot facets along the horizontal axis by the inputs, and along the vertical axis by the outputs. This allows us to quickly assess how every model input affects every model output.\n"
   ]
  },
  {
   "cell_type": "code",
   "execution_count": null,
   "id": "a719d5a6",
   "metadata": {},
   "outputs": [],
   "source": [
    "## NOTE: No need to edit\n",
    "from grama.models import make_plate_buckle\n",
    "md_plate = make_plate_buckle()\n",
    "\n",
    "(\n",
    "    md_plate\n",
    "    >> gr.ev_sinews(df_det=\"nom\")\n",
    "    >> gr.pt_auto()\n",
    ")"
   ]
  },
  {
   "cell_type": "markdown",
   "id": "2bbb7ddc",
   "metadata": {},
   "source": [
    "We'll learn more about this in the future exercise `e-grama04-ema`.\n"
   ]
  }
 ],
 "metadata": {
  "kernelspec": {
   "display_name": "Python 3 (ipykernel)",
   "language": "python",
   "name": "python3"
  },
  "language_info": {
   "codemirror_mode": {
    "name": "ipython",
    "version": 3
   },
   "file_extension": ".py",
   "mimetype": "text/x-python",
   "name": "python",
   "nbconvert_exporter": "python",
   "pygments_lexer": "ipython3",
   "version": "3.9.7"
  }
 },
 "nbformat": 4,
 "nbformat_minor": 5
}
