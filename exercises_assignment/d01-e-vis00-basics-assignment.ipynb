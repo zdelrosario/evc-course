{
 "cells": [
  {
   "cell_type": "markdown",
   "id": "6ed31383",
   "metadata": {
    "tags": []
   },
   "source": [
    "# Vis: Data Visualization Basics\n",
    "\n",
    "*Purpose*: The most powerful way for us to learn about a dataset is to _visualize the data_. Throughout this class we will make extensive use of the _grammar of graphics_, a powerful graphical programming _grammar_ that will allow us to create just about any graph you can imagine!\n"
   ]
  },
  {
   "cell_type": "markdown",
   "id": "51de6f14",
   "metadata": {},
   "source": [
    "## Setup\n"
   ]
  },
  {
   "cell_type": "code",
   "execution_count": null,
   "id": "e42b3322",
   "metadata": {},
   "outputs": [],
   "source": [
    "import grama as gr\n",
    "DF = gr.Intention()\n",
    "%matplotlib inline"
   ]
  },
  {
   "cell_type": "markdown",
   "id": "8656140a",
   "metadata": {},
   "source": [
    "The following code loads a built-in dataset.\n"
   ]
  },
  {
   "cell_type": "code",
   "execution_count": null,
   "id": "816bd9d9",
   "metadata": {},
   "outputs": [],
   "source": [
    "from grama.data import df_diamonds\n",
    "df_diamonds.head(6)"
   ]
  },
  {
   "cell_type": "markdown",
   "id": "fa45f739",
   "metadata": {},
   "source": [
    "The `head()` function allows us to select the first few rows of the dataset; from the call above, we can see that the dataset has variables such as `carat`, `cut`, `color`, `clarity`, and `price`. This is a dataset of the attributes and prices of various diamonds: With these data, we can see how variables like `carat` affect the price of a diamond.\n",
    "\n",
    "The `head()` function shows us just a few rows, while the `shape()` function will tell us how many rows and columns the dataset has.\n"
   ]
  },
  {
   "cell_type": "code",
   "execution_count": null,
   "id": "85f3beee",
   "metadata": {},
   "outputs": [],
   "source": [
    "df_diamonds.shape\n"
   ]
  },
  {
   "cell_type": "markdown",
   "id": "782cabb8",
   "metadata": {},
   "source": [
    "That's nearly `54,000` rows! Inspecting that many rows would be impossible; instead, let's *visualize* the dataset to get a sense for these diamonds.\n"
   ]
  },
  {
   "cell_type": "markdown",
   "id": "c61fcdbf",
   "metadata": {},
   "source": [
    "# The Grammar of Graphics\n",
    "\n",
    "The *grammar of graphics* (ggplot) is an extremely powerful idea for making graphs. Ggplot is implemented in the Python package [plotnine](https://plotnine.readthedocs.io/en/stable/), which is available through grama.\n",
    "\n",
    "## Fundamentals\n",
    "\n",
    "The following code annotates a basic ggplot.\n",
    "\n",
    "```python\n",
    "(\n",
    "    # Select a dataset\n",
    "    df_dataset\n",
    "    # Start the plot\n",
    "    >> gr.ggplot(\n",
    "        # Map the aesthetics to variables in df_dataset\n",
    "        gr.aes(\n",
    "            x=\"x_variable_name\", \n",
    "            y=\"y_variable_name\",\n",
    "        )\n",
    "    )\n",
    "    # Select a geometry to visualize the aesthetics\n",
    "    + gr.geom_point()\n",
    ")\n",
    "```\n",
    "\n",
    "Note the special syntax: We use a pipe `>>` to \"give\" the dataset `df_dataset` to `gr.ggplot()`. We then use \"addition\" `+` to add graphical elements to the ggplot.\n",
    "\n",
    "This will make a scatterplot of `df_dataset` with `\"x_variable_name\"` on the horizontal axis and `\"y_variable_name\"` on the vertical axis.\n"
   ]
  },
  {
   "cell_type": "markdown",
   "id": "ed69f207",
   "metadata": {},
   "source": [
    "### __q1__ Make a simple scatterplot\n",
    "\n",
    "Visualize the `df_diamonds` dataset with a scatterplot. Put `\"price\"` on the vertical axis and `\"carat\"` on the horizontal axis. Study the plot, and note your *observations* below.\n",
    "\n",
    "*Hint*: Copy and modify the example code above to make this plot.\n"
   ]
  },
  {
   "cell_type": "code",
   "execution_count": null,
   "id": "b3156c03",
   "metadata": {},
   "outputs": [],
   "source": [
    "## TASK: Visualize df_diamonds with \"price\" on the vertical\n",
    "## and \"carat\" on the horizontal.\n",
    "(\n",
    "\n",
    ")\n"
   ]
  },
  {
   "cell_type": "markdown",
   "id": "5644367d",
   "metadata": {},
   "source": [
    "*Observations*\n",
    "\n",
    "- (Write your observations here!)\n"
   ]
  },
  {
   "cell_type": "markdown",
   "id": "df40ba8f",
   "metadata": {},
   "source": [
    "## Aesthetics\n",
    "\n",
    "The function `gr.aes()` is short for *aesthetics*. Aesthetics in ggplot are the mapping of variables in a dataframe to visual elements in the graph. For instance, in the plot above you assigned `carat` to the `x` aesthetic, and `price` to the `y` aesthetic. But there are *many more* aesthetics you can set, some of which vary based on the `geom_` you are using to visualize. \n",
    "\n",
    "Adding additional aesthetic mappings is done by adding additional *keyword arguments* to `gr.aes()`. For instance, the following **single line change** allows us to visualize an additional variable.\n",
    "\n",
    "```python\n",
    "(\n",
    "    df_dataset\n",
    "    >> gr.ggplot(\n",
    "        gr.aes(\n",
    "            x=\"x_variable_name\", \n",
    "            y=\"y_variable_name\",\n",
    "            # One-line change allows us to visualize an\n",
    "            # additional variable\n",
    "            color=\"color_variable_name\",\n",
    "        )\n",
    "    )\n",
    "    + gr.geom_point()\n",
    ")\n",
    "```\n",
    "\n",
    "The next question will have you apply this idea.\n"
   ]
  },
  {
   "cell_type": "markdown",
   "id": "a2f1be94",
   "metadata": {},
   "source": [
    "### __q2__ Modify and interpret\n",
    "\n",
    "Modify the following graph to visualize an additional variable `\"cut\"`. Study the plot, and note your *observations* below.\n",
    "\n",
    "*Hint*: Remember that you can add additional aesthetic mappings in `aes()`. Some options include `size`, `color`, and `shape`.\n"
   ]
  },
  {
   "cell_type": "code",
   "execution_count": null,
   "id": "579932e5",
   "metadata": {},
   "outputs": [],
   "source": [
    "## TASK: Modify the plot below to *also* visualize the variable \"cut\".\n",
    "(\n",
    "    df_diamonds\n",
    "    >> gr.ggplot(gr.aes(\n",
    "        x=\"carat\", \n",
    "        y=\"price\",\n",
    "\n",
    "    ))\n",
    "    + gr.geom_point()\n",
    ")\n"
   ]
  },
  {
   "cell_type": "markdown",
   "id": "c78699c7",
   "metadata": {},
   "source": [
    "*Observations*\n",
    "\n",
    "- (Write your observations here!)\n"
   ]
  },
  {
   "cell_type": "markdown",
   "id": "48e9b8ff",
   "metadata": {},
   "source": [
    "Part of the **big advantage** of ggplot is the ability to easily try out different plots. We specify the mapping from variables to aesthetics, and ggplot automatically takes care of generating the plot.\n"
   ]
  },
  {
   "cell_type": "markdown",
   "id": "839c4aad",
   "metadata": {},
   "source": [
    "### __q3__ \"Swap\" aesthetics\n",
    "\n",
    "Swap the aesthetic mappings for `\"carat\"` and `\"cut\"` and inspect the plot.\n"
   ]
  },
  {
   "cell_type": "code",
   "execution_count": null,
   "id": "71a12624",
   "metadata": {},
   "outputs": [],
   "source": [
    "## TASK: Swap \"carat\" and \"cut\"\n",
    "(\n",
    "    df_diamonds\n",
    "    >> gr.ggplot(gr.aes(\n",
    "        # TASK: Uncomment this code and swap the variables\n",
    "#         x=\"carat\", \n",
    "#         y=\"price\",\n",
    "#         color=\"cut\",\n",
    "\n",
    "    ))\n",
    "    + gr.geom_point()\n",
    ")\n"
   ]
  },
  {
   "cell_type": "markdown",
   "id": "a8e9cf51",
   "metadata": {},
   "source": [
    "*Observations*\n",
    "\n",
    "- Compare this plot with the previous one; is it as effective at showing trends in the data?\n",
    "  - (Your response here)\n",
    "- How difficult was it to try out this new plot? How difficult would it be to swap the variables again?\n",
    "  - (Your response here)\n"
   ]
  },
  {
   "cell_type": "markdown",
   "id": "bdaf28d3",
   "metadata": {},
   "source": [
    "## Options\n",
    "\n",
    "In addition to mapping variables to aesthetics, we can also *fix* aesthetics to modify the plot. This is one way we can toggle various *options* in the plot.\n",
    "\n",
    "For instance, rather than mapping color to a variable, we can simply fix color to a single value:\n",
    "\n",
    "```python\n",
    "(\n",
    "    df_dataset\n",
    "    >> gr.ggplot(\n",
    "        gr.aes(\n",
    "            x=\"x_variable_name\", \n",
    "            y=\"y_variable_name\",\n",
    "            # Don't map color\n",
    "            # color=\"color_variable_name\",\n",
    "        )\n",
    "    )\n",
    "    + gr.geom_point(color=\"salmon\")\n",
    ")\n",
    "```\n",
    "\n",
    "Note that here we set the `color` keyword in the geometry `gr.geom_point()`, *not* in the aesthetic `gr.aes()`. Every aesthetic of a geometry can be set to a fixed value, or mapped to a variable. You will practice doing this in the next task.\n"
   ]
  },
  {
   "cell_type": "markdown",
   "id": "56707ec0",
   "metadata": {},
   "source": [
    "### __q4__ Set an option\n",
    "\n",
    "Make the points in the following plot highly transparent using the `alpha` aesthetic. Answer the questions under *observations* below.\n",
    "\n",
    "*Note*: The `alpha` keyword argument takes values between `[0, 1]`; values of `1` are completely opaque, while values of `0` are completely transparent. Intermediate values are more or less opaque.\n"
   ]
  },
  {
   "cell_type": "code",
   "execution_count": null,
   "id": "37af53ee",
   "metadata": {},
   "outputs": [],
   "source": [
    "## TASK: Modify the following visual to reduce the transparency\n",
    "# of the points with the `alpha` keyword argument.\n",
    "(\n",
    "    df_diamonds\n",
    "    >> gr.ggplot(gr.aes(x=\"carat\", y=\"price\"))\n",
    "    + gr.geom_point(\n",
    "\n",
    "    )\n",
    ")\n"
   ]
  },
  {
   "cell_type": "markdown",
   "id": "0367286e",
   "metadata": {},
   "source": [
    "Due to the transparency, darker regions are places where there are more points, and lighter regions are plaes where there are fewer points. Keep this in mind when interpreting the graph.\n",
    "\n",
    "*Observations*\n",
    "\n",
    "- Where do you see more points? Where do you see fewer points?\n",
    "  - (Your response here)\n",
    "- Do you see any strange \"patterns\" in the plot?\n",
    "  - (Your response here)\n"
   ]
  }
 ],
 "metadata": {
  "kernelspec": {
   "display_name": "Python 3 (ipykernel)",
   "language": "python",
   "name": "python3"
  },
  "language_info": {
   "codemirror_mode": {
    "name": "ipython",
    "version": 3
   },
   "file_extension": ".py",
   "mimetype": "text/x-python",
   "name": "python",
   "nbconvert_exporter": "python",
   "pygments_lexer": "ipython3",
   "version": "3.9.7"
  }
 },
 "nbformat": 4,
 "nbformat_minor": 5
}
