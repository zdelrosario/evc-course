{
 "cells": [
  {
   "cell_type": "markdown",
   "id": "3eeb912f",
   "metadata": {},
   "source": [
    "# Stats: Real and Erroneous Sources of Variability\n",
    "\n",
    "*Purpose*: Variability is an unavoidable reality of engineering: Physical systems do not behave in identical ways, even under similar circumstances. It is important to draw a distinction between sources of variability that corrupt measurements, and other sources of variability that can genuinely change physical outcomes: real vs erroneous variability. Therefore, we should analyze real and erroneous sources of variability differently---this can lead to more accurate data analysis and more efficient engineering designs.\n"
   ]
  },
  {
   "cell_type": "markdown",
   "id": "2afcdff0",
   "metadata": {},
   "source": [
    "## Setup\n"
   ]
  },
  {
   "cell_type": "code",
   "execution_count": null,
   "id": "7f5255e2",
   "metadata": {},
   "outputs": [],
   "source": [
    "import grama as gr\n",
    "import numpy as np\n",
    "DF = gr.Intention()\n",
    "%matplotlib inline"
   ]
  },
  {
   "cell_type": "markdown",
   "id": "ac282133",
   "metadata": {},
   "source": [
    "# Concepts\n",
    "\n",
    "Let's go over some fundamental concepts.\n",
    "\n",
    "## Variability\n",
    "\n",
    "> *Variability* is a form of uncertainty that occurs when repeated measurements from a single chosen scenario exhibit different outcomes.\n",
    "\n",
    "There are several parts to this definition:\n",
    "\n",
    "*Different outcomes*\n",
    "\n",
    "We must have different outcomes for there to be variability. If repeated measurement of the same quantity produce the same value, then there is no variability.\n",
    "\n",
    "*Repeated measurements*\n",
    "\n",
    "Variability requires repeated measurements, implying that there must be more than one measurement. Unique events that will never occur again cannot be said to exhibit variability.\n",
    "\n",
    "*A single chosen scenario*\n",
    "\n",
    "Variability arises when we focus on a single scenario and take repeated measurements. Different scenarios would logically produce different measurements. We might describe a scenario in terms of detailed qualitative factors (e.g. a particular manufacturing process, a particular machinist) or we may describe a family of scenarios with continuous variables (e.g. a continuum of feed speeds when machining).\n"
   ]
  },
  {
   "cell_type": "markdown",
   "id": "9784813a",
   "metadata": {},
   "source": [
    "Variability is perhaps best understood by way of example; let's take a look at one.\n"
   ]
  },
  {
   "cell_type": "code",
   "execution_count": null,
   "id": "7cb8775a",
   "metadata": {},
   "outputs": [],
   "source": [
    "# Dataset of die cast aluminum specimens\n",
    "from grama.data import df_shewhart\n",
    "df_shewhart.head()"
   ]
  },
  {
   "cell_type": "markdown",
   "id": "2a4bed9d",
   "metadata": {},
   "source": [
    "This is a dataset of measured physical properties for individual specimens of a die cast aluminum. You'll investigate this dataset below.\n"
   ]
  },
  {
   "cell_type": "markdown",
   "id": "e8440a99",
   "metadata": {},
   "source": [
    "### __q1__ Make a histogram\n",
    "\n",
    "Make a histogram of the `tensile_strength` in `df_shewhart`. Answer the questions under *observations* below."
   ]
  },
  {
   "cell_type": "code",
   "execution_count": null,
   "id": "37fe17d7",
   "metadata": {},
   "outputs": [],
   "source": [
    "# TASK: Make a histogram\n",
    "\n",
    "(\n",
    "    df_shewhart\n",
    "\n",
    ")"
   ]
  },
  {
   "cell_type": "markdown",
   "id": "b7bd90b0",
   "metadata": {},
   "source": [
    "*Observations*\n",
    "\n",
    "- Are all of the measured `tensile_strength` values identical? Do the measurements exhibit *variability*?\n",
    "  - (Your response here?)\n",
    "- How much variability do the `tensile_strength` measurements exhibit? (You can use the histogram, or compute a quantitative summary.)\n",
    "  - (Your response here?)\n"
   ]
  },
  {
   "cell_type": "markdown",
   "id": "f639ab73",
   "metadata": {},
   "source": [
    "## Real vs Erroneous Variability\n",
    "\n",
    "Variability in engineering applications falls into one of two broad categories:\n",
    "\n",
    "> *Real variability* is any source of variability that can affect a physical outcome.\n",
    "\n",
    "> *Error* (or *erroneous variability*) is any source of variability that corrupts a measurement.\n",
    "\n",
    "Note that errors cannot *directly* affect physical outcomes. A corrupted measurement does not reflect actual changes in the physical quantity one is trying to measure. *However*, making an engineering decision based on corrupted information will lead to a corrupted decision. Errors can only affect the physical world through actions taken based on those errors.\n",
    "\n",
    "Real and erroneous sources of variability can only be named in a specific context; to that end, let's look at a specific example.\n"
   ]
  },
  {
   "cell_type": "markdown",
   "id": "a92ddd07",
   "metadata": {},
   "source": [
    "### Example: Manufacturing of Metals\n",
    "\n",
    "The following image schematically depicts the manufacture and characterization of metallic materials.\n"
   ]
  },
  {
   "cell_type": "markdown",
   "id": "c6e11e89",
   "metadata": {},
   "source": [
    "![Manufacturing example](./images/manufacturing-examples-numbered.png)\n",
    "Image credit: Alana Huitric\n"
   ]
  },
  {
   "cell_type": "markdown",
   "id": "5d5df4ad",
   "metadata": {},
   "source": [
    "Variability can enter metals manufacturing at different stages and in different ways:\n",
    "\n",
    "1. (Real variability) Mistakes during the formulation stage of metals manufacturing can lead to an off-target composition. This will lead to explainable differences in the realized material properties, and will cause the material to not behave as desired.\n",
    "\n",
    "2. (Real variability) The presence of nicks and cracks in manufactured parts is an unavoidable reality. It is practically impossible to completely eliminate these imperfections. The presence and size of these imperfections will affect the fatigue life of a component. Thus, manufactured parts will tend to exhibit random variability in their fatigue properties.\n",
    "\n",
    "3. (Error) Material properties are characterized by physical tests, such as tensile tests. Mistakes during testing can occur, such as slippage of the part within the mechanical grips. Such mistakes will lead to explainable differences in the *measured* properties, but cannot directly lead to differences in physical outcomes.\n",
    "\n",
    "4. (Error) Property measurements typically involve a conversion from mechanical phenomena to electrical signals. However, we tend to take measurements in an electromagnetically dirty environment: Ambient EM interference can induce electrical noise that corrupts a measurement. Since an EM environment is too complex to explain deterministically, this will tend to lead to random differences in measured properties, but this variability cannot directly lead to differences in physical outcomes.\n"
   ]
  },
  {
   "cell_type": "markdown",
   "id": "928b9e9b",
   "metadata": {},
   "source": [
    "Variability will have different consequences if it is real or erroneous. You will get some practice reasoning through these consequences in the next task.\n"
   ]
  },
  {
   "cell_type": "markdown",
   "id": "0ecc1084",
   "metadata": {},
   "source": [
    "### __q2__ Consequences of variability\n",
    "\n",
    "The following depicts the `tensile_strength` measurements, but with an additional vertical line depicting the applied stress from a loading scenario. Imagine that multiple parts will be constructed using the same manufacturing process characterized by the dataset. Answer the questions under *observations* below.\n",
    "\n",
    "*Note*: Remember that a part fails if its tensile strength is less than an applied stress.\n"
   ]
  },
  {
   "cell_type": "code",
   "execution_count": null,
   "id": "5ccf2649",
   "metadata": {},
   "outputs": [],
   "source": [
    "# NOTE: No need to edit; run and inspect\n",
    "(\n",
    "    df_shewhart\n",
    "    >> gr.ggplot(gr.aes(\"tensile_strength\"))\n",
    "    + gr.geom_histogram(bins=20, color=\"black\")\n",
    "    + gr.geom_vline(xintercept=25000, linetype=\"dashed\", size=2)\n",
    "    + gr.scale_y_continuous(breaks=range(0, 10))\n",
    "    + gr.theme_minimal()\n",
    ")\n"
   ]
  },
  {
   "cell_type": "markdown",
   "id": "2294d620",
   "metadata": {},
   "source": [
    "*Observations*\n",
    "\n",
    "Imagine that multiple parts will be constructed using the same manufacturing process characterized by the dataset. The vertical line represents the stress that will be applied to these parts.\n",
    "\n",
    "- Suppose that the variability depicted above is **purely erroneous**; the tensile strength is actually a fixed constant, and all the observed variability is due to measurement error. How confident would you be that **all** the parts would survive their loading conditions?\n",
    "  - (Your response here?)\n",
    "- Now suppose that the variability depicted above is **purely real**; the tensile strength varies from part to part. How confident would you be that **all** the parts would survive their loading conditions?\n",
    "  - (Your response here?)\n",
    "- Which of the two assumptions above would be the most *conservative* assumption to make? Why?\n",
    "  - (Your response here?)\n"
   ]
  },
  {
   "cell_type": "markdown",
   "id": "0b7cab53",
   "metadata": {},
   "source": [
    "## Scenarios\n",
    "\n",
    "Let's get some practice reasoning with real and erroneous variability. To do so, let's consider the following context:\n",
    "\n",
    "*The Context*: A manufacturer is producing steel parts for a landing gear. The part in question takes a heavy load, and if it fails it will disable the aircraft on the ground. These parts will be manufactured in bulk; approximately 500 will be made and installed in commercial aircraft that will operate for decades.\n"
   ]
  },
  {
   "cell_type": "markdown",
   "id": "fb7de9a9",
   "metadata": {
    "tags": []
   },
   "source": [
    "### __q3__ Multiple measurements, same part\n",
    "\n",
    "Imagine the manufacturer selects one part and performs multiple non-destructive tensile tests on that single part, under similar conditions. The measured elasticity from each test is slightly different. Is this variability real or erroneous?\n",
    "\n",
    "*Questions*\n",
    "\n",
    "- Is this variability most likely real or erroneous?\n",
    "  - (Your response here)\n",
    "- Why?\n",
    "  - (Your response here)\n"
   ]
  },
  {
   "cell_type": "markdown",
   "id": "081d5c32",
   "metadata": {},
   "source": [
    "### __q4__ Multiple measurements, multiple parts\n",
    "\n",
    "Imagine the manufacturer selects multiple parts and---for each part---performs multiple non-destructive tensile tests, all under similar conditions. The measured elasticity values for each part are averaged to provide a more reliable estimate for each part. Upon comparing the parts, each averaged value is fairly different. Is this variability real or erroneous?\n",
    "\n",
    "*Questions*\n",
    "\n",
    "- Is this variability most likely real or erroneous?\n",
    "  - (Your response here)\n",
    "- Why?\n",
    "  - (Your response here)\n"
   ]
  },
  {
   "cell_type": "markdown",
   "id": "674198ab",
   "metadata": {},
   "source": [
    "### __q5__ Single measurements, multiple parts\n",
    "\n",
    "Now the manufacturer selects multiple parts and performs a destructive tensile test to characterize the strength of each part, with tests carried out under similar conditions. The measured strength values exhibit a fair amount of variability. Is this variability real or erroneous?\n",
    "\n",
    "*Questions*\n",
    "\n",
    "- Is this variability most likely real or erroneous?\n",
    "  - (Your response here)\n",
    "- Why?\n",
    "  - (Your response here)\n"
   ]
  },
  {
   "cell_type": "markdown",
   "id": "952c0f9a",
   "metadata": {},
   "source": [
    "# Heuristics\n",
    "\n",
    "Recognizing whether variability is real or erroneous is important for making data analysis choices. The following two heuristics (rules of thumb) will help you make such choices.\n"
   ]
  },
  {
   "cell_type": "markdown",
   "id": "2ad0efc9",
   "metadata": {},
   "source": [
    "## Pure Error: Take the mean\n",
    "\n",
    "The following is a statistical rule-of-thumb when dealing with variability that is *purely* error:\n",
    "\n",
    "> (Mean Heuristic) If the observed variability is purely error, then taking the mean of the data will tend to reduce the variability due to error.\n",
    "\n",
    "```{admonition} Caveat: Bias in measurements\n",
    ":class: warning\n",
    "Of course, if the errors are not actually random but insted exhibit *bias*, then taking the mean will not remove these systematic errors. One way to help combat bias is to take truly *independent* measurements; for instance, have different operators take the same measurement, or use two different measurement techniques on the same specimen.\n",
    "```"
   ]
  },
  {
   "cell_type": "markdown",
   "id": "b536ed5e",
   "metadata": {},
   "source": [
    "### __q6__ Take the mean strength\n",
    "\n",
    "Compute the mean `tensile_strength`. Answer the questions under *observations* below.\n"
   ]
  },
  {
   "cell_type": "code",
   "execution_count": null,
   "id": "289a70a8",
   "metadata": {},
   "outputs": [],
   "source": [
    "# TASK: Compute the mean tensile_strength\n",
    "(\n",
    "    df_shewhart\n",
    "\n",
    ")"
   ]
  },
  {
   "cell_type": "markdown",
   "id": "bbc0f0fc",
   "metadata": {},
   "source": [
    "*Observations*\n",
    "\n",
    "Suppose that multiple parts will be made according to the same manufacturing process and subjected to a tensile load. As the parts are currently designed the applied stress will be `26,000` psi, but you are considering whether to redesign the part (to reduce the applied stress).\n",
    "\n",
    "- Suppose the variability is purely erroneous. Does a redesign seem necessary, based on assuming pure error, the strength value you computed above, and current the applied load?\n",
    "  - (Your response here?)\n",
    "- Is the analysis above safe for design purposes? Why or why not?\n",
    "  - (Your response here?)\n"
   ]
  },
  {
   "cell_type": "markdown",
   "id": "faf15215",
   "metadata": {},
   "source": [
    "## Purely Real: Use quantiles\n",
    "\n",
    "The following is a statistical rule-of-thumb when dealing with purely real variability:\n",
    "\n",
    "> (Quantile Heuristic) If the observed variability is purely real, then taking a lower or upper quantile of the data is a reasonable summary.\n"
   ]
  },
  {
   "cell_type": "markdown",
   "id": "7925fada",
   "metadata": {
    "tags": []
   },
   "source": [
    "### __q7__ Compute a quantile of strength\n",
    "\n",
    "Compute the `0.05` quantile of the `tensile_strength`. Answer the questions under *observations* below.\n"
   ]
  },
  {
   "cell_type": "code",
   "execution_count": null,
   "id": "c273c494",
   "metadata": {},
   "outputs": [],
   "source": [
    "# TASK: Compute the 0.05 quantile of the tensile_strength\n",
    "(\n",
    "    df_shewhart\n",
    "\n",
    ")"
   ]
  },
  {
   "cell_type": "markdown",
   "id": "dfa85af8",
   "metadata": {},
   "source": [
    "*Observations*\n",
    "\n",
    "Suppose that multiple parts will be made according to the same manufacturing process and subjected to a tensile load. As the parts are currently designed the applied stress will be `26,000` psi, but you are considering whether to redesign the part (to reduce the applied stress).\n",
    "\n",
    "- Suppose the variability is purely real. Does a redesign seem necessary, based on assuming real variability, the strength value you computed above, and current the applied load?\n",
    "  - (Your response here?)\n",
    "- What probability of failure is associated with your computed strength value?\n",
    "  - (Your response here?)\n",
    "- Is the analysis above safe for design purposes? Why or why not?\n",
    "  - (Your response here?)\n"
   ]
  },
  {
   "cell_type": "markdown",
   "id": "3ea26130",
   "metadata": {},
   "source": [
    "## Mixed Real and Error: Nested data\n",
    "\n",
    "In most practical situations, variability is not purely real or purely error; rather, it is mixed. This is a challenging situation, but we can still use the mean and quantile heuristics to guide choices about data analysis.\n",
    "\n",
    "The following code sets up data collected according to a *nested* collection scheme: Multiple independent measurements are taken on each of multiple specimens.\n"
   ]
  },
  {
   "cell_type": "code",
   "execution_count": null,
   "id": "86bbc923",
   "metadata": {},
   "outputs": [],
   "source": [
    "## NOTE: No need to edit\n",
    "np.random.seed(101)\n",
    "# Parameters for data generation\n",
    "n_sample = 100\n",
    "n_meas = 8\n",
    "var_real = 0.20\n",
    "var_meas = 0.05\n",
    "\n",
    "# Simulate nested data\n",
    "df_nested = (\n",
    "    gr.df_make(\n",
    "        x=gr.marg_mom(\"lognorm\", floc=0, mean=1, var=var_real).r(n_sample),\n",
    "        i_sample=range(n_sample),\n",
    "    )\n",
    "    >> gr.tf_outer(gr.df_make(i_meas=range(n_meas)))\n",
    "    >> gr.tf_mutate(\n",
    "        x_meas=DF.x + gr.marg_mom(\"norm\", mean=0, var=var_meas).r(n_sample*n_meas),\n",
    "    )\n",
    "    >> gr.tf_select(\"i_sample\", \"i_meas\", \"x_meas\")\n",
    "    >> gr.tf_arrange(DF.i_sample, DF.i_meas)\n",
    ")\n",
    "df_nested.head(8)"
   ]
  },
  {
   "cell_type": "markdown",
   "id": "234f5603",
   "metadata": {},
   "source": [
    "Here:\n",
    "\n",
    "- `i_sample` denotes the sample ID, each sample is an independent component\n",
    "- `i_meas` denotes the measurement ID, measurement are repeated on each sample\n",
    "  - note that these are per-sample, e.g. `i_meas == 0` for `i_sample == 0` is unrelated to `i_meas == 0` for `i_sample == 1`.\n",
    "- `x_meas` is the measured value\n"
   ]
  },
  {
   "cell_type": "markdown",
   "id": "e07391d4",
   "metadata": {},
   "source": [
    "### __q8__ Identify real and erroneous sources\n",
    "\n",
    "Inspect the figure below; answer the questions under *observations* below.\n"
   ]
  },
  {
   "cell_type": "code",
   "execution_count": null,
   "id": "538d8d6b",
   "metadata": {},
   "outputs": [],
   "source": [
    "# NOTE: No need to edit; run and inspect\n",
    "(\n",
    "    df_nested\n",
    "    >> gr.tf_filter(DF.i_sample <= 8)\n",
    "    >> gr.ggplot(gr.aes(\"i_sample\"))\n",
    "    + gr.geom_point(\n",
    "        gr.aes(y=\"x_meas\"),\n",
    "        size=1,\n",
    "        color=\"grey\",\n",
    "    )\n",
    ")"
   ]
  },
  {
   "cell_type": "markdown",
   "id": "7bf7c18a",
   "metadata": {},
   "source": [
    "*Observations*\n",
    "\n",
    "- Is the variability *within* each group of `i_sample` value most likely real or erroneous?\n",
    "  - (Your response here)\n",
    "- Is the variability *across* each group of `i_sample` value most likely real or erroneous?\n",
    "  - (Your response here)\n",
    "- Suppose the variability *within* each group of `i_sample` were *purely* erroneous; which heuristic could you apply to each group?\n",
    "  - (Your response here)\n"
   ]
  },
  {
   "cell_type": "markdown",
   "id": "1386dd4a",
   "metadata": {
    "tags": []
   },
   "source": [
    "### __q9__ Apply the mean heuristic\n",
    "\n",
    "Use the *mean heuristic* to construct a more stable measurement for each sample.\n",
    "\n",
    "*Hint*: To do this, you will need to `group_by()` an appropriate variable in the data and `summarize()`.\n"
   ]
  },
  {
   "cell_type": "code",
   "execution_count": null,
   "id": "8be29c50",
   "metadata": {},
   "outputs": [],
   "source": [
    "# TASK: Apply the mean heuristic to produce a more stable measurement\n",
    "# for each sample `x_mean`. Compute the variance within the same\n",
    "# grouping `var_meas`.\n",
    "df_nested_mean = (\n",
    "    df_nested\n",
    "\n",
    "    # Ensure the data are ungrouped after all operations\n",
    "    >> gr.tf_ungroup()\n",
    ")\n",
    "\n",
    "# NOTE: No need to edit; use this to check your results\n",
    "assert \\\n",
    "    df_nested_mean.shape[0] == n_sample, \\\n",
    "    \"Incorrect number of rows; make sure you grouped by the correct variable.\"\n",
    "assert \\\n",
    "    \"x_mean\" in df_nested_mean.columns, \\\n",
    "    \"x_mean column not found in result\"\n",
    "assert \\\n",
    "    \"var_meas\" in df_nested_mean.columns, \\\n",
    "    \"var_meas column not found in result\"\n",
    "assert \\\n",
    "    abs(df_nested_mean.x_mean.var() - 0.20) < 0.1, \\\n",
    "    \"Sanity check on x_mean failed; did you take the mean?\"\n",
    "    \n",
    "print(\"Success!\")"
   ]
  },
  {
   "cell_type": "markdown",
   "id": "ece05079",
   "metadata": {},
   "source": [
    "Once you have successfully summarized the data, run the following code and answer the questions under *observations* below.\n"
   ]
  },
  {
   "cell_type": "code",
   "execution_count": null,
   "id": "70d11659",
   "metadata": {},
   "outputs": [],
   "source": [
    "## NOTE: No need to edit; use this to inspect your results\n",
    "# This code estimates the variability due to measurement\n",
    "print(\n",
    "    df_nested_mean\n",
    "    >> gr.tf_ungroup()\n",
    "    >> gr.tf_summarize(\n",
    "        var_meas=gr.mean(DF.var_meas),\n",
    "        var_real=gr.var(DF.x_mean),\n",
    "    )\n",
    "    >> gr.tf_mutate(var_total=DF.var_meas + DF.var_real)\n",
    ")"
   ]
  },
  {
   "cell_type": "markdown",
   "id": "4887ed07",
   "metadata": {},
   "source": [
    "*Observations*\n",
    "\n",
    "- About how much variability is due to error?\n",
    "  - (Your response here?)\n",
    "- About how much variability is real?\n",
    "  - (Your response here?)\n"
   ]
  },
  {
   "cell_type": "markdown",
   "id": "1beb15fc",
   "metadata": {},
   "source": [
    "### Benefits of eliminating erroneous variability\n",
    "\n",
    "Remember that the mean heuristic helps us reduce erroneous variability; what are the advantages of this technique? Let's compare the nested and summarized datasets:\n"
   ]
  },
  {
   "cell_type": "code",
   "execution_count": null,
   "id": "8bd5a10c",
   "metadata": {},
   "outputs": [],
   "source": [
    "# NOTE: No need to edit; visualize both the original and summarized data\n",
    "(\n",
    "    gr.ggplot()\n",
    "    + gr.geom_density(\n",
    "        data=df_nested\n",
    "        >> gr.tf_mutate(source=\"Original\"),\n",
    "        mapping=gr.aes(\"x_meas\", color=\"source\"),\n",
    "    )\n",
    "    + gr.geom_density(\n",
    "        data=df_nested_mean\n",
    "        >> gr.tf_mutate(source=\"Summarized\"),\n",
    "        mapping=gr.aes(\"x_mean\", color=\"source\"),\n",
    "    )\n",
    ")"
   ]
  },
  {
   "cell_type": "markdown",
   "id": "8273a551",
   "metadata": {},
   "source": [
    "As we might expect, the summarized data appears to be narrower, which would make sense if we had reduced the erroneous variability. This can have useful implications for designs based on our data analysis.\n"
   ]
  },
  {
   "cell_type": "markdown",
   "id": "0229dae3",
   "metadata": {},
   "source": [
    "### __q10__ Apply the quantile heuristic\n",
    "\n",
    "Apply the quantile heuristic to the summarized data. Use the same quantiles `0.10, 0.90` computed on the original data. Answer the questions under *observations* below.\n",
    "\n",
    "*Hint*: Do you need to group again to apply the quantile heuristic?\n"
   ]
  },
  {
   "cell_type": "code",
   "execution_count": null,
   "id": "a4f885f8",
   "metadata": {},
   "outputs": [],
   "source": [
    "# NOTE: No need to edit; this is an analysis of the original data\n",
    "print(\"Quantiles of original data\")\n",
    "print(\n",
    "    df_nested\n",
    "    >> gr.tf_summarize(\n",
    "        x_lo=gr.quant(DF.x_meas, 0.10),\n",
    "        x_hi=gr.quant(DF.x_meas, 0.90),\n",
    "    )\n",
    "    # Compute the interval width\n",
    "    >> gr.tf_mutate(width=DF.x_hi - DF.x_lo)\n",
    ")\n",
    "\n",
    "# TASK: Modify the code below\n",
    "print(\"\\nQuantiles of summarized data\")\n",
    "print(\n",
    "    df_nested_mean\n",
    "    # TODO: Apply the quantile heuristic here\n",
    "\n",
    "    # Compute the interval width\n",
    "    >> gr.tf_mutate(width=DF.x_hi - DF.x_lo)\n",
    ")"
   ]
  },
  {
   "cell_type": "markdown",
   "id": "c9dddc81",
   "metadata": {},
   "source": [
    "*Observations*\n",
    "\n",
    "- Which interval is narrower (`width`)? The original or the summarized?\n",
    "  - (Your response here?)\n",
    "- How has applying the mean heuristic affected the width of the interval? Why has this happened?\n",
    "  - (Your response here?)\n",
    "- Suppose we were using these data to guide engineering design decisions, and a narrower interval would enable a more efficient design. Which analysis would enable a more efficient design?\n",
    "  - (Your response here?)\n"
   ]
  },
  {
   "cell_type": "markdown",
   "id": "4302f364",
   "metadata": {},
   "source": [
    "Note that this kind of analysis is **only** possible when the data have this kind of nested structure; when we have multiple measurements of each specimen. The next task highlights this important fact.\n"
   ]
  },
  {
   "cell_type": "markdown",
   "id": "e75a6d1b",
   "metadata": {},
   "source": [
    "### __q11__ Importance of structured data collection\n",
    "\n",
    "Inspect the data, and answer the questions under *observations* below.\n"
   ]
  },
  {
   "cell_type": "code",
   "execution_count": null,
   "id": "50eb5acd",
   "metadata": {},
   "outputs": [],
   "source": [
    "# NOTE: No need to edit; run and inspect\n",
    "(\n",
    "    df_nested\n",
    "    >> gr.tf_select(DF.x_meas)\n",
    "    >> gr.tf_head(8)\n",
    ")"
   ]
  },
  {
   "cell_type": "markdown",
   "id": "f16ada02",
   "metadata": {},
   "source": [
    "*Observations*\n",
    "\n",
    "- With this form of `df_nested`, could we apply the mean and quantile heuristics to analyze the data? Why or why not?\n",
    "  - (Your response here?)\n"
   ]
  },
  {
   "cell_type": "markdown",
   "id": "2b7e58bf",
   "metadata": {
    "jp-MarkdownHeadingCollapsed": true,
    "tags": []
   },
   "source": [
    "# Closing punchline\n",
    "\n",
    "Variability can come in different forms: Real variability affects the outcomes we are interested in, while erroneous variability corrupts measurements and inflates the variability we observe. A careful combination of planned data collection (nested data) and data analysis can help us reduce erroneous variability, which can enable more efficient designs.\n"
   ]
  }
 ],
 "metadata": {
  "kernelspec": {
   "display_name": "Python 3 (ipykernel)",
   "language": "python",
   "name": "python3"
  },
  "language_info": {
   "codemirror_mode": {
    "name": "ipython",
    "version": 3
   },
   "file_extension": ".py",
   "mimetype": "text/x-python",
   "name": "python",
   "nbconvert_exporter": "python",
   "pygments_lexer": "ipython3",
   "version": "3.9.7"
  }
 },
 "nbformat": 4,
 "nbformat_minor": 5
}
