{
 "cells": [
  {
   "cell_type": "markdown",
   "id": "20649525",
   "metadata": {},
   "source": [
    "# Grama: Fitting Multivariate Distributions\n",
    "\n",
    "*Purpose*: As we've seen through studying a lot of datasets, many physical systems exhibit variability and other forms of uncertainty. Thus, it is beneficial to be able to *model* uncertainty using distributions. In the previous part of this exercise, we learned how to fit a distribution for a *single* quantity. Now we'll learn how to deal with *multiple* related quantities.\n",
    "\n",
    "In the final exercise `e-grama08-duu` we'll see how to use a distribution model to do useful engineering work.\n"
   ]
  },
  {
   "cell_type": "markdown",
   "id": "0090b7f2",
   "metadata": {},
   "source": [
    "## Setup\n"
   ]
  },
  {
   "cell_type": "code",
   "execution_count": null,
   "id": "ef1db605",
   "metadata": {},
   "outputs": [],
   "source": [
    "import grama as gr\n",
    "DF = gr.Intention()\n",
    "%matplotlib inline"
   ]
  },
  {
   "cell_type": "markdown",
   "id": "7ea28f34",
   "metadata": {},
   "source": [
    "For this exercise, we'll study a dataset of observations on die cast aluminum parts.\n"
   ]
  },
  {
   "cell_type": "code",
   "execution_count": null,
   "id": "de5825f6",
   "metadata": {},
   "outputs": [],
   "source": [
    "from grama.data import df_shewhart\n"
   ]
  },
  {
   "cell_type": "markdown",
   "id": "73255846",
   "metadata": {},
   "source": [
    "# Dependency in the wild\n",
    "\n",
    "We've seen lots of examples of dependency in datasets so far! Any case where we see \"patterns\" in a scatterplot are examples of some relationship (or dependency) between variables.\n",
    "\n",
    "As a concrete example, let's take a look at the measured `density` and `hardness` values from the cast aluminum dataset:\n"
   ]
  },
  {
   "cell_type": "code",
   "execution_count": null,
   "id": "89e7325d",
   "metadata": {},
   "outputs": [],
   "source": [
    "## NOTE: No need to edit\n",
    "(\n",
    "    df_shewhart\n",
    "    >> gr.ggplot(gr.aes(\"density\", \"hardness\"))\n",
    "    + gr.geom_point()\n",
    ")"
   ]
  },
  {
   "cell_type": "markdown",
   "id": "6a5f2ba3",
   "metadata": {},
   "source": [
    "We can see a positive correlation between the two variables. If we wanted to model the `density` and `hardness` simultaneously, we would need to respect this dependency.\n",
    "\n",
    "A normal distribution does a *reasonable* job representing both `density` and `hardness` separately.\n"
   ]
  },
  {
   "cell_type": "code",
   "execution_count": null,
   "id": "bfc58ffe",
   "metadata": {},
   "outputs": [],
   "source": [
    "## NOTE: No need to edit\n",
    "(\n",
    "    df_shewhart\n",
    "    >> gr.tf_mutate(\n",
    "        q_density=gr.qqvals(DF.density, \"norm\"),\n",
    "        q_hardness=gr.qqvals(DF.hardness, \"norm\"),\n",
    "    )\n",
    "    >> gr.tf_rename(\n",
    "        v_density=\"density\",\n",
    "        v_hardness=\"hardness\",\n",
    "    )\n",
    "    >> gr.tf_pivot_longer(\n",
    "        columns=[\"q_density\", \"q_hardness\", \"v_density\", \"v_hardness\"],\n",
    "        names_to=[\".value\", \"var\"],\n",
    "        names_sep=\"_\",\n",
    "    )\n",
    "    \n",
    "    >> gr.ggplot(gr.aes(\"q\", \"v\"))\n",
    "    + gr.geom_abline(intercept=0, slope=1, linetype=\"dashed\")\n",
    "    + gr.geom_point()\n",
    "    + gr.facet_wrap(\"var\", scales=\"free\")\n",
    "    + gr.labs(x=\"Reference Quantile\", y=\"Observed Quantile\")\n",
    ")"
   ]
  },
  {
   "cell_type": "markdown",
   "id": "57bd123a",
   "metadata": {},
   "source": [
    "However, if we fit a normal for `hardness` and `density` separately, *and ignore the dependency*, we will end up with a model that does not respect the correlation we saw above:\n"
   ]
  },
  {
   "cell_type": "code",
   "execution_count": null,
   "id": "731be41c",
   "metadata": {},
   "outputs": [],
   "source": [
    "## NOTE: No need to edit\n",
    "# Build a model \n",
    "md_independence = (\n",
    "    gr.Model(\"Independent Properties\")\n",
    "    >> gr.cp_marginals(\n",
    "        density=gr.marg_fit(\"norm\", df_shewhart.density),\n",
    "        hardness=gr.marg_fit(\"norm\", df_shewhart.hardness),\n",
    "    )\n",
    "    ## NOTE: This line is where things go wrong!\n",
    "    # We can't just assume variables are independent\n",
    "    # unless we have a good reason to do so.\n",
    "    >> gr.cp_copula_independence()\n",
    ")\n",
    "\n",
    "# Draw simulated observations\n",
    "(\n",
    "    md_independence\n",
    "    >> gr.ev_sample(n=1e3, df_det=\"nom\", skip=True)\n",
    "    >> gr.tf_mutate(source=\"Simulated\")\n",
    "    >> gr.tf_bind_rows(\n",
    "        df_shewhart\n",
    "        >> gr.tf_mutate(source=\"Experimental\")\n",
    "    )\n",
    "    \n",
    "    >> gr.ggplot(gr.aes(\"density\", \"hardness\"))\n",
    "    + gr.geom_point(gr.aes(color=\"source\"))\n",
    "    + gr.theme_minimal()\n",
    ")"
   ]
  },
  {
   "cell_type": "markdown",
   "id": "6d3ae2da",
   "metadata": {},
   "source": [
    "Notice that this model does not respect the correlation we observe in the data. How can we fix this?\n"
   ]
  },
  {
   "cell_type": "markdown",
   "id": "9a3e77f7",
   "metadata": {},
   "source": [
    "# Marginal-Copula Approach\n",
    "\n",
    "It turns out there is a drop-in solution for representing dependency; a [*copula*](https://en.wikipedia.org/wiki/Copula_(probability_theory)) is a mathematical tool to represent dependency between two (or more) random variables. We can fit a gaussian copula to represent the correlation we see between `hardness` and `density`.\n"
   ]
  },
  {
   "cell_type": "code",
   "execution_count": null,
   "id": "d7287729",
   "metadata": {},
   "outputs": [],
   "source": [
    "## NOTE: No need to edit\n",
    "# Build a model \n",
    "md_copula = (\n",
    "    gr.Model(\"Independent Properties\")\n",
    "    >> gr.cp_marginals(\n",
    "        density=gr.marg_fit(\"norm\", df_shewhart.density),\n",
    "        hardness=gr.marg_fit(\"norm\", df_shewhart.hardness),\n",
    "    )\n",
    "    ## KEY DIFFERENCE: Fit a gaussian copula\n",
    "    >> gr.cp_copula_gaussian(df_data=df_shewhart)\n",
    ")\n",
    "\n",
    "# Draw simulated observations\n",
    "(\n",
    "    md_copula\n",
    "    >> gr.ev_sample(n=1e3, df_det=\"nom\", skip=True)\n",
    "    >> gr.tf_mutate(source=\"Simulated\")\n",
    "    >> gr.tf_bind_rows(\n",
    "        df_shewhart\n",
    "        >> gr.tf_mutate(source=\"Experimental\")\n",
    "    )\n",
    "    \n",
    "    >> gr.ggplot(gr.aes(\"density\", \"hardness\"))\n",
    "    + gr.geom_point(gr.aes(color=\"source\"))\n",
    "    + gr.theme_minimal()\n",
    ")"
   ]
  },
  {
   "cell_type": "markdown",
   "id": "b5f681aa",
   "metadata": {},
   "source": [
    "Note that this version of the model respects the correlation in the data!\n"
   ]
  },
  {
   "cell_type": "markdown",
   "id": "7fbff778",
   "metadata": {},
   "source": [
    "## Steps\n",
    "\n",
    "When fitting a density for *multiple* uncertainties, we should follow an extended process:\n",
    "\n",
    "1. Fit a marginal for each uncertain quantity\n",
    "    - Follow the process from `e-grama06-fit-univar`; this should include checking for statistical control!\n",
    "2. Fit a copula to relate the uncertain quantities\n",
    "3. Assess the model\n"
   ]
  },
  {
   "cell_type": "markdown",
   "id": "b7dd2ab8",
   "metadata": {},
   "source": [
    "# Case Study: Circuit Performance\n",
    "\n",
    "To illustrate the full distribution-fitting process, we'll work through a case study of circuit performance.\n"
   ]
  },
  {
   "cell_type": "code",
   "execution_count": null,
   "id": "317c1c34",
   "metadata": {},
   "outputs": [],
   "source": [
    "## NOTE: No need to edit\n",
    "from grama.models import make_prlc_rand\n",
    "md_circuit = make_prlc_rand()\n",
    "md_circuit"
   ]
  },
  {
   "cell_type": "markdown",
   "id": "3e15e2d7",
   "metadata": {},
   "source": [
    "This circuit model has variability in its performance due to manufacturing variability. If we inspect its two outputs `Q` and `omega0`, we can see that they are quite variable, and exhibit a strong negative correlation.\n"
   ]
  },
  {
   "cell_type": "code",
   "execution_count": null,
   "id": "675d740a",
   "metadata": {},
   "outputs": [],
   "source": [
    "## NOTE: No need to edit\n",
    "df_circuit = (\n",
    "    md_circuit\n",
    "    >> gr.ev_sample(n=1e4, df_det=\"nom\", seed=101)\n",
    ")\n",
    "\n",
    "(\n",
    "    df_circuit\n",
    "    >> gr.ggplot(gr.aes(\"Q\", \"omega0\"))\n",
    "    + gr.geom_bin2d()\n",
    ")"
   ]
  },
  {
   "cell_type": "markdown",
   "id": "3b6e4729",
   "metadata": {},
   "source": [
    "## Marginals\n",
    "\n",
    "First, let's fit distributions for the two quantities `Q` and `omega0` separately.\n"
   ]
  },
  {
   "cell_type": "markdown",
   "id": "91ea0ac1",
   "metadata": {},
   "source": [
    "### __q1__ Check for statistical control\n",
    "\n",
    "Check for statistical control of the output `omega0`. Use a large batch size. Answer the questions under *observations* below.\n"
   ]
  },
  {
   "cell_type": "code",
   "execution_count": null,
   "id": "eb17e7a0",
   "metadata": {},
   "outputs": [],
   "source": [
    "## TASK: Make a control chart with a large batch size\n",
    "(\n",
    "    df_circuit\n",
    "\n",
    ")"
   ]
  },
  {
   "cell_type": "markdown",
   "id": "03e172e3",
   "metadata": {},
   "source": [
    "*Observations*\n",
    "\n",
    "- What batch size did you choose?\n",
    "  - (Your response here)\n",
    "- Does this process seem to be under statistical control?\n",
    "  - (Your response here)\n",
    "- Remind me: Is this quantity random? How do you know?\n",
    "  - (Your response here)\n"
   ]
  },
  {
   "cell_type": "markdown",
   "id": "ece8dd9e",
   "metadata": {},
   "source": [
    "### __q2__ Fit a marginal for `omega0`\n",
    "\n",
    "Select a reasonable distribution for `omega0` and fit it using the data `df_circuit.omega0`. Answer the questions under *observations* below.\n"
   ]
  },
  {
   "cell_type": "code",
   "execution_count": null,
   "id": "7c896e67",
   "metadata": {},
   "outputs": [],
   "source": [
    "## TASK: Fit a marginal for `omega0`\n",
    "mg_omega0 = None\n",
    "\n",
    "\n",
    "## NOTE: Use the following to help check your work\n",
    "(\n",
    "    df_circuit\n",
    "    >> gr.tf_mutate(q=gr.qqvals(DF.omega0, marg=mg_omega0))\n",
    "    >> gr.ggplot(gr.aes(\"q\", \"omega0\"))\n",
    "    + gr.geom_abline(intercept=0, slope=1, linetype=\"dashed\")\n",
    "    + gr.geom_point()\n",
    ")"
   ]
  },
  {
   "cell_type": "markdown",
   "id": "6bef39d0",
   "metadata": {},
   "source": [
    "*Observations*\n",
    "\n",
    "- How well does your distribution fit the data?\n",
    "  - (Your response here)\n"
   ]
  },
  {
   "cell_type": "markdown",
   "id": "e8cc85af",
   "metadata": {},
   "source": [
    "### __q3__ Fit a marginal for `Q`\n",
    "\n",
    "Select a reasonable distribution for `Q` and fit it using the data `df_circuit.Q`. Answer the questions under *observations* below.\n"
   ]
  },
  {
   "cell_type": "code",
   "execution_count": null,
   "id": "5f237608",
   "metadata": {},
   "outputs": [],
   "source": [
    "## TASK: Fit a marginal for `Q`\n",
    "mg_Q = None\n",
    "\n",
    "\n",
    "## HINT: Use the assessment techniques discussed in \n",
    "# the previous exercise\n"
   ]
  },
  {
   "cell_type": "markdown",
   "id": "4936d734",
   "metadata": {},
   "source": [
    "*Observations*\n",
    "\n",
    "- How well does your distribution fit the data?\n",
    "  - (Your response here)\n"
   ]
  },
  {
   "cell_type": "markdown",
   "id": "37831460",
   "metadata": {},
   "source": [
    "## Copula\n",
    "\n",
    "Now that we've fit marginals for `Q` and `omega0`, we can work on representing their dependency.\n",
    "\n",
    "The following code fits a model that neglects the dependency between `Q` and `omega0`. You will fit a gaussian copula and compare against this baseline model.\n"
   ]
  },
  {
   "cell_type": "code",
   "execution_count": null,
   "id": "3e34042d",
   "metadata": {},
   "outputs": [],
   "source": [
    "## NOTE: No need to edit\n",
    "md_out_independence = (\n",
    "    gr.Model(\"Circuit Output: Independence\")\n",
    "    >> gr.cp_marginals(\n",
    "        omega0=mg_omega0,\n",
    "        Q=mg_Q,\n",
    "    )\n",
    "    >> gr.cp_copula_independence()\n",
    ")\n",
    "\n",
    "md_out_independence \n"
   ]
  },
  {
   "cell_type": "markdown",
   "id": "af6584e9",
   "metadata": {},
   "source": [
    "### __q4__ Fit a gaussian copula\n",
    "\n",
    "Add a gaussian copula to the model `md_out_copula`.\n",
    "\n",
    "*Hint*: The code above demonstrates how to add a gaussian copula to a grama model.\n"
   ]
  },
  {
   "cell_type": "code",
   "execution_count": null,
   "id": "33c1b6da",
   "metadata": {},
   "outputs": [],
   "source": [
    "## TASK: Fit a gaussian copula model\n",
    "md_out_copula = (\n",
    "    gr.Model(\"Circuit Output: Copula\")\n",
    "    >> gr.cp_marginals(\n",
    "        omega0=mg_omega0,\n",
    "        Q=mg_Q,\n",
    "    )\n",
    "\n",
    ")\n",
    "\n",
    "## NOTE: Do not edit; use this to check your work\n",
    "assert \\\n",
    "    isinstance(md_out_copula.density.copula, gr.CopulaGaussian), \\\n",
    "    \"md_out_copula must have a gaussian copula\"\n",
    "\n",
    "md_out_copula \n"
   ]
  },
  {
   "cell_type": "markdown",
   "id": "95cb0be7",
   "metadata": {},
   "source": [
    "### __q5__ Compare the models\n",
    "\n",
    "Use the following code to compare the multivariate models; answer the questions under *observations* below.\n"
   ]
  },
  {
   "cell_type": "code",
   "execution_count": null,
   "id": "f79b0ac3",
   "metadata": {},
   "outputs": [],
   "source": [
    "## NOTE: No need to edit\n",
    "(\n",
    "    df_circuit\n",
    "    >> gr.tf_mutate(source=\"True\")\n",
    "    >> gr.tf_bind_rows(\n",
    "        md_out_independence\n",
    "        >> gr.ev_sample(n=1e4, df_det=\"nom\", skip=True)\n",
    "        >> gr.tf_mutate(source=\"Independence\")\n",
    "    )\n",
    "    >> gr.tf_bind_rows(\n",
    "        md_out_copula\n",
    "        >> gr.ev_sample(n=1e4, df_det=\"nom\", skip=True)\n",
    "        >> gr.tf_mutate(source=\"Copula\")\n",
    "    )\n",
    "    \n",
    "    >> gr.ggplot(gr.aes(\"Q\", \"omega0\"))\n",
    "    + gr.geom_bin2d()\n",
    "    + gr.facet_wrap(\"source\")\n",
    ")"
   ]
  },
  {
   "cell_type": "markdown",
   "id": "be1d3057",
   "metadata": {},
   "source": [
    "*Observations*\n",
    "\n",
    "- How well does the independence model represent the true data?\n",
    "  - (Your response here)\n",
    "- What aspects does the copula model get *correct*?\n",
    "  - (Your response here)\n",
    "- What aspects does the copula model get *incorrect*?\n",
    "  - (Your response here)\n"
   ]
  }
 ],
 "metadata": {
  "kernelspec": {
   "display_name": "Python 3 (ipykernel)",
   "language": "python",
   "name": "python3"
  },
  "language_info": {
   "codemirror_mode": {
    "name": "ipython",
    "version": 3
   },
   "file_extension": ".py",
   "mimetype": "text/x-python",
   "name": "python",
   "nbconvert_exporter": "python",
   "pygments_lexer": "ipython3",
   "version": "3.9.7"
  }
 },
 "nbformat": 4,
 "nbformat_minor": 5
}
