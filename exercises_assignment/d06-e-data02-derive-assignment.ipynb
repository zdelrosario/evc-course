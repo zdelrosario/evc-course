{
 "cells": [
  {
   "cell_type": "markdown",
   "id": "1602a8f7",
   "metadata": {},
   "source": [
    "# Data: Deriving Quantities\n",
    "\n",
    "*Purpose*: Often our data will not tell us *directly* what we want to know; in\n",
    "these cases we need to *derive* new quantities from our data. In this exercise,\n",
    "we'll work with `tf_mutate()` to create new columns by operating on existing\n",
    "variables, and use `tf_group_by()` with `tf_summarize()` to compute aggregate\n",
    "statistics (summaries!) of our data.\n",
    "\n",
    "Aside: The data-summary verbs in grama are heavily inspired by the [dplyr](https://dplyr.tidyverse.org/) package in the R programming langauge. "
   ]
  },
  {
   "cell_type": "markdown",
   "id": "61a001f6",
   "metadata": {},
   "source": [
    "## Setup"
   ]
  },
  {
   "cell_type": "code",
   "execution_count": null,
   "id": "ec81f877",
   "metadata": {},
   "outputs": [],
   "source": [
    "import grama as gr\n",
    "DF = gr.Intention()\n",
    "%matplotlib inline\n",
    "\n",
    "# For assertion\n",
    "from pandas.api.types import is_numeric_dtype"
   ]
  },
  {
   "cell_type": "markdown",
   "id": "3b6ca280",
   "metadata": {},
   "source": [
    "We'll be using the `diamonds` as seen in `e-vis00-basics` earlier. "
   ]
  },
  {
   "cell_type": "code",
   "execution_count": null,
   "id": "cf78ff65",
   "metadata": {},
   "outputs": [],
   "source": [
    "from grama.data import df_diamonds"
   ]
  },
  {
   "cell_type": "markdown",
   "id": "ddca3939",
   "metadata": {},
   "source": [
    "# Mutating DataFrames\n",
    "\n",
    "A *mutation* transformation allows us to make new columns (or edit old ones) by *combining* column values. \n",
    "\n",
    "For example, let's remember the diamonds dataset:\n"
   ]
  },
  {
   "cell_type": "code",
   "execution_count": null,
   "id": "92e3a93b",
   "metadata": {},
   "outputs": [],
   "source": [
    "## NOTE: No need to edit\n",
    "(\n",
    "    df_diamonds\n",
    "    >> gr.tf_head(5)\n",
    ")"
   ]
  },
  {
   "cell_type": "markdown",
   "id": "5140417d",
   "metadata": {},
   "source": [
    "If we wanted to approximate the volume of every diamond, we could do this by multiplying their `x`, `y`, and `z` dimensions. We could create a new column with this value via `gr.tf_mutate()`:\n"
   ]
  },
  {
   "cell_type": "code",
   "execution_count": null,
   "id": "369d4b6b",
   "metadata": {},
   "outputs": [],
   "source": [
    "## NOTE: No need to edit\n",
    "(\n",
    "    df_diamonds\n",
    "    >> gr.tf_mutate(volume=DF.x * DF.y * DF.z)\n",
    "    >> gr.tf_head(5)\n",
    ")"
   ]
  },
  {
   "cell_type": "markdown",
   "id": "71c69415",
   "metadata": {},
   "source": [
    "*Aside*: Note that we can use dot `.` notation to access columns, rather than bracket `[]` notation. This works only when the column names are valid variable names (i.e. do not contain spaces, do not contain special characters, etc.).\n"
   ]
  },
  {
   "cell_type": "markdown",
   "id": "acec0a80",
   "metadata": {},
   "source": [
    "### __q1__ Compute a mass density\n",
    "\n",
    "Approximate the density of the diamonds using the expression\n",
    "\n",
    "$$\\rho = \\frac{\\text{carat}}{xyz}.$$\n",
    "\n",
    "Name the new column `rho`. Answer the questions under *observations* below.\n"
   ]
  },
  {
   "cell_type": "code",
   "execution_count": null,
   "id": "21923e0b",
   "metadata": {},
   "outputs": [],
   "source": [
    "## TASK: Provide the approximate density as the column `rho`\n",
    "df_rho = (\n",
    "    df_diamonds\n",
    "\n",
    ")\n",
    "\n",
    "## NOTE: Use this to check your work\n",
    "assert \\\n",
    "    \"rho\" in df_rho.columns, \\\n",
    "    \"df_rho does not have a `rho` column\"\n",
    "\n",
    "assert \\\n",
    "    abs(df_rho.rho.median() - 6.117055e-03) < 1e-6, \\\n",
    "    \"The values of df_rho.rho are incorrect; check your calculation\"\n",
    "\n",
    "print(\n",
    "    df_rho\n",
    "    >> gr.tf_filter(DF.rho < 1e6)\n",
    "    >> gr.tf_select(\"rho\")\n",
    "    >> gr.tf_describe()\n",
    ")\n"
   ]
  },
  {
   "cell_type": "markdown",
   "id": "0116a60f",
   "metadata": {},
   "source": [
    "*Observations*\n",
    "\n",
    "- What is the mean density `rho`?\n",
    "  - (Your response here)\n",
    "- What is the lower-quarter density `rho` (25% value)?\n",
    "  - (Your response here)\n",
    "- What is the upper-quarter density `rho` (75% value)?\n",
    "  - (Your response here)\n"
   ]
  },
  {
   "cell_type": "markdown",
   "id": "f26f1198",
   "metadata": {},
   "source": [
    "## Vectorized Functions\n",
    "\n",
    "The `gr.tf_mutate()` verb carries out *vector* operations; these operations take in one or more columns, and return an entire column. For operations such as addition, this results in *elementwise* addition, as illustrated below:\n",
    "\n",
    "| `x` | `y` | `x + y` |\n",
    "|-----|-----|---------|\n",
    "|  1  |  0  |    1    |\n",
    "|  1  |  1  |    2    |\n",
    "|  1  | -1  |    0    |\n"
   ]
  },
  {
   "cell_type": "markdown",
   "id": "59b354a1",
   "metadata": {},
   "source": [
    "The `gr.tf_mutate()` verb accepts a wide variety of *vectorized* functions; the following table organizes these into various types of operations.\n",
    "\n",
    "| Type | Functions |\n",
    "| ---- | --------- |\n",
    "| Arithmetic ops. | `DF.x + 1, DF.y - DF.x, DF.x * DF.y, DF.x / DF.y, DF.x^DF.a` |\n",
    "| Modular arith. | `DF.x // DF.y` (Floor division) `DF.x % DF.y` (Remainder) |\n",
    "| Logical comp. | `<, <=, >, >=, !=, ==` |\n",
    "| Logarithms | `gr.log(DF.x)` |\n",
    "| Offsets | `gr.lead(DF.x), gr.lag(DF.x)` |\n",
    "| Cumulants | `gr.cumsum(DF.x), gr.cumprod(DF.x), gr.cummin(DF.x), gr.cummaDF.x(DF.x), gr.cummean(DF.x)` |\n",
    "| Ranking | `gr.min_rank(DF.x), gr.row_number(DF.x), gr.dense_rank(DF.x), gr.percent_rank(DF.x)` |\n",
    "| Data conversion | `gr.as_numeric(DF.x)`, `gr.as_str(DF.x)`, `gr.as_factor(DF.x)` |\n",
    "| Control | `gr.if_else()`, `gr.case_when()` |"
   ]
  },
  {
   "cell_type": "markdown",
   "id": "096bd911",
   "metadata": {},
   "source": [
    "### __q2__ Do a type conversion\n",
    "\n",
    "Convert the column `y` below into a numeric type.\n",
    "\n",
    "*Hint*: Use the table above to find an appropriate data conversion function.\n"
   ]
  },
  {
   "cell_type": "code",
   "execution_count": null,
   "id": "3851fbe4",
   "metadata": {},
   "outputs": [],
   "source": [
    "## TASK: Convert the `y` column to a numeric type\n",
    "df_converted = (\n",
    "    gr.df_make(\n",
    "        x=[ 1, 2, 3],\n",
    "        y=[\"4\", \"5\", \"6\"],\n",
    "    )\n",
    "    ## TODO: Convert `y` to numeric values\n",
    "\n",
    ")\n",
    "\n",
    "## NOTE: Use this to check your work\n",
    "assert \\\n",
    "    is_numeric_dtype(df_converted.y), \\\n",
    "    \"df_converted.y is not numeric; make sure to do a conversion\"\n",
    "\n",
    "print(\"Success!\")"
   ]
  },
  {
   "cell_type": "markdown",
   "id": "90c81c9f",
   "metadata": {},
   "source": [
    "### __q3__ Sanity-check the data\n",
    "\n",
    "The `depth` variable in `df_diamonds` is *supposedly* computed via `depth_computed = 100 * 2 * DF[\"z\"] / (DF[\"x\"] + DF[\"y\"])`. Compute `diff = DF[\"depth\"] - DF[\"depth_computed\"]`: This is a measure of discrepancy between the given and computed depth. Answer the questions under *observations* below.\n",
    "\n",
    "*Hint*: If you want to compute `depth_computed` and use it to compute `diff`, you'll need to use two calls of `gr.tf_mutate()`.\n"
   ]
  },
  {
   "cell_type": "code",
   "execution_count": null,
   "id": "f0590e14",
   "metadata": {},
   "outputs": [],
   "source": [
    "## TASK: Compute `depth_computed` and `diff`, as described above\n",
    "df_depth = (\n",
    "    df_diamonds \n",
    "\n",
    ")\n",
    "\n",
    "## NOTE: Use this to check your work\n",
    "assert \\\n",
    "    abs(df_depth[\"diff\"].median()) < 1e-14, \\\n",
    "    \"df_depth.diff has the wrong values; check your calculation\"\n",
    "assert \\\n",
    "    abs(df_depth[\"diff\"].mean() - 5.284249e-03) < 1e-6, \\\n",
    "    \"df_depth.diff has the wrong values; check your calculation\"\n",
    "\n",
    "# Show the data\n",
    "(\n",
    "    df_depth\n",
    "    >> gr.tf_select(\"diff\")\n",
    "    >> gr.tf_describe()\n",
    ")\n"
   ]
  },
  {
   "cell_type": "markdown",
   "id": "cca7fb52",
   "metadata": {},
   "source": [
    "**Observation**\n",
    "\n",
    "- What is the mean of `diff`? What is the median of `diff`?\n",
    "  - (Your response here)\n",
    "- What are the min and max of `diff`?\n",
    "  - (Your response here)\n",
    "- Remember that `diff` measures the agreement between `depth` and `depth_computed`; how well do these two quantities match?\n",
    "  - (Your response here)\n"
   ]
  },
  {
   "cell_type": "markdown",
   "id": "309777aa",
   "metadata": {},
   "source": [
    "## Control Functions\n",
    "\n",
    "The `gr.if_else()` and `gr.case_when()` functions are *special* vectorized functions---they allow us to use more programming-like constructs to control the output. The `gr.if_else()` helper is a simple \"yes-no\" function, while `gr.case_when()` is a vectorized [switch statement](https://en.wikipedia.org/wiki/Switch_statement). If you are trying to do more complicated data operations, you might want to give these functions a look.\n"
   ]
  },
  {
   "cell_type": "markdown",
   "id": "230fd94e",
   "metadata": {},
   "source": [
    "### __q4__ Use an if/else statement\n",
    "\n",
    "Use `gr.if_else()` to flag diamonds as `\"Big\"` if they have `carat >= 1` and `\"Small\"` otherwise.\n",
    "\n",
    "*Hint*: Remember to read the documentation for an unfamiliar function to learn how to call it; in particular, try looking at the *Examples* section of the documentation.\n"
   ]
  },
  {
   "cell_type": "code",
   "execution_count": null,
   "id": "1082f2aa",
   "metadata": {},
   "outputs": [],
   "source": [
    "## TODO: Compute the `size` using `gr.if_else()`\n",
    "df_size = (\n",
    "    df_diamonds\n",
    "    >> gr.tf_mutate(\n",
    "# task-begin        \n",
    "        # size=?\n",
    "# task-end        \n",
    "\n",
    "    )\n",
    ")\n",
    "\n",
    "## NOTE: Use this to check you work\n",
    "assert \\\n",
    "    \"size\" in df_size.columns, \\\n",
    "    \"df_size does not have a `size` column\"\n",
    "\n",
    "assert \\\n",
    "    all(df_size[df_size[\"size\"] == \"Big\"].carat >= 1), \\\n",
    "    \"Size calculation is incorrect\"\n",
    "\n",
    "df_size"
   ]
  },
  {
   "cell_type": "markdown",
   "id": "3e03ec86",
   "metadata": {},
   "source": [
    "# Summarizing Data Frames\n",
    "\n",
    "The `gr.tf_summarize()` verb is used to *reduce* a DataFrame down to fewer rows using summary functions. For instance, we can compute the mean `carat` and `price` across the whole dataset of diamonds:\n"
   ]
  },
  {
   "cell_type": "code",
   "execution_count": null,
   "id": "c7a6eed5",
   "metadata": {},
   "outputs": [],
   "source": [
    "## NOTE: No need to edit\n",
    "(\n",
    "    df_diamonds\n",
    "    >> gr.tf_summarize(\n",
    "        carat_mean=gr.mean(DF.carat),\n",
    "        price_mean=gr.mean(DF.price),\n",
    "    )\n",
    ")"
   ]
  },
  {
   "cell_type": "markdown",
   "id": "dd3b00ec",
   "metadata": {},
   "source": [
    "Notice that we went from having around `54,000` rows down to just one row; in this sense we have *summarized* the dataset.\n"
   ]
  },
  {
   "cell_type": "markdown",
   "id": "700091fb",
   "metadata": {},
   "source": [
    "## Summary functions\n",
    "\n",
    "Summarize accepts a large number of *summary functions*; the table below lists and categorizes some of the most common summary functions.\n",
    "\n",
    "| Type | Functions |\n",
    "| ---- | --------- |\n",
    "| Location | `gr.mean(DF.x), gr.median(DF.x), gr.min(DF.x), gr.max(DF.x)` |\n",
    "| Spread | `gr.sd(DF.x), gr.var(DF.x), gr.IQR(DF.x)` |\n",
    "| Order | `gr.first(DF.x), gr.nth(DF.x, n), gr.last(DF.x)` |\n",
    "| Counts | `gr.n_distinct(DF.x)`, `gr.n()` (Total count) |\n",
    "| Logical | `gr.sum(DF.x == 0)` (Count cases where `x == 0`) `gr.pr(DF.g > 0)` (Probability helper) |\n"
   ]
  },
  {
   "cell_type": "markdown",
   "id": "b155be8e",
   "metadata": {},
   "source": [
    "### __q5__ Count the Ideal rows\n",
    "\n",
    "Use `gr.tf_summarize()` to count the number of rows where `cut == \"Ideal\"`. Provide this as the column `n_ideal`.\n",
    "\n",
    "*Hint*: The `Summary functions` table above provides a recipe for counting the number of cases where some condition is met.\n"
   ]
  },
  {
   "cell_type": "code",
   "execution_count": null,
   "id": "5f6a738c",
   "metadata": {},
   "outputs": [],
   "source": [
    "# TASK: Find the number of rows with cut == \"Ideal\"\n",
    "df_nideal = (\n",
    "    df_diamonds\n",
    "    >> gr.tf_summarize(\n",
    "        ## TODO: Compute the appropriate count\n",
    "        # n_ideal=?\n",
    "\n",
    "    )\n",
    ")\n",
    "\n",
    "## NOTE: Use this to check your work\n",
    "assert \\\n",
    "    \"n_ideal\" in df_nideal.columns, \\\n",
    "    \"df_nideal does not have a `n_ideal` column\"\n",
    "\n",
    "assert \\\n",
    "    df_nideal[\"n_ideal\"][0]/23==937,\\\n",
    "    \"The count is incorrect\"\n",
    "\n",
    "df_nideal"
   ]
  },
  {
   "cell_type": "markdown",
   "id": "cbb48ab5",
   "metadata": {},
   "source": [
    "## Grouping by variables\n",
    "\n",
    "The `gr.tf_summarize()` verb is helpful for getting \"basic facts\" about a dataset, but it is even more powerful when combined with `gr.tf_group_by()`.\n",
    "\n",
    "The `gr.tf_group_by()` verb takes a DataFrame and \"groups\" it by one (or more) columns. This causes other verbs (such as `gr.tf_summarize()`) to treat the data as though it were *multiple* DataFrames; these sub-DataFrames exactly correspond to the groups determined by `gr.tf_group_by()`."
   ]
  },
  {
   "cell_type": "markdown",
   "id": "d1c23758",
   "metadata": {},
   "source": [
    "![The `gr.tf_group_by()` verb modifies the behavior of a DataFrame to treat it as a collection of multiple datasets, defined by the grouping variable(s).](images/group-by.png)\n",
    "\n",
    "Image: Zimmerman et al."
   ]
  },
  {
   "cell_type": "markdown",
   "id": "14a76bf0",
   "metadata": {},
   "source": [
    "When the input DataFrame is grouped, the `gr.tf_summarize()` verb will calculate the summary functions in a group-wise manner."
   ]
  },
  {
   "cell_type": "markdown",
   "id": "15445b54",
   "metadata": {},
   "source": [
    "![Grouped summarize](images/grouped-summarize.png)\n",
    "\n",
    "Image: Zimmerman et al."
   ]
  },
  {
   "cell_type": "markdown",
   "id": "b84b8099",
   "metadata": {},
   "source": [
    "Returning to the diamonds example: Let's see what adding a `gr.tf_group_by(DF.cut)` before the price and carat mean calculation does to our results."
   ]
  },
  {
   "cell_type": "code",
   "execution_count": null,
   "id": "4440434b",
   "metadata": {},
   "outputs": [],
   "source": [
    "## NOTE: No need to edit\n",
    "(\n",
    "    df_diamonds\n",
    "    >> gr.tf_group_by(DF.cut)\n",
    "    >> gr.tf_summarize(\n",
    "        carat_mean=gr.mean(DF.carat),\n",
    "        price_mean=gr.mean(DF.price),\n",
    "    )\n",
    ")"
   ]
  },
  {
   "cell_type": "markdown",
   "id": "3c4278ea",
   "metadata": {},
   "source": [
    "Now we can compare the mean `carat` and mean `price` across different `cut` levels. Personally, I was surprised to see that the `Fair` cut diamonds have a higher mean `price` than the `Ideal` diamonds!"
   ]
  },
  {
   "cell_type": "markdown",
   "id": "3fd0014c",
   "metadata": {},
   "source": [
    "### __q6__ Try out a two-variable grouping\n",
    "\n",
    "The code below groups by two variables. Uncomment the `tf_group_by()` line below, and describe how the result changes.\n"
   ]
  },
  {
   "cell_type": "code",
   "execution_count": null,
   "id": "a7058f77",
   "metadata": {},
   "outputs": [],
   "source": [
    "#TASK: Uncomment the tf_group_by() below, and describe how the result changes\n",
    "df_q2 = (\n",
    "    df_diamonds\n",
    "#    >> gr.tf_group_by(DF[\"color\"], DF[\"clarity\"])\n",
    "\n",
    "    >> gr.tf_summarize(diamonds_mean=gr.mean(DF[\"price\"]))\n",
    ")\n",
    "\n",
    "df_q2"
   ]
  },
  {
   "cell_type": "markdown",
   "id": "4a383da5",
   "metadata": {},
   "source": [
    "*Observations*\n",
    "- How many rows does the commented version (no grouping) return?\n",
    "  - (Your response here)\n",
    "- How many rows (roughly) does the uncommented version (with grouping) return?\n",
    "  - (Your response here)\n"
   ]
  },
  {
   "cell_type": "markdown",
   "id": "9cd08529",
   "metadata": {},
   "source": [
    "### __q7__ Study the color\n",
    "\n",
    "Compute the mean `price` grouped by `color`. Answer the questions under *observations* below.\n"
   ]
  },
  {
   "cell_type": "code",
   "execution_count": null,
   "id": "92b9cd79",
   "metadata": {},
   "outputs": [],
   "source": [
    "# TASK: Compute the mean price, grouped by color\n",
    "(\n",
    "    df_diamonds\n",
    "    ## TODO: Write your code here\n",
    "\n",
    "    \n",
    "    ## NOTE: We need to \"ungroup\" in order to re-arrange the data\n",
    "    >> gr.tf_ungroup()\n",
    "    >> gr.tf_arrange(\"price_mean\")\n",
    ")"
   ]
  },
  {
   "cell_type": "markdown",
   "id": "485eba04",
   "metadata": {},
   "source": [
    "*Observations*\n",
    "- Which tends to be the most valuable color? Which is the least valuable?\n",
    "  - (Your response here)\n",
    "- The code above orders the colors according to their average price; are they in alphabetical order?\n",
    "  - (Your response here)\n"
   ]
  },
  {
   "cell_type": "markdown",
   "id": "9f5d7c8e",
   "metadata": {},
   "source": [
    "# References\n",
    "\n",
    "- Naupaka Zimmerman, Greg Wilson, Raniere Silva, Scott Ritchie, François Michonneau, Jeffrey Oliver, … Yuka Takemon. (2019, July). swcarpentry/r-novice-gapminder: Software Carpentry: R for Reproducible Scientific Analysis, June 2019 (Version v2019.06.1). Zenodo. http://doi.org/10.5281/zenodo.3265164"
   ]
  }
 ],
 "metadata": {
  "kernelspec": {
   "display_name": "Python 3 (ipykernel)",
   "language": "python",
   "name": "python3"
  },
  "language_info": {
   "codemirror_mode": {
    "name": "ipython",
    "version": 3
   },
   "file_extension": ".py",
   "mimetype": "text/x-python",
   "name": "python",
   "nbconvert_exporter": "python",
   "pygments_lexer": "ipython3",
   "version": "3.9.7"
  }
 },
 "nbformat": 4,
 "nbformat_minor": 5
}
