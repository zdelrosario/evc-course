{
 "cells": [
  {
   "cell_type": "markdown",
   "id": "2d51484d",
   "metadata": {},
   "source": [
    "# Stats: Fundamentals of Statistical Process Monitoring \n",
    "\n",
    "*Purpose*: In future exercises we're going to learn how to model variable quantities as random, but before we do that, we need tools to help decide if a given quantity *should* be modeled as random. The tools of *statistical process monitoring* (sometimes called *statistical process control*) will help us find non-random patterns in data, which can be helpful for deciding whether or not a quantity can be reasonably modeled as random.\n"
   ]
  },
  {
   "cell_type": "markdown",
   "id": "3d483969",
   "metadata": {},
   "source": [
    "## Setup\n"
   ]
  },
  {
   "cell_type": "code",
   "execution_count": null,
   "id": "4ae2e03a",
   "metadata": {},
   "outputs": [],
   "source": [
    "import grama as gr\n",
    "import numpy as np\n",
    "DF = gr.Intention()\n",
    "%matplotlib inline"
   ]
  },
  {
   "cell_type": "markdown",
   "id": "471f1eac",
   "metadata": {},
   "source": [
    "# Theory\n"
   ]
  },
  {
   "cell_type": "markdown",
   "id": "d507ab6a",
   "metadata": {},
   "source": [
    "It's difficult to tell by-inspection if data are random. For example, let's look at a completely random dataset:\n"
   ]
  },
  {
   "cell_type": "code",
   "execution_count": null,
   "id": "aba89d8a",
   "metadata": {},
   "outputs": [],
   "source": [
    "## NOTE: No need to edit; run and inspect\n",
    "np.random.seed(102)\n",
    "\n",
    "mg_normal = gr.marg_mom(\"norm\", mean=0, sd=1)\n",
    "df_random = (\n",
    "    gr.df_make(X=mg_normal.r(1000))\n",
    "    >> gr.tf_mutate(idx=DF.index)\n",
    ")\n",
    "\n",
    "(\n",
    "    df_random\n",
    "    >> gr.ggplot(gr.aes(\"idx\", \"X\"))\n",
    "    + gr.geom_point()\n",
    ")"
   ]
  },
  {
   "cell_type": "markdown",
   "id": "68a7b34c",
   "metadata": {},
   "source": [
    "Some observations:\n",
    "\n",
    "- Without some sense of *reasonable limits*, we can't distinguish outliers from the normal highs and lows of randomness.\n",
    "- Without some knowledge of the underlying random process, we cannot define reasonable limits.\n"
   ]
  },
  {
   "cell_type": "markdown",
   "id": "c5518688",
   "metadata": {},
   "source": [
    "Rather than do concentrated staring at random patterns, we can make some *intelligent choices* about grouping observations, and use *batch averages* to set meaningful *control limits*. These ideas combine in a *control chart*; the following plot is our first example of a control chart."
   ]
  },
  {
   "cell_type": "code",
   "execution_count": null,
   "id": "5abaf64a",
   "metadata": {},
   "outputs": [],
   "source": [
    "%%capture --no-display\n",
    "## NOTE: No need to edit\n",
    "\n",
    "(\n",
    "    df_random \n",
    "    ## Group observations into consecutive batches of 10\n",
    "    >> gr.tf_mutate(id_batch=DF.index // 10)\n",
    "    ## Construct an Xbar and S (xbs) chart\n",
    "    >> gr.pt_xbs(group=\"id_batch\", var=\"X\")\n",
    ")"
   ]
  },
  {
   "cell_type": "markdown",
   "id": "8fdca6da",
   "metadata": {},
   "source": [
    "From this chart, we see no outliers outside the lower control limit (LCL) or upper control limit (UCL). We also don't see any special patterns in the data. Therefore, based on this control chart, we can declare that the process is likely under *statistical control*---that it can be modeled as random.\n"
   ]
  },
  {
   "cell_type": "markdown",
   "id": "2d0d3ff9",
   "metadata": {},
   "source": [
    "## X-bar and S Chart\n",
    "\n",
    "The helper function `gr.pt_xbs()` constructs a particular kind of control chart: an X-bar and S chart. This shows both the *batch* sample standard deviation (S) and *batch* sample mean (X-bar), along with *control limits* for these quantities. This statistical tool helps us find suspicious patterns in a dataset.\n",
    "\n",
    "In order to understand X-bar and S charts, we need understand why we take *batch averages*, and how to construct meaningful *control limits* for X-bar and S.\n"
   ]
  },
  {
   "cell_type": "markdown",
   "id": "f934478d",
   "metadata": {},
   "source": [
    "## Batch Averages\n",
    "\n",
    "We saw before that the *sample mean* follows the central limit theorem, which tells us about the distribution of the sample mean if we were to observe multiple, independent datasets. Thus taking the average of multiple observations *from the same process* gives us a way to make the underlying distribution more predictable.\n",
    "\n",
    "However, taking the average of *all* observations $n_{\\text{total}}$ prevents us from determining *where* an outlier occurred: If the mean of all the data is high, was it the first observation that was large? The last one? Something in the middle?\n",
    "\n",
    "Therefore, we'll split the data into batches of a much smaller size $n_{\\text{batch}} << n_{\\text{total}}$. Taking *batch averages* gives us better resolution (allowing us to determine which batch is worth further investigation), while still giving the advantages of the central limit theorem.\n"
   ]
  },
  {
   "cell_type": "markdown",
   "id": "71a0955c",
   "metadata": {
    "tags": []
   },
   "source": [
    "## Control limits: Confidence Intervals\n",
    "\n",
    "Remember (from [e-stat05-CI](https://zdelrosario.github.io/evc-course/exercises_solution/d21-e-stat05-CI-solution.html)) that the central limit theorem-based confidence interval for the sample mean is given by\n",
    "\n",
    "$$[\\overline{X}_n - z_C \\sigma/\\sqrt{n}, \\overline{X}_n + z_C \\sigma/\\sqrt{n}]$$\n",
    "\n",
    "where $z_C$ is the relevant quantile of a standard normal distribution, and $n$ is the number of observations in our sample. For control charts, it is standard to choose a very strict confidence level of $C = 1 - 1/1000$.\n",
    "\n",
    "To understand how we will *use* the idea of confidence intervals to look for non-random patterns, let's remind ourselves of the *golden rule for interpreting confidence intervals*:\n",
    "\n",
    "```{admonition} The \"Golden Rule\" for interpreting Confidence Intervals\n",
    "When interpreting a confidence interval, we should assume the true value could be anywhere inside the interval.\n",
    "```\n",
    "\n",
    "With a control chart, we want to be able to tell *when* a pattern in the data looked non-random. To that end, we'll study the sample means of small *batches* of the data, and compare all of those batches to a single confidence interval. Since the confidence interval is a reasonable range for the true value, we will flag batch means that fall outside the confidence interval as potentially non-random, and worth of further investigation.\n"
   ]
  },
  {
   "cell_type": "markdown",
   "id": "943dc418",
   "metadata": {
    "tags": []
   },
   "source": [
    "When constructing a control chart, we use the *entire* dataset to estimate the mean $\\overline{X}_{n_{\\text{total}}}$ and standard deviation $\\sigma$, but construct the confidence interval based on the batch size $n_{\\text{batch}}$. That looks like:\n",
    "\n",
    "$$[\\overline{X}_{n_{\\text{total}}} - z_C \\sigma/\\sqrt{n_{\\text{batch}}}, \\overline{X}_{n_{\\text{total}}} + z_C \\sigma/\\sqrt{n_{\\text{batch}}}]$$\n",
    "\n",
    "The helper function `gr.pt_xbs()` automates the approximation of these control limits. In the rest of this exercise, we'll focus on grouping the observations into reasonable batches.\n",
    "\n",
    "```{admonition} See the references for the gory statistical details\n",
    "When it comes to approximating the standard deviation $\\sigma$ for a control chart, there is actually a bit more work we have to do to *de-bias* the standard deviation. The control limits for the standard deviation also follow a different formula than the sample mean. For more details, see the references listed at the bottom of this exercise.\n",
    "```"
   ]
  },
  {
   "cell_type": "markdown",
   "id": "934a74a5",
   "metadata": {},
   "source": [
    "## Grouping observations\n",
    "\n",
    "Ideally, the selection of batches should be made during the *planning* of data collection. If we are studying archival data, we can sometimes make some reasonable assumptions about data collection in order to define batches.\n"
   ]
  },
  {
   "cell_type": "markdown",
   "id": "102be50f",
   "metadata": {},
   "source": [
    "### Natural batches\n",
    "\n",
    "In cases when we can *plan* data collection, there are likely candidates for \"natural\" batches of data. For instance, if we have multiple machines that are used (separately) to make the same part, we could group observations based on which machine led to their manufacture. \n",
    "\n",
    "The next code chunk simulates data where multiple machines are used to manufacture the same part---one of the machines is malfunctioning. You'll use a control chart to help determine which machine is causing problems.\n"
   ]
  },
  {
   "cell_type": "code",
   "execution_count": null,
   "id": "c5449d92",
   "metadata": {},
   "outputs": [],
   "source": [
    "## NOTE: No need to edit\n",
    "np.random.seed(101)\n",
    "\n",
    "df_base = gr.df_make(\n",
    "    sd=[0.01, 0.04, 0.01, 0.01, 0.01, 0.01],\n",
    "    ma=[ \"A\",  \"B\",  \"C\",  \"D\",  \"E\",  \"F\"],\n",
    ")\n",
    "mg = gr.marg_mom(\"norm\", mean=0, sd=1)\n",
    "\n",
    "df_machines = gr.df_grid()\n",
    "for i in range(df_base.shape[0]):\n",
    "    df_machines = (\n",
    "        df_machines\n",
    "        >> gr.tf_bind_rows(\n",
    "            gr.df_make(\n",
    "                X=mg.r(15) * df_base.sd[i],\n",
    "                id_machine=df_base.ma[i],\n",
    "            )\n",
    "        )\n",
    "    )\n",
    "# Randomly sort\n",
    "df_machines = (\n",
    "    df_machines\n",
    "    >> gr.tf_sample(frac=1)\n",
    ")\n"
   ]
  },
  {
   "cell_type": "markdown",
   "id": "f3cb6b6b",
   "metadata": {},
   "source": [
    "### __q0__ Conceptual questions\n",
    "\n",
    "Before we start constructing control charts, let's check your understanding with some conceptual questions. Run the code below, and answer the questions under *observations* below.\n"
   ]
  },
  {
   "cell_type": "code",
   "execution_count": null,
   "id": "74c9b4db",
   "metadata": {},
   "outputs": [],
   "source": [
    "## TODO: No need to edit this code; run and inspect\n",
    "(\n",
    "    df_machines\n",
    "    >> gr.tf_count(DF.id_machine)\n",
    "    >> gr.tf_bind_rows(\n",
    "        df_machines\n",
    "        >> gr.tf_summarize(n=gr.n())\n",
    "        >> gr.tf_mutate(id_machine=\"(Total)\")\n",
    "    )\n",
    ")"
   ]
  },
  {
   "cell_type": "markdown",
   "id": "1ca165ba",
   "metadata": {},
   "source": [
    "*Observations*\n",
    "\n",
    "- If we set the grouping according to the column `id_machine`, what value of `n` should we use to compute the *control limits*? (That is, the factor of $1/\\sqrt{n}$.)\n",
    "  - (Your response here)\n",
    "- To construct a control chart, we need to compute *control limits* based on the variance of the data. What number of observations is used to compute the variance?\n",
    "  - (Your response here)\n"
   ]
  },
  {
   "cell_type": "markdown",
   "id": "06de9600",
   "metadata": {},
   "source": [
    "### __q1__ Batch by machine\n",
    "\n",
    "Construct a control chart using the machine identifier as the `group` variable. Look for patterns in the measured quantity `X`. Answer the questions under *observations* below.\n",
    "\n",
    "*Hint*: Remember to read the documentation for an unfamiliar function to learn about its arguments.\n"
   ]
  },
  {
   "cell_type": "code",
   "execution_count": null,
   "id": "14093d70",
   "metadata": {},
   "outputs": [],
   "source": [
    "%%capture --no-display\n",
    "## TODO: Create a control chart grouped by machine\n",
    "(\n",
    "    df_machines\n",
    "    \n",
    ")"
   ]
  },
  {
   "cell_type": "markdown",
   "id": "6e8c3246",
   "metadata": {},
   "source": [
    "*Observations*\n",
    "\n",
    "- Based on batching by machine, did you find any out-of-control patterns? Did it occur in the `Variability` or batch `Mean`?\n",
    "  - (Your response here)\n",
    "- If you answered \"yes\" to the previous question, does your group variable give you a meaningful way to determine what may have cause the out-of-control pattern?\n",
    "  - (Your response here)\n"
   ]
  },
  {
   "cell_type": "markdown",
   "id": "acdebd43",
   "metadata": {},
   "source": [
    "### Batches in time\n",
    "\n",
    "Natural batches---such as per-machine as above---are a fine way to choose the grouping for a control chart. However, there are other ways to batch the data.\n",
    "\n",
    "Another way to batch the data is by *consecutive periods of time*; this can be helpful for monitoring a single data-generating process to see if something happened at a particular point in time.\n",
    "\n",
    "When choosing consecutive observations, we should choose *reasonable* batch sizes $n_{\\text{batch}}$. The following rule of thumb is helpful for picking a reasonable $n_{\\text{batch}}$.\n",
    "\n",
    "> A rule of thumb is to use three time periods with 20 to 25 samples of size $n_{\\text{batch}} = 50$ to $n_{\\text{batch}} = 100$ units each.\n",
    "\n",
    "The following code simulates data from a process that varies over time. The data collection plans for 45 samples, each containing $n_{\\text{batch}} = 50$ observations. This results in `45 * 50 = 2250` observations total.\n"
   ]
  },
  {
   "cell_type": "code",
   "execution_count": null,
   "id": "a0a35a79",
   "metadata": {},
   "outputs": [],
   "source": [
    "## NOTE: No need to edit\n",
    "np.random.seed(101)\n",
    "\n",
    "df_base = gr.df_make(\n",
    "    mu=[0]*30 + list(gr.linspace(0, 0.8, 15)),\n",
    ")\n",
    "mg = gr.marg_mom(\"norm\", mean=0, sd=1)\n",
    "\n",
    "df_time = gr.df_grid()\n",
    "for i in range(df_base.shape[0]):\n",
    "    df_time = (\n",
    "        df_time\n",
    "        >> gr.tf_bind_rows(\n",
    "            gr.df_make(X=mg.r(50) + df_base.mu[i])\n",
    "        )\n",
    "    )\n",
    "# Randomly sort\n",
    "df_time = (\n",
    "    df_time\n",
    "    >> gr.tf_mutate(t=DF.index/gr.n(DF.index))\n",
    "    >> gr.tf_sample(frac=1)\n",
    ")\n"
   ]
  },
  {
   "cell_type": "markdown",
   "id": "26cda6ee",
   "metadata": {},
   "source": [
    "### __q2__ Create consecutive groups\n",
    "\n",
    "Use a mutate to create a column `id_seq` to group sequential observations.\n",
    "\n",
    "*Hint 1*: Remember that floor division `x // y` is one way to create sequential values.\n",
    "\n",
    "*Hint 2*: Remember that `DF.index` allows you to access the index of each row in a DataFrame.\n"
   ]
  },
  {
   "cell_type": "code",
   "execution_count": null,
   "id": "cb999438",
   "metadata": {},
   "outputs": [],
   "source": [
    "## TASK: Create a column `id_seq` to group sequential observations\n",
    "df_seq = (\n",
    "    df_time\n",
    "    ## TODO: Create an `id_seq` column to group sequential observations\n",
    "    \n",
    ")\n",
    "\n",
    "## NOTE: Use this to check your work\n",
    "assert \\\n",
    "    \"id_seq\" in df_seq.columns, \\\n",
    "    \"df_seq does not have a column `id_seq`\"\n",
    "\n",
    "print(\n",
    "    \"You grouped the observations into {0:} samples of size n_batch = {1:}\".format(\n",
    "        len(set(df_seq.id_seq)),\n",
    "        len(df_seq[df_seq.id_seq == df_seq.id_seq.values[0]]),\n",
    "    )\n",
    ")\n",
    "\n",
    "print(df_seq >> gr.tf_head(20))"
   ]
  },
  {
   "cell_type": "markdown",
   "id": "74fabda2",
   "metadata": {},
   "source": [
    "### __q3__ Batch by slices of time\n",
    "\n",
    "Sort the data by time `t`, then batch the observations into consecutive groups and construct a control chart. \n",
    "\n",
    "Make sure to *match* the batch size $n_{\\text{batch}}$ used in data collection.\n",
    "\n",
    "Answer the questions under *observations* below.\n"
   ]
  },
  {
   "cell_type": "code",
   "execution_count": null,
   "id": "8bf8e982",
   "metadata": {},
   "outputs": [],
   "source": [
    "%%capture --no-display\n",
    "## TODO: Arrange the dataset by time `t` and batch appropriately\n",
    "df_timebatch = (\n",
    "    df_time\n",
    "    \n",
    ")\n",
    "\n",
    "## NOTE: No need to edit; use this to check your work\n",
    "assert \\\n",
    "    \"id_seq\" in df_timebatch.columns, \\\n",
    "    \"df_timebatch does not have a column `id_seq`\"\n",
    "\n",
    "assert \\\n",
    "    len(df_timebatch[df_timebatch.id_seq == df_timebatch.id_seq.values[0]]) == 50, \\\n",
    "    \"You did not choose a batch size n_batch that matches the data collection\"\n",
    "    \n",
    "# Visualize\n",
    "(\n",
    "    df_timebatch\n",
    "    >> gr.pt_xbs(group=\"id_seq\", var=\"X\")\n",
    ")"
   ]
  },
  {
   "cell_type": "markdown",
   "id": "58e37448",
   "metadata": {},
   "source": [
    "*Observations*\n",
    "\n",
    "*Hint*: You will *not* see any patterns if you do not properly arrange the data.\n",
    "\n",
    "- Based on the batch size you chose, did you find any out-of-control patterns? Did it occur in the `Variability` or batch `Mean`?\n",
    "  - (Your response here)\n",
    "- If you answered \"yes\" to the previous question, does your group variable give you a meaningful way to determine what may have cause the out-of-control pattern?\n",
    "  - (Your response here)\n"
   ]
  },
  {
   "cell_type": "markdown",
   "id": "71ca7a30",
   "metadata": {},
   "source": [
    "## Naive consecutive rows\n",
    "\n",
    "What happens if we do not correctly arrange the rows? Then we lose all information about the time history of the data. The following plot shows what happens if we construct a control chart without respecting the time ordering of the data:"
   ]
  },
  {
   "cell_type": "code",
   "execution_count": null,
   "id": "113308e6",
   "metadata": {},
   "outputs": [],
   "source": [
    "%%capture --no-display\n",
    "## NOTE: No need to edit; run and inspect\n",
    "(\n",
    "    df_time\n",
    "    >> gr.tf_mutate(id_batch=DF.index // 50)\n",
    "    >> gr.pt_xbs(group=\"id_batch\", var=\"X\")\n",
    ")"
   ]
  },
  {
   "cell_type": "markdown",
   "id": "717f4062",
   "metadata": {},
   "source": [
    "Note that there are no patterns in this view of the data!\n"
   ]
  },
  {
   "cell_type": "markdown",
   "id": "70c23fc7",
   "metadata": {},
   "source": [
    "# Patterns to seek\n",
    "\n",
    "Kenett and Zacks (2014) highlight several patterns that can signal an out-of-control manufacturing process:\n",
    "\n",
    "> 1. A single point outside the control limits.\n",
    "> 2. A run of nine or more points in a row above (or below) the centerline.\n",
    "> 3. Six consecutive points increasing (trend up) or decreasing (trend down).\n",
    "\n",
    "The following cells simulate data to illustrate each of these patterns.\n"
   ]
  },
  {
   "cell_type": "markdown",
   "id": "01cc1b47",
   "metadata": {},
   "source": [
    "## Outside control limits"
   ]
  },
  {
   "cell_type": "code",
   "execution_count": null,
   "id": "1072b26c",
   "metadata": {
    "tags": []
   },
   "outputs": [],
   "source": [
    "%%capture --no-display\n",
    "## NOTE: No need to edit\n",
    "np.random.seed(101)\n",
    "\n",
    "n = 20\n",
    "mu = [0]*15 + [1]*1 + [0]*15 \n",
    "mg_standard = gr.marg_mom(\"norm\", mean=0, sd=0.5)\n",
    "\n",
    "df_outlier = gr.df_grid()\n",
    "for i, m in enumerate(mu):\n",
    "    df_outlier = (\n",
    "        df_outlier\n",
    "        >> gr.tf_bind_rows(gr.df_make(\n",
    "            X=mg_standard.r(n) + m\n",
    "        ))\n",
    "    )\n",
    "    \n",
    "(\n",
    "    df_outlier\n",
    "    >> gr.tf_mutate(idx=DF.index // n)\n",
    "    >> gr.pt_xbs(group=\"idx\", var=\"X\")\n",
    ")"
   ]
  },
  {
   "cell_type": "markdown",
   "id": "5ae268f0",
   "metadata": {},
   "source": [
    "## Variability out-of-control\n"
   ]
  },
  {
   "cell_type": "code",
   "execution_count": null,
   "id": "5eae2144",
   "metadata": {},
   "outputs": [],
   "source": [
    "%%capture --no-display\n",
    "## NOTE: No need to edit\n",
    "np.random.seed(101)\n",
    "\n",
    "n = 20\n",
    "mu = [0]*30\n",
    "mg_standard = gr.marg_mom(\"norm\", mean=0, sd=0.5)\n",
    "\n",
    "df_outlier = gr.df_grid()\n",
    "for i, m in enumerate(mu):\n",
    "    df_outlier = (\n",
    "        df_outlier\n",
    "        >> gr.tf_bind_rows(gr.df_make(\n",
    "            X=mg_standard.r(n) * (1 + (i == 20)) + m\n",
    "        ))\n",
    "    )\n",
    "    \n",
    "(\n",
    "    df_outlier\n",
    "    >> gr.tf_mutate(idx=DF.index // n)\n",
    "    >> gr.pt_xbs(group=\"idx\", var=\"X\")\n",
    ")"
   ]
  },
  {
   "cell_type": "markdown",
   "id": "6307ff4f",
   "metadata": {},
   "source": [
    "## Runs above center"
   ]
  },
  {
   "cell_type": "code",
   "execution_count": null,
   "id": "043dcc87",
   "metadata": {},
   "outputs": [],
   "source": [
    "%%capture --no-display\n",
    "## NOTE: No need to edit\n",
    "np.random.seed(101)\n",
    "\n",
    "n = 20\n",
    "mu = [0]*15 + [1]*10 + [0]*15 \n",
    "mg_standard = gr.marg_mom(\"norm\", mean=0, sd=2.0)\n",
    "\n",
    "df_above = gr.df_grid()\n",
    "for i, m in enumerate(mu):\n",
    "    df_above = (\n",
    "        df_above\n",
    "        >> gr.tf_bind_rows(gr.df_make(\n",
    "            X=mg_standard.r(n) + m\n",
    "        ))\n",
    "    )\n",
    "    \n",
    "(\n",
    "    df_above\n",
    "    >> gr.tf_mutate(idx=DF.index // n)\n",
    "    >> gr.pt_xbs(group=\"idx\", var=\"X\")\n",
    ")"
   ]
  },
  {
   "cell_type": "markdown",
   "id": "72b1f6f6",
   "metadata": {},
   "source": [
    "Note that none of the observations exceed the upper control limit (UCL), but a \"run\" of many (9 or more) observations above the centerline is highly unlikely to be due to chance alone. \n"
   ]
  },
  {
   "cell_type": "markdown",
   "id": "9ddd6f39",
   "metadata": {},
   "source": [
    "## Runs below center\n"
   ]
  },
  {
   "cell_type": "code",
   "execution_count": null,
   "id": "c6419216",
   "metadata": {},
   "outputs": [],
   "source": [
    "%%capture --no-display\n",
    "## NOTE: No need to edit\n",
    "np.random.seed(101)\n",
    "\n",
    "n = 20\n",
    "mu = [0]*15 + [-1]*10 + [0]*15 \n",
    "mg_standard = gr.marg_mom(\"norm\", mean=0, sd=2.0)\n",
    "\n",
    "df_below = gr.df_grid()\n",
    "for i, m in enumerate(mu):\n",
    "    df_below = (\n",
    "        df_below\n",
    "        >> gr.tf_bind_rows(gr.df_make(\n",
    "            X=mg_standard.r(n) + m\n",
    "        ))\n",
    "    )\n",
    "    \n",
    "(\n",
    "    df_below\n",
    "    >> gr.tf_mutate(idx=DF.index // n)\n",
    "    >> gr.pt_xbs(group=\"idx\", var=\"X\")\n",
    ")"
   ]
  },
  {
   "cell_type": "markdown",
   "id": "0a0db3c4",
   "metadata": {},
   "source": [
    "## Runs increasing\n"
   ]
  },
  {
   "cell_type": "code",
   "execution_count": null,
   "id": "4338d4f2",
   "metadata": {},
   "outputs": [],
   "source": [
    "%%capture --no-display\n",
    "## NOTE: No need to edit\n",
    "np.random.seed(101)\n",
    "\n",
    "n = 20\n",
    "mu = [0.5]*10 + list(gr.linspace(0, 1, 6)) + [0.5]*10\n",
    "mg_standard = gr.marg_mom(\"norm\", mean=0, sd=0.8)\n",
    "\n",
    "df_increase = gr.df_grid()\n",
    "for i, m in enumerate(mu):\n",
    "    df_increase = (\n",
    "        df_increase\n",
    "        >> gr.tf_bind_rows(gr.df_make(\n",
    "            X=mg_standard.r(n) + m\n",
    "        ))\n",
    "    )\n",
    "    \n",
    "(\n",
    "    df_increase\n",
    "    >> gr.tf_mutate(idx=DF.index // n)\n",
    "    >> gr.pt_xbs(group=\"idx\", var=\"X\")\n",
    ")"
   ]
  },
  {
   "cell_type": "markdown",
   "id": "44209398",
   "metadata": {},
   "source": [
    "## Runs decreasing\n"
   ]
  },
  {
   "cell_type": "code",
   "execution_count": null,
   "id": "fab085e5",
   "metadata": {},
   "outputs": [],
   "source": [
    "%%capture --no-display\n",
    "## NOTE: No need to edit\n",
    "np.random.seed(101)\n",
    "\n",
    "n = 20\n",
    "mu = [0.5]*10 + list(1 - gr.linspace(0, 1, 6)) + [0.5]*10\n",
    "mg_standard = gr.marg_mom(\"norm\", mean=0, sd=0.8)\n",
    "\n",
    "df_decrease = gr.df_grid()\n",
    "for i, m in enumerate(mu):\n",
    "    df_decrease = (\n",
    "        df_decrease\n",
    "        >> gr.tf_bind_rows(gr.df_make(\n",
    "            X=mg_standard.r(n) + m\n",
    "        ))\n",
    "    )\n",
    "    \n",
    "(\n",
    "    df_decrease\n",
    "    >> gr.tf_mutate(idx=DF.index // n)\n",
    "    >> gr.pt_xbs(group=\"idx\", var=\"X\")\n",
    ")"
   ]
  },
  {
   "cell_type": "markdown",
   "id": "8f3be1b1",
   "metadata": {},
   "source": [
    "# Warnings\n",
    "\n",
    "While we should be on the lookout for patterns in a control chart, we should balance this out with a healthy dose of skepticism. The following two examples demonstrate cases where we would see patterns in a control chart that have no real meaning.\n"
   ]
  },
  {
   "cell_type": "markdown",
   "id": "15a9135e",
   "metadata": {},
   "source": [
    "## Beware spurious patterns!\n",
    "\n",
    "Note that *false patterns* can still occur based on random events. These false patterns become more likely with smaller batch sizes. For instance, let's take a look at the completely random dataset from above, batched into tiny subgroups:\n"
   ]
  },
  {
   "cell_type": "code",
   "execution_count": null,
   "id": "fce8ff79",
   "metadata": {},
   "outputs": [],
   "source": [
    "%%capture --no-display\n",
    "## NOTE: No need to edit\n",
    "\n",
    "(\n",
    "    df_random \n",
    "    >> gr.tf_mutate(id_batch=DF.index // 2)\n",
    "    >> gr.pt_xbs(group=\"id_batch\", var=\"X\")\n",
    ")"
   ]
  },
  {
   "cell_type": "markdown",
   "id": "6cb167cf",
   "metadata": {},
   "source": [
    "Note that a variety of \"patterns\" are detected, but these cannot possibly be due to any assignable causes: The data are completely random by construction. Using a larger batch size helps to protect us against being mislead by random patterns, but keep in mind that false detections are always possible!\n"
   ]
  },
  {
   "cell_type": "markdown",
   "id": "9485bc22",
   "metadata": {},
   "source": [
    "## Beware meaningless order\n",
    "\n",
    "Patterns based on order (such as high/low or increasing/decreasing runs) are meaningless when order of the group variable has no meaning. For instance, we can reorder the machine identifiers in `df_machines` to artificially create an increasing run:\n"
   ]
  },
  {
   "cell_type": "code",
   "execution_count": null,
   "id": "9af4e847",
   "metadata": {},
   "outputs": [],
   "source": [
    "%%capture --no-display\n",
    "## NOTE: No need to edit\n",
    "(\n",
    "    df_machines\n",
    "    >> gr.tf_mutate(id_machine=gr.fct_reorder(DF.id_machine, DF.X, fun=gr.mean))\n",
    "    >> gr.pt_xbs(group=\"id_machine\", var=\"X\")\n",
    ")"
   ]
  },
  {
   "cell_type": "markdown",
   "id": "11a4c203",
   "metadata": {},
   "source": [
    "Here the batch means are increasing, but that is only because we ordered the machines by their batch mean!\n"
   ]
  },
  {
   "cell_type": "markdown",
   "id": "8f77e419",
   "metadata": {},
   "source": [
    "# Example: Cast Aluminum Dataset\n",
    "\n",
    "Let's take a closer look at the cast aluminum dataset using our new lense of control charts.\n"
   ]
  },
  {
   "cell_type": "code",
   "execution_count": null,
   "id": "a77a7182",
   "metadata": {},
   "outputs": [],
   "source": [
    "from grama.data import df_shewhart\n",
    "df_shewhart.head()"
   ]
  },
  {
   "cell_type": "markdown",
   "id": "ab494f6e",
   "metadata": {},
   "source": [
    "We might want to use this data to model these material properties are random, but before that we should ask: Is the manufacturing process generating these properties under statistical control?\n"
   ]
  },
  {
   "cell_type": "markdown",
   "id": "7985f899",
   "metadata": {},
   "source": [
    "### __q4__ Assess the `density`\n",
    "\n",
    "Assess the state of statistical control for the variable `density` using a control chart.\n",
    "\n",
    "Answer the questions under *observations* below.\n"
   ]
  },
  {
   "cell_type": "code",
   "execution_count": null,
   "id": "d4573608",
   "metadata": {},
   "outputs": [],
   "source": [
    "%%capture --no-display\n",
    "## TODO: Construct batches and make a control chart\n",
    "(\n",
    "    df_shewhart\n",
    "\n",
    ")\n"
   ]
  },
  {
   "cell_type": "markdown",
   "id": "18559d32",
   "metadata": {},
   "source": [
    "*Observations*\n",
    "\n",
    "- What *assumptions* did you have to make in order to construct rational batches?\n",
    "  - (Your response here)\n",
    "- Based on the batch size you chose, did you find any out-of-control patterns? Did it occur in the `Variability` or batch `Mean`?\n",
    "  - (Your response here)\n",
    "- If you answered \"yes\" to the previous question: Based on the batch size you chose, are those patterns likely to be spurious?\n",
    "  - (Your response here)\n",
    "- Is the `tensile_strength` likely to be under statistical control?\n",
    "  - (Your response here)\n"
   ]
  },
  {
   "cell_type": "markdown",
   "id": "87f0e167",
   "metadata": {},
   "source": [
    "### __q5__ Assess the `tensile_strength`\n",
    "\n",
    "Assess the state of statistical control for the variable `tensile_strength` using a control chart.\n",
    "\n",
    "Answer the questions under *observations* below.\n"
   ]
  },
  {
   "cell_type": "code",
   "execution_count": null,
   "id": "3248aef7",
   "metadata": {},
   "outputs": [],
   "source": [
    "%%capture --no-display\n",
    "## TODO: Construct batches and make a control chart\n",
    "(\n",
    "    df_shewhart\n",
    "\n",
    ")\n"
   ]
  },
  {
   "cell_type": "markdown",
   "id": "484e33c2",
   "metadata": {},
   "source": [
    "*Observations*\n",
    "\n",
    "- What *assumptions* did you have to make in order to construct rational batches?\n",
    "  - (Your response here)\n",
    "- Based on the batch size you chose, did you find any out-of-control patterns? Did it occur in the `Variability` or batch `Mean`?\n",
    "  - (Your response here)\n",
    "- If you answered \"yes\" to the previous question: Based on the batch size you chose, are those patterns likely to be spurious?\n",
    "  - (Your response here)\n",
    "- Is the `tensile_strength` likely to be under statistical control?\n",
    "  - (Your response here)\n"
   ]
  },
  {
   "cell_type": "markdown",
   "id": "ac9ecb4d",
   "metadata": {},
   "source": [
    "# References\n",
    "\n",
    "- Kenett and Zacks, *Modern Industrial Statistics*, 2nd Edition (2014)\n"
   ]
  }
 ],
 "metadata": {
  "kernelspec": {
   "display_name": "Python 3 (ipykernel)",
   "language": "python",
   "name": "python3"
  },
  "language_info": {
   "codemirror_mode": {
    "name": "ipython",
    "version": 3
   },
   "file_extension": ".py",
   "mimetype": "text/x-python",
   "name": "python",
   "nbconvert_exporter": "python",
   "pygments_lexer": "ipython3",
   "version": "3.9.7"
  }
 },
 "nbformat": 4,
 "nbformat_minor": 5
}
