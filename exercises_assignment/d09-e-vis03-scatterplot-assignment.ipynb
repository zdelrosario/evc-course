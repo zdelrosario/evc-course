{
 "cells": [
  {
   "cell_type": "markdown",
   "id": "e80b12c6",
   "metadata": {},
   "source": [
    "# Vis: Scatterplots and Layers\n",
    "\n",
    "*Purpose*: *Scatterplots* are a key tool for EDA. Scatteplots help us inspect the relationship between two variables. To enhance our scatterplots, we'll learn how to use *layers* in ggplot to add multiple pieces of information to our plots.\n"
   ]
  },
  {
   "cell_type": "markdown",
   "id": "1c817491",
   "metadata": {},
   "source": [
    "## Setup\n"
   ]
  },
  {
   "cell_type": "code",
   "execution_count": null,
   "id": "b319ee70",
   "metadata": {},
   "outputs": [],
   "source": [
    "import grama as gr\n",
    "DF = gr.Intention()\n",
    "%matplotlib inline"
   ]
  },
  {
   "cell_type": "markdown",
   "id": "2200cc00",
   "metadata": {},
   "source": [
    "We'll use the diamonds and mpg datasets in this exercise.\n"
   ]
  },
  {
   "cell_type": "code",
   "execution_count": null,
   "id": "5061e4b5",
   "metadata": {},
   "outputs": [],
   "source": [
    "from grama.data import df_diamonds\n",
    "from plotnine.data import mpg as df_mpg"
   ]
  },
  {
   "cell_type": "markdown",
   "id": "e8c735a0",
   "metadata": {},
   "source": [
    "# Introduction"
   ]
  },
  {
   "cell_type": "markdown",
   "id": "dab743c2",
   "metadata": {},
   "source": [
    "## Scatterplots\n",
    "\n",
    "So far, we have focused on studying one variable at a time using bars/columns:\n"
   ]
  },
  {
   "cell_type": "code",
   "execution_count": null,
   "id": "b7a1102b",
   "metadata": {},
   "outputs": [],
   "source": [
    "## NOTE: No need to edit\n",
    "(\n",
    "    df_diamonds\n",
    "    >> gr.ggplot(gr.aes(x=\"carat\"))\n",
    "    + gr.geom_histogram()\n",
    ")"
   ]
  },
  {
   "cell_type": "markdown",
   "id": "50443d03",
   "metadata": {},
   "source": [
    "This gives us a sense of how a *single* variable is distributed in a dataset, but it gives us no sense for how `carat` relates to other variables. \n",
    "\n",
    "A scatterplot helps us to see relationships between two variables. A scatterplot shows two variables on the `x` and `y` aesthetics, and visualizes observations using one point per observation. Thus, in ggplot, we use the geometry `gr.geom_point()` to construct a scatterplot.\n"
   ]
  },
  {
   "cell_type": "code",
   "execution_count": null,
   "id": "7b240846",
   "metadata": {},
   "outputs": [],
   "source": [
    "## NOTE: No need to edit\n",
    "(\n",
    "    df_diamonds\n",
    "    >> gr.ggplot(gr.aes(x=\"carat\", y=\"price\"))\n",
    "    + gr.geom_point()\n",
    ")"
   ]
  },
  {
   "cell_type": "markdown",
   "id": "240553ac",
   "metadata": {},
   "source": [
    "### __q1__ How do `price` and `carat` relate?\n",
    "\n",
    "Use the plot above to answer the questions under *Observations*.\n"
   ]
  },
  {
   "cell_type": "markdown",
   "id": "3df5e7ce",
   "metadata": {},
   "source": [
    "*Observations*\n",
    "\n",
    "- How does `price` tend to change as `carat` increases? Is this trend linear or nonlinear?\n",
    "  - (Your response here)\n",
    "- Consider diamonds with `carat == 2.0`. What range of `price` do you see for this kind of diamond? Is `carat` *alone* able to predict the `price` of a diamond?\n",
    "  - (Your response here)\n"
   ]
  },
  {
   "cell_type": "markdown",
   "id": "8fb53927",
   "metadata": {},
   "source": [
    "### Overplotting\n",
    "\n",
    "With larger datasets, it is possible for many observations to \"land\" in the same `x, y` location on a scatterplot. For instance, with the following (silly) dataset, we get the false impression that there are only two points:\n"
   ]
  },
  {
   "cell_type": "code",
   "execution_count": null,
   "id": "67f9751a",
   "metadata": {},
   "outputs": [],
   "source": [
    "## NOTE: No need to edit\n",
    "(\n",
    "    gr.df_make(\n",
    "        x=[0,0,0,0,1],\n",
    "        y=[1,1,1,1,0],\n",
    "    )\n",
    "    \n",
    "    >> gr.ggplot(gr.aes(x=\"x\", y=\"y\"))\n",
    "    + gr.geom_point()\n",
    ")"
   ]
  },
  {
   "cell_type": "markdown",
   "id": "ecda351f",
   "metadata": {},
   "source": [
    "There are various ways to visually indicate the *number* of observations at each point; a simple way is to use size to denote count, as with `gr.geom_count()`."
   ]
  },
  {
   "cell_type": "code",
   "execution_count": null,
   "id": "bca982e7",
   "metadata": {},
   "outputs": [],
   "source": [
    "## NOTE: No need to edit\n",
    "(\n",
    "    gr.df_make(\n",
    "        x=[0,0,0,0,1],\n",
    "        y=[1,1,1,1,0],\n",
    "    )\n",
    "    \n",
    "    >> gr.ggplot(gr.aes(x=\"x\", y=\"y\"))\n",
    "    + gr.geom_count()\n",
    ")"
   ]
  },
  {
   "cell_type": "markdown",
   "id": "1069d24d",
   "metadata": {},
   "source": [
    "### __q2__ Use `gr.geom_count()`\n",
    "\n",
    "Replace `gr.geom_point()` with `gr.geom_count()` in the following plot. Answer the questions under *observations* below.\n"
   ]
  },
  {
   "cell_type": "code",
   "execution_count": null,
   "id": "cf34726f",
   "metadata": {},
   "outputs": [],
   "source": [
    "## TASK: Replace gr.geom_point() with gr.geom_count()\n",
    "(\n",
    "    df_mpg\n",
    "    >> gr.ggplot(gr.aes(x=\"displ\", y=\"hwy\"))\n",
    "    + gr.geom_point()\n",
    "\n",
    ")"
   ]
  },
  {
   "cell_type": "markdown",
   "id": "23fce9fb",
   "metadata": {},
   "source": [
    "*Observations*\n",
    "\n",
    "- With `gr.geom_point()`, how evenly spread do the observations seem to be?\n",
    "  - (Your response here)\n",
    "- With `gr.geom_count()`, how evenly spread do the observations seem to be?\n",
    "  - (Your response here)\n",
    "- What does `gr.geom_point()` hide in this case?\n",
    "  - (Your response here)\n"
   ]
  },
  {
   "cell_type": "markdown",
   "id": "d8b2b866",
   "metadata": {},
   "source": [
    "To deal with overplotting, we can also make points *transparent*. Then overlapping points will tend to appear darker, giving us the means to see where there are more points.\n"
   ]
  },
  {
   "cell_type": "markdown",
   "id": "067be2aa",
   "metadata": {},
   "source": [
    "### __q3__ Use the `alpha` option\n",
    "\n",
    "Adjust the `alpha` option in `gr.geom_point()` to better understand where observations concentrate. Answer the questions under *observations* below.\n"
   ]
  },
  {
   "cell_type": "code",
   "execution_count": null,
   "id": "e26f5e1a",
   "metadata": {},
   "outputs": [],
   "source": [
    "(\n",
    "    df_diamonds\n",
    "    >> gr.ggplot(gr.aes(x=\"carat\", y=\"price\"))\n",
    "    + gr.geom_point(\n",
    "        # alpha=1.0,\n",
    "\n",
    "        alpha=1/10,\n",
    "    )\n",
    ")"
   ]
  },
  {
   "cell_type": "markdown",
   "id": "33ccec07",
   "metadata": {},
   "source": [
    "*Observations*\n",
    "\n",
    "- Do observations tend to concentrate at \"special\" values? If yes, do they concentrate at values in `carat`, in `price` or in both?\n",
    "  - (Your response here)\n"
   ]
  },
  {
   "cell_type": "markdown",
   "id": "09f4bf22",
   "metadata": {},
   "source": [
    "## *Layers* in ggplot\n",
    "\n",
    "Now is a great time to learn some of the more powerful features of ggplot. We'll take advantage of the *layer* functionality to construct more informative plots.\n"
   ]
  },
  {
   "cell_type": "markdown",
   "id": "e562d71f",
   "metadata": {},
   "source": [
    "### Default aesthetic order\n",
    "\n",
    "So far, we have specified the aesthetic names explicitly in `gr.aes()` with calls like `gr.aes(x=\"carat\", y=\"price\")`. However, we can save ourselves a bit of typing by using the *order* of the arguments. The default order of arguments in `gr.aes()` is `x, y`. \n",
    "\n",
    "Thus, we can re-write the following:\n",
    "\n",
    "```python\n",
    "(\n",
    "    df_data\n",
    "    >> gr.ggplot(gr.aes(x=\"var1\", y=\"var2\"))\n",
    "    + gr.geom_point()\n",
    ")\n",
    "```\n",
    "\n",
    "With slightly shorter code:\n",
    "\n",
    "```python\n",
    "(\n",
    "    df_data\n",
    "    ## NOTE: The `x=` and `y=` are dropped\n",
    "    >> gr.ggplot(gr.aes(\"var1\", \"var2\"))\n",
    "    + gr.geom_point()\n",
    ")\n",
    "```\n"
   ]
  },
  {
   "cell_type": "markdown",
   "id": "84d34700",
   "metadata": {},
   "source": [
    "### __q4__ Use the default order\n",
    "\n",
    "Re-write the following code to use the default `x,y` order in `gr.aes()`.\n"
   ]
  },
  {
   "cell_type": "code",
   "execution_count": null,
   "id": "c3aa5360",
   "metadata": {},
   "outputs": [],
   "source": [
    "## TASK: Re-write this code to use the default order\n",
    "(\n",
    "    df_diamonds\n",
    "    >> gr.ggplot(gr.aes(\n",
    "        ## TODO: Re-write to use the default order\n",
    "        # x=\"carat\",\n",
    "        # y=\"price\",\n",
    "\n",
    "    ))\n",
    "    + gr.geom_point()\n",
    ")"
   ]
  },
  {
   "cell_type": "markdown",
   "id": "f8bf1f9a",
   "metadata": {},
   "source": [
    "### Default data\n",
    "\n",
    "Every geometry in a ggplot object also takes a `data` argument. By default all geometries visualize the same dataset, but we can override that default with the `data` argument. This is helpful if we want to highlight particular observations; for instance, the code below highlights all diamonds that have `carat == 1.0`.\n"
   ]
  },
  {
   "cell_type": "code",
   "execution_count": null,
   "id": "8f66e706",
   "metadata": {},
   "outputs": [],
   "source": [
    "## NOTE: No need to edit\n",
    "(\n",
    "    df_diamonds\n",
    "    >> gr.ggplot(gr.aes(\"carat\", \"price\"))\n",
    "    + gr.geom_point()\n",
    "    + gr.geom_point(\n",
    "        ## NOTE: This overrides the data to plot\n",
    "        data=df_diamonds\n",
    "        >> gr.tf_filter(DF.carat == 1.0),\n",
    "        color=\"red\",\n",
    "    )\n",
    ")"
   ]
  },
  {
   "cell_type": "markdown",
   "id": "1fea0820",
   "metadata": {},
   "source": [
    "This is made even more flexible when we combine data operations such as a summary; the following plot shows highway fuel economy against engine displacement for a variety of car classes, but also shows the *mean* performance within each group as a larger dot:\n"
   ]
  },
  {
   "cell_type": "code",
   "execution_count": null,
   "id": "1feeed0a",
   "metadata": {},
   "outputs": [],
   "source": [
    "## NOTE: No need to edit\n",
    "(\n",
    "    df_mpg\n",
    "    >> gr.ggplot(gr.aes(\"displ\", \"hwy\", color=\"class\"))\n",
    "    + gr.geom_point(\n",
    "        data=df_mpg\n",
    "        >> gr.tf_group_by(\"class\")\n",
    "        >> gr.tf_summarize(displ=gr.mean(DF.displ), hwy=gr.mean(DF.hwy)),\n",
    "        size=10,\n",
    "        alpha=1/2,\n",
    "    )\n",
    "    + gr.geom_point()\n",
    ")"
   ]
  },
  {
   "cell_type": "markdown",
   "id": "d25b8551",
   "metadata": {},
   "source": [
    "Such a plot helps us to compare both typical (mean) behavior and variation in the same plot.\n"
   ]
  },
  {
   "cell_type": "markdown",
   "id": "5dd5ca94",
   "metadata": {},
   "source": [
    "### Layer Order\n",
    "\n",
    "The order in which you add geometries to a ggplot is the order in which they are drawn. You can use this to \"stack\" visual elements in a desirable order.\n",
    "\n",
    "For instance; here's the same diamonds plot from above with `carat == 1.0` highlighted, but with the order of the layers reverse.\n"
   ]
  },
  {
   "cell_type": "code",
   "execution_count": null,
   "id": "ce1cb1bc",
   "metadata": {},
   "outputs": [],
   "source": [
    "## NOTE: No need to edit\n",
    "(\n",
    "    df_diamonds\n",
    "    >> gr.ggplot(gr.aes(\"carat\", \"price\"))\n",
    "    + gr.geom_point(\n",
    "        data=df_diamonds\n",
    "        >> gr.tf_filter(DF.carat == 1.0),\n",
    "        color=\"red\",\n",
    "    )\n",
    "    ## NOTE: The full dataset comes last\n",
    "    + gr.geom_point()\n",
    ")"
   ]
  },
  {
   "cell_type": "markdown",
   "id": "97a07093",
   "metadata": {},
   "source": [
    "Note that we cannot see the additional layer at all! Overplotting is preventing us from seeing the lower layer. As before, we could use `alpha` to make more of the plot visible."
   ]
  },
  {
   "cell_type": "code",
   "execution_count": null,
   "id": "e5c6bba7",
   "metadata": {},
   "outputs": [],
   "source": [
    "## NOTE: No need to edit\n",
    "(\n",
    "    df_diamonds\n",
    "    >> gr.ggplot(gr.aes(\"carat\", \"price\"))\n",
    "    + gr.geom_point(\n",
    "        data=df_diamonds\n",
    "        >> gr.tf_filter(DF.carat == 1.0),\n",
    "        color=\"red\",\n",
    "    )\n",
    "    ## NOTE: The full dataset comes last\n",
    "    + gr.geom_point(alpha=1/20)\n",
    ")"
   ]
  },
  {
   "cell_type": "markdown",
   "id": "48d56d57",
   "metadata": {},
   "source": [
    "An even more effective use of this functionality is to use layers to *highlight* particular observations; for instance, some of the more extreme cases in the dataset:\n"
   ]
  },
  {
   "cell_type": "code",
   "execution_count": null,
   "id": "a30dc154",
   "metadata": {},
   "outputs": [],
   "source": [
    "## NOTE: No need to edit\n",
    "(\n",
    "    df_diamonds\n",
    "    >> gr.ggplot(gr.aes(\"carat\", \"price\"))\n",
    "    + gr.geom_point(\n",
    "        data=df_diamonds\n",
    "        >> gr.tf_filter(DF.carat > 4),\n",
    "        color=\"red\",\n",
    "        size=1.5,\n",
    "    )\n",
    "    ## NOTE: The full dataset comes last\n",
    "    + gr.geom_point(size=0.5)\n",
    ")"
   ]
  },
  {
   "cell_type": "markdown",
   "id": "07bdf04e",
   "metadata": {},
   "source": [
    "By slightly oversizing the lower-layer, we effectively add a \"highlight\" to our selected points."
   ]
  },
  {
   "cell_type": "markdown",
   "id": "b594b31e",
   "metadata": {},
   "source": [
    "### Scales\n",
    "\n",
    "One more layer option; by default ggplot maps the `x, y` scales to values *linearly*, but we can apply *transforms* to the scales to aid in visualization. For instance, we can transform the horizontal axis to use a `log10()` transform using `gr.scale_x_log10()`.\n"
   ]
  },
  {
   "cell_type": "code",
   "execution_count": null,
   "id": "d4ecff02",
   "metadata": {},
   "outputs": [],
   "source": [
    "## NOTE: No need to edit; run and inspect\n",
    "(\n",
    "    df_diamonds\n",
    "    >> gr.ggplot(gr.aes(\"carat\"))\n",
    "    + gr.geom_histogram()\n",
    "    + gr.scale_x_log10(bins=60)\n",
    ")"
   ]
  },
  {
   "cell_type": "markdown",
   "id": "29e2a317",
   "metadata": {},
   "source": [
    "Note that the linear scaling led to bars being \"squished\" at lower values; a log transformation better \"spreads out\" the data.\n",
    "\n",
    "```{admonition} Rule of thumb: Use a log-scale when values vary over multiple order-of-magnitude\n",
    "There is a bit of artistry to deciding when to log transform (or not). A good rule-of-thumb is to log-transform a variable when it varies over multiple order of magnitude. \n",
    "\n",
    "However, it's also a good idea to simply \"play\" with different visuals to see what works for your dataset.\n",
    "```\n"
   ]
  },
  {
   "cell_type": "markdown",
   "id": "45f9e2f2",
   "metadata": {},
   "source": [
    "### __q5__ Apply log10 scales to both axes\n",
    "\n",
    "Apply a `log10()` transform to *both* the `x` and `y` axes. \n",
    "\n",
    "*Hint*: If `gr.scale_x_log10()` transforms the `x` axis, what might transform the `y` axis?\n"
   ]
  },
  {
   "cell_type": "code",
   "execution_count": null,
   "id": "5d795c60",
   "metadata": {},
   "outputs": [],
   "source": [
    "(\n",
    "    df_diamonds\n",
    "    >> gr.ggplot(gr.aes(\"carat\", \"price\"))\n",
    "    + gr.geom_point(alpha=1/10)\n",
    "\n",
    ")"
   ]
  },
  {
   "cell_type": "markdown",
   "id": "eb85aa3a",
   "metadata": {},
   "source": [
    "# Exercises\n"
   ]
  },
  {
   "cell_type": "markdown",
   "id": "dd29ce92",
   "metadata": {},
   "source": [
    "### __q6__ Interpret this plot\n",
    "\n",
    "Inspect the following plot, and answer the questions under *observations* below.\n"
   ]
  },
  {
   "cell_type": "code",
   "execution_count": null,
   "id": "50017b3d",
   "metadata": {},
   "outputs": [],
   "source": [
    "## TASK: No need to edit; run and inspect this plot\n",
    "(\n",
    "    df_mpg\n",
    "    >> gr.tf_pivot_longer(\n",
    "        columns=[\"cty\", \"hwy\"],\n",
    "        names_to=\"type\",\n",
    "        values_to=\"economy\",\n",
    "    )\n",
    "    >> gr.ggplot(gr.aes(\"displ\", \"economy\", color=\"type\"))\n",
    "    + gr.geom_count()\n",
    ")"
   ]
  },
  {
   "cell_type": "markdown",
   "id": "d434f8d6",
   "metadata": {},
   "source": [
    "*Observations*\n",
    "\n",
    "- Which `displ` values tend to have a higher fuel `economy`?\n",
    "  - (Your response here)\n",
    "- Which tends to be higher: `cty` or `hwy` fuel `economy`?\n",
    "  - (Your response here)\n",
    "- Are there any vehicles that get a `cty` fuel `economy` that is higher than another vehicle's `hwy` fuel `economy`?\n",
    "  - (Your response here)\n",
    "- From this plot, can we tell whether any *single* vehicle has its `cty` value higher than its `hwy` value?\n",
    "  - (Your response here)\n"
   ]
  },
  {
   "cell_type": "markdown",
   "id": "fb32f0fa",
   "metadata": {},
   "source": [
    "### __q7__ Interpret this plot\n",
    "\n",
    "Inspect the following plot, and answer the questions under *observations* below.\n"
   ]
  },
  {
   "cell_type": "code",
   "execution_count": null,
   "id": "34671ee8",
   "metadata": {},
   "outputs": [],
   "source": [
    "## TASK: No need to edit; run and inspect this plot\n",
    "(\n",
    "    df_mpg\n",
    "    >> gr.ggplot(gr.aes(\"cty\", \"hwy\"))\n",
    "    + gr.geom_abline(intercept=0, slope=1, linetype=\"dashed\")\n",
    "    + gr.geom_count()\n",
    ")"
   ]
  },
  {
   "cell_type": "markdown",
   "id": "6b17ab19",
   "metadata": {},
   "source": [
    "*Observations*\n",
    "\n",
    "*Note*: The dashed line above shows the line of `y == x`.\n",
    "\n",
    "- From this plot, can we tell whether any *single* vehicle has its `cty` value higher than its `hwy` value?\n",
    "  - (Your response here)\n"
   ]
  }
 ],
 "metadata": {
  "kernelspec": {
   "display_name": "Python 3 (ipykernel)",
   "language": "python",
   "name": "python3"
  },
  "language_info": {
   "codemirror_mode": {
    "name": "ipython",
    "version": 3
   },
   "file_extension": ".py",
   "mimetype": "text/x-python",
   "name": "python",
   "nbconvert_exporter": "python",
   "pygments_lexer": "ipython3",
   "version": "3.9.7"
  }
 },
 "nbformat": 4,
 "nbformat_minor": 5
}
