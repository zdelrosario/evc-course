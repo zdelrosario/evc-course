{
 "cells": [
  {
   "cell_type": "markdown",
   "id": "45f5e21b",
   "metadata": {},
   "source": [
    "# Grama: Exploratory Model Analysis\n",
    "\n",
    "*Purpose*: Once we've built a grama model, we can use a variety of tools to *make sense* of the model. However, as we saw with exploratory data analysis (EDA), we need both tools and a *mindset* to make sense of data. This exercise is about an analogous approach to sense-making with models: *exploratory model analysis* (EMA).\n"
   ]
  },
  {
   "cell_type": "markdown",
   "id": "87ba37cc",
   "metadata": {
    "jp-MarkdownHeadingCollapsed": true,
    "tags": []
   },
   "source": [
    "## Core Idea: Curiosity and Skepticism\n",
    "\n",
    "Remember the core principles of EDA:\n",
    "\n",
    "1. Curiosity: Generate lots of ideas and hypotheses about your data.\n",
    "2. Skepticism: Remain unconvinced of those ideas, unless you can find credible patterns to support them.\n",
    "\n",
    "We can apply these same principles when studying a model; a process called *exploratory model analysis*. However, when studying a model, we have the means to more immediately test our hypotheses: We can *evaluate* the model to generate new data as we're carrying out our exploration!\n",
    "\n",
    "These ideas can be a little abstract, so let's illustrate them with a concrete example.\n"
   ]
  },
  {
   "cell_type": "markdown",
   "id": "09eb8770",
   "metadata": {},
   "source": [
    "## Setup\n"
   ]
  },
  {
   "cell_type": "code",
   "execution_count": null,
   "id": "7d3a876f",
   "metadata": {},
   "outputs": [],
   "source": [
    "import grama as gr\n",
    "import pandas as pd\n",
    "DF = gr.Intention()\n",
    "%matplotlib inline"
   ]
  },
  {
   "cell_type": "markdown",
   "id": "1eca36ce",
   "metadata": {},
   "source": [
    "## Running Example: Circuit model\n",
    "\n",
    "The following code initializes a model for a [parallel RLC circuit](https://en.wikipedia.org/wiki/RLC_circuit#Parallel_circuit). I'm not expecting you to know any circuit theory; in fact, I chose this model because you're unlikely to know much about this system. We will use exploratory model analysis techniques to learn something about this model.\n"
   ]
  },
  {
   "cell_type": "code",
   "execution_count": null,
   "id": "c373778e",
   "metadata": {},
   "outputs": [],
   "source": [
    "from grama.models import make_prlc_rand\n",
    "md_circuit = make_prlc_rand()"
   ]
  },
  {
   "cell_type": "markdown",
   "id": "3e1d0a49",
   "metadata": {},
   "source": [
    "# Basic Facts\n",
    "\n",
    "Before we start exploring a model, we should first understand the basic facts about that model. This is most easily done in grama by printing the model's summary:\n"
   ]
  },
  {
   "cell_type": "markdown",
   "id": "e02f7ab7",
   "metadata": {},
   "source": [
    "### __qX__ Model summary\n",
    "\n",
    "Print the model summary for `md_circuit`. Answer the questions under *observations* below.\n"
   ]
  },
  {
   "cell_type": "code",
   "execution_count": null,
   "id": "d8958f8c",
   "metadata": {},
   "outputs": [],
   "source": []
  },
  {
   "cell_type": "markdown",
   "id": "7037b464",
   "metadata": {},
   "source": [
    "*Observations*\n",
    "\n",
    "- Compare the variability (measured by standard deviation) of the three random variables. Which is most variable?\n",
    "  - (Your response here)\n"
   ]
  },
  {
   "cell_type": "markdown",
   "id": "f410e79a",
   "metadata": {},
   "source": [
    "## Model context\n",
    "\n",
    "The symbols above don't tell us anything about what the model quantities *mean*. Here are some basic facts on the quantities in the model\n",
    "\n",
    "| Variable | I/O | Description |\n",
    "|---|---|---|\n",
    "| `L` | Input | Nominal inductance |\n",
    "| `R` | Input | Nominal resistance |\n",
    "| `C` | Input | Nominal capacitance |\n",
    "| `dL` | Input | Percent error on inductance |\n",
    "| `dR` | Input | Percent error on resistance |\n",
    "| `dC` | Input | Percent error on capacitance |\n",
    "| `omega0` | Output | Natural frequency |\n",
    "| `Q` | Output | Quality factor |\n",
    "\n",
    "The deterministic variables `L, R, C` are the *designed* component values; these are selected by a circuit designer to achieve a desired performance. \n",
    "\n",
    "The random variables `dL, dR, dC` are *perturbations* to the designed component values. These random perturbations model the variability we would see in production, as manufactured components exhibit real variability.\n",
    "\n",
    "The output `omega0` is the natural frequency; depending on the use-case, a designer would want to achieve a particular `omega0`. Thus having `omega0` lie close to some target value is desirable.\n",
    "\n",
    "The output `Q` is the quality factor; a larger `Q` corresponds to a more \"selective\" circuit. Put differently, a higher `Q` helps the circuit reject unwanted signals.\n"
   ]
  },
  {
   "cell_type": "markdown",
   "id": "b40052d9",
   "metadata": {},
   "source": [
    "# Inputs\n",
    "\n",
    "First, let's get a sense for how the inputs of the model vary.\n"
   ]
  },
  {
   "cell_type": "markdown",
   "id": "0d90713d",
   "metadata": {
    "tags": []
   },
   "source": [
    "### __qX__ Overview of inputs\n",
    "\n",
    "Generate a random sample from the model at its nominal deterministic values, and visualize all of the random **inputs**. Answer the questions under *observations* below.\n",
    "\n",
    "*Hint*: You should be using `gr.ev_sample()` for this task. A particular keyword argument with `gr.ev_sample()` will allow you to generate the appropriate plot using `gr.pt_auto()`.\n"
   ]
  },
  {
   "cell_type": "code",
   "execution_count": null,
   "id": "3634427d",
   "metadata": {},
   "outputs": [],
   "source": [
    "(\n",
    "    md_circuit\n",
    "\n",
    ")"
   ]
  },
  {
   "cell_type": "markdown",
   "id": "717fa78f",
   "metadata": {},
   "source": [
    "*Observations*\n",
    "\n",
    "*Note*: If you can't reliably make out the shapes of the distributions, try increasing `n`.\n",
    "\n",
    "- What shape of distribution does each random input have?\n",
    "  - (Your response here)\n",
    "- What kind of dependency do the random inputs exhibit?\n",
    "  - (Your response here)\n"
   ]
  },
  {
   "cell_type": "markdown",
   "id": "b19b3574",
   "metadata": {},
   "source": [
    "## Hypothesis: Same Variability\n",
    "\n",
    "> Since the random perturbations `dL, dR, dC` are mutually independent, we should see the same variability regardless of the circuit component values.\n",
    "\n",
    "You'll assess this hypothesis in the next task.\n"
   ]
  },
  {
   "cell_type": "markdown",
   "id": "56e781c7",
   "metadata": {},
   "source": [
    "### __qX__ Compare designed and realized values\n",
    "\n",
    "The following plot shows the designed and realized capacitance values. Answer the questions under *observations* below.\n",
    "\n",
    "*Hint*: Remember that you can add `gr.scale_x_log10()` and `gr.scale_y_log10()` to a ggplot to change to a log-log scale.\n"
   ]
  },
  {
   "cell_type": "code",
   "execution_count": null,
   "id": "fe5342c3",
   "metadata": {},
   "outputs": [],
   "source": [
    "# TASK: Inspect the following plot\n",
    "(\n",
    "    # NOTE: No need to edit this part of the code\n",
    "    md_circuit\n",
    "    >> gr.ev_sample(\n",
    "        n=20,\n",
    "        df_det=gr.df_make(\n",
    "            R=1e-1,\n",
    "            L=1e-5,\n",
    "            C=gr.logspace(-3, 2, 20)\n",
    "        )\n",
    "    )\n",
    "    # Visualize\n",
    "    >> gr.ggplot(gr.aes(\"C\", \"Cr\"))\n",
    "    + gr.geom_point()\n",
    "\n",
    ")"
   ]
  },
  {
   "cell_type": "markdown",
   "id": "426a2553",
   "metadata": {},
   "source": [
    "*Observations*\n",
    "\n",
    "- Consider the hypothesis `we should see the same variability regardless of the circuit component values`. Is this hypothesis true?\n",
    "  - (Your response here)\n"
   ]
  },
  {
   "cell_type": "markdown",
   "id": "c1158f20",
   "metadata": {},
   "source": [
    "# Outputs\n",
    "\n",
    "Next, we'll study the outputs of the model \"on their own\"; that is, we're not yet going to look at the input-to-output relationships.\n"
   ]
  },
  {
   "cell_type": "markdown",
   "id": "10027d87",
   "metadata": {},
   "source": [
    "### __qX__ Nominal outputs\n",
    "\n",
    "Evaluate the model at its nominal input values.\n"
   ]
  },
  {
   "cell_type": "code",
   "execution_count": null,
   "id": "c481551b",
   "metadata": {},
   "outputs": [],
   "source": [
    "## TODO: Evaluate the model at its nominal input values\n",
    "df_nominal = (\n",
    "    md_circuit\n",
    "\n",
    ")\n",
    "\n",
    "# NOTE: Use this to check your work\n",
    "assert \\\n",
    "    isinstance(df_nominal, pd.DataFrame), \\\n",
    "    \"df_nominal is not a DataFrame; did you evaluate the model?\"\n",
    "\n",
    "df_nominal"
   ]
  },
  {
   "cell_type": "markdown",
   "id": "b0ba2844",
   "metadata": {},
   "source": [
    "### __qX__ Overview of outputs\n",
    "\n",
    "Generate a random sample from the model at its nominal deterministic values, and visualize the distribution of **outputs**. Answer the questions under *observations* below.\n",
    "\n",
    "*Hint*: This is a lot like __qX__ Overview of inputs. You should only need to use `gr.ev_sample()` and `gr.pt_auto()`.\n"
   ]
  },
  {
   "cell_type": "code",
   "execution_count": null,
   "id": "dde3c76a",
   "metadata": {},
   "outputs": [],
   "source": [
    "(\n",
    "    md_circuit\n",
    "    ## TODO: Generate a random sample from the model, and visualize the\n",
    "    ## **output** distributions.\n",
    "\n",
    ")"
   ]
  },
  {
   "cell_type": "markdown",
   "id": "10277a04",
   "metadata": {},
   "source": [
    "*Observations*\n",
    "\n",
    "*Note*: If you can't reliably make out the shapes of the distributions, try increasing `n`.\n",
    "\n",
    "- What distribution shapes do the realized component values `Lr, Rr, Cr` have?\n",
    "  - (Your response here)\n",
    "- What distribution shape does the output `Q` have?\n",
    "  - (Your response here)\n",
    "- What distribution shape does the output `omega0` have?\n",
    "  - (Your response here)\n"
   ]
  },
  {
   "cell_type": "markdown",
   "id": "5fbbab61",
   "metadata": {},
   "source": [
    "## Hypothesis: Nominal Outputs are Likely Outputs\n",
    "\n",
    "Here's something we might intuitively expect:\n",
    "\n",
    "> The nominal model outputs should be more likely output values.\n",
    "\n",
    "You'll assess this hypothesis multiple different ways in the following tasks.\n"
   ]
  },
  {
   "cell_type": "markdown",
   "id": "d8e569cb",
   "metadata": {},
   "source": [
    "### __qX__ Compare distribution and nominal values for `omega0`\n",
    "\n",
    "Create a plot that visualizes both a distribution of `omega0` and the nominal output value of `omega0`. Answer the questions under *observations* below.\n",
    "\n",
    "*Hint*: One good way to do this is with a histogram and a vertical line.\n"
   ]
  },
  {
   "cell_type": "code",
   "execution_count": null,
   "id": "8baf3db5",
   "metadata": {},
   "outputs": [],
   "source": [
    "(\n",
    "    md_circuit\n",
    "    >> gr.ev_sample(n=1e4, df_det=\"nom\")\n",
    "\n",
    ")"
   ]
  },
  {
   "cell_type": "markdown",
   "id": "b372e8c0",
   "metadata": {},
   "source": [
    "*Observations*\n",
    "\n",
    "- How does the hypothesis `The nominal model outputs should be more likely output values` hold up for `omega0`?\n",
    "  - (Your response here)\n"
   ]
  },
  {
   "cell_type": "markdown",
   "id": "56ce1531",
   "metadata": {},
   "source": [
    "### __qX__ Density of outputs\n",
    "\n",
    "Visualize a random sample of `Q` and `omega0` with a 2d bin plot. Increase the sample size `n` to get a \"full\" plot. Answer the questions under *observations* below.\n"
   ]
  },
  {
   "cell_type": "code",
   "execution_count": null,
   "id": "40bff69d",
   "metadata": {},
   "outputs": [],
   "source": [
    "(\n",
    "    md_circuit\n",
    "#     >> gr.ev_sample(n=???, df_det=\"nom\")\n",
    "\n",
    ")"
   ]
  },
  {
   "cell_type": "markdown",
   "id": "18a4ec27",
   "metadata": {},
   "source": [
    "*Observations*\n",
    "\n",
    "- Briefly describe the distribution of realized performance (values of `Q` and `omega0`).\n",
    "  - (Your response here)\n"
   ]
  },
  {
   "cell_type": "markdown",
   "id": "b59b84fc",
   "metadata": {},
   "source": [
    "### __qX__ Compare nominal with distribution\n",
    "\n",
    "Add a point for the nominal output values to the following plot. Answer the questions under *observations* below.\n"
   ]
  },
  {
   "cell_type": "code",
   "execution_count": null,
   "id": "2756bef4",
   "metadata": {},
   "outputs": [],
   "source": [
    "## NOTE: You don't need to touch most of this code; \n",
    "## just the line indicated below\n",
    "(\n",
    "    md_circuit\n",
    "    >> gr.ev_sample(n=1e4, df_det=\"nom\")\n",
    "    \n",
    "    >> gr.ggplot(gr.aes(\"Q\", \"omega0\"))\n",
    "    + gr.geom_bin2d()\n",
    "    + gr.geom_point(\n",
    "        # Use the `data` argument to add a geometry for\n",
    "        # the output value associated with nominal input values\n",
    "\n",
    "        color=\"salmon\",\n",
    "        size=4,\n",
    "    )\n",
    ")"
   ]
  },
  {
   "cell_type": "markdown",
   "id": "54b9992c",
   "metadata": {},
   "source": [
    "*Observations*\n",
    "\n",
    "The nominal design (red point) represents the predicted performance if we assume the nominal circuit component values. \n",
    "\n",
    "- How does the distribution of real circuit performance (values of `Q`, `omega0`) compare with the nominal performance?\n",
    "  - (Your response here)\n",
    "- Is the most likely performance (values of `Q`, `omega0`) the same as the nominal performance? (\"Most likely\" is where `count` is the largest.)\n",
    "  - (Your response here)\n",
    "- Assume that another system depends on the particular values of `Q` and `omega0` provided by this system. Would it be safe to assume the performance is within 1% of the nominal performance?\n",
    "  - (Your response here)\n"
   ]
  },
  {
   "cell_type": "markdown",
   "id": "3e39eb69",
   "metadata": {},
   "source": [
    "# Input-to-output Relationships\n",
    "\n",
    "Now that we have a sense of both the inputs and outputs of the model, let's do some exploration to see how the two are related.\n"
   ]
  },
  {
   "cell_type": "markdown",
   "id": "7d57b5a9",
   "metadata": {},
   "source": [
    "### __qX__ Correlation tile plot\n",
    "\n",
    "Use the routine `tf_iocorr()` to transform the data from `ev_sample()` into input-to-output correlations. The `pt_auto()` routine will automatically plot those correlations as colors on a tile plot. Study the correlation tile plot, and answer the questions under *observations* below.\n",
    "\n",
    "*Note*: You're going to see a *ton* of warnings when you run `tf_iocorr()` on the data; you'll think about what those mean in the questions below.\n"
   ]
  },
  {
   "cell_type": "code",
   "execution_count": null,
   "id": "5eefb10e",
   "metadata": {},
   "outputs": [],
   "source": [
    "(\n",
    "    ## NOTE: No need to edit the call to ev_sample()\n",
    "    md_circuit\n",
    "    >> gr.ev_sample(\n",
    "        n=1e3, \n",
    "        df_det=\"nom\",\n",
    "    )\n",
    "    ## TODO: Use gr.tf_iocorr() to compute \n",
    "    ## input-to-output correlations\n",
    "\n",
    "    ## NOTE: No need to edit; pt_auto will automatically\n",
    "    ## adjust the plot to use the correlation data\n",
    "    >> gr.pt_auto()\n",
    ")"
   ]
  },
  {
   "cell_type": "markdown",
   "id": "c83753aa",
   "metadata": {},
   "source": [
    "*Observations*\n",
    "\n",
    "- The verb `tf_iocorr()` should throw a ton of warnings. What are these messages warning you about? Based on the colors in the plot, which correlations are not defined?\n",
    "  - (Your response here)\n",
    "- Do we have any information on how the outputs `omega0` and `Q` depend on the deterministic inputs `L, R, C`? Why do you think that is?\n",
    "  - (Your response here)\n",
    "- Based on the available information: Which inputs does `omega0` depend on? How do those inputs affect `omega0`?\n",
    "  - (Your response here)\n",
    "- Based on the available information: Which inputs does `Q` depend on? How do those inputs affect `Q`?\n",
    "  - (Your response here)\n"
   ]
  },
  {
   "cell_type": "markdown",
   "id": "c2a14b40",
   "metadata": {},
   "source": [
    "## Hypothesis: `dR` has no effect on `omega0`\n",
    "\n",
    "Based on the correlation tile plot above, we can formulate the following hypothesis:\n",
    "\n",
    "> The variability in the resistance `dR` has no effect on the natural frequency `omega0`.\n",
    "\n",
    "While this may seem obvious, it's important to keep in mind that correlation is a *crude* measure of dependency. For instance, the following code generates `X, Y` pairs that have a deterministic dependency, but very different correlation values:\n"
   ]
  },
  {
   "cell_type": "code",
   "execution_count": null,
   "id": "92dc099f",
   "metadata": {},
   "outputs": [],
   "source": [
    "## NOTE: No need to edit; run and inspect\n",
    "# Generate data\n",
    "df_example = (\n",
    "    gr.df_make(x=gr.linspace(-1, +1, 100))\n",
    "    >> gr.tf_mutate(\n",
    "        y_linear=0.5 * DF.x - 1,\n",
    "        y_quad=1.0 * DF.x**2 - 0.5,\n",
    "    )\n",
    ")\n",
    "\n",
    "# Compute correlation coefficients\n",
    "print(\n",
    "    df_example\n",
    "    >> gr.tf_summarize(\n",
    "        corr_linear=gr.corr(DF.x, DF.y_linear),\n",
    "        corr_quad=gr.corr(DF.x, DF.y_quad),\n",
    "    )\n",
    ")\n",
    "\n",
    "# Visualize\n",
    "(\n",
    "    df_example\n",
    "    >> gr.tf_pivot_longer(\n",
    "        columns=[\"y_linear\", \"y_quad\"],\n",
    "        names_to=[\".value\", \"case\"],\n",
    "        names_sep=\"_\",\n",
    "    )\n",
    "    >> gr.ggplot(gr.aes(\"x\", \"y\", color=\"case\"))\n",
    "    + gr.geom_point()\n",
    ")"
   ]
  },
  {
   "cell_type": "markdown",
   "id": "869b4dce",
   "metadata": {},
   "source": [
    "Note that the `y` most certainly depends on `x` in the `quad` case, but the correlation is zero; this is because correlation can only detect *linear* trends. Thus, we need to exercise caution when interpreting a correlation tile plot.\n",
    "\n",
    "```{admonition} Correlation is a rough measure of dependency\n",
    "Correlation is a rough measure of dependency; for instance, a zero correlation can hide nonlinear relationships.\n",
    "```\n",
    "\n",
    "We can further investigate the hypothesis formulated from the correlation tile plot by constructing some sweeps.\n"
   ]
  },
  {
   "cell_type": "markdown",
   "id": "8b8a2845",
   "metadata": {},
   "source": [
    "### __qX__ Sweeps\n",
    "\n",
    "Construct a sinew plot to investigate how each input affects the outputs of the model. Answer the questions under *observations* below.\n",
    "\n",
    "*Note*: You only need to sweep the random variables; you can use the nominal levels for the deterministic inputs.\n"
   ]
  },
  {
   "cell_type": "code",
   "execution_count": null,
   "id": "cb883c55",
   "metadata": {},
   "outputs": [],
   "source": [
    "(\n",
    "    md_circuit\n",
    "    ## TODO: Make a sinew plot\n",
    "\n",
    ")"
   ]
  },
  {
   "cell_type": "markdown",
   "id": "ff524c51",
   "metadata": {},
   "source": [
    "*Observations*\n",
    "\n",
    "- How does the hypothesis *The variability in the resistance `dR` has no effect on the natural frequency `omega0`* hold up?\n",
    "  - (Your response here)\n"
   ]
  }
 ],
 "metadata": {
  "kernelspec": {
   "display_name": "Python 3 (ipykernel)",
   "language": "python",
   "name": "python3"
  },
  "language_info": {
   "codemirror_mode": {
    "name": "ipython",
    "version": 3
   },
   "file_extension": ".py",
   "mimetype": "text/x-python",
   "name": "python",
   "nbconvert_exporter": "python",
   "pygments_lexer": "ipython3",
   "version": "3.9.7"
  },
  "toc-showtags": false
 },
 "nbformat": 4,
 "nbformat_minor": 5
}
