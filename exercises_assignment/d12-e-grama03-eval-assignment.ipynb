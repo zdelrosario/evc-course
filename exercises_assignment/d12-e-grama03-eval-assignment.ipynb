{
 "cells": [
  {
   "cell_type": "markdown",
   "id": "316e71b4",
   "metadata": {},
   "source": [
    "# Grama: Model Evaluation\n",
    "\n",
    "*Purpose*: Once we've done the hard work of building a grama model, we can use a variety of tools to use the model. The primary way to use a grama model is to *evaluate* the mode to generate data, then use that data as a means to understand the model's behavior. We'll get to understanding soon, but first let's learn how to generate data using evaluation verbs.\n"
   ]
  },
  {
   "cell_type": "markdown",
   "id": "ff8d27c2",
   "metadata": {},
   "source": [
    "## Setup\n"
   ]
  },
  {
   "cell_type": "code",
   "execution_count": null,
   "id": "a2c0b806",
   "metadata": {},
   "outputs": [],
   "source": [
    "import grama as gr\n",
    "DF = gr.Intention()\n",
    "%matplotlib inline"
   ]
  },
  {
   "cell_type": "markdown",
   "id": "1941e1e9",
   "metadata": {},
   "source": [
    "To focus this exercise on using models, let's load up a model to play with:\n"
   ]
  },
  {
   "cell_type": "code",
   "execution_count": null,
   "id": "244143ca",
   "metadata": {},
   "outputs": [],
   "source": [
    "from grama.models import make_plate_buckle\n",
    "md_plate = make_plate_buckle()"
   ]
  },
  {
   "cell_type": "markdown",
   "id": "a8d2652e",
   "metadata": {},
   "source": [
    "# Evaluation\n",
    "\n",
    "Recall that there are four classes of verb in grama; *evaluation* verbs take a model as an input and produce data as an output. Once we've generated that data, we can use visualization and other data tools to learn something about the model.\n"
   ]
  },
  {
   "cell_type": "markdown",
   "id": "ecfdd045",
   "metadata": {},
   "source": [
    "\n",
    "![Grama verb class diagram](./images/verb-classes.png)\n"
   ]
  },
  {
   "cell_type": "markdown",
   "id": "30688b9b",
   "metadata": {},
   "source": [
    "We'll discuss three \"subtypes\" of evaluations:\n",
    "\n",
    "- Manual input values - We specify the values for all of the inputs\n",
    "- Mixed manual & automatic - We specify values for a *subset* of the inputs; the verb sets the remainder\n",
    "- Automatic input values - The verb specifies all inputs values\n"
   ]
  },
  {
   "cell_type": "markdown",
   "id": "09bb98b5",
   "metadata": {},
   "source": [
    "# Manual Input Values\n",
    "\n",
    "There are two core evaluations---`ev_df()` and `tf_md()`---that require us to specify all the input values. These are manual but fundamental tools for working with a model.\n",
    "\n",
    "## DataFrame evaluation `ev_df()`\n",
    "\n",
    "As the prefix implies, `ev_df()` takes a model as an input and returns data as an output. Since we need to specify all model input values, it is most convenient to pair `ev_df()` with the DataFrame constructor `df_make()`. Let's talk about some practical considerations when putting these tools together.\n"
   ]
  },
  {
   "cell_type": "markdown",
   "id": "06e145d6",
   "metadata": {},
   "source": [
    "### __q1__ Set the input values\n",
    "\n",
    "Use the `gr.ev_df()` verb with `gr.df_make()` to set input values for all the inputs of `md_plate`.\n",
    "\n",
    "*Hint*: Note that there are a lot of variable values to set! Remember that \"executing\" a model on its own prints the model summary; use this to your advantage to get a reminder for what inputs you need, and what values might be reasonable.\n"
   ]
  },
  {
   "cell_type": "code",
   "execution_count": null,
   "id": "ef0f9be0",
   "metadata": {},
   "outputs": [],
   "source": [
    "# TASK: Complete the following code\n",
    "(\n",
    "    md_plate\n",
    "\n",
    ")"
   ]
  },
  {
   "cell_type": "markdown",
   "id": "8ba993e8",
   "metadata": {},
   "source": [
    "## Evaluation as transformation `tf_md()`\n",
    "\n",
    "Evaluations enter into a pipeline in a specific way: an evaluation takes a model and returns a DataFrame. In some cases, it is useful to be able to \"add\" the results of a model to a DataFrame as a transform. The `gr.tf_md()` helper serves this functionality.\n",
    "\n",
    "Let's look at an example using the following dataset:\n"
   ]
  },
  {
   "cell_type": "code",
   "execution_count": null,
   "id": "3bd1f2c0",
   "metadata": {},
   "outputs": [],
   "source": [
    "from grama.data import df_stang\n",
    "df_stang.head(6)"
   ]
  },
  {
   "cell_type": "markdown",
   "id": "7f42b943",
   "metadata": {
    "tags": []
   },
   "source": [
    "### __q2__ Use a model as a transform\n",
    "\n",
    "Use `gr.tf_md()` to add model results to the following dataframe using `md_plate`.\n"
   ]
  },
  {
   "cell_type": "code",
   "execution_count": null,
   "id": "33bc42e3",
   "metadata": {},
   "outputs": [],
   "source": [
    "(\n",
    "    df_stang\n",
    "    >> gr.tf_mutate(\n",
    "        m=1,\n",
    "        L=0.001,\n",
    "        t=0.06,\n",
    "        h=12,\n",
    "        w=12,\n",
    "    )\n",
    "\n",
    ")"
   ]
  },
  {
   "cell_type": "markdown",
   "id": "da473562",
   "metadata": {},
   "source": [
    "Full-manual evaluation is important, but other grama verbs provide useful ways to automatically select input values.\n"
   ]
  },
  {
   "cell_type": "markdown",
   "id": "749c0f51",
   "metadata": {},
   "source": [
    "# Mixed Manual & Automatic\n",
    "\n",
    "These verbs require that we set values for some of a model's inputs. This is most commonly split across the deterministic and random variables: We set specific values for the deterministic inputs, and the verb handles the random inputs.\n",
    "\n",
    "## Nominal Evaluation\n",
    "\n",
    "Sometimes it is useful to just get one set of \"typical\" values from a model. The `gr.ev_nominal()` verb provides this functionality.\n"
   ]
  },
  {
   "cell_type": "markdown",
   "id": "5f29d4cd",
   "metadata": {},
   "source": [
    "### __q3__ Evaluate at nominal values\n",
    "\n",
    "Use `gr.ev_nominal()` to evaluate `md_plate` at nominal input values.\n",
    "\n",
    "*Hint*: Consult the documentation to see how you can make a \"default\" choice for the deterministic inputs.\n"
   ]
  },
  {
   "cell_type": "code",
   "execution_count": null,
   "id": "17952156",
   "metadata": {},
   "outputs": [],
   "source": [
    "(\n",
    "    md_plate\n",
    "\n",
    ")"
   ]
  },
  {
   "cell_type": "markdown",
   "id": "c8283414",
   "metadata": {},
   "source": [
    "## Sweeps\n",
    "\n",
    "A key way to understand a model's behavior is to *sweep* through values of the inputs and study the effects on the outputs. We can do this manually by specifying a grid of points with `gr.df_grid()`, or automatically with `gr.ev_sinews()`.\n"
   ]
  },
  {
   "cell_type": "markdown",
   "id": "8ac08f6c",
   "metadata": {},
   "source": [
    "### __q4__ Manual sweeps\n",
    "\n",
    "Construct a manual sweep over values of `m` and `h`. Provide the values `m = [1, 2, 3]`, and sweep `h` between `6` and `12`.\n",
    "\n",
    "*Hint 1*: Remember that in the previous exercise we learned how to use `gr.df_grid()` and `gr.linspace()`. To construct grids of points.\n"
   ]
  },
  {
   "cell_type": "code",
   "execution_count": null,
   "id": "6180ebe8",
   "metadata": {},
   "outputs": [],
   "source": [
    "(\n",
    "    md_plate\n",
    "    >> gr.ev_nominal(\n",
    "        df_det=gr.df_grid(\n",
    "            w=12,\n",
    "            t=1/32,\n",
    "            L=0.0016,\n",
    "\n",
    "        )\n",
    "    )\n",
    "    \n",
    "    >> gr.ggplot(gr.aes(\"h\", \"g_buckle\"))\n",
    "    + gr.geom_line(gr.aes(color=\"factor(m)\"))\n",
    ")"
   ]
  },
  {
   "cell_type": "markdown",
   "id": "c3895eab",
   "metadata": {},
   "source": [
    "Note that you need to write a fair bit of code to produce a manual sweep. However, you also get complete control over which variables to sweep, and what ranges to consider.\n"
   ]
  },
  {
   "cell_type": "markdown",
   "id": "05c90ef6",
   "metadata": {},
   "source": [
    "### __q5__ Automatic sweeps\n",
    "\n",
    "Use `gr.ev_sinews()` with `df_det=\"swp\"` to sweep all the inputs in the model. Visualize the results.\n"
   ]
  },
  {
   "cell_type": "code",
   "execution_count": null,
   "id": "15c442e6",
   "metadata": {},
   "outputs": [],
   "source": [
    "(\n",
    "    md_plate\n",
    "\n",
    ")"
   ]
  },
  {
   "cell_type": "markdown",
   "id": "218009f7",
   "metadata": {},
   "source": [
    "Note how little code you need to write with `gr.ev_sinews()`; this is an excellent way to quickly inspect a model's behavior. However, we don't get as much control with this verb as with a manual sweep.\n",
    "\n",
    "Automatic sweeps are useful for *exploring* a model, while manual sweeps are useful for getting more *specific* and especially for creating presentation-quality visuals to communicate results to others.\n"
   ]
  },
  {
   "cell_type": "markdown",
   "id": "10a60b13",
   "metadata": {},
   "source": [
    "## Random Sampling\n",
    "\n",
    "Deterministic and random inputs are fundamentally different; deterministic inputs must be specified, while random inputs are fundamentally unknown in value. The verb `gr.ev_sample()` draws a random sample according to the random inputs, while handling the deterministic inputs according to the user's choice.\n"
   ]
  },
  {
   "cell_type": "markdown",
   "id": "8cb10643",
   "metadata": {},
   "source": [
    "### __q6__ Evaluate a simple random sample\n",
    "\n",
    "Use `gr.ev_sample()` to draw a sample of size `100`. Use the nominal values for the deterministic inputs.\n"
   ]
  },
  {
   "cell_type": "code",
   "execution_count": null,
   "id": "98bf134a",
   "metadata": {},
   "outputs": [],
   "source": [
    "(\n",
    "    md_plate\n",
    "\n",
    ")"
   ]
  },
  {
   "cell_type": "markdown",
   "id": "ae3f5e54",
   "metadata": {},
   "source": [
    "Like `gr.ev_sinews()`, the verb `gr.ev_nominal()` works with `gr.pt_auto()` to produce quick visuals of model behavior. Combined with the `skip` keyword, this allows us to study both the input and output behavior of the model.\n"
   ]
  },
  {
   "cell_type": "markdown",
   "id": "2eeef2e7",
   "metadata": {},
   "source": [
    "### __q7__ Skip evaluation\n",
    "\n",
    "Run the code below and inspect the output. Then add the keyword argument `skip=True` and re-run the code. Note the differences between the results. Answer the questions under *observations* below.\n"
   ]
  },
  {
   "cell_type": "code",
   "execution_count": null,
   "id": "e36be1f0",
   "metadata": {},
   "outputs": [],
   "source": [
    "(\n",
    "    md_plate\n",
    "    >> gr.ev_sample(\n",
    "        n=1e2, \n",
    "        df_det=\"nom\",\n",
    "\n",
    "    )\n",
    "    \n",
    "    # NOTE: No need to edit\n",
    "    >> gr.pt_auto()\n",
    ")"
   ]
  },
  {
   "cell_type": "markdown",
   "id": "80c58606",
   "metadata": {},
   "source": [
    "*Observations*\n",
    "\n",
    "- What values does `g_buckle` tend to take?\n",
    "  - (Your response here)\n",
    "- How are the values for inputs `E` and `mu` related?\n",
    "  - (Your response here)\n"
   ]
  },
  {
   "cell_type": "markdown",
   "id": "19edf929",
   "metadata": {},
   "source": [
    "## Sweep Plus Sampling\n",
    "\n",
    "Using `gr.ev_sample()` we can perform sweeps over deterministic inputs while sampling the random inputs. This follows similar code patterns to what we did with `gr.ev_nominal()`.\n"
   ]
  },
  {
   "cell_type": "markdown",
   "id": "81c67eb5",
   "metadata": {},
   "source": [
    "### __q8__ Sweeps with sampling\n",
    "\n",
    "Edit the code below to sweep over deterministic inputs, but sample the random inputs. Answer the questions under *observations* below.\n"
   ]
  },
  {
   "cell_type": "code",
   "execution_count": null,
   "id": "092e3976",
   "metadata": {},
   "outputs": [],
   "source": [
    "(\n",
    "    md_plate\n",
    "    # Uncomment, replace ev_nominal() with ev_sample(),\n",
    "    # adjust the arguments to ev_sample()\n",
    "    # >> gr.ev_nominal(\n",
    "    #     df_det=gr.df_grid(\n",
    "    #         w=12,\n",
    "    #         t=1/32,\n",
    "    #         L=0.0016,\n",
    "    #         m=[1, 2, 3],\n",
    "    #         h=gr.linspace(6, 12, 10)\n",
    "    #     )\n",
    "    # )\n",
    "\n",
    "    \n",
    "    ## NOTE: No need to edit below; use to inspect results\n",
    "    # Compute low, middle, high values at each m, h\n",
    "    >> gr.tf_group_by(DF.m, DF.h)\n",
    "    >> gr.tf_summarize(\n",
    "        g_lo=gr.quant(DF.g_buckle, p=0.25),\n",
    "        g_mu=gr.median(DF.g_buckle),\n",
    "        g_hi=gr.quant(DF.g_buckle, p=0.75),\n",
    "    )\n",
    "    # Visualize\n",
    "    >> gr.ggplot(gr.aes(\"h\", \"g_mu\", color=\"factor(m)\"))\n",
    "    + gr.geom_ribbon(gr.aes(ymin=\"g_lo\", ymax=\"g_hi\"), fill=None)\n",
    "    + gr.geom_line()\n",
    ")"
   ]
  },
  {
   "cell_type": "markdown",
   "id": "03069b15",
   "metadata": {},
   "source": [
    "*Observations*\n",
    "\n",
    "- How does the variability due to the random inputs (shown by width of bands) compare with variability due to the deterministic inputs (the curves).\n",
    "  - (Your response here)\n"
   ]
  },
  {
   "cell_type": "markdown",
   "id": "95c047fc",
   "metadata": {
    "tags": []
   },
   "source": [
    "# Automatic Input Values\n",
    "\n",
    "Other grama verbs do not require us to specify any input values. Here are a few examples.\n",
    "\n",
    "## Contour Evaluation\n",
    "\n",
    "In cases where we have just two inputs, we can construct contour plots of the output quantities. The verb `gr.ev_contour()` generates the data necessary for a contour plot.\n"
   ]
  },
  {
   "cell_type": "markdown",
   "id": "3180c4df",
   "metadata": {},
   "source": [
    "### __q9__ Visualize function contours\n",
    "\n",
    "Complete the arguments for `gr.ev_contour()` to generate contour data for the following model. Make sure to generate contours for both outputs `f` and `g`.\n"
   ]
  },
  {
   "cell_type": "code",
   "execution_count": null,
   "id": "568a304b",
   "metadata": {},
   "outputs": [],
   "source": [
    "# TASK: Complete the contour evaluation arguments\n",
    "(\n",
    "    # NOTE: No need to edit this model\n",
    "    gr.Model(\"Contour Demo\")\n",
    "    >> gr.cp_vec_function(\n",
    "        fun=lambda df: gr.df_make(\n",
    "            f=df.x**2 + df.y**2,\n",
    "            g=df.x + df.y,\n",
    "        ),\n",
    "        var=[\"x\", \"y\"],\n",
    "        out=[\"f\", \"g\"],\n",
    "    )\n",
    "    >> gr.cp_bounds(\n",
    "        x=(-1, +1),\n",
    "        y=(-1, +1),\n",
    "    )\n",
    "    \n",
    "    # TASK: Complete the arguments for ev_contour()\n",
    "    >> gr.ev_contour(\n",
    "        # HINT: Use Shift+Tab to consult the documentation\n",
    "\n",
    "    )\n",
    "    \n",
    "    # NOTE: No need to edit; use to visualize\n",
    "    >> gr.pt_auto()\n",
    ")"
   ]
  },
  {
   "cell_type": "markdown",
   "id": "f9aa0fc6",
   "metadata": {},
   "source": [
    "*Note*: Contours are fundamentally two-input constructions. If your model has more than two inputs, you will need to specify manual values for the other inputs.\n"
   ]
  },
  {
   "cell_type": "markdown",
   "id": "826ed725",
   "metadata": {},
   "source": [
    "### __q10__ Find specific contour levels\n",
    "\n",
    "Use `gr.ev_contour()` to find the contour of `g` that is tangent to the contour where `f == 1`. \n",
    "\n",
    "You'll need to use the `levels` argument of `gr.ev_contour()` to do this, and it will take a bit of trial-and-error.\n"
   ]
  },
  {
   "cell_type": "code",
   "execution_count": null,
   "id": "a03abb44",
   "metadata": {},
   "outputs": [],
   "source": [
    "# TASK: Find the tangent contour of `g`\n",
    "df_contour = (\n",
    "    # NOTE: No need to edit this model\n",
    "    gr.Model(\"Contour Demo\")\n",
    "    >> gr.cp_vec_function(\n",
    "        fun=lambda df: gr.df_make(\n",
    "            f=df.x**2 + df.y**2,\n",
    "            g=df.x + df.y,\n",
    "        ),\n",
    "        var=[\"x\", \"y\"],\n",
    "        out=[\"f\", \"g\"],\n",
    "    )\n",
    "    >> gr.cp_bounds(\n",
    "        x=(0, +1),\n",
    "        y=(0, +1),\n",
    "    )\n",
    "    \n",
    "    # TASK: Use specific levels to find the tangent\n",
    "    >> gr.ev_contour(\n",
    "        var=[\"x\", \"y\"],\n",
    "        out=[\"f\", \"g\"],\n",
    "        # HINT: Use Shift+Tab to consult the documentation\n",
    "\n",
    "    )\n",
    ")\n",
    "\n",
    "# NOTE: No need to edit; use to visualize\n",
    "gr.plot_auto(df_contour)"
   ]
  },
  {
   "cell_type": "markdown",
   "id": "ece394f7",
   "metadata": {},
   "source": [
    "## Constrained Minimization\n",
    "\n",
    "As one last example of verbs that select automatic input values: Grama provides tools for constrained minimization, which determines the input values necessary to minimize an output quantity. The following code demonstrates how this works:\n"
   ]
  },
  {
   "cell_type": "code",
   "execution_count": null,
   "id": "7860fb14",
   "metadata": {},
   "outputs": [],
   "source": [
    "# NOTE: No need to edit\n",
    "df_opt = (\n",
    "    # Set up a model\n",
    "    gr.Model(\"Contour Demo\")\n",
    "    >> gr.cp_vec_function(\n",
    "        fun=lambda df: gr.df_make(\n",
    "            f=df.x**2 + df.y**2,\n",
    "            g=df.x + df.y - 1.42,\n",
    "        ),\n",
    "        var=[\"x\", \"y\"],\n",
    "        out=[\"f\", \"g\"],\n",
    "    )\n",
    "    >> gr.cp_bounds(\n",
    "        x=(0, +1),\n",
    "        y=(0, +1),\n",
    "    )\n",
    "    \n",
    "    # Minimize the objective with a constraint\n",
    "    >> gr.ev_min(\n",
    "        out_min=\"f\",   # Output to minimize\n",
    "        out_geq=[\"g\"], # Output constraint, g >= 0\n",
    "    )\n",
    ")\n",
    "\n",
    "df_opt"
   ]
  },
  {
   "cell_type": "markdown",
   "id": "26f55bd4",
   "metadata": {},
   "source": [
    "As a brief aside, this minimization is related to the \"tangent\" problem above.\n"
   ]
  },
  {
   "cell_type": "code",
   "execution_count": null,
   "id": "6c4b94d5",
   "metadata": {},
   "outputs": [],
   "source": [
    "# NOTE: No need to edit; this visualizes the optimization results\n",
    "# in the context of the contour data\n",
    "(\n",
    "    df_contour\n",
    "    >> gr.ggplot(gr.aes(\"x\", \"y\"))\n",
    "    + gr.geom_segment(\n",
    "        gr.aes(\n",
    "            xend=\"x_end\", \n",
    "            yend=\"y_end\",\n",
    "            color=\"level\",\n",
    "            linetype=\"out\",\n",
    "          )\n",
    "    )\n",
    "    + gr.geom_point(data=df_opt, size=4)\n",
    ")"
   ]
  },
  {
   "cell_type": "markdown",
   "id": "33e981d8",
   "metadata": {
    "jp-MarkdownHeadingCollapsed": true,
    "tags": []
   },
   "source": [
    "# List of evaluation routines\n",
    "\n",
    "For your reference, here are a few of the evaluation verbs, sorted by how they handle input values and with a brief description.\n",
    "\n",
    "| Verb | Input values | Description |\n",
    "|------|-------|-------------|\n",
    "| `ev_df()` | Manual | DataFrame evaluation |\n",
    "| `tf_md()` | Manual | Model as transformation |\n",
    "| `ev_nominal()` | Mixed | Nominal values for random inputs |\n",
    "| `ev_sample()` | Mixed | Random values for random inputs |\n",
    "| `ev_conservative()` | Mixed | Conservative values for random inputs |\n",
    "| `ev_contour()` | Auto | Generate contour plot data |\n",
    "| `ev_sinews()` | Auto | Generate sinew plot data |\n",
    "| `ev_min()` | Auto | Constrained minimization |\n"
   ]
  }
 ],
 "metadata": {
  "kernelspec": {
   "display_name": "Python 3 (ipykernel)",
   "language": "python",
   "name": "python3"
  },
  "language_info": {
   "codemirror_mode": {
    "name": "ipython",
    "version": 3
   },
   "file_extension": ".py",
   "mimetype": "text/x-python",
   "name": "python",
   "nbconvert_exporter": "python",
   "pygments_lexer": "ipython3",
   "version": "3.9.7"
  }
 },
 "nbformat": 4,
 "nbformat_minor": 5
}
