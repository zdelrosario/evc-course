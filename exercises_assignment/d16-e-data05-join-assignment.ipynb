{
 "cells": [
  {
   "cell_type": "markdown",
   "id": "0a7ecea3",
   "metadata": {},
   "source": [
    "# Data: Joining Datasets\n",
    "\n",
    "*Purpose*: Often our data are scattered across multiple sets. In this case, we need to be able to *join* data.\n"
   ]
  },
  {
   "cell_type": "markdown",
   "id": "46242bc8",
   "metadata": {},
   "source": [
    "## Setup\n"
   ]
  },
  {
   "cell_type": "code",
   "execution_count": null,
   "id": "1f70ec03",
   "metadata": {},
   "outputs": [],
   "source": [
    "import grama as gr\n",
    "DF = gr.Intention()\n",
    "%matplotlib inline"
   ]
  },
  {
   "cell_type": "markdown",
   "id": "516903c9",
   "metadata": {},
   "source": [
    "# Danger! Naive \"binding\" of data\n"
   ]
  },
  {
   "cell_type": "markdown",
   "id": "5c3edf9d",
   "metadata": {},
   "source": [
    "The simplest means we have to combine two datasets is to *bind* them together. The verb `gr.tf_bind_rows()` binds together two datasets vertically (adds rows to rows), while `gr.tf_bind_cols()` binds two datasets horizontally (adds new columns to the dataset). These are very simple ways to combine datasets; for example:\n"
   ]
  },
  {
   "cell_type": "code",
   "execution_count": null,
   "id": "8762d5b7",
   "metadata": {},
   "outputs": [],
   "source": [
    "## NOTE: No need to edit\n",
    "(\n",
    "    gr.df_make(numbers=[1,2,3,4])\n",
    "    >> gr.tf_bind_cols(\n",
    "        gr.df_make(letters=[\"A\", \"B\", \"C\", \"D\"])\n",
    "    )\n",
    ")"
   ]
  },
  {
   "cell_type": "markdown",
   "id": "74a98e7f",
   "metadata": {},
   "source": [
    "Binding is appropriate when we have *strong knowledge* of how our data are structured; we blindly smash together rows or columns to make a new dataframe, so we'd better be sure those rows/columns are in the right order! Otherwise, we may get surprising (and wrong) results....\n"
   ]
  },
  {
   "cell_type": "markdown",
   "id": "ce74eb04",
   "metadata": {},
   "source": [
    "### __q1__ What went wrong with this bind?\n",
    "\n",
    "Run the following code and answer the questions under *observations* below.\n",
    "\n",
    "*Hint*: If you're not a Beatles fan, it may be helpful to consult the relevant [personnel](https://en.wikipedia.org/wiki/The_Beatles#Personnel) page on Wikipedia.\n"
   ]
  },
  {
   "cell_type": "code",
   "execution_count": null,
   "id": "adfc72c8",
   "metadata": {},
   "outputs": [],
   "source": [
    "## NOTE: No need to edit; run and inspect\n",
    "# Setup\n",
    "df_beatles = gr.df_make(\n",
    "    band=[\"Beatles\"] * 4,\n",
    "    name=[\"John\", \"Paul\", \"George\", \"Ringo\"],\n",
    ")\n",
    "\n",
    "df_beatles_instruments = gr.df_make(\n",
    "    surname=[\"McCartney\", \"Harrison\", \"Starr\", \"Lennon\"],\n",
    "    instrument=[\"bass\", \"guitar\", \"drums\", \"guitar\"]\n",
    ")\n",
    "\n",
    "# Attempt to combine the datasets... to disastrous results!\n",
    "(\n",
    "    df_beatles\n",
    "    >> gr.tf_bind_cols(df_beatles_instruments)\n",
    ")"
   ]
  },
  {
   "cell_type": "markdown",
   "id": "b15d5553",
   "metadata": {},
   "source": [
    "*Observations*\n",
    "\n",
    "- What went wrong in binding `df_beatles` and `df_beatles_instruments`?\n",
    "  - (Your response here)\n"
   ]
  },
  {
   "cell_type": "markdown",
   "id": "76b0b980",
   "metadata": {},
   "source": [
    "# A safer way: \"Joining\" datasets\n",
    "\n",
    "A safer way to combine two datasets is to *not assume they are ordered correctly*. Instead, we can use *common* information to *join* two datasets. In order to do a join, we must have a set of \"keys\" by which to combine data from the two datasets. For instance, if we had a DataFrame with both `name` and `surname`, we could join to `df_beatles1` by the `name` column.\n"
   ]
  },
  {
   "cell_type": "code",
   "execution_count": null,
   "id": "ad8ae1ce",
   "metadata": {},
   "outputs": [],
   "source": [
    "## NOTE: No need to edit\n",
    "df_beatles_surnames = gr.df_make(\n",
    "    name=[\"John\", \"Paul\", \"George\", \"Ringo\"],\n",
    "    surname=[\"Lennon\", \"McCartney\", \"Harrison\", \"Starr\"],\n",
    ")\n",
    "\n",
    "df_beatles_names = (\n",
    "    df_beatles\n",
    "    >> gr.tf_left_join(df_beatles_surnames, by=\"name\")\n",
    ")\n",
    "df_beatles_names"
   ]
  },
  {
   "cell_type": "markdown",
   "id": "4c9a0bf7",
   "metadata": {},
   "source": [
    "Note that this correctly associates names with surnames.\n"
   ]
  },
  {
   "cell_type": "markdown",
   "id": "a8b86093",
   "metadata": {},
   "source": [
    "### __q2__ Do a join\n",
    "\n",
    "Use `gr.tf_left_join()` to associate each `instrument` with the correct band member.\n"
   ]
  },
  {
   "cell_type": "code",
   "execution_count": null,
   "id": "f9106048",
   "metadata": {},
   "outputs": [],
   "source": [
    "## TASK: Join df_beatles2 correctly to add the `instrument` column\n",
    "df_beatles_full = (\n",
    "    df_beatles_names\n",
    "\n",
    ")\n",
    "\n",
    "## NOTE: Use this to check your work\n",
    "assert \\\n",
    "    \"instrument\" in df_beatles_full.columns, \\\n",
    "    \"df_beatles_full does not have an `instrument` column\"\n",
    "\n",
    "assert \\\n",
    "    df_beatles_full[df_beatles_full.name == \"Ringo\"].instrument.values[0] == \"drums\", \\\n",
    "    \"Ringo Starr played drums!\"\n",
    "\n",
    "df_beatles_full\n"
   ]
  },
  {
   "cell_type": "markdown",
   "id": "064f6349",
   "metadata": {},
   "source": [
    "There's a **very important lesson** here: In general, don't trust `gr.tf_bind_cols`. It's easy in the example above to tell there's a problem because the data are *small*; when working with larger datasets, the software will happily give you the wrong answer if you give it the wrong instructions. Whenever possible, use some form of join to combine datasets.\n"
   ]
  },
  {
   "cell_type": "markdown",
   "id": "8f99a27f",
   "metadata": {},
   "source": [
    "# Types of joins\n",
    "\n",
    "There are several types of joins:\n",
    "\n",
    "| Name | Type | Description |\n",
    "|------|------|-------------|\n",
    "| `gr.tf_left_join()` | Mutating join | Preserves rows in the left DataFrame being joined |\n",
    "| `gr.tf_right_join()` | Mutating join | Preserves rows in the right DataFrame being joined |\n",
    "| `gr.tf_inner_join()` | Mutating join | Preserves rows common to both DataFrames being joined |\n",
    "| `gr.tf_outer_join()` | Mutating join | Preserves all rows in both DataFrames being joined |\n",
    "| `gr.tf_semi_join()` | Filtering join | Returns all rows in left DataFrame that have a match in the right DataFrame |\n",
    "| `gr.tf_anti_join()` | Filtering join | Returns all rows in left DataFrame that have *no* match in the right DataFrame |\n",
    "\n",
    "We'll discuss (and use!) each of these below.\n"
   ]
  },
  {
   "cell_type": "markdown",
   "id": "cbad0347",
   "metadata": {},
   "source": [
    "## Mutating joins\n",
    "\n",
    "A *mutating join* is a join that also performs a mutation---it adds columns to the DataFrame. Like we saw above, we can use a mutating join to add information to a datset. However, there are four different types of mutating\n"
   ]
  },
  {
   "cell_type": "code",
   "execution_count": null,
   "id": "524295d8",
   "metadata": {},
   "outputs": [],
   "source": [
    "## NOTE: No need to edit\n",
    "df_beatles_names = gr.df_make(\n",
    "    name=[\"John\", \"Paul\", \"George\", \"Ringo\", \"George\"],\n",
    "    surname=[\"Lennon\", \"McCartney\", \"Harrison\", \"Starr\", \"Martin\"],\n",
    ")\n",
    "\n",
    "df_beatles_roles = gr.df_make(\n",
    "    surname=[\"Lennon\", \"McCartney\", \"Harrison\", \"Starr\", \"Epstein\"],\n",
    "    role=[\"Bandmate\", \"Bandmate\", \"Bandmate\", \"Bandmate\", \"Manager\"],\n",
    ")\n"
   ]
  },
  {
   "cell_type": "markdown",
   "id": "da52211b",
   "metadata": {},
   "source": [
    "You'll investigate how the various join types function in the next task:\n"
   ]
  },
  {
   "cell_type": "markdown",
   "id": "3a1e815d",
   "metadata": {},
   "source": [
    "### __q3__ Test the joins\n",
    "\n",
    "Uncomment one line at a time and run the code below. Answer the questions under *observations* below.\n"
   ]
  },
  {
   "cell_type": "code",
   "execution_count": null,
   "id": "aeb60210",
   "metadata": {},
   "outputs": [],
   "source": [
    "## TASK: Uncomment one line at a time and run; document your findings\n",
    "(\n",
    "    df_beatles_names\n",
    "    >> gr.tf_left_join(df_beatles_roles, by=\"surname\")\n",
    "    # >> gr.tf_right_join(df_beatles_roles, by=\"surname\")\n",
    "    # >> gr.tf_inner_join(df_beatles_roles, by=\"surname\")\n",
    "    # >> gr.tf_outer_join(df_beatles_roles, by=\"surname\")\n",
    ")"
   ]
  },
  {
   "cell_type": "markdown",
   "id": "dba592e0",
   "metadata": {},
   "source": [
    "*Observations*\n",
    "\n",
    "- Which rows does `tf_left_join()` preserve?\n",
    "  - (Your response here)\n",
    "- Which rows does `tf_right_join()` preserve?\n",
    "  - (Your response here)\n",
    "- Which rows does `tf_inner_join()` preserve?\n",
    "  - (Your response here)\n",
    "- Which rows does `tf_outer_join()` preserve?\n",
    "  - (Your response here)\n"
   ]
  },
  {
   "cell_type": "markdown",
   "id": "57e149ae",
   "metadata": {
    "tags": []
   },
   "source": [
    "### Visual Aid: Types of Joins\n",
    "\n",
    "The following visual may help you make sense of the four mutating joins; it depicts the four verbs as Venn diagrams for the left (`L`) and right (`R`) DataFrames in the join.\n",
    "\n",
    "![Venn diagrams for four types of joins: left, right, inner, outer](images/joins.jpg)\n",
    "\n",
    "You may also find [this image](https://github.com/amartinson193/SQL_Checkered_Flag_Join_Diagrams/blob/main/checkered_flag_diagram_pg1.png) helpful for visualizing the join types.\n"
   ]
  },
  {
   "cell_type": "markdown",
   "id": "bea65b4b",
   "metadata": {},
   "source": [
    "## Danger! Non-unique keys\n",
    "\n",
    "Note that when we do any sort of join, we need *unique* keys. We'll run into trouble if the provided keys do not uniquely identify each row. For example, Harrison and Martin share a given name:\n"
   ]
  },
  {
   "cell_type": "code",
   "execution_count": null,
   "id": "b7bb51b3",
   "metadata": {},
   "outputs": [],
   "source": [
    "## NOTE: No need to edit\n",
    "df_beatles_names\n"
   ]
  },
  {
   "cell_type": "markdown",
   "id": "0dc9fb6c",
   "metadata": {},
   "source": [
    "Look at what happens when we join on first `name` only:\n"
   ]
  },
  {
   "cell_type": "code",
   "execution_count": null,
   "id": "1147d14b",
   "metadata": {},
   "outputs": [],
   "source": [
    "## NOTE: No need to edit; this gives incorrect results due to non-unique keys\n",
    "(\n",
    "    df_beatles_names\n",
    "    >> gr.tf_full_join(\n",
    "        gr.df_make(\n",
    "            name=[\"Paul\", \"George\", \"Ringo\", \"John\"],\n",
    "            instrument=[\"bass\", \"guitar\", \"drums\", \"guitar\"]\n",
    "        ),\n",
    "        by=\"name\"\n",
    "    )\n",
    ")"
   ]
  },
  {
   "cell_type": "markdown",
   "id": "3c740139",
   "metadata": {},
   "source": [
    "George Martin didn't play the guitar in the Beatles! He was their producer.\n",
    "\n",
    "If a single key is not unique, we can use *multiple keys* for the join:\n"
   ]
  },
  {
   "cell_type": "code",
   "execution_count": null,
   "id": "913d63c2",
   "metadata": {},
   "outputs": [],
   "source": [
    "## NOTE: No need to edit; using multiple keys corrects the issue\n",
    "(\n",
    "    df_beatles_names\n",
    "    >> gr.tf_full_join(\n",
    "        gr.df_make(\n",
    "            name=[\"Paul\", \"George\", \"Ringo\", \"John\"],\n",
    "            surname=[\"McCartney\", \"Harrison\", \"Starr\", \"Lennon\"],\n",
    "            instrument=[\"bass\", \"guitar\", \"drums\", \"guitar\"]\n",
    "        ),\n",
    "        by=[\"name\", \"surname\"],\n",
    "    )\n",
    ")"
   ]
  },
  {
   "cell_type": "markdown",
   "id": "02012eb5",
   "metadata": {},
   "source": [
    "## Filtering joins\n",
    "\n",
    "Mutating joins add new columns, but *filtering joins* simply filter the DataFrame. A filter join is particularly helpful when a filter is difficult to express in `gr.tf_filter()`, but easy to express as a set of keys (perhaps with multiple key columns).\n",
    "\n",
    "As a first example, we can filter on all of the `\"George\"`'s with a `gr.tf_semi_join()`.\n"
   ]
  },
  {
   "cell_type": "code",
   "execution_count": null,
   "id": "bf325be1",
   "metadata": {},
   "outputs": [],
   "source": [
    "## NOTE: No need to edit\n",
    "(\n",
    "    df_beatles_names\n",
    "    >> gr.tf_semi_join(\n",
    "        gr.df_make(name=[\"George\"]),\n",
    "        by=\"name\",\n",
    "    )\n",
    ")"
   ]
  },
  {
   "cell_type": "markdown",
   "id": "f41a2df3",
   "metadata": {},
   "source": [
    "As we saw before, a single key will often not be enough to uniquely identify a row. For instance, the following will filter down to a numer of non-Beatle players:\n"
   ]
  },
  {
   "cell_type": "code",
   "execution_count": null,
   "id": "358ff6d3",
   "metadata": {},
   "outputs": [],
   "source": [
    "## NOTE: No need to edit\n",
    "(\n",
    "    gr.df_make(\n",
    "        surname=[\"Clapton\", \"Harrison\", \"Shankar\", \"Wooten\", \"McCartney\"],\n",
    "        instrument=[\"guitar\", \"guitar\", \"sitar\", \"bass\", \"bass\"],\n",
    "    )\n",
    "    >> gr.tf_semi_join(\n",
    "        df_beatles_instruments,\n",
    "        by=\"instrument\"\n",
    "    )\n",
    ")"
   ]
  },
  {
   "cell_type": "markdown",
   "id": "e540df74",
   "metadata": {},
   "source": [
    "### __q4__ Semi-join with multiple keys\n",
    "\n",
    "Construct the `by` argument for `gr.tf_semi_join()` below to filter to *only* persons who were in the Beatles.\n"
   ]
  },
  {
   "cell_type": "code",
   "execution_count": null,
   "id": "0f4dfe84",
   "metadata": {},
   "outputs": [],
   "source": [
    "## TASK: Construct the `by` argument below to filter to *only* persons who were in the Beatles\n",
    "(\n",
    "    gr.df_make(\n",
    "        surname=[\"Clapton\", \"Harrison\", \"Shankar\", \"Wooten\", \"McCartney\"],\n",
    "        instrument=[\"guitar\", \"guitar\", \"sitar\", \"bass\", \"bass\"],\n",
    "    )\n",
    "    >> gr.tf_semi_join(\n",
    "        df_beatles_instruments,\n",
    "        ## TODO: Construct the proper `by` argument\n",
    "\n",
    "    )\n",
    ")"
   ]
  },
  {
   "cell_type": "markdown",
   "id": "6d42bcaf",
   "metadata": {},
   "source": [
    "# Going Further: Airports dataset\n",
    "\n",
    "We'll use the `nycflights13` package to demonstrate joins in a more realistic situation. This is a dataset of flights involving the New York City area during 2013.\n"
   ]
  },
  {
   "cell_type": "code",
   "execution_count": null,
   "id": "3bb716fc",
   "metadata": {},
   "outputs": [],
   "source": [
    "from nycflights13 import flights as df_flights\n",
    "df_flights"
   ]
  },
  {
   "cell_type": "markdown",
   "id": "02632ab2",
   "metadata": {},
   "source": [
    "### __q5__ Make a \"grid\" of filter criteria\n",
    "\n",
    "Use `gr.df_grid()` to make a DataFrame with the rows.\n",
    "\n",
    "| `month` | `dest` |\n",
    "|---------|--------|\n",
    "|    8    |  \"SJC\" |\n",
    "|    8    |  \"SFO\" |\n",
    "|    8    |  \"OAK\" |\n",
    "|    9    |  \"SJC\" |\n",
    "|    9    |  \"SFO\" |\n",
    "|    9    |  \"OAK\" |\n",
    "\n",
    "*Note*: We'll use this grid soon in a filtering join.\n"
   ]
  },
  {
   "cell_type": "code",
   "execution_count": null,
   "id": "b546d877",
   "metadata": {},
   "outputs": [],
   "source": [
    "## TASK: Use gr.df_grid() to make the DataFrame described above\n",
    "df_criteria = None\n",
    "\n",
    "\n",
    "## NOTE: Use this to check your work\n",
    "assert \\\n",
    "    \"month\" in df_criteria.columns, \\\n",
    "    \"df_criteria does not have a 'month' column\"\n",
    "\n",
    "assert \\\n",
    "    \"dest\" in df_criteria.columns, \\\n",
    "    \"df_criteria does not have a 'dest' column\"\n",
    "\n",
    "assert \\\n",
    "    df_criteria.shape[0] == 6, \\\n",
    "    \"df_criteria has the wrong number of columns\"\n",
    "\n",
    "df_criteria"
   ]
  },
  {
   "cell_type": "markdown",
   "id": "29f68c1f",
   "metadata": {},
   "source": [
    "There are *many* carriers in this dataset; let's figure out which carriers are associated with flights in August (`month==8`) and September (`month==9`) to the San Francisco Bay Area (SJC, SFO, OAK).\n"
   ]
  },
  {
   "cell_type": "code",
   "execution_count": null,
   "id": "611e5b9a",
   "metadata": {},
   "outputs": [],
   "source": [
    "(\n",
    "    df_flights\n",
    "    >> gr.tf_count(DF.carrier)\n",
    ")"
   ]
  },
  {
   "cell_type": "markdown",
   "id": "38100820",
   "metadata": {},
   "source": [
    "### __q6__ Count the Bay area carriers\n",
    "\n",
    "Perform a semi-join to filter `df_flights` using all the columns of `df_criteria`. Answer the questions under *observations* below.\n"
   ]
  },
  {
   "cell_type": "code",
   "execution_count": null,
   "id": "4b0c7faf",
   "metadata": {},
   "outputs": [],
   "source": [
    "## TASK: Semi-join with df_criteria\n",
    "(\n",
    "    df_flights\n",
    "    ## TODO: Do your semi-join here\n",
    "\n",
    "    >> gr.tf_count(DF.carrier)\n",
    ")"
   ]
  },
  {
   "cell_type": "markdown",
   "id": "ac379061",
   "metadata": {},
   "source": [
    "*Observations*\n",
    "\n",
    "- How many carriers provided flights to the SF Bay Area in the months considered?\n",
    "  - (Your response here)\n",
    "- How does this number of carriers compare with the total number of carriers?\n",
    "  - (Your response here)\n"
   ]
  },
  {
   "cell_type": "markdown",
   "id": "19849aa6",
   "metadata": {},
   "source": [
    "Unless you work in the airline industry, it's probably difficult to make sense of these carrier codes. Thankfully the `nycflights13` package comes with a dataset that helps disambiguate these codes:\n"
   ]
  },
  {
   "cell_type": "code",
   "execution_count": null,
   "id": "07be2b20",
   "metadata": {},
   "outputs": [],
   "source": [
    "from nycflights13 import airlines as df_airlines\n",
    "df_airlines"
   ]
  },
  {
   "cell_type": "markdown",
   "id": "768eaf58",
   "metadata": {},
   "source": [
    "### __q7__ Make the data more interpretable\n",
    "\n",
    "Use the appropriate kind of join to add the `name` column to the results below. Answer the questions under *observations* below.\n"
   ]
  },
  {
   "cell_type": "code",
   "execution_count": null,
   "id": "191c5406",
   "metadata": {},
   "outputs": [],
   "source": [
    "## TASK: Add the `name` column from `df_airlines`\n",
    "(\n",
    "    df_flights\n",
    "    >> gr.tf_semi_join(df_criteria, by=[\"month\", \"dest\"])\n",
    "    >> gr.tf_count(DF.carrier)\n",
    "\n",
    ")"
   ]
  },
  {
   "cell_type": "markdown",
   "id": "da3ad800",
   "metadata": {},
   "source": [
    "*Observations*\n",
    "\n",
    "- Which carrier had the most flights in subset considered?\n",
    "  - (Your response here)\n"
   ]
  }
 ],
 "metadata": {
  "kernelspec": {
   "display_name": "Python 3 (ipykernel)",
   "language": "python",
   "name": "python3"
  },
  "language_info": {
   "codemirror_mode": {
    "name": "ipython",
    "version": 3
   },
   "file_extension": ".py",
   "mimetype": "text/x-python",
   "name": "python",
   "nbconvert_exporter": "python",
   "pygments_lexer": "ipython3",
   "version": "3.9.7"
  }
 },
 "nbformat": 4,
 "nbformat_minor": 5
}
