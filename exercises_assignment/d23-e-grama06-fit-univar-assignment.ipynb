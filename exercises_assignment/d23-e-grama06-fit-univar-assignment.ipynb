{
 "cells": [
  {
   "cell_type": "markdown",
   "id": "6e9c07a0",
   "metadata": {},
   "source": [
    "# Grama: Fitting Univariate Distributions\n",
    "\n",
    "*Purpose*: As we've seen through studying a lot of datasets, many physical systems exhibit variability and other forms of uncertainty. Thus, it is beneficial to be able to *model* uncertainty using distributions. In this two-part exercise, we'll first learn how to fit a distribution for a *single* quantity, then learn how to deal with *multiple* related quantities.\n",
    "\n",
    "In the final exercise `e-grama08-duu` we'll see how to use a distribution model to do useful engineering work.\n"
   ]
  },
  {
   "cell_type": "markdown",
   "id": "8e08bbf0",
   "metadata": {},
   "source": [
    "## Setup\n"
   ]
  },
  {
   "cell_type": "code",
   "execution_count": null,
   "id": "c57cbdcb",
   "metadata": {},
   "outputs": [],
   "source": [
    "import grama as gr\n",
    "DF = gr.Intention()\n",
    "%matplotlib inline"
   ]
  },
  {
   "cell_type": "markdown",
   "id": "b3ddc070",
   "metadata": {},
   "source": [
    "For this exercise, we'll study a dataset of observations on die cast aluminum parts.\n"
   ]
  },
  {
   "cell_type": "code",
   "execution_count": null,
   "id": "7d8b727f",
   "metadata": {},
   "outputs": [],
   "source": [
    "## NOTE: No need to edit\n",
    "from grama.data import df_shewhart\n"
   ]
  },
  {
   "cell_type": "markdown",
   "id": "7080e063",
   "metadata": {},
   "source": [
    "# Why fit a distribution?\n",
    "\n",
    "Before we start fitting distributions: *Why* would we ever want to fit a distribution?\n",
    "\n",
    "As we've seen from studying a large number of datasets, most engineering data exhibit [variability](https://zdelrosario.github.io/evc-course/exercises_solution/d08-e-stat02-source-solution.html). If the variability is real, it can have real impacts on the engineering systems we design.\n",
    "\n",
    "For instance, here's a dataset of realized aluminum tensile strength values:\n"
   ]
  },
  {
   "cell_type": "code",
   "execution_count": null,
   "id": "de24e24d",
   "metadata": {},
   "outputs": [],
   "source": [
    "# NOTE: No need to edit; run and inspect\n",
    "(\n",
    "    df_shewhart\n",
    "    >> gr.ggplot(gr.aes(\"tensile_strength\"))\n",
    "    + gr.geom_histogram(bins=20)\n",
    ")"
   ]
  },
  {
   "cell_type": "markdown",
   "id": "d991a5e9",
   "metadata": {},
   "source": [
    "Clearly, these data exhibit variability---they do not take a single value.\n"
   ]
  },
  {
   "cell_type": "markdown",
   "id": "94b5e994",
   "metadata": {},
   "source": [
    "## Dangers of assuming the mean\n",
    "\n",
    "Why don't we just take the mean of `tensile_strength` and use that for design? It turns out this approach is *very dangerous* when safety is a consideration. Let's take a look at the tensile strength of an aluminum alloy.\n"
   ]
  },
  {
   "cell_type": "code",
   "execution_count": null,
   "id": "099913cc",
   "metadata": {},
   "outputs": [],
   "source": [
    "# NOTE: No need to edit; run and inspect\n",
    "(\n",
    "    df_shewhart\n",
    "    >> gr.ggplot(gr.aes(\"tensile_strength\"))\n",
    "    + gr.geom_histogram(bins=20)\n",
    "    + gr.geom_vline(\n",
    "        data=df_shewhart\n",
    "        >> gr.tf_summarize(tensile_strength=gr.mean(DF.tensile_strength)),\n",
    "        mapping=gr.aes(xintercept=\"tensile_strength\"),\n",
    "        linetype=\"dashed\",\n",
    "    )\n",
    ")"
   ]
  },
  {
   "cell_type": "markdown",
   "id": "1901729a",
   "metadata": {},
   "source": [
    "Clearly, values of `tensile_strength` tend to land both above and below the mean. But what ramifications does this have for engineering design?\n"
   ]
  },
  {
   "cell_type": "markdown",
   "id": "5e3527df",
   "metadata": {},
   "source": [
    "### __q1__ What fraction of `tensile_strength` is below the mean?\n",
    "\n",
    "Compute the fraction of observations in `df_shewhart` where `tensile_strength < mean(tensile_strength)`. Answer the questions under *observations* below.\n"
   ]
  },
  {
   "cell_type": "code",
   "execution_count": null,
   "id": "f912e56e",
   "metadata": {},
   "outputs": [],
   "source": [
    "## TASK: Compute the fraction of values where tensile_strength < mean(tensile_strength)\n",
    "(\n",
    "    df_shewhart\n",
    "\n",
    ")"
   ]
  },
  {
   "cell_type": "markdown",
   "id": "719928d9",
   "metadata": {},
   "source": [
    "*Observations*\n",
    "\n",
    "For these questions, assume the variability in `tensile_strength` is real; that is, the variability is not simply due to measurement error.\n",
    "\n",
    "- What fraction of observations have `tensile_strength < mean(tensile_strength)`?\n",
    "  - (Your response here)\n",
    "- Suppose a design assumed `mean(tensile_strength)` as the design stress; that is, every part would be subject to a stress equal to `mean(tensile_strength)`. The fraction you computed above would be the fraction of parts that would fail. Would this failure rate be acceptable for any engineering system involving human safety?\n",
    "  - (Your response here)\n"
   ]
  },
  {
   "cell_type": "markdown",
   "id": "079ec9bd",
   "metadata": {},
   "source": [
    "Rather than just assume a fixed value for `tensile_strength`, we can model it as uncertain and design around that uncertainty. We'll learn how to make these kinds of engineering decisions in a future exercise; for now, let's\n"
   ]
  },
  {
   "cell_type": "markdown",
   "id": "0c3ddf5b",
   "metadata": {},
   "source": [
    "## Random variables\n",
    "\n",
    "Clearly `tensile_strength` does not take a single value; therefore, we should think of `tensile_strength` as a *random variable*. A random variable is a mathematical object that we can use to model an uncertain quantity. Unlike a *deterministic variable* that has one fixed value (say $x = 1$), a random variable can take a different value each time we *observe* it. For instance, if $X$ were a random variable, and we used $X_i$ to denote the value that occurs on the $i$-th observation, then we might see a sequence like\n",
    "\n",
    "$$X_1 = 1, X_2 = -3, X_3 = 1, X_4 = 5, \\dots$$\n",
    "\n",
    "What counts as an *observation* depends on what we are using the random variable to model. Essentially, an observation is an occurrence that gives us the potential to \"see\" a new value. \n",
    "\n",
    "Let's take a look at the `tensile_strength` example to get a better sense of these ideas.\n"
   ]
  },
  {
   "cell_type": "markdown",
   "id": "3c2bb9b2",
   "metadata": {},
   "source": [
    "For the `tensile_strength`, we saw a sequence of different values:"
   ]
  },
  {
   "cell_type": "code",
   "execution_count": null,
   "id": "e5342cde",
   "metadata": {},
   "outputs": [],
   "source": [
    "## NOTE: No need to edit\n",
    "(\n",
    "    df_shewhart\n",
    "    >> gr.tf_head(4)\n",
    ")"
   ]
  },
  {
   "cell_type": "markdown",
   "id": "29ad3cc5",
   "metadata": {},
   "source": [
    "Every time we manufacture a new part, we perform a sequence of manufacturing steps that work together to \"lock in\" a particular value of `tensile_strength`. Those individual steps tend to go slightly differently each time we make a part (e.g. an operator calls in sick one day, we get a slightly more dense batch of raw material, it's a particularly hot summer day, etc.), so we end up with different properties in each part.\n",
    "\n",
    "Given the complicated realities of manfacturing, it makes sense to think of an *observation* as being one complete run of the manufacturing process that generates a particular part with its own `tensile_strength`. This is what the `specimen` column in `df_shewhart` refers to; a unique identifier tracking individual runs of the complete manufacturing process, resulting in a unique part.\n"
   ]
  },
  {
   "cell_type": "markdown",
   "id": "92cb6d04",
   "metadata": {},
   "source": [
    "```{admonition} Nomenclature: A *realization* is like a single roll of a die\n",
    "Some nomenclature: When we talk about random quantities, we use the term *realization* (or *observation*) to refer to a single event that yields a random value, according to a particular distribution. For instance, a single manufactured part will have a realized strength value. If we take multiple realizations, we will tend to see different values. For instance, we saw a large amount of variability among the realized `tensile_strength` values above.\n",
    "\n",
    "A single realization tells us very little about how the distribution tends to behave, but a set of realizations (a *sample*) will give us a sense of how the random values tend to behave *collectively*. A distribution is a way to model that collective behavior.\n",
    "```"
   ]
  },
  {
   "cell_type": "markdown",
   "id": "02d67bcf",
   "metadata": {},
   "source": [
    "## A distribution defines a random variable\n",
    "\n",
    "As we saw in `e-stat04-distributions`, we can use distributions to quantitatively describe an uncertain quantity. **A distribution defines a random variable**. We say that a random variable $X$ is *distributed according to* a particular density $\\rho$, and we express the same statement mathematically as\n",
    "\n",
    "$$X \\sim \\rho.$$\n",
    "\n",
    "We learned how to compute useful quantities using distributions in `e-stat04-distributions`; in the rest of this exercise, we'll learn how to *fit* a distribution in order use information from a dataset to model observations from the physical world.\n"
   ]
  },
  {
   "cell_type": "markdown",
   "id": "877f3220",
   "metadata": {},
   "source": [
    "# The steps to fitting\n",
    "\n",
    "1. Check for *statistical control*\n",
    "2. Select candidate distributions\n",
    "3. Fit and assess\n"
   ]
  },
  {
   "cell_type": "markdown",
   "id": "2baa7fb2",
   "metadata": {},
   "source": [
    "# 1. Check for *statistical control*\n",
    "\n",
    "Sometimes the variability we see in a dataset can be *explained*; in this case, we shouldn't just model it as random---we should work to understand *why* we saw that variability, and try to eliminate that source of variation. As we saw in [`e-stat06-spc`](https://zdelrosario.github.io/evc-course/exercises_solution/d22-e-stat06-spc-solution.html), we can use *control charts* to hunt for explainable sources of variability.\n",
    "\n",
    "> If we find no explainable sources of variability in a dataset, we can *provisionally* declare that the data are under *statistical control*, and model the variability as random.\n"
   ]
  },
  {
   "cell_type": "markdown",
   "id": "9a3f3991",
   "metadata": {},
   "source": [
    "### __q2__ Assess statistical control\n",
    "\n",
    "Assess the state of statistical control of `tensile_strength` using an X-bar and S chart. Answer the questions under *observations* below.\n",
    "\n",
    "*Hint*: You did this at the end of [e-stat06-spc](https://zdelrosario.github.io/evc-course/exercises_solution/d22-e-stat06-spc-solution.html); see that exercise for a refresher if you need it.\n"
   ]
  },
  {
   "cell_type": "code",
   "execution_count": null,
   "id": "8961fa0c",
   "metadata": {},
   "outputs": [],
   "source": [
    "## TASK: Assess statistical control with an Xbar and S chart\n",
    "(\n",
    "    df_shewhart\n",
    "\n",
    ")"
   ]
  },
  {
   "cell_type": "markdown",
   "id": "b31a7532",
   "metadata": {},
   "source": [
    "*Observations*\n",
    "\n",
    "- What assumptions did you need to make to construct a control chart?\n",
    "  - (Your response here)\n",
    "- Does `tensile_strength` seem to be under statistical control?\n",
    "  - (Your response here)\n"
   ]
  },
  {
   "cell_type": "markdown",
   "id": "6b3e107f",
   "metadata": {},
   "source": [
    "If the data seem to be under statistical control, then we can model the measured value as random. For this exercise, we'll assume that `tensile_strengh` is under statistical control and proceed with modeling.\n"
   ]
  },
  {
   "cell_type": "markdown",
   "id": "4d5ec044",
   "metadata": {},
   "source": [
    "# 2. Select candidate distributions\n",
    "\n",
    "Once we've decided to proceed modeling a quantity as random, we next need to select candidate distributions to represent the quantity. This is a process that should involve critical thinking about the physical quantity.\n",
    "\n",
    "## (Short) list of distributions\n",
    "\n",
    "The following is a short list of distributions, along with a short description for each. The description information is helpful for choosing candidate distributions.\n",
    "\n",
    "| Distribution | Name | Description |\n",
    "|---|---|---|\n",
    "| Normal (Gaussian) | `\"norm\"` | symmetric; infinite extent |\n",
    "| Lognormal | `\"lognorm\"` | asymmetric; semi-infinite (positive) |\n",
    "| Uniform | `\"uniform\"` | flat, bounded |\n",
    "| Beta | `\"beta\"` | flexible shape, bounded |\n",
    "| Weibull | `\"weibull_min\"` | asymmetric; semi-infinite (positive) |\n",
    "\n",
    "For a longer list of supported distributions, see the [scipy documentation](https://docs.scipy.org/doc/scipy/reference/stats.html) for continuous distributions.\n"
   ]
  },
  {
   "cell_type": "markdown",
   "id": "6355833e",
   "metadata": {},
   "source": [
    "### __q3__ Select reasonable distributions for `tensile_strength`\n",
    "\n",
    "From the list above, select a few *reasonable* distributions that could describe the `tensile_strength`.\n",
    "\n",
    "List the distributions below:\n",
    "\n",
    "- (Distribution name) - (Why this choice is reasonable)\n",
    "- (Distribution name) - (Why this choice is reasonable)\n",
    "- ...\n"
   ]
  },
  {
   "cell_type": "markdown",
   "id": "7e4d4f18",
   "metadata": {},
   "source": [
    "# 3. Fit and assess\n",
    "\n",
    "Now that we've selected reasonable distributions for our quantity, we can fit and assess the distributions.\n"
   ]
  },
  {
   "cell_type": "markdown",
   "id": "cf30df85",
   "metadata": {},
   "source": [
    "## Grama tools for fitting\n",
    "\n",
    "Grama provides two ways to fit a distribution:\n",
    "\n",
    "| Verb | Purpose |\n",
    "|------|---------|\n",
    "| `gr.marg_mom()` | Fit a distribution based on a handful of statistics, e.g. mean and variance |\n",
    "| `gr.marg_fit()` | Fit a distribution using multiple observations, e.g. `df_shewhart.tensile_strength` |\n",
    "\n",
    "Let's learn how to use both!\n"
   ]
  },
  {
   "cell_type": "markdown",
   "id": "3bad96a7",
   "metadata": {},
   "source": [
    "### __q4__ Fit a normal distribution\n",
    "\n",
    "Complete the arguments for both `gr.marg_mom()` and `gr.marg_fit()` below to fit a normal distribution for the `tensile_strength`.\n",
    "\n",
    "*Hint 1*: Remember the table above (`Short list of distributions`) lists the string names for a set of distributions.\n",
    "\n",
    "*Hint 2*: Remember to use the documentation to learn how to call a new function!\n"
   ]
  },
  {
   "cell_type": "code",
   "execution_count": null,
   "id": "668709b5",
   "metadata": {},
   "outputs": [],
   "source": [
    "## TASK: Complete the arguments for the two functions below\n",
    "mg_mom = gr.marg_mom(\n",
    "    ## TODO: Complete the arguments\n",
    "\n",
    ")\n",
    "\n",
    "mg_fit = gr.marg_fit(\n",
    "    ## TODO: Complete the arguments\n",
    "\n",
    ")\n",
    "\n",
    "## NOTE: No need to edit; this will run when you complete the task\n",
    "print(mg_mom)\n",
    "print(mg_fit)"
   ]
  },
  {
   "cell_type": "markdown",
   "id": "ddf9230e",
   "metadata": {},
   "source": [
    "## QQ plots\n",
    "\n",
    "A [QQ plot](https://en.wikipedia.org/wiki/Q%E2%80%93Q_plot) is a statistical tool for assessing the quality of a distribution fit. A QQ plot visualizes the [quantiles](https://zdelrosario.github.io/evc-course/exercises_solution/d19-e-stat04-distributions-solution.html#quantiles) of the dataset against the quantiles of the fitted distribution: A perfect fit will have all points fall along the line $y = x$.\n",
    "\n",
    "The grama helper `gr.qqvals()` is used within a call to `gr.tf_mutate()`; we use `gr.qqvals()` to compute the theoretical quantiles for a QQ plot.\n"
   ]
  },
  {
   "cell_type": "markdown",
   "id": "8896b806",
   "metadata": {},
   "source": [
    "### __q5__ Inspect a \"perfect\" QQ plot\n",
    "\n",
    "The following code draws a sample from a normal distribution, then assesses a normal fit of that dataset using a QQ plot. Run the code, inspect the plot, then answer the questions under *observations* below.\n"
   ]
  },
  {
   "cell_type": "code",
   "execution_count": null,
   "id": "d324a301",
   "metadata": {},
   "outputs": [],
   "source": [
    "## NOTE: No need to edit; run and inspect\n",
    "# Define a standard normal distribution\n",
    "mg_norm = gr.marg_mom(\"norm\", mean=0, sd=1)\n",
    "\n",
    "(\n",
    "    # Draw some random values\n",
    "    gr.df_make(z=mg_norm.r(100))\n",
    "    # Compute theoretical quantiles based on fitted normal\n",
    "    >> gr.tf_mutate(q=gr.qqvals(DF.z, \"norm\"))\n",
    "    \n",
    "    # Visualize\n",
    "    >> gr.ggplot(gr.aes(\"q\", \"z\"))\n",
    "    # Add a guideline\n",
    "    + gr.geom_abline(intercept=0, slope=1, linetype=\"dashed\")\n",
    "    \n",
    "    + gr.geom_point()\n",
    "    + gr.labs(x=\"Fitted Quantiles\", y=\"Observed Quantiles\")\n",
    ")"
   ]
  },
  {
   "cell_type": "markdown",
   "id": "98847672",
   "metadata": {},
   "source": [
    "*Observations*\n",
    "\n",
    "- How \"straight\" do the observations appear?\n",
    "  - (Your response here)\n",
    "\n",
    "Keep in mind that this is what a *perfectly chosen* distribution will look like on a QQ plot; the plot above (with all of its imperfections) is what the *best possible* fit will look like!\n"
   ]
  },
  {
   "cell_type": "markdown",
   "id": "ccd91e47",
   "metadata": {},
   "source": [
    "### __q6__ Fit a distribution for the `tensile_strength`\n",
    "\n",
    "Pick a distribution from the list of \"reasonable\" distributions you generated in `__q3__ Select reasonable distributions`, and fit a distribution for `df_shewhart.tensile_strength`. Answer the questions under *observations* below.\n",
    "\n",
    "*Hint*: If you choose to fit a `\"lognorm\"` or `\"weibull_min\"`, you may find it helpful to set the keyword argument `floc=0` to use the 2-parameter version of the distribution. Anecdotally, I find the 2-parameter version to be more stable for small datasets.\n"
   ]
  },
  {
   "cell_type": "code",
   "execution_count": null,
   "id": "42858fe0",
   "metadata": {},
   "outputs": [],
   "source": [
    "# TASK: Fit a distribution for the tensile_strength;\n",
    "# assign it to mg_user below\n",
    "mg_user = None # TODO: Fit a distribution for tensile_strength\n",
    "\n",
    "\n",
    "# NOTE: Don't edit this; use to check your results\n",
    "mg_base = gr.marg_fit(\n",
    "    \"gengamma\",\n",
    "    df_shewhart.tensile_strength,\n",
    "    floc=0,\n",
    ")\n",
    "\n",
    "(\n",
    "    df_shewhart\n",
    "    >> gr.tf_mutate(\n",
    "        q_baseline=gr.qqvals(DF.tensile_strength, marg=mg_base),\n",
    "        q_user=gr.qqvals(DF.tensile_strength, marg=mg_user),\n",
    "    )\n",
    "    >> gr.tf_pivot_longer(\n",
    "        columns=gr.contains(\"q_\"),\n",
    "        names_to=[\".value\", \"dist\"],\n",
    "        names_sep=\"_\",\n",
    "    )\n",
    "    \n",
    "    >> gr.ggplot(gr.aes(\"q\", \"tensile_strength\", color=\"dist\"))\n",
    "    + gr.geom_abline(intercept=0, slope=1, linetype=\"dashed\")\n",
    "    + gr.geom_point()\n",
    "    + gr.labs(x=\"Reference Quantiles\", y=\"Observed Quantiles\")\n",
    ")"
   ]
  },
  {
   "cell_type": "markdown",
   "id": "a31674a2",
   "metadata": {},
   "source": [
    "*Observations*\n",
    "\n",
    "- What distribution did you choose to fit?\n",
    "  - (Your response here)\n",
    "- How does your distribution (`user`) compare with the generalized gamma distribution (`base`)?\n",
    "  - (Your response here)\n"
   ]
  },
  {
   "cell_type": "markdown",
   "id": "37728b7d",
   "metadata": {},
   "source": [
    "# Use the model\n",
    "\n",
    "Once we've fit a distribution, we can use it to do useful work! We'll discuss this further in a future exercise, but we'll do a quick tour below.\n"
   ]
  },
  {
   "cell_type": "markdown",
   "id": "844188c9",
   "metadata": {},
   "source": [
    "## Beyond assuming the mean\n",
    "\n",
    "Above, we saw that simply using the mean of `tensile_strength` for design was dangerous for safety-critical applications. Let's talk about a more principled way to address the variability in `tensile_strength`.\n",
    "\n",
    "For a simple structural member subject to uniaxial tension, we can define its *limit state function $g$ via\n",
    "\n",
    "$$g_{\\text{tension}} = S - F/A,$$\n",
    "\n",
    "where $S$ is the strength, $F$ is the applied tensile load, and $A$ is the cross-sectional area. The limit state models the failure criterion; when $g > 0$ the structure operates safely, while $g \\leq 0$ corresponds to failure. The following code implements a grama model with this function, uses **your** model for the `tensile_strength`, and defines a distribution for an uncertain load:\n"
   ]
  },
  {
   "cell_type": "code",
   "execution_count": null,
   "id": "47f13c4e",
   "metadata": {},
   "outputs": [],
   "source": [
    "## NOTE: No need to edit\n",
    "md_structure = (\n",
    "    gr.Model(\"Uniaxial tension member\")\n",
    "    >> gr.cp_vec_function(\n",
    "        fun=lambda df: gr.df_make(\n",
    "            g_tension=df.S - df.F / df.A,\n",
    "        ),\n",
    "        var=[\"S\", \"F\", \"A\"],\n",
    "        out=[\"g_tension\"],\n",
    "    )\n",
    "    >> gr.cp_bounds(A=(1.0, 5.0))\n",
    "    >> gr.cp_marginals(\n",
    "        S=mg_user,\n",
    "        F=gr.marg_mom(\"lognorm\", mean=8e4, cov=0.1, floc=0),\n",
    "    )\n",
    "    >> gr.cp_copula_independence()\n",
    ")\n",
    "md_structure"
   ]
  },
  {
   "cell_type": "markdown",
   "id": "1472c649",
   "metadata": {},
   "source": [
    "We can use this model to assess the probability of failure of several values of $A$, to help inform a design decision.\n"
   ]
  },
  {
   "cell_type": "markdown",
   "id": "2afe477c",
   "metadata": {},
   "source": [
    "### __q7__ Evaluate the model\n",
    "\n",
    "Draw a random sample from `md_structure` at different values of the cross-sectional area `A`. Answer the questions under *observations* below.\n"
   ]
  },
  {
   "cell_type": "code",
   "execution_count": null,
   "id": "6fb699a0",
   "metadata": {},
   "outputs": [],
   "source": [
    "## TASK: Evaluate a random sample\n",
    "(\n",
    "    md_structure\n",
    "    ## TODO: Evaluate the model here\n",
    "\n",
    "    \n",
    "    ## NOTE: No need to edit; use this to analyze the random sample\n",
    "    >> gr.tf_group_by(DF.A)\n",
    "    >> gr.tf_summarize(\n",
    "        pof_lo=gr.binomial_ci(DF.g_tension <= 0, alpha=0.95, side=\"lo\"),\n",
    "        pof_mu=gr.mean(DF.g_tension <= 0),\n",
    "        pof_up=gr.binomial_ci(DF.g_tension <= 0, alpha=0.95, side=\"up\"),\n",
    "    )\n",
    ")"
   ]
  },
  {
   "cell_type": "markdown",
   "id": "8a02813a",
   "metadata": {},
   "source": [
    "*Observations*\n",
    "\n",
    "- Can you find a value of `A` where you can *confidently* say the probability of failure (pof) is `pof < 0.01`?\n",
    "  - (Your response here)\n"
   ]
  }
 ],
 "metadata": {
  "kernelspec": {
   "display_name": "Python 3 (ipykernel)",
   "language": "python",
   "name": "python3"
  },
  "language_info": {
   "codemirror_mode": {
    "name": "ipython",
    "version": 3
   },
   "file_extension": ".py",
   "mimetype": "text/x-python",
   "name": "python",
   "nbconvert_exporter": "python",
   "pygments_lexer": "ipython3",
   "version": "3.9.7"
  }
 },
 "nbformat": 4,
 "nbformat_minor": 5
}
