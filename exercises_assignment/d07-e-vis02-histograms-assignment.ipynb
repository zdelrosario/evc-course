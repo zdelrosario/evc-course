{
 "cells": [
  {
   "cell_type": "markdown",
   "id": "7d7277c6",
   "metadata": {},
   "source": [
    "# Vis: Histograms\n",
    "\n",
    "*Purpose*: *Histograms* are a key tool for EDA, as they are a powerful lense to help us understand how a single variable is \"distributed\" in a dataset. In this exercise we'll introduce and interpret histograms and some variants (frequency polygons).\n"
   ]
  },
  {
   "cell_type": "markdown",
   "id": "12035387",
   "metadata": {},
   "source": [
    "## Setup\n"
   ]
  },
  {
   "cell_type": "code",
   "execution_count": null,
   "id": "e6b906c4",
   "metadata": {},
   "outputs": [],
   "source": [
    "import grama as gr\n",
    "DF = gr.Intention()\n",
    "%matplotlib inline"
   ]
  },
  {
   "cell_type": "markdown",
   "id": "bc0cdd9b",
   "metadata": {},
   "source": [
    "We'll use the `mpg` dataset from `plotnine`: This is a dataset describing different automobiles, including their mileage (hence mpg).\n"
   ]
  },
  {
   "cell_type": "code",
   "execution_count": null,
   "id": "2460b216",
   "metadata": {},
   "outputs": [],
   "source": [
    "from plotnine.data import mpg as df_mpg"
   ]
  },
  {
   "cell_type": "markdown",
   "id": "aa57e366",
   "metadata": {},
   "source": [
    "# Introduction\n",
    "\n",
    "## What is a Histogram?\n",
    "\n",
    "As we saw in the previous exercise, a bar plot shows the count of observations within various categories:\n"
   ]
  },
  {
   "cell_type": "code",
   "execution_count": null,
   "id": "ced3077d",
   "metadata": {},
   "outputs": [],
   "source": [
    "## NOTE: No need to edit\n",
    "(\n",
    "    df_mpg\n",
    "    >> gr.ggplot(gr.aes(x=\"class\"))\n",
    "    + gr.geom_bar()\n",
    ")"
   ]
  },
  {
   "cell_type": "markdown",
   "id": "07872133",
   "metadata": {},
   "source": [
    "However, if we try to visualize a *continuous* variable with a bar chart, we're likely to run into issues. It happens that the *exact same* values do occur multiple times in the `df_mpg` dataset, but that is due to rounding:\n"
   ]
  },
  {
   "cell_type": "code",
   "execution_count": null,
   "id": "722de5a6",
   "metadata": {},
   "outputs": [],
   "source": [
    "## NOTE: No need to edit\n",
    "(\n",
    "    df_mpg\n",
    "    >> gr.ggplot(gr.aes(x=\"displ\"))\n",
    "    + gr.geom_bar()\n",
    ")"
   ]
  },
  {
   "cell_type": "markdown",
   "id": "177711c3",
   "metadata": {},
   "source": [
    "If we didn't have rounding, it would be harder to visualize the data with a bar chart:\n"
   ]
  },
  {
   "cell_type": "code",
   "execution_count": null,
   "id": "c413ba75",
   "metadata": {},
   "outputs": [],
   "source": [
    "## NOTE: No need to edit\n",
    "(\n",
    "    df_mpg\n",
    "    >> gr.tf_mutate(\n",
    "        ## Simulate a lack of rounding by \"jittering\" the displ values\n",
    "        displ=DF.displ + gr.marg_mom(\"norm\", mean=0, sd=0.1).r(df_mpg.shape[0])\n",
    "    )\n",
    "    >> gr.ggplot(gr.aes(x=\"displ\"))\n",
    "    + gr.geom_bar()\n",
    ")"
   ]
  },
  {
   "cell_type": "markdown",
   "id": "a416226b",
   "metadata": {},
   "source": [
    "Rather than *assuming* repetitions of continuous values, we can instead *bin* the values into groups. For instance, the following bins the `displ` values to the nearest integer:\n"
   ]
  },
  {
   "cell_type": "code",
   "execution_count": null,
   "id": "ffcb924b",
   "metadata": {},
   "outputs": [],
   "source": [
    "## NOTE: No need to edit\n",
    "(\n",
    "    df_mpg\n",
    "    >> gr.tf_mutate(displ_group=DF.displ // 1)\n",
    "    >> gr.tf_select(DF.displ, DF.displ_group, gr.everything())\n",
    ")"
   ]
  },
  {
   "cell_type": "markdown",
   "id": "02b3544e",
   "metadata": {},
   "source": [
    "We can use the binned `displ` to create groups and compute counts within each group.\n"
   ]
  },
  {
   "cell_type": "code",
   "execution_count": null,
   "id": "d4fb5311",
   "metadata": {},
   "outputs": [],
   "source": [
    "## NOTE: No need to edit\n",
    "(\n",
    "    df_mpg\n",
    "    >> gr.tf_mutate(displ_group=DF.displ // 1)\n",
    "    >> gr.tf_count(DF.displ_group)\n",
    ")"
   ]
  },
  {
   "cell_type": "markdown",
   "id": "f7ed0f01",
   "metadata": {},
   "source": [
    "Now we can visualize those counts `n` with a column chart:\n"
   ]
  },
  {
   "cell_type": "code",
   "execution_count": null,
   "id": "e89415fc",
   "metadata": {},
   "outputs": [],
   "source": [
    "## NOTE: No need to edit\n",
    "(\n",
    "    df_mpg\n",
    "    >> gr.tf_mutate(displ_group=DF.displ // 1)\n",
    "    >> gr.tf_count(DF.displ_group)\n",
    "    >> gr.ggplot(gr.aes(x=\"displ_group\", y=\"n\"))\n",
    "    + gr.geom_col()\n",
    ")\n"
   ]
  },
  {
   "cell_type": "markdown",
   "id": "f306a57c",
   "metadata": {},
   "source": [
    "## Enter `gr.geom_histogram()`\n",
    "\n",
    "Rather than do all of that grouping manually, the geometry `gr.geom_histogram()` does this automatically. This geometry accepts a `bins` argument that allows us to change the **number** of groups; ggplot then figures out the bin widths automatically.\n"
   ]
  },
  {
   "cell_type": "code",
   "execution_count": null,
   "id": "b8c57a93",
   "metadata": {},
   "outputs": [],
   "source": [
    "## NOTE: No need to edit\n",
    "(\n",
    "    df_mpg\n",
    "    >> gr.ggplot(gr.aes(x=\"displ\"))\n",
    "    + gr.geom_histogram(bins=20)\n",
    ")"
   ]
  },
  {
   "cell_type": "markdown",
   "id": "dbba3bfb",
   "metadata": {},
   "source": [
    "## What do Histograms tell us?\n",
    "\n",
    "Histograms give us a visual sense of *frequency of values* in a dataset. This provides an *extremely* useful window into \"what is going on\" in any given continuous variable. From a histogram, we can tell:\n",
    "\n",
    "- Which are more common values?\n",
    "- Which are less common values?\n",
    "- Do observations tend to cluster at particular values?\n",
    "  - *Note*: A \"bump\" or \"cluster\" of points is sometimes called a *mode*. A dataset with multiple bumps is then called *multi-modal*.\n",
    "- What range of values occur?\n",
    "\n",
    "And so much more.\n",
    "\n",
    "For example, let's interpret the `displ` histogram from above.\n"
   ]
  },
  {
   "cell_type": "code",
   "execution_count": null,
   "id": "4442a971",
   "metadata": {},
   "outputs": [],
   "source": [
    "## NOTE: No need to edit\n",
    "(\n",
    "    df_mpg\n",
    "    >> gr.ggplot(gr.aes(x=\"displ\"))\n",
    "    + gr.geom_histogram(bins=10)\n",
    ")"
   ]
  },
  {
   "cell_type": "markdown",
   "id": "0a14e25c",
   "metadata": {},
   "source": [
    "*Here are my observations*\n",
    "\n",
    "- `displ` ranges between a little under `2` and a bit above `6`.\n",
    "- Smaller values (around `2`) are more common.\n",
    "- There is an additional \"bump\" around `displ == 5`.\n",
    "- Values of `displ == 6` and above are quite rare.\n",
    "\n",
    "Part of the value of such a plot is that it can help us to frame other questions, such as \"Which vehicles *do* have a `displ >= 6`?\n"
   ]
  },
  {
   "cell_type": "markdown",
   "id": "4abc4045",
   "metadata": {},
   "source": [
    "## Rule #1 of Histograms\n",
    "\n",
    "Note that we have to select a number of `bins` when we construct a histogram. This is an important parameter that makes a big difference. Therefore, we have `Rule #1 of Histograms`:\n",
    "\n",
    "```{admonition} Rule #1 of Histograms\n",
    "Experiment with different numbers of `bins` when plotting a histogram.\n",
    "```\n",
    "\n",
    "Different bin counts will enable different observations. For instance, still with the `df_mpg` dataset. You'll practice this below.\n"
   ]
  },
  {
   "cell_type": "markdown",
   "id": "a73911d4",
   "metadata": {},
   "source": [
    "### __q1__ Change the bin size\n",
    "\n",
    "Re-construct the histogram of `displ` in `df_mpg`, and experiment with different bin sizes. Answer the questions under *observations* below.\n"
   ]
  },
  {
   "cell_type": "code",
   "execution_count": null,
   "id": "9db02912",
   "metadata": {},
   "outputs": [],
   "source": [
    "## TASK: Create a histogram of `displ`, experiment with the number of bins\n",
    "(\n",
    "    df_mpg\n",
    "\n",
    ")"
   ]
  },
  {
   "cell_type": "markdown",
   "id": "e927e6c7",
   "metadata": {},
   "source": [
    "*Observations*\n",
    "\n",
    "- What *additional* observations can you make, based on varying the `bins` argument?\n",
    "  - (Your response here)\n"
   ]
  },
  {
   "cell_type": "markdown",
   "id": "092d1e33",
   "metadata": {},
   "source": [
    "## Histogram Variant: Frequency Polygons\n",
    "\n",
    "A useful variant of the histogram is the *frequency polygon*. This simply visualizes the counts as a line rather than with bars:\n"
   ]
  },
  {
   "cell_type": "code",
   "execution_count": null,
   "id": "ad88f692",
   "metadata": {},
   "outputs": [],
   "source": [
    "## NOTE: No need to edit\n",
    "(\n",
    "    df_mpg\n",
    "    >> gr.ggplot(gr.aes(x=\"displ\"))\n",
    "    + gr.geom_freqpoly(bins=20)\n",
    ")"
   ]
  },
  {
   "cell_type": "markdown",
   "id": "be1e7f3e",
   "metadata": {},
   "source": [
    "This may seem like a silly distinction to make, but it is actually *extremely useful* when we start comparing multiple histograms on the same plot. While we would have to dodge (or stack---yuck) bars with multiple groups, lines can sit on top of one another:\n"
   ]
  },
  {
   "cell_type": "code",
   "execution_count": null,
   "id": "cadf1d1b",
   "metadata": {},
   "outputs": [],
   "source": [
    "## NOTE: No need to edit\n",
    "(\n",
    "    df_mpg\n",
    "    >> gr.ggplot(gr.aes(x=\"displ\", color=\"class\"))\n",
    "    + gr.geom_freqpoly(bins=10)\n",
    ")"
   ]
  },
  {
   "cell_type": "markdown",
   "id": "b3e73010",
   "metadata": {},
   "source": [
    "From this frequency polygon plot, we can now see all manner of new insights! For instance:\n",
    "\n",
    "- The `2seater` class tends to have much higher `displ`\n",
    "- The `suv` class tends to have higher `displ`, but some are near the low end\n",
    "- The `midsize` class tends to have much lower `displ`\n"
   ]
  },
  {
   "cell_type": "markdown",
   "id": "7a9aac04",
   "metadata": {},
   "source": [
    "# Case Study: Diamonds\n",
    "\n",
    "Now let's practice using histograms with the diamonds dataset.\n"
   ]
  },
  {
   "cell_type": "code",
   "execution_count": null,
   "id": "eb13e62e",
   "metadata": {},
   "outputs": [],
   "source": [
    "from grama.data import df_diamonds\n",
    "df_diamonds"
   ]
  },
  {
   "cell_type": "markdown",
   "id": "083d5350",
   "metadata": {},
   "source": [
    "This is a dataset of nearly 54,000 diamonds, including their sale price and characteristics (carat, cut, color, clarity) and geometry."
   ]
  },
  {
   "cell_type": "markdown",
   "id": "ba125080",
   "metadata": {},
   "source": [
    "### __q2__ Study the `carat` distribution\n",
    "\n",
    "Create a histogram of the `carat`. Answer the questions under *observations* below.\n"
   ]
  },
  {
   "cell_type": "code",
   "execution_count": null,
   "id": "a04b9e28",
   "metadata": {},
   "outputs": [],
   "source": [
    "## TASK: Create a histogram of `carat`\n",
    "(\n",
    "    df_diamonds\n",
    "\n",
    ")"
   ]
  },
  {
   "cell_type": "markdown",
   "id": "0a8b793a",
   "metadata": {},
   "source": [
    "*Observations*\n",
    "\n",
    "- What range of `carat` values occur in the dataset?\n",
    "  - (Your response here)\n",
    "- What values tend to be more common?\n",
    "  - (Your response here)\n",
    "- What values tend to be less common?\n",
    "  - (Your response here)\n"
   ]
  },
  {
   "cell_type": "markdown",
   "id": "7a6f2604",
   "metadata": {},
   "source": [
    "### __q3__ Study the `carat` distribution, closer look\n",
    "\n",
    "Inspect the following plot. Answer the questions under *observations* below.\n"
   ]
  },
  {
   "cell_type": "code",
   "execution_count": null,
   "id": "ca8051e2",
   "metadata": {},
   "outputs": [],
   "source": [
    "## TASK: No need to edit; run and inspect\n",
    "(\n",
    "    df_diamonds\n",
    "    >> gr.tf_filter(DF.carat < 2.0)\n",
    "    >> gr.ggplot(gr.aes(x=\"carat\"))\n",
    "    + gr.geom_histogram(bins=60)\n",
    "    + gr.scale_x_continuous(breaks=(0.3, 0.4, 0.5, 0.7, 0.9, 1.0, 1.2, 1.5, 1.7))\n",
    ")"
   ]
  },
  {
   "cell_type": "markdown",
   "id": "560fea66",
   "metadata": {},
   "source": [
    "*Observations*\n",
    "\n",
    "- What do you notice about the most-common values of `carat`?\n",
    "  - (Your response here)\n",
    "- Note that `carat` is a quality that a jeweler can control, to some extent. When cutting a diamond, a jeweler can choose to take off less material in order to preserve `carat`, possibly at the loss of not getting as high quality a `cut`. What does the histogram above suggest about jeweler behavior?\n",
    "  - (Your response here)\n"
   ]
  },
  {
   "cell_type": "markdown",
   "id": "26de47c4",
   "metadata": {},
   "source": [
    "### __q4__ Bring in the `cut`\n",
    "\n",
    "Re-create the plot from __q3__, but visualize the `cut` as well. Answer the questions under *observations* below.\n"
   ]
  },
  {
   "cell_type": "code",
   "execution_count": null,
   "id": "502e8589",
   "metadata": {},
   "outputs": [],
   "source": [
    "## TASK: Re-create the plot from q3, but visualize the `cut` as well\n",
    "(\n",
    "    df_diamonds\n",
    "\n",
    ")"
   ]
  },
  {
   "cell_type": "markdown",
   "id": "1f1c61e4",
   "metadata": {},
   "source": [
    "*Observations*\n",
    "\n",
    "- What is the most numerous `cut` at lower `carat` values? (Say `carat <= 0.5`)\n",
    "  - (Your response here)\n",
    "- What is the most numerous cut around `carat == 1.0`?\n",
    "  - (Your response here)\n"
   ]
  }
 ],
 "metadata": {
  "kernelspec": {
   "display_name": "Python 3 (ipykernel)",
   "language": "python",
   "name": "python3"
  },
  "language_info": {
   "codemirror_mode": {
    "name": "ipython",
    "version": 3
   },
   "file_extension": ".py",
   "mimetype": "text/x-python",
   "name": "python",
   "nbconvert_exporter": "python",
   "pygments_lexer": "ipython3",
   "version": "3.9.7"
  }
 },
 "nbformat": 4,
 "nbformat_minor": 5
}
