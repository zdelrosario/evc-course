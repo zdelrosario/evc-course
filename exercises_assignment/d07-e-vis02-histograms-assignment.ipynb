{
 "cells": [
  {
   "cell_type": "markdown",
   "id": "fb74e456",
   "metadata": {},
   "source": [
    "# Vis: Histograms\n",
    "\n",
    "*Purpose*: *Histograms* are a key tool for EDA, as they are a powerful lense to help us understand how a single variable is \"distributed\" in a dataset. In this exercise we'll introduce and interpret histograms and some variants (frequency polygons).\n"
   ]
  },
  {
   "cell_type": "markdown",
   "id": "921234e0",
   "metadata": {},
   "source": [
    "## Setup\n"
   ]
  },
  {
   "cell_type": "code",
   "execution_count": null,
   "id": "25305381",
   "metadata": {},
   "outputs": [],
   "source": [
    "import grama as gr\n",
    "DF = gr.Intention()\n",
    "%matplotlib inline"
   ]
  },
  {
   "cell_type": "markdown",
   "id": "ece20918",
   "metadata": {},
   "source": [
    "We'll use the `mpg` dataset from `plotnine`: This is a dataset describing different automobiles, including their mileage (hence mpg).\n"
   ]
  },
  {
   "cell_type": "code",
   "execution_count": null,
   "id": "7feac94b",
   "metadata": {},
   "outputs": [],
   "source": [
    "from plotnine.data import mpg as df_mpg"
   ]
  },
  {
   "cell_type": "markdown",
   "id": "6d0dda4b",
   "metadata": {},
   "source": [
    "# Introduction\n",
    "\n",
    "## What is a Histogram?\n",
    "\n",
    "As we saw in the previous exercise, a bar plot shows the count of observations within various categories:\n"
   ]
  },
  {
   "cell_type": "code",
   "execution_count": null,
   "id": "12ee2c4b",
   "metadata": {},
   "outputs": [],
   "source": [
    "## NOTE: No need to edit\n",
    "(\n",
    "    df_mpg\n",
    "    >> gr.ggplot(gr.aes(x=\"class\"))\n",
    "    + gr.geom_bar()\n",
    ")"
   ]
  },
  {
   "cell_type": "markdown",
   "id": "11766329",
   "metadata": {},
   "source": [
    "However, if we try to visualize a *continuous* variable with a bar chart, we're likely to run into issues. It happens that the *exact same* values do occur multiple times in the `df_mpg` dataset, but that is due to rounding:\n"
   ]
  },
  {
   "cell_type": "code",
   "execution_count": null,
   "id": "f2e3f31d",
   "metadata": {},
   "outputs": [],
   "source": [
    "## NOTE: No need to edit\n",
    "(\n",
    "    df_mpg\n",
    "    >> gr.ggplot(gr.aes(x=\"displ\"))\n",
    "    + gr.geom_bar()\n",
    ")"
   ]
  },
  {
   "cell_type": "markdown",
   "id": "6be4fec3",
   "metadata": {},
   "source": [
    "If we didn't have rounding, it would be harder to visualize the data with a bar chart:\n"
   ]
  },
  {
   "cell_type": "code",
   "execution_count": null,
   "id": "3969bcfa",
   "metadata": {},
   "outputs": [],
   "source": [
    "## NOTE: No need to edit\n",
    "(\n",
    "    df_mpg\n",
    "    >> gr.tf_mutate(\n",
    "        ## Simulate a lack of rounding by \"jittering\" the displ values\n",
    "        displ=DF.displ + gr.marg_mom(\"norm\", mean=0, sd=0.1).r(df_mpg.shape[0])\n",
    "    )\n",
    "    >> gr.ggplot(gr.aes(x=\"displ\"))\n",
    "    + gr.geom_bar()\n",
    ")"
   ]
  },
  {
   "cell_type": "markdown",
   "id": "122bb6d8",
   "metadata": {},
   "source": [
    "Rather than *assuming* repetitions of continuous values, we can instead *bin* the values into groups. For instance, the following bins the `displ` values to the nearest integer:\n"
   ]
  },
  {
   "cell_type": "code",
   "execution_count": null,
   "id": "4a8b0ace",
   "metadata": {},
   "outputs": [],
   "source": [
    "## NOTE: No need to edit\n",
    "(\n",
    "    df_mpg\n",
    "    >> gr.tf_mutate(displ_group=DF.displ // 1)\n",
    "    >> gr.tf_select(DF.displ, DF.displ_group, gr.everything())\n",
    ")"
   ]
  },
  {
   "cell_type": "markdown",
   "id": "f8f80673",
   "metadata": {},
   "source": [
    "We can use the binned `displ` to create groups and compute counts within each group.\n"
   ]
  },
  {
   "cell_type": "code",
   "execution_count": null,
   "id": "a170b6f8",
   "metadata": {},
   "outputs": [],
   "source": [
    "## NOTE: No need to edit\n",
    "(\n",
    "    df_mpg\n",
    "    >> gr.tf_mutate(displ_group=DF.displ // 1)\n",
    "    >> gr.tf_count(DF.displ_group)\n",
    ")"
   ]
  },
  {
   "cell_type": "markdown",
   "id": "6d215e72",
   "metadata": {},
   "source": [
    "Now we can visualize those counts `n` with a column chart:\n"
   ]
  },
  {
   "cell_type": "code",
   "execution_count": null,
   "id": "62700dc5",
   "metadata": {},
   "outputs": [],
   "source": [
    "## NOTE: No need to edit\n",
    "(\n",
    "    df_mpg\n",
    "    >> gr.tf_mutate(displ_group=DF.displ // 1)\n",
    "    >> gr.tf_count(DF.displ_group)\n",
    "    >> gr.ggplot(gr.aes(x=\"displ_group\", y=\"n\"))\n",
    "    + gr.geom_col()\n",
    ")\n"
   ]
  },
  {
   "cell_type": "markdown",
   "id": "e608f91b",
   "metadata": {},
   "source": [
    "## Enter `gr.geom_histogram()`\n",
    "\n",
    "Rather than do all of that grouping manually, the geometry `gr.geom_histogram()` does this automatically. This geometry accepts a `bins` argument that allows us to change the **number** of groups; ggplot then figures out the bin widths automatically.\n"
   ]
  },
  {
   "cell_type": "code",
   "execution_count": null,
   "id": "dfde0f80",
   "metadata": {},
   "outputs": [],
   "source": [
    "## NOTE: No need to edit\n",
    "(\n",
    "    df_mpg\n",
    "    >> gr.ggplot(gr.aes(x=\"displ\"))\n",
    "    + gr.geom_histogram(bins=20)\n",
    ")"
   ]
  },
  {
   "cell_type": "markdown",
   "id": "3f1b9ba9",
   "metadata": {},
   "source": [
    "## What do Histograms tell us?\n",
    "\n",
    "Histograms give us a visual sense of *frequency of values* in a dataset. This provides an *extremely* useful window into \"what is going on\" in any given continuous variable. From a histogram, we can tell:\n",
    "\n",
    "- Which are more common values?\n",
    "- Which are less common values?\n",
    "- Do observations tend to cluster at particular values?\n",
    "  - *Note*: A \"bump\" or \"cluster\" of points is sometimes called a *mode*. A dataset with multiple bumps is then called *multi-modal*.\n",
    "- What range of values occur?\n",
    "\n",
    "And so much more.\n",
    "\n",
    "For example, let's interpret the `displ` histogram from above.\n"
   ]
  },
  {
   "cell_type": "code",
   "execution_count": null,
   "id": "851dc754",
   "metadata": {},
   "outputs": [],
   "source": [
    "## NOTE: No need to edit\n",
    "(\n",
    "    df_mpg\n",
    "    >> gr.ggplot(gr.aes(x=\"displ\"))\n",
    "    + gr.geom_histogram(bins=10)\n",
    ")"
   ]
  },
  {
   "cell_type": "markdown",
   "id": "e652145b",
   "metadata": {},
   "source": [
    "*Here are my observations*\n",
    "\n",
    "- `displ` ranges between a little under `2` and a bit above `6`.\n",
    "- Smaller values (around `2`) are more common.\n",
    "- There is an additional \"bump\" around `displ == 5`.\n",
    "- Values of `displ == 6` and above are quite rare.\n",
    "\n",
    "Part of the value of such a plot is that it can help us to frame other questions, such as \"Which vehicles *do* have a `displ >= 6`?\n"
   ]
  },
  {
   "cell_type": "markdown",
   "id": "86827aa7",
   "metadata": {},
   "source": [
    "## Rule #1 of Histograms\n",
    "\n",
    "Note that we have to select a number of `bins` when we construct a histogram. This is an important parameter that makes a big difference. Therefore, we have `Rule #1 of Histograms`:\n",
    "\n",
    "```{admonition} Rule #1 of Histograms\n",
    "Experiment with different numbers of `bins` when plotting a histogram.\n",
    "```\n",
    "\n",
    "Different bin counts will enable different observations. For instance, still with the `df_mpg` dataset. You'll practice this below.\n"
   ]
  },
  {
   "cell_type": "markdown",
   "id": "f2ffb337",
   "metadata": {},
   "source": [
    "### __q1__ Change the bin size\n",
    "\n",
    "Re-construct the histogram of `displ` in `df_mpg`, and experiment with different bin sizes. Answer the questions under *observations* below.\n"
   ]
  },
  {
   "cell_type": "code",
   "execution_count": null,
   "id": "c0a6dfd2",
   "metadata": {},
   "outputs": [],
   "source": [
    "## TASK: Create a histogram of `displ`, experiment with the number of bins\n",
    "(\n",
    "    df_mpg\n",
    "\n",
    ")"
   ]
  },
  {
   "cell_type": "markdown",
   "id": "ff4e6ec1",
   "metadata": {},
   "source": [
    "*Observations*\n",
    "\n",
    "- What *additional* observations can you make, based on varying the `bins` argument?\n",
    "  - (Your response here)\n"
   ]
  },
  {
   "cell_type": "markdown",
   "id": "0203b846",
   "metadata": {},
   "source": [
    "## Histogram Variant: Frequency Polygons\n",
    "\n",
    "A useful variant of the histogram is the *frequency polygon*. This simply visualizes the counts as a line rather than with bars:\n"
   ]
  },
  {
   "cell_type": "code",
   "execution_count": null,
   "id": "de87f57f",
   "metadata": {},
   "outputs": [],
   "source": [
    "## NOTE: No need to edit\n",
    "(\n",
    "    df_mpg\n",
    "    >> gr.ggplot(gr.aes(x=\"displ\"))\n",
    "    + gr.geom_freqpoly(bins=20)\n",
    ")"
   ]
  },
  {
   "cell_type": "markdown",
   "id": "65d039d7",
   "metadata": {},
   "source": [
    "This may seem like a silly distinction to make, but it is actually *extremely useful* when we start comparing multiple histograms on the same plot. While we would have to dodge (or stack---yuck) bars with multiple groups, lines can sit on top of one another:\n"
   ]
  },
  {
   "cell_type": "code",
   "execution_count": null,
   "id": "dce1620f",
   "metadata": {},
   "outputs": [],
   "source": [
    "## NOTE: No need to edit\n",
    "(\n",
    "    df_mpg\n",
    "    >> gr.ggplot(gr.aes(x=\"displ\", color=\"class\"))\n",
    "    + gr.geom_freqpoly(bins=10)\n",
    ")"
   ]
  },
  {
   "cell_type": "markdown",
   "id": "6c011723",
   "metadata": {},
   "source": [
    "From this frequency polygon plot, we can now see all manner of new insights! For instance:\n",
    "\n",
    "- The `2seater` class tends to have much higher `displ`\n",
    "- The `suv` class tends to have higher `displ`, but some are near the low end\n",
    "- The `midsize` class tends to have much lower `displ`\n"
   ]
  },
  {
   "cell_type": "markdown",
   "id": "c5b71fea",
   "metadata": {},
   "source": [
    "# Case Study: Diamonds\n",
    "\n",
    "Now let's practice using histograms with the diamonds dataset.\n"
   ]
  },
  {
   "cell_type": "code",
   "execution_count": null,
   "id": "f02da699",
   "metadata": {},
   "outputs": [],
   "source": [
    "from grama.data import df_diamonds\n",
    "df_diamonds"
   ]
  },
  {
   "cell_type": "markdown",
   "id": "0fdd085c",
   "metadata": {},
   "source": [
    "This is a dataset of nearly 54,000 diamonds, including their sale price and characteristics (carat, cut, color, clarity) and geometry."
   ]
  },
  {
   "cell_type": "markdown",
   "id": "478a96bf",
   "metadata": {},
   "source": [
    "### __q2__ Study the `carat` distribution\n",
    "\n",
    "Create a histogram of the `carat`. Answer the questions under *observations* below.\n"
   ]
  },
  {
   "cell_type": "code",
   "execution_count": null,
   "id": "eb57daf2",
   "metadata": {},
   "outputs": [],
   "source": [
    "## TASK: Create a histogram of `carat`\n",
    "(\n",
    "    df_diamonds\n",
    "\n",
    ")"
   ]
  },
  {
   "cell_type": "markdown",
   "id": "2b467a17",
   "metadata": {},
   "source": [
    "*Observations*\n",
    "\n",
    "- What range of `carat` values occur in the dataset?\n",
    "  - (Your response here)\n",
    "- What values tend to be more common?\n",
    "  - (Your response here)\n",
    "- What values tend to be less common?\n",
    "  - (Your response here)\n"
   ]
  },
  {
   "cell_type": "markdown",
   "id": "8033595e",
   "metadata": {},
   "source": [
    "### __q3__ Study the `carat` distribution, closer look\n",
    "\n",
    "Inspect the following plot. Answer the questions under *observations* below.\n"
   ]
  },
  {
   "cell_type": "code",
   "execution_count": null,
   "id": "1adcd62b",
   "metadata": {},
   "outputs": [],
   "source": [
    "## TASK: No need to edit; run and inspect\n",
    "(\n",
    "    df_diamonds\n",
    "    >> gr.tf_filter(DF.carat < 2.0)\n",
    "    >> gr.ggplot(gr.aes(x=\"carat\"))\n",
    "    + gr.geom_histogram(bins=60)\n",
    "    + gr.scale_x_continuous(breaks=(0.3, 0.4, 0.5, 0.7, 0.9, 1.0, 1.2, 1.5, 1.7))\n",
    ")"
   ]
  },
  {
   "cell_type": "markdown",
   "id": "e12f1d4b",
   "metadata": {},
   "source": [
    "*Observations*\n",
    "\n",
    "- What do you notice about the most-common values of `carat`?\n",
    "  - (Your response here)\n",
    "- Note that `carat` is a quality that a jeweler can control, to some extent. When cutting a diamond, a jeweler can choose to take off less material in order to preserve `carat`, possibly at the loss of not getting as high quality a `cut`. What does the histogram above suggest about jeweler behavior?\n",
    "  - (Your response here)\n"
   ]
  },
  {
   "cell_type": "markdown",
   "id": "57954cef",
   "metadata": {},
   "source": [
    "### __q4__ Bring in the `cut`\n",
    "\n",
    "Re-create the plot from __q3__, but visualize the `cut` as well. Answer the questions under *observations* below.\n"
   ]
  },
  {
   "cell_type": "code",
   "execution_count": null,
   "id": "6d87da8c",
   "metadata": {},
   "outputs": [],
   "source": [
    "## TASK: Re-create the plot from q3, but visualize the `cut` as well\n",
    "(\n",
    "    df_diamonds\n",
    "\n",
    ")"
   ]
  },
  {
   "cell_type": "markdown",
   "id": "a238136c",
   "metadata": {},
   "source": [
    "*Observations*\n",
    "\n",
    "- What is the most numerous `cut` at lower `carat` values? (Say `carat <= 0.5`)\n",
    "  - (Your response here)\n",
    "- What is the most numerous cut around `carat == 1.0`?\n",
    "  - (Your response here)\n"
   ]
  }
 ],
 "metadata": {
  "kernelspec": {
   "display_name": "Python 3 (ipykernel)",
   "language": "python",
   "name": "python3"
  },
  "language_info": {
   "codemirror_mode": {
    "name": "ipython",
    "version": 3
   },
   "file_extension": ".py",
   "mimetype": "text/x-python",
   "name": "python",
   "nbconvert_exporter": "python",
   "pygments_lexer": "ipython3",
   "version": "3.9.7"
  }
 },
 "nbformat": 4,
 "nbformat_minor": 5
}
