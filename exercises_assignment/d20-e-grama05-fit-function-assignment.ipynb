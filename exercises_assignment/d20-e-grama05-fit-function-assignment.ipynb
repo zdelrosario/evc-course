{
 "cells": [
  {
   "cell_type": "markdown",
   "id": "50d7a988",
   "metadata": {},
   "source": [
    "# Grama: Fitting Functions\n",
    "\n",
    "*Purpose*: Often, we will be able to write down a function (say, using physical laws) that maps input physical quantities to some output of interest. However, we may not have the means to *set values* for those physical inputs. Or, we might be using the model to *infer* values for some physical inputs (i.e. a measurement model). In this case, we can use statistical tools to *fit* the parameters in a function using a dataset. This exercise will introduce these ideas with a particular case study.\n"
   ]
  },
  {
   "cell_type": "markdown",
   "id": "3cc40f1a",
   "metadata": {},
   "source": [
    "## Setup\n"
   ]
  },
  {
   "cell_type": "code",
   "execution_count": null,
   "id": "02531cf3",
   "metadata": {},
   "outputs": [],
   "source": [
    "import grama as gr\n",
    "DF = gr.Intention()\n",
    "%matplotlib inline"
   ]
  },
  {
   "cell_type": "markdown",
   "id": "a860459b",
   "metadata": {
    "tags": []
   },
   "source": [
    "# Fitting\n",
    "\n",
    "Recall that there are four classes of verb in grama; *fitting* verbs take data as an input and produce a model as an output. There are various ways to fit a model; in this exercise we'll focus on fitting a *parameterized* model using  *nonlinear least squares*.\n"
   ]
  },
  {
   "cell_type": "markdown",
   "id": "d9781c53",
   "metadata": {},
   "source": [
    "\n",
    "![Grama verb class diagram](./images/verb-classes.png)\n"
   ]
  },
  {
   "cell_type": "markdown",
   "id": "58ee42b8",
   "metadata": {},
   "source": [
    "## Trajectory Data\n",
    "\n",
    "We're going to use the following trajectory dataset to fit a function predicting the trajectory. Our goal in this case study is as follows:\n",
    "\n",
    "> Our goal is to fit a trajectory model and accurately predict the range of the projectile.\n",
    "\n",
    "Note that our data only covers the beginning of the trajectory; we can't see where it lands (hence, we don't know its range).\n"
   ]
  },
  {
   "cell_type": "code",
   "execution_count": null,
   "id": "3984b48c",
   "metadata": {},
   "outputs": [],
   "source": [
    "# NOTE: No need to edit\n",
    "from grama.data import df_trajectory_windowed\n",
    "(\n",
    "    df_trajectory_windowed\n",
    "    >> gr.ggplot(gr.aes(\"x\", \"y\"))\n",
    "    + gr.geom_point()\n",
    ")"
   ]
  },
  {
   "cell_type": "markdown",
   "id": "31160d55",
   "metadata": {},
   "source": [
    "# EMA of Proposed Model\n",
    "\n",
    "Before we jump immediately to using statistical procedures to fit a function, let's first use EMA to understand the model we're going to fit.\n"
   ]
  },
  {
   "cell_type": "markdown",
   "id": "1101ba26",
   "metadata": {},
   "source": [
    "## Trajectory model\n",
    "\n",
    "The following code loads a model for the trajectory of a projectile subject to a *linear drag force*.\n"
   ]
  },
  {
   "cell_type": "code",
   "execution_count": null,
   "id": "51f8f08c",
   "metadata": {},
   "outputs": [],
   "source": [
    "from grama.models import make_trajectory_linear\n",
    "md_trajectory = make_trajectory_linear()\n",
    "md_trajectory"
   ]
  },
  {
   "cell_type": "markdown",
   "id": "0ff66eda",
   "metadata": {},
   "source": [
    "### Linear drag model\n",
    "\n",
    "The drag $\\vec{F}_d$ acting on the projectile in this model has a magnitude equal to\n",
    "\n",
    "$$F_d \\propto - m \\tau s$$\n",
    "\n",
    "where $m$ is the mass of the projectile, $s$ is its speed, and $\\tau$ is the *time constant* associated with the drag law.\n",
    "\n",
    "We can make sense of the model by inspecting the equations in the model. However, a complementary way to gain understanding is to do a little *exploratory model analysis*. You'll use EMA below to understand the model's behavior.\n"
   ]
  },
  {
   "cell_type": "markdown",
   "id": "edb464ab",
   "metadata": {},
   "source": [
    "## Sinews and bounds\n",
    "\n",
    "One \"gotcha\" with `ev_sinews()` is that it can only sweep inputs with *finite bounds*. For variables with one-sided bounds, such as `[0.1, inf]`, we cannot sweep values all the way to infinity! Instead, grama will set the inputs with one-sided bounds to their lower bound, and sweep the remaining variables. We need to set finite bounds in order to use `gr.ev_sinews()`.\n"
   ]
  },
  {
   "cell_type": "markdown",
   "id": "f60418e8",
   "metadata": {},
   "source": [
    "### __q1__ Sweep values of `tau`\n",
    "\n",
    "Update the model to enable a sweep over values of `tau`. How does changing `tau` affect the trajectory? Answer the questions under *observations* below.\n",
    "\n",
    "*Hint*: Remember that `gr.cp_bounds()` allows you to adjust the bounds of a grama model. Note that you may need to adjust the bounds of time `t` as well as `tau` to make an informative plot.\n"
   ]
  },
  {
   "cell_type": "code",
   "execution_count": null,
   "id": "8355cd14",
   "metadata": {},
   "outputs": [],
   "source": [
    "(\n",
    "    md_trajectory\n",
    "\n",
    "    >> gr.ev_sinews(df_det=\"swp\", n_sweeps=4)\n",
    "    >> gr.pt_auto()\n",
    ")"
   ]
  },
  {
   "cell_type": "markdown",
   "id": "bca67710",
   "metadata": {},
   "source": [
    "*Observations*\n",
    "\n",
    "- Once you get a sweep of `tau` displayed, what do each of the curves in the `tau` column represent?\n",
    "  - (Your response here)\n",
    "- What affect does `tau` have on the trajectory range `x`?\n",
    "  - (Your response here)\n",
    "- What affect does `tau` have on the trajectory height `y`?\n",
    "  - (Your response here)\n"
   ]
  },
  {
   "cell_type": "markdown",
   "id": "9b6dd20c",
   "metadata": {},
   "source": [
    "### __q2__ Plot a few trajectories\n",
    "\n",
    "Complete the code below to sweep over values of `tau` and `t`. Compare these results with what you found above. Answer the questions under *observations* below.\n"
   ]
  },
  {
   "cell_type": "code",
   "execution_count": null,
   "id": "e7d41516",
   "metadata": {},
   "outputs": [],
   "source": [
    "# TASK: Sweep tau and t to create trajectories\n",
    "(\n",
    "    md_trajectory\n",
    "    >> gr.ev_df(\n",
    "        df=gr.df_grid(\n",
    "            u0=0.1,\n",
    "            v0=0.1,\n",
    "            # TASK: Complete the code to sweep tau and t\n",
    "\n",
    "        )\n",
    "    )\n",
    "    >> gr.ggplot(gr.aes(\"x\", \"y\", color=\"factor(tau)\"))\n",
    "    + gr.geom_line()\n",
    ")"
   ]
  },
  {
   "cell_type": "markdown",
   "id": "8314f43d",
   "metadata": {},
   "source": [
    "*Observations*\n",
    "\n",
    "- What affect does `tau` have on the trajectory?\n",
    "  - (Your response here)\n",
    "- Imagine that `y == 0` represents the ground. Are the endpoints of these trajectories physically reasonable?\n",
    "  - (Your response here)\n"
   ]
  },
  {
   "cell_type": "markdown",
   "id": "1e85c3df",
   "metadata": {},
   "source": [
    "# Fitting with Least Squares\n",
    "\n",
    "Above, we used EMA to make sense of the model's behavior, but we only guessed at parameter values. Now let's use a statistical fitting procedure to get reasonable values for the inputs.\n"
   ]
  },
  {
   "cell_type": "markdown",
   "id": "58bba7b1",
   "metadata": {},
   "source": [
    "## The `ft_nls()` routine\n",
    "\n",
    "The `gr.ft_nls()` routine is a *fitting* routine; it takes in a dataset and returns a (fitted) model. NLS stands for [*nonlinear least squares*](https://en.wikipedia.org/wiki/Non-linear_least_squares), a general-purpose way to fit a parameterized function to a dataset. There is a great deal of statistical theory underpinning NLS, which we will not cover in this exercise. The short version is: NLS seeks input (parameter) values of a function that give the best \"agreement\" between the function's output and measured output values.\n",
    "\n",
    "There are a number of practical concerns to using NLS effectively, which we'll study below.\n"
   ]
  },
  {
   "cell_type": "markdown",
   "id": "d1da3276",
   "metadata": {},
   "source": [
    "### __q3__ Run `ft_nls()`\n",
    "\n",
    "Use `gr.ft_nls()` to fit the model `md_trajectory` to the data `df_trajectory_windowed`. Answer the questions under *observations* below.\n",
    "\n",
    "*Hint*: Make sure to read the documentation of an unfamiliar function to learn how to use it!\n"
   ]
  },
  {
   "cell_type": "code",
   "execution_count": null,
   "id": "c3e5e959",
   "metadata": {},
   "outputs": [],
   "source": [
    "# TASK: Fit a model to the data\n",
    "md_fit = (\n",
    "    df_trajectory_windowed\n",
    "    ## TODO: Fit the model md_trajectory\n",
    "\n",
    ")\n",
    "\n",
    "## NOTE: Use this to check your work\n",
    "assert \\\n",
    "    isinstance(md_fit, gr.Model), \\\n",
    "    \"md_fit is not a model; make sure to fit a model\"\n",
    "\n",
    "md_fit"
   ]
  },
  {
   "cell_type": "markdown",
   "id": "77a62ae1",
   "metadata": {},
   "source": [
    "*Observations*\n",
    "\n",
    "- The `gr.ft_nls()` routine should print some diagnostic information; was the optimizer `success`ful in finding best-fit input values? How do you know?\n",
    "  - (Your response here)\n",
    "- The `gr.ft_nls()` starts from an \"initial guess\" for each of the inputs; these are shown in the diagnostic information as the input names with the suffix `_0`. What were the initial guess values for the inputs?\n",
    "  - (Your response here)\n"
   ]
  },
  {
   "cell_type": "markdown",
   "id": "82c8b32b",
   "metadata": {},
   "source": [
    "The fitting diagnostics only tell us so much; it is a far better idea to compare predictions from the model directly against the original data.\n"
   ]
  },
  {
   "cell_type": "markdown",
   "id": "efc5963c",
   "metadata": {},
   "source": [
    "### __q4__ Assess the fit\n",
    "\n",
    "Evaluate the fitted model `md_fit` to compare the predicted values against the original dataset. Answer the questions under *observations* below.\n"
   ]
  },
  {
   "cell_type": "code",
   "execution_count": null,
   "id": "02adbec4",
   "metadata": {},
   "outputs": [],
   "source": [
    "# TASK: Compare the model predictions with\n",
    "# the original data df_trajectory_windowed\n",
    "(\n",
    "    md_fit\n",
    "    ## TODO: Evaluate the model at df_trajectory_windowed\n",
    "\n",
    "    \n",
    "    >> gr.ggplot(gr.aes(\"x\", \"y\"))\n",
    "    + gr.geom_line()\n",
    "    + gr.geom_point(data=df_trajectory_windowed)\n",
    ")"
   ]
  },
  {
   "cell_type": "markdown",
   "id": "545b32b6",
   "metadata": {},
   "source": [
    "*Observations*\n",
    "\n",
    "- How well does the fitted model (solid line) agree with the measured values (dots)?\n",
    "  - (Your response here)\n"
   ]
  },
  {
   "cell_type": "markdown",
   "id": "f20ead2a",
   "metadata": {
    "tags": []
   },
   "source": [
    "## Rough estimation\n",
    "\n",
    "Clearly, using completely-arbitrary guesses for the initial parameter values has led to a terrible fit. Let's do some back-of-the envelope calculations to get a rough sense of reasonable parameter values.\n",
    "\n",
    "The horizontal velocity is the time-derivative of horizontal position; we can approximate this with a simple finite-difference\n",
    "\n",
    "$$u = \\frac{dx}{dt} \\approx \\frac{u(t_2) - u(t_1)}{t_2 - t_1}$$\n",
    "\n",
    "The `gr.lead()` function allows us to access values in the following row; we can use this to implement differences like $u(t_2) - u(t_1)$. In code, this would be `gr.lead(DF.u) - DF.u`.\n",
    "\n",
    "We can estimate the velocity of the projectile directly using the position and time data, but we'll have to work a little harder to estimate a reasonable value for `tau`. To do this, let's turn to the drag law: \n",
    "\n",
    "$$F_d \\propto - m \\tau s$$\n",
    "\n",
    "Re-arranging to isolate $\\tau$, we find\n",
    "\n",
    "$$F_d/m/s \\propto - \\tau$$\n",
    "\n",
    "or\n",
    "\n",
    "$$|a_d / s| \\propto |\\tau|$$\n",
    "\n",
    "where $a_d$ is the acceleration due to drag. Note that this is *not* the total acceleration! This is just the acceleration due to drag, which we can't access from the data alone. However, we can use the *total* acceleration to set a reasonable first-guess for the value of `tau`.\n",
    "\n",
    "The following code implements the calculations described above and computes summary statistics over the estimated `u, v, tau` values.\n"
   ]
  },
  {
   "cell_type": "code",
   "execution_count": null,
   "id": "35485d3f",
   "metadata": {},
   "outputs": [],
   "source": [
    "# NOTE: No need to edit\n",
    "(\n",
    "    df_trajectory_windowed\n",
    "    # Estimate velocity components\n",
    "    >> gr.tf_mutate(\n",
    "        u=(gr.lead(DF.x) - DF.x) / (gr.lead(DF.t) - DF.t),\n",
    "        v=(gr.lead(DF.y) - DF.y) / (gr.lead(DF.t) - DF.t),\n",
    "    )\n",
    "    # Compute speed\n",
    "    >> gr.tf_mutate(s=gr.sqrt(DF.u**2 + DF.v**2))\n",
    "    # Estimate acceleration\n",
    "    >> gr.tf_mutate(\n",
    "        a=(gr.lead(DF.s) - DF.s) / (gr.lead(DF.t) - DF.t)\n",
    "    )\n",
    "    # Estimate drag time constant\n",
    "    >> gr.tf_mutate(tau=gr.abs(DF.a / DF.s))\n",
    "    \n",
    "    >> gr.tf_select(\"u\", \"v\", \"tau\")\n",
    "    >> gr.tf_describe()\n",
    ")"
   ]
  },
  {
   "cell_type": "markdown",
   "id": "7b8cba69",
   "metadata": {},
   "source": [
    "This *does not* directly provide the \"best\" parameter values for `u, v, tau`. However, this gets us in the right *ballpark*. Choosing values similar to the above will be much more effective than picking completely-arbitrary initial guess values.\n"
   ]
  },
  {
   "cell_type": "markdown",
   "id": "a15b2284",
   "metadata": {},
   "source": [
    "### __q5__ Choose reasonable initial parameters\n",
    "\n",
    "Override the default initial parameter guess of `ft_nls()` by adding a keyword argument. Using the rough estimates above, you should be able to achieve a fit of the data that is quite reasonable. Answer the questions under *observations* below.\n",
    "\n",
    "*Hint*: Remember to consult the documentation for `ft_nls()` to see how to use its arguments!\n"
   ]
  },
  {
   "cell_type": "code",
   "execution_count": null,
   "id": "e86706dd",
   "metadata": {},
   "outputs": [],
   "source": [
    "# TASK: Set a reasonable initial guess for the input values\n",
    "md_fit_init = (\n",
    "    df_trajectory_windowed\n",
    "    >> gr.ft_nls(\n",
    "        md=md_trajectory,\n",
    "\n",
    ")\n",
    "\n",
    "## NOTE: Use this to check your work\n",
    "(\n",
    "    md_fit_init\n",
    "    >> gr.ev_df(df_trajectory_windowed)\n",
    "    \n",
    "    >> gr.ggplot(gr.aes(\"x\", \"y\"))\n",
    "    + gr.geom_line()\n",
    "    + gr.geom_point(data=df_trajectory_windowed)\n",
    ")"
   ]
  },
  {
   "cell_type": "markdown",
   "id": "6668cf59",
   "metadata": {},
   "source": [
    "*Observations*\n",
    "\n",
    "- How well does the trend fit the data? Is the fit *perfect*?\n",
    "  - (Your response here)\n",
    "- How does your initial guess for `tau` compare with the fitted value? What might account for this?\n",
    "  - (Your response here)\n",
    "- How does your initial guess for `u0` compare with the fitted value? What might account for this?\n",
    "  - (Your response here)\n"
   ]
  },
  {
   "cell_type": "markdown",
   "id": "4f93f94d",
   "metadata": {},
   "source": [
    "# Model Assessment\n",
    "\n",
    "We have successfully fit a function to data! However, before we start using this model to make predictions, we should carry out some *model assessment* studies to check that this is a reasonable model. The next few tasks will guide you through some useful assessment techniques.\n"
   ]
  },
  {
   "cell_type": "markdown",
   "id": "6b62bcfa",
   "metadata": {},
   "source": [
    "## Quantifying uncertainty\n",
    "\n",
    "The `gr.ft_nls()` routine allows us to quantify the uncertainty in the fitted values by fitting a joint distribution for the inputs. As we saw above, the fit of the function to the data is *not* perfect; therefore, the noise in the measured values implies we cannot estimate the input values perfectly. Setting `uq_method=\"linpool\"` in `gr.ft_nls()` accounts for this by finding a \"best-fit\" value, but additionally fitting a normal distribution to account for the noise in the outputs.\n"
   ]
  },
  {
   "cell_type": "code",
   "execution_count": null,
   "id": "a1212a40",
   "metadata": {},
   "outputs": [],
   "source": [
    "# NOTE: No need to edit\n",
    "md_fit_uq = (\n",
    "    df_trajectory_windowed\n",
    "    >> gr.ft_nls(\n",
    "        md=md_trajectory,\n",
    "        df_init=gr.df_make(\n",
    "            u0=18,\n",
    "            v0=18,\n",
    "            tau=16,\n",
    "        ),\n",
    "        ## NOTE: This fits a distribution for the inputs\n",
    "        uq_method=\"linpool\",\n",
    "    )\n",
    ")\n",
    "md_fit_uq "
   ]
  },
  {
   "cell_type": "markdown",
   "id": "3d119528",
   "metadata": {},
   "source": [
    "Since this is a grama model, we can use the same kind of sampling tools we've seen before to inspect the uncertainty in the fitted input values.\n"
   ]
  },
  {
   "cell_type": "markdown",
   "id": "64078295",
   "metadata": {},
   "source": [
    "### __q6__ Inspect plausible input values\n",
    "\n",
    "The following code visualizes the input uncertainty of the fitted values. Run the code below, and answer the questions under *observations* below.\n"
   ]
  },
  {
   "cell_type": "code",
   "execution_count": null,
   "id": "9120a531",
   "metadata": {},
   "outputs": [],
   "source": [
    "# TASK: Run and inspect\n",
    "(\n",
    "    md_fit_uq\n",
    "    >> gr.ev_sample(n=1e3, df_det=\"nom\", skip=True)\n",
    "    >> gr.pt_auto()\n",
    ")"
   ]
  },
  {
   "cell_type": "markdown",
   "id": "79f9868b",
   "metadata": {},
   "source": [
    "*Observations*\n",
    "\n",
    "- How variable are each of the inputs?\n",
    "  - (Your response here)\n"
   ]
  },
  {
   "cell_type": "markdown",
   "id": "b61e031e",
   "metadata": {
    "tags": []
   },
   "source": [
    "### __q7__ Inspect plausible trajectories\n",
    "\n",
    "Draw a random sample of trajectories to study the uncertainty in in the outputs. Make sure to pick a reasonable range of time values `t` so that you can see both the beginning and end (ground-strike at `y==0`) of the trajectory. Answer the questions under *observations* below.\n"
   ]
  },
  {
   "cell_type": "code",
   "execution_count": null,
   "id": "89f79b43",
   "metadata": {},
   "outputs": [],
   "source": [
    "# TASK: Evaluate the model\n",
    "(\n",
    "    md_fit_uq\n",
    "    ## TODO: Draw a random sample of trajectories\n",
    "\n",
    "    \n",
    "    ## NOTE: No need to edit below here; this will visualize your results\n",
    "    >> gr.ggplot(gr.aes(\"x\", \"y\"))\n",
    "    # NOTE: The `group` aesthetic allows us to draw\n",
    "    # individual lines for each value of u0; otherwise\n",
    "    # the lines would all be connected\n",
    "    + gr.geom_line(gr.aes(group=\"u0\"), alpha=1/5, color=\"grey\")\n",
    "    # Add the data\n",
    "    + gr.geom_point(data=df_trajectory_windowed)\n",
    "    # Clean up the visual\n",
    "    + gr.theme_minimal()\n",
    "    + gr.labs(\n",
    "        x=\"Horizontal Position (m)\",\n",
    "        y=\"Vertical Position (m)\",\n",
    "    )\n",
    ")"
   ]
  },
  {
   "cell_type": "markdown",
   "id": "825bc699",
   "metadata": {},
   "source": [
    "*Observations*\n",
    "\n",
    "- Compare the ensemble of trajectories (grey lines) against the measured values (black dots); is the uncertainty in the trajectory comparable to the observed variability in the measured values? How do you know?\n",
    "  - (Your response here)\n",
    "- According to the fitted model, what is a plausible final range for the projectile? (In what band of `x` values does it hit the ground at `y == 0`?)\n",
    "  - (Your response here)\n"
   ]
  },
  {
   "cell_type": "markdown",
   "id": "da2a2b9e",
   "metadata": {},
   "source": [
    "## Model Validation\n",
    "\n",
    "One of the *most important* assessments we should carry out is *model validation*. When validating a model, we use a dataset that was *not* used to fit the model in order to check how well the model agrees with physical reality. This is to help avoid the statistical phenomenon of [overfitting](https://en.wikipedia.org/wiki/Overfitting).\n"
   ]
  },
  {
   "cell_type": "markdown",
   "id": "f922895b",
   "metadata": {},
   "source": [
    "## Validation data\n",
    "\n",
    "Let's load a dataset that is appropriate for validation; the following data is from the same trajectory as `df_trajectory_windowed`, but it consists of independent observations, and it runs for a longer span of time values.\n"
   ]
  },
  {
   "cell_type": "code",
   "execution_count": null,
   "id": "1c745d59",
   "metadata": {},
   "outputs": [],
   "source": [
    "## NOTE: No need to edit\n",
    "from grama.data import df_trajectory_full\n",
    "(\n",
    "    df_trajectory_full\n",
    "    >> gr.tf_mutate(source=\"Full\")\n",
    "    >> gr.tf_bind_rows(\n",
    "        df_trajectory_windowed\n",
    "        >> gr.tf_mutate(source=\"Windowed\")\n",
    "    )\n",
    "    >> gr.ggplot(gr.aes(\"x\", \"y\", color=\"source\"))\n",
    "    + gr.geom_point()\n",
    ")"
   ]
  },
  {
   "cell_type": "markdown",
   "id": "df8f40ba",
   "metadata": {},
   "source": [
    "### __q8__ Compare the fit to validation data\n",
    "\n",
    "Compare the predictions from the fitted model `md_fit_uq` to compare an ensemble of trajectories against the validation data `df_trajectory_full`. Answer the questions under *observations* below.\n",
    "\n",
    "*Hint*: This part has no starter code! Use what you learned above to carry out this comparison.\n"
   ]
  },
  {
   "cell_type": "code",
   "execution_count": null,
   "id": "7789d592",
   "metadata": {},
   "outputs": [],
   "source": [
    "# TASK: Compare the fitted model to the validation data;\n",
    "# make sure to quantify the parameter uncertainty\n",
    "(\n",
    "    md_fit_uq\n",
    " \n",
    ")"
   ]
  },
  {
   "cell_type": "markdown",
   "id": "72eed9d2",
   "metadata": {},
   "source": [
    "*Observations*\n",
    "\n",
    "- How well does the model fit the data? Does the model perform better in some regions than others?\n",
    "  - (Your response here)\n"
   ]
  },
  {
   "cell_type": "markdown",
   "id": "bc6158d7",
   "metadata": {},
   "source": [
    "## The dramatic reveal...\n",
    "\n",
    "It turns out the model does *not* accurately predict the trajectory's range! This is because our model assumes a *linear* drag law $F_d \\propto - m \\tau s$, while in reality the data were generated using a *quadratic* drag law $F_d \\propto - m b s^2$. This qualitative difference between the model and the data-generating process leads to a mismatch between predicted and measured values that we can't overcome without changing the model's *form*.\n",
    "\n",
    "This is why validation is so important: It is difficult to discover this kind of *model form error* without a validation study. In practice, data scientists will use a [*train-validation split*](https://en.wikipedia.org/wiki/Training,_validation,_and_test_data_sets) to help construct this sort of validation study.\n"
   ]
  },
  {
   "cell_type": "markdown",
   "id": "53ae7b27",
   "metadata": {},
   "source": [
    "# Further Reading\n",
    "\n",
    "- This exercise is [based on a chapter](https://zdelrosario.github.io/uq-book-preview/02_diagnosing/model-form-error.html) from a forthcoming book I'm writing. You can see that draft chapter for more details on this case study.\n",
    "- My most-highly recommended book for a deeper treatment of the train-validation split (and related ideas) is \"An Introduction to Statistical Learning,\" which is [freely available online](https://www.statlearning.com/).\n"
   ]
  }
 ],
 "metadata": {
  "kernelspec": {
   "display_name": "Python 3 (ipykernel)",
   "language": "python",
   "name": "python3"
  },
  "language_info": {
   "codemirror_mode": {
    "name": "ipython",
    "version": 3
   },
   "file_extension": ".py",
   "mimetype": "text/x-python",
   "name": "python",
   "nbconvert_exporter": "python",
   "pygments_lexer": "ipython3",
   "version": "3.9.7"
  }
 },
 "nbformat": 4,
 "nbformat_minor": 5
}
