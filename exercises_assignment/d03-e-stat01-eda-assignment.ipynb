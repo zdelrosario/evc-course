{
 "cells": [
  {
   "cell_type": "markdown",
   "id": "c6d75d88",
   "metadata": {},
   "source": [
    "# Stats: Introduction to Exploratory Data Analysis\n",
    "\n",
    "*Purpose*: *Exploratory Data Analysis* (EDA) is a __crucial__ skill for a practicing data scientist. Unfortunately, much like human-centered design EDA is hard to teach. This is because EDA is **not** a strict procedure, so much as it is a **mindset**. Also, much like human-centered design, EDA is an *iterative, nonlinear process*. There are two key principles to keep in mind when doing EDA:\n",
    "\n",
    "1. Curiosity: Generate lots of ideas and hypotheses about your data.\n",
    "2. Skepticism: Remain unconvinced of those ideas, unless you can find credible\n",
    "  patterns to support them.\n",
    "\n",
    "Since EDA is both *crucial* and *difficult*, we will practice doing EDA *a lot* in this course!\n"
   ]
  },
  {
   "cell_type": "markdown",
   "id": "5eac1e5e",
   "metadata": {},
   "source": [
    "## Reading\n",
    "\n",
    "*Reading*: [Exploratory Data Analysis](https://rstudio.cloud/learn/primers/3.1)\n",
    "\n",
    "*Topics*: (All topics)\n",
    "\n",
    "*Reading Time*: ~45 minutes\n"
   ]
  },
  {
   "cell_type": "markdown",
   "id": "7380acbb",
   "metadata": {},
   "source": [
    "## Setup\n"
   ]
  },
  {
   "cell_type": "code",
   "execution_count": null,
   "id": "c9f9331e",
   "metadata": {},
   "outputs": [],
   "source": [
    "import grama as gr\n",
    "DF = gr.Intention()\n",
    "%matplotlib inline"
   ]
  },
  {
   "cell_type": "markdown",
   "id": "c3e4e85b",
   "metadata": {},
   "source": [
    "We'll study the diamonds dataset for this exercise.\n"
   ]
  },
  {
   "cell_type": "code",
   "execution_count": null,
   "id": "b54fc197",
   "metadata": {},
   "outputs": [],
   "source": [
    "from grama.data import df_diamonds\n",
    "df_diamonds = (\n",
    "    df_diamonds\n",
    "    >> gr.tf_mutate(\n",
    "        # Order the cut to aid in plotting\n",
    "        cut=gr.as_factor(\n",
    "            DF.cut,\n",
    "            categories=[\n",
    "                \"Fair\",\n",
    "                \"Good\",\n",
    "                \"Very Good\",\n",
    "                \"Premium\",\n",
    "                \"Ideal\"\n",
    "            ]\n",
    "        )\n",
    "    )\n",
    ")\n"
   ]
  },
  {
   "cell_type": "markdown",
   "id": "e732051c",
   "metadata": {},
   "source": [
    "# Basic EDA Tools\n",
    "\n",
    "There are a few simple tools we can use to investigate a dataset. We should use these tools even before making visuals of the data.\n"
   ]
  },
  {
   "cell_type": "markdown",
   "id": "e4a6d9d9",
   "metadata": {},
   "source": [
    "### __q1__ Take the head\n",
    "\n",
    "Use the appropriate function to get the first 5 observations in `df_diamonds`. Answer the questions under *observations* below.\n"
   ]
  },
  {
   "cell_type": "code",
   "execution_count": null,
   "id": "7ba85f7c",
   "metadata": {},
   "outputs": [],
   "source": [
    "# TASK: Get the first 10 observations\n",
    "(\n",
    "    df_diamonds\n",
    "\n",
    ")"
   ]
  },
  {
   "cell_type": "markdown",
   "id": "af6a7d0e",
   "metadata": {},
   "source": [
    "*Observations*\n",
    "\n",
    "- What variables does this dataset have?\n",
    "  - (Your response here)\n"
   ]
  },
  {
   "cell_type": "markdown",
   "id": "24d2d6e6",
   "metadata": {},
   "source": [
    "### __q2__ Use descriptive statistics\n",
    "\n",
    "The `gr.tf_describe()` function gives useful descriptive statistics on a dataset. Use these values to answer the questions under *observations* below.\n"
   ]
  },
  {
   "cell_type": "code",
   "execution_count": null,
   "id": "fd577adf",
   "metadata": {},
   "outputs": [],
   "source": [
    "# NOTE: No need to edit; run and inspect\n",
    "(\n",
    "    df_diamonds\n",
    "    >> gr.tf_describe()\n",
    ")"
   ]
  },
  {
   "cell_type": "markdown",
   "id": "1f99fa9d",
   "metadata": {},
   "source": [
    "*Observations*\n",
    "\n",
    "- How many observations are in the dataset?\n",
    "  - (Your response here)\n",
    "- What is a typical value for the `price` of a diamond, according to this dataset?\n",
    "  - (Your response here)\n",
    "- What is the largest diamond in the dataset? (According to `carat`.) What is the smallest?\n",
    "  - (Your response here)\n",
    "- You identified all the variables in the dataset in __q1__ above. Do the results from `gr.tf_describe()` provide information on **all** of these variables?\n",
    "  - (Your response here)\n"
   ]
  },
  {
   "cell_type": "markdown",
   "id": "a0415565",
   "metadata": {},
   "source": [
    "## Distinct Values (levels)\n",
    "\n",
    "Variables that do not take numerical values are sometimes called *categorical variables*; there are other tools that are useful for investigating categorical variables.\n",
    "\n",
    "The verb `gr.tf_distinct()` is like `gr.tf_filter()`, but it filters for rows that are *distinct* according to the given variables. For instance, if we wanted to know what distinct values of `x` exist in `df_data`, we would call:\n",
    "\n",
    "```python\n",
    "(\n",
    "    df_data\n",
    "    >> gr.tf_distinct(DF.x)\n",
    ")\n",
    "```\n",
    "\n",
    "*Aside*: A categorical variable is sometimes called a *factor*. The unique values of a categorical variable are called *levels*.\n",
    "\n",
    "We can use `gr.tf_distinct()` to figure out what values show up for a categorical variable.\n"
   ]
  },
  {
   "cell_type": "markdown",
   "id": "fdc15aab",
   "metadata": {},
   "source": [
    "### __q3__ Find the distinct `cut` values\n",
    "\n",
    "Use `gr.tf_distinct()` to find the unique values of `cut` in `df_diamonds`.\n"
   ]
  },
  {
   "cell_type": "code",
   "execution_count": null,
   "id": "7eefa068",
   "metadata": {},
   "outputs": [],
   "source": [
    "# TASK: Find the distinct `cut` values in the dataset\n",
    "(\n",
    "    df_diamonds\n",
    "\n",
    ")"
   ]
  },
  {
   "cell_type": "markdown",
   "id": "83aa1edc",
   "metadata": {},
   "source": [
    "## Counts\n",
    "\n",
    "Another approach to assessing a categorical is to simply count the number of rows that correspond to each distinct value. We can do this with the `gr.tf_count()` verb. For instance, if we wanted to know how may rows there are for each value of `x` in `df_data`, we would call:\n",
    "\n",
    "```python\n",
    "(\n",
    "    df_data\n",
    "    >> gr.tf_count(DF.x)\n",
    ")\n",
    "```\n"
   ]
  },
  {
   "cell_type": "markdown",
   "id": "95778299",
   "metadata": {},
   "source": [
    "### __q4__ Find the count of cut values\n",
    "\n",
    "Use `gr.tf_count()` to find the number of rows for each distinct `cut` value in `df_diamonds`.\n"
   ]
  },
  {
   "cell_type": "code",
   "execution_count": null,
   "id": "083f8ea3",
   "metadata": {},
   "outputs": [],
   "source": [
    "# TASK: Find the distinct `cut` values in the dataset\n",
    "(\n",
    "    df_diamonds\n",
    "\n",
    ")\n"
   ]
  },
  {
   "cell_type": "markdown",
   "id": "cdce9b9f",
   "metadata": {},
   "source": [
    "# Guided EDA\n",
    "\n",
    "I'm going to walk you through a train of thought I had when studying the diamonds dataset.\n",
    "\n",
    "There are four standard \"C's\" of [judging](https://en.wikipedia.org/wiki/Diamond_(gemstone)) a diamond. These are `carat, cut, color` and `clarity`, all of which are in the `df_diamonds` dataset."
   ]
  },
  {
   "cell_type": "markdown",
   "id": "5fa1ddb6",
   "metadata": {},
   "source": [
    "*Note*: This remainder of this exercise will consist of interpreting pre-made graphs. You can run the whole notebook to generate all the figures at once. Just make sure to do all the exercises and write your observations!\n"
   ]
  },
  {
   "cell_type": "markdown",
   "id": "7e055a78",
   "metadata": {},
   "source": [
    "## Hypothesis 1\n",
    "\n",
    "Here's a hypothesis:\n",
    "\n",
    ">  `Ideal` is the \"best\" value of `cut` for a diamond. Since an `Ideal` cut seems more labor-intensive, I hypothesize that `Ideal` cut diamonds are less numerous than other cuts."
   ]
  },
  {
   "cell_type": "markdown",
   "id": "5429e026",
   "metadata": {},
   "source": [
    "### __q5__ Assess hypothesis 1\n",
    "\n",
    "Run the chunk below, and study the plot. Was hypothesis 1 correct? Why\n",
    "or why not?\n"
   ]
  },
  {
   "cell_type": "code",
   "execution_count": null,
   "id": "ba59ec14",
   "metadata": {},
   "outputs": [],
   "source": [
    "# NOTE: No need to edit; run and inspect\n",
    "(\n",
    "    df_diamonds\n",
    "    >> gr.ggplot(gr.aes(\"cut\"))\n",
    "    + gr.geom_bar()\n",
    ")\n"
   ]
  },
  {
   "cell_type": "markdown",
   "id": "0e0d6aed",
   "metadata": {},
   "source": [
    "*Observations*\n",
    "\n",
    "- Is hypothesis 1 true or not?\n",
    "  - (Your response here)\n"
   ]
  },
  {
   "cell_type": "markdown",
   "id": "b967c29d",
   "metadata": {},
   "source": [
    "## Hypothesis 2\n",
    "\n",
    "Another hypothesis: \n",
    "\n",
    "> The `Ideal` cut diamonds should be the most pricey.\n"
   ]
  },
  {
   "cell_type": "markdown",
   "id": "48ab2a9d",
   "metadata": {},
   "source": [
    "### __q6__ Assess hypothesis 2\n",
    "\n",
    "Study the following graph; does it support, contradict, or not relate to hypothesis 2?\n"
   ]
  },
  {
   "cell_type": "code",
   "execution_count": null,
   "id": "4048aa34",
   "metadata": {},
   "outputs": [],
   "source": [
    "# NOTE: No need to edit; run and inspect\n",
    "(\n",
    "    df_diamonds\n",
    "    >> gr.ggplot(gr.aes(\"cut\", \"price\"))\n",
    "    + gr.geom_point()\n",
    ")"
   ]
  },
  {
   "cell_type": "markdown",
   "id": "1468e5d0",
   "metadata": {},
   "source": [
    "*Observations*\n",
    "\n",
    "- Does this plot support, contradict, or not relate to hypothesis 2?\n",
    "  - (Your response here)\n"
   ]
  },
  {
   "cell_type": "markdown",
   "id": "6c306a60",
   "metadata": {},
   "source": [
    "The following is a set of *boxplots*; the middle bar denotes the median, the boxes denote the *quartiles* (upper and lower \"quarters\" of the data), and the lines and dots denote large values and outliers.\n"
   ]
  },
  {
   "cell_type": "markdown",
   "id": "776fec4d",
   "metadata": {},
   "source": [
    "### __q7__ Assess hypothesis 2, take 2\n",
    "\n",
    "Study the following graph; does it support or contradict hypothesis 2?\n"
   ]
  },
  {
   "cell_type": "code",
   "execution_count": null,
   "id": "ade3e835",
   "metadata": {},
   "outputs": [],
   "source": [
    "# NOTE: No need to edit; run and inspect\n",
    "(\n",
    "    df_diamonds\n",
    "    >> gr.ggplot(gr.aes(\"cut\", \"price\"))\n",
    "    + gr.geom_boxplot()\n",
    ")\n"
   ]
  },
  {
   "cell_type": "markdown",
   "id": "773fa486",
   "metadata": {},
   "source": [
    "*Observations*\n",
    "\n",
    "- Does this plot support or contradict hypothesis 2?\n",
    "  - (Your response here)\n"
   ]
  },
  {
   "cell_type": "markdown",
   "id": "99d712c4",
   "metadata": {},
   "source": [
    "Upon making the graph in __q3__, I was *very* surprised, so I did some reading on diamond cuts. It turns out that some gemcutters [sacrifice cut for carat](https://en.wikipedia.org/wiki/Diamond_(gemstone)#Cut). Could this effect explain the surprising pattern above?\n"
   ]
  },
  {
   "cell_type": "markdown",
   "id": "7e81e829",
   "metadata": {},
   "source": [
    "### __q8__ Unravel hypothesis 2\n",
    "\n",
    "Study the following graph; does it support a \"sacrifice cut for carat\" hypothesis? How might this relate to price?\n",
    "\n",
    "*Hint*: The article linked above will help you answer these questions!\n"
   ]
  },
  {
   "cell_type": "code",
   "execution_count": null,
   "id": "44c7ee5a",
   "metadata": {},
   "outputs": [],
   "source": [
    "# NOTE: No need to edit; run and inspect\n",
    "(\n",
    "    df_diamonds\n",
    "    >> gr.ggplot(gr.aes(\"cut\", \"carat\"))\n",
    "    + gr.geom_boxplot()\n",
    ")"
   ]
  },
  {
   "cell_type": "markdown",
   "id": "42aad88b",
   "metadata": {},
   "source": [
    "*Observations*\n",
    "\n",
    "- (Your response here)\n"
   ]
  }
 ],
 "metadata": {
  "kernelspec": {
   "display_name": "Python 3 (ipykernel)",
   "language": "python",
   "name": "python3"
  },
  "language_info": {
   "codemirror_mode": {
    "name": "ipython",
    "version": 3
   },
   "file_extension": ".py",
   "mimetype": "text/x-python",
   "name": "python",
   "nbconvert_exporter": "python",
   "pygments_lexer": "ipython3",
   "version": "3.9.7"
  }
 },
 "nbformat": 4,
 "nbformat_minor": 5
}
