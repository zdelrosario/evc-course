{
 "cells": [
  {
   "cell_type": "markdown",
   "id": "150f4a38",
   "metadata": {},
   "source": [
    "# Introduction to Jupyter Notebooks\n",
    "\n",
    "*Original Authors: Enze Chen, Malcolm Davidson, Zach del Rosario*\n",
    "\n",
    "*Purpose*: We're going to use programming tools throughout this workshop. There are many benefits to using programming to do data science, but to reap these benefits you will need to know some basics about coding in Python, and working in Jupyter notebooks.\n"
   ]
  },
  {
   "cell_type": "markdown",
   "id": "962fe790",
   "metadata": {},
   "source": [
    "## Highest-level View\n",
    "Throughout this day of the workshop, we will be writing computer software. Before diving into the details, it is beneficial to understand what tools we'll be using, and why.\n",
    "\n",
    "### Python\n",
    "Python is a [*programming language*](https://www.python.org), and an extremely popular one at that. Python is praised for its readability, is consistently ranked as a top programming language, and is used by both top [software companies](https://en.wikipedia.org/wiki/Python_(programming_language)#Uses) and scientists doing computation. All of this is to say that knowing how to write Python code is a valuable skill.\n",
    "\n",
    "### Jupyter\n",
    "Jupyter is a [*programming environment*](https://jupyter.org), often used for writing and sharing Python code. Just as one could choose to write English on stone tablets or on paper, one could choose to write Python code in simple files or in *jupyter notebooks*. These notebooks are useful for a number of reasons:\n",
    "\n",
    "1. Multimedia: This document you're reading now is a jupyter notebook -- it is a combination of (executable) Python code and (formatted) plain text. By allowing the juxtaposition of different media (code and natural language, to name a couple options), one can provide human-readable context next to executable software.\n",
    "\n",
    "2. Saves state: Jupyter notebooks *save state*, allowing you to run some code, save the results, close the document and come back to it later. This is certainly possible in other coding environments, but jupyter has built-in facilities to make this easy.\n",
    "\n",
    "3. Reproducible: [Reproducibility](https://en.wikipedia.org/wiki/Reproducibility) is a critical issue in science -- results cannot be considered scientifically valid unless they can be reproduced under similar conditions. The same principles apply to computational experiments; all too often software is written under time pressure, resulting in scattered documentation and analysis. Consolidating documentation and analysis within a single notebook facilitates scientific reproducibility.\n",
    "\n",
    "Jupyter notebooks are not *always* the best media for writing code; for instance, python *packages* are not written in jupyter notebooks. However, for our purposes, jupyter is a good solution."
   ]
  },
  {
   "cell_type": "markdown",
   "id": "886aefc5",
   "metadata": {},
   "source": [
    "---\n",
    "\n",
    "## How to use this Notebook\n",
    "This jupyter notebook is an *interactive exercise* -- it contains some reading, but the focus is on fill-in-the-blank sections that are meant to test your understanding and spark further learning. Pedagogy research shows that so-called *active learning* -- learning by doing -- is far more effective than lecture alone. Thus, you will get the most out of this workshop if you do the work! Try -- to the best of your ability -- to complete the exercises in these notebooks, and please feel free to ask the instructors questions if you get stuck. (It's what we're here for.)\n",
    "\n",
    "```{admonition} Run this notebook locally!\n",
    ":class: warning\n",
    "If you're reading this on the workshop website---and *not* in your local jupyter reader---then it is *necessary* that you download this notebook locally and open it in jupyter. Look for the download bar in the top-right of this page, as pictured below.\n",
    "\n",
    "![The download button is in the top-right of the page](./images/intro-download-button.png)\n",
    "```"
   ]
  },
  {
   "cell_type": "markdown",
   "id": "4f09fdb0",
   "metadata": {},
   "source": [
    "Exercise portions of the notebook will be marked with a \"q\" subheading, like the following:\n",
    "\n",
    "### __q0__: An example question\n",
    "\n",
    "Here's an example of an exercise prompt. Follow the directions here to start the exercise."
   ]
  },
  {
   "cell_type": "markdown",
   "id": "74a8ca35",
   "metadata": {},
   "source": [
    "# Jupyter Introduction"
   ]
  },
  {
   "cell_type": "markdown",
   "id": "4797b752",
   "metadata": {},
   "source": [
    "## Cells \n",
    "\n",
    "A Jupyter notebook is organized as a sequence of different **cells**. Cells contain chunks of information and allow you to switch between text and code.\n",
    "\n",
    "**Current cell**: The currently-selected cell will have a color bar appear on the far left. Use your cursor or arrow keys to select different cells.\n",
    "\n",
    "**Create new cell**: To create a new cell, click the \"**+**\" icon at the top. This will create a cell below the currently selected cell.\n",
    "\n",
    "**Delete a cell**: To delete the currently-selected cell, click the \"**scissors**\" icon at the top."
   ]
  },
  {
   "cell_type": "markdown",
   "id": "d1bacbcb",
   "metadata": {},
   "source": [
    "### __q1__ Create a new cell\n",
    "\n",
    "**Create a new cell below this one.** Note that it has a different background color! This is because cells have different *types*."
   ]
  },
  {
   "cell_type": "markdown",
   "id": "24459c26",
   "metadata": {},
   "source": [
    "### Types of cells\n",
    "There are two types of cells we will discuss here: `Markdown` and `Code`. A single cell can only have 1 type.\n",
    "\n",
    "**Markdown**: These are text cells that use the Markdown language for formatting. You can put instructions, headings, links, images, and much more; even $\\LaTeX$ ([a language for typesetting mathematics](https://www.latex-project.org)). Here is a [cheatsheet](https://github.com/adam-p/markdown-here/wiki/Markdown-Cheatsheet) for Markdown syntax.\n",
    "\n",
    "**Code**: These are cells where you can type Python code, just as you would in a `.py` file. They will have a label `In [ ]:` to their left.\n",
    "\n",
    "To switch the type of cell, you can use the dropdown menu at the top of the cell. (Note: While you're moused-over this cell, the dropdown menu should read `Markdown`.)"
   ]
  },
  {
   "cell_type": "markdown",
   "id": "52d88c22",
   "metadata": {},
   "source": [
    "### Edit and format / execute cells\n",
    "\n",
    "To edit a Markdown cell, **triple-click** within the cell if you currently see a blue bar. The color bar on the left will turn green. Then type and edit as normal.\n",
    "\n",
    "To format (\"execute\") a Markdown cell, press **Ctrl+Enter** when in \"edit\" mode. The color bar on the left will turn blue and the cursor will disappear. Your formatting will also take effect.\n",
    "\n",
    "---\n",
    "To edit a Code cell, click within the cell. The color bar on the left will turn green. Then type and edit as normal.\n",
    "\n",
    "To execute a Code cell, press **Ctrl+Enter** while it is selected. The color bar on the left will turn blue and the cursor will disappear."
   ]
  },
  {
   "cell_type": "markdown",
   "id": "f00defd9",
   "metadata": {},
   "source": [
    "### Code cells\n",
    "\n",
    "So far we've only seen Markdown cells. Let's see what we can do with Code cells! Try selecting the code cell below this one and executing it."
   ]
  },
  {
   "cell_type": "code",
   "execution_count": null,
   "id": "45123da7",
   "metadata": {},
   "outputs": [],
   "source": [
    "# This is a python code cell\n",
    "6 * 7\n"
   ]
  },
  {
   "cell_type": "markdown",
   "id": "495dcadb",
   "metadata": {},
   "source": [
    "Note that code cells are visually distinct from markdown cells -- they have a grey background and the `[-]:` prefix."
   ]
  },
  {
   "cell_type": "markdown",
   "id": "459d30fb",
   "metadata": {},
   "source": [
    "# Python Introduction"
   ]
  },
  {
   "cell_type": "markdown",
   "id": "c0111fe0",
   "metadata": {},
   "source": [
    "## Simple operations\n",
    "\n",
    "We can use python like a calculator to carry out simple operations. Some of these include:\n",
    "\n",
    "- Simple math operators `(+, -, *, /)`\n",
    "- Other math operators; exponentiation `10 ** 2 == 100`; modulus `3 % 2 == 1`\n",
    "- Parentheses `(, )` for grouping operations\n",
    "- Python functions; console output `print(\"Hello\")`"
   ]
  },
  {
   "cell_type": "markdown",
   "id": "4180d965",
   "metadata": {},
   "source": [
    "### __q2__ Average some values\n",
    "\n",
    "Use basic python operations to average the following numbers: `[2, 4, 6, 8]`."
   ]
  },
  {
   "cell_type": "code",
   "execution_count": null,
   "id": "e6844a90",
   "metadata": {},
   "outputs": [],
   "source": [
    "###\n",
    "# TASK: Average the numbers [2, 4, 6, 8]\n",
    "# TODO: Use basic python operations to compute the arithmetic mean\n",
    "###\n",
    "\n",
    "# -- WRITE YOUR CODE HERE -----\n",
    "\n"
   ]
  },
  {
   "cell_type": "markdown",
   "id": "984f15ff",
   "metadata": {},
   "source": [
    "## Variables\n",
    "\n",
    "Jupyter notebooks will save variables across different cells. We can assign values with the `=` operator. Furthermore, typing just the variable on the last line of a code cell will typically display the variable's values/attributes."
   ]
  },
  {
   "cell_type": "code",
   "execution_count": null,
   "id": "599d2970",
   "metadata": {},
   "outputs": [],
   "source": [
    "a = 1\n",
    "b = 2\n",
    "c = a * b\n"
   ]
  },
  {
   "cell_type": "markdown",
   "id": "661a1d9e",
   "metadata": {},
   "source": [
    "### __q3__ Display a variable\n",
    "\n",
    "Display the value of `c` in the chunk below."
   ]
  },
  {
   "cell_type": "code",
   "execution_count": null,
   "id": "90033ddd",
   "metadata": {},
   "outputs": [],
   "source": [
    "###\n",
    "# TASK: Display a variable\n",
    "# TODO: Type the variable name below and execute\n",
    "###\n",
    "\n"
   ]
  },
  {
   "cell_type": "markdown",
   "id": "eebac8c7",
   "metadata": {},
   "source": [
    "A couple things happened here. First, the variable was saved. Second, Jupyter notebooks will display the value of any lone variables in the last line of each Code cell. This is helpful for debugging.\n",
    "\n",
    "If you want to display multiple quantities from a single cell, you can always use a print statement `print(variable)`. For instance, we could write\n",
    "\n",
    "```\n",
    "print(a)\n",
    "print(b)\n",
    "print(c)\n",
    "```\n",
    "\n",
    "You can also see that Code cells with output will have an associated `Out [#]` right below. Notice what happens to the cell below when the code is running."
   ]
  },
  {
   "cell_type": "markdown",
   "id": "f17b144c",
   "metadata": {},
   "source": [
    "## Lists\n",
    "\n",
    "A *list* is a Python [data structure](https://en.wikipedia.org/wiki/Data_structure). We'll use lists (and other *iterable* data structures) quite a bit when doing data analysis -- generally we have many observations (elements) to consider.\n",
    "\n",
    "Lists (i.e. arrays) in Python are created with square brackets. The entries of a list are called *elements*."
   ]
  },
  {
   "cell_type": "code",
   "execution_count": null,
   "id": "0ef73321",
   "metadata": {},
   "outputs": [],
   "source": [
    "l = [1, 2, 3]\n"
   ]
  },
  {
   "cell_type": "markdown",
   "id": "39ef2478",
   "metadata": {},
   "source": [
    "The `append()` method adds a single element to the end of the array. Note how we can add elements of different types to the same list (unlike Java or C++)."
   ]
  },
  {
   "cell_type": "code",
   "execution_count": null,
   "id": "81a3ab0e",
   "metadata": {},
   "outputs": [],
   "source": [
    "l = [1, 2, 3]\n",
    "l.append(\"a\")\n",
    "l\n"
   ]
  },
  {
   "cell_type": "markdown",
   "id": "1ca83dcf",
   "metadata": {},
   "source": [
    "Note that I *needed* to place `l` at the end of the cell to display the result. `append()` modified the list *in place* -- it makes the list longer.\n",
    "\n",
    "We can also *combine* lists with the `+` operator."
   ]
  },
  {
   "cell_type": "code",
   "execution_count": null,
   "id": "f53d6c28",
   "metadata": {},
   "outputs": [],
   "source": [
    "[1, 2, 3] + [4, 5, 6]\n"
   ]
  },
  {
   "cell_type": "markdown",
   "id": "633b6f5a",
   "metadata": {},
   "source": [
    "Note that I *did not need* to write an additional line to print the result. This is because the `+` operator *returns* a list as a result, which is printed by jupyter."
   ]
  },
  {
   "cell_type": "markdown",
   "id": "69b40ef4",
   "metadata": {},
   "source": [
    "### __q4__ Working with lists\n",
    "\n",
    "Test your understanding of lists; make a prediction about what the following code will display:\n",
    "\n",
    "```\n",
    "list_a = [1, 2, 3]\n",
    "list_b = [4, 5, 6]\n",
    "print(list_a + list_b)\n",
    "print(list_a.append(list_b))\n",
    "```\n",
    "\n",
    "*After* you've made a prediction, **make a new cell and test your prediction**."
   ]
  },
  {
   "cell_type": "markdown",
   "id": "c47ba59f",
   "metadata": {},
   "source": [
    "## Indexing and Slicing\n",
    "\n",
    "We can access specific elements of a list (and other *iterables*) by *indexing*. Python is uses zero-based indexing, meaning the first element of an iterable is `0`, the second is `1`, and so on.\n",
    "\n",
    "```\n",
    "Index    0    1    2    3    4\n",
    "List  [ \"a\", \"b\", \"c\", \"d\", \"e\" ]\n",
    "```\n",
    "\n",
    "For instance:"
   ]
  },
  {
   "cell_type": "code",
   "execution_count": null,
   "id": "09c9b92d",
   "metadata": {},
   "outputs": [],
   "source": [
    "l = [\"a\", \"b\", \"c\"]\n",
    "print(\"l[0] = {}\".format(l[0]))\n",
    "print(\"l[1] = {}\".format(l[1]))\n",
    "print(\"l[2] = {}\".format(l[2]))\n"
   ]
  },
  {
   "cell_type": "markdown",
   "id": "030ab962",
   "metadata": {},
   "source": [
    "We can also use *negative indices* to conveniently access from the \"right\"."
   ]
  },
  {
   "cell_type": "code",
   "execution_count": null,
   "id": "338801b5",
   "metadata": {},
   "outputs": [],
   "source": [
    "print(\"l[-1] = {}\".format(l[-1]))\n",
    "print(\"l[-2] = {}\".format(l[-2]))\n"
   ]
  },
  {
   "cell_type": "markdown",
   "id": "a7ea930b",
   "metadata": {},
   "source": [
    "In Python, it's easy to take subsets of lists and strings (i.e. substrings) using **slicing**. Given a list (string) named `var`, we can take a subset of elements (characters) ranging from `low` to `high-1` with the syntax `var[low:high]`. Run the following code and observe what happens."
   ]
  },
  {
   "cell_type": "code",
   "execution_count": null,
   "id": "02552841",
   "metadata": {},
   "outputs": [],
   "source": [
    "var = [0, 1, 2, 3, 4, 5]\n",
    "# var = '012345'\n",
    "print('The second element:', var[1])\n",
    "print('The second and third elements:', var[1:3])\n",
    "print('The second element onwards:', var[1:])\n",
    "print('Everything before the second element:', var[:1])\n",
    "print('Everything before the second TO LAST element:', var[:-2])\n"
   ]
  },
  {
   "cell_type": "markdown",
   "id": "f2e51871",
   "metadata": {},
   "source": [
    "### __q5__ Take the middle\n",
    "\n",
    "Using your understanding of python indexing & slicing, select the *middle three elements* of the following list."
   ]
  },
  {
   "cell_type": "code",
   "execution_count": null,
   "id": "54be4011",
   "metadata": {},
   "outputs": [],
   "source": [
    "###\n",
    "# TASK: Take the middle values\n",
    "# TODO: Use python slicing to take the middle three values\n",
    "###\n",
    "test = [-2, -1, 0, +1, +2]\n",
    "\n",
    "# -- WRITE YOUR CODE BELOW -----\n",
    "\n"
   ]
  },
  {
   "cell_type": "markdown",
   "id": "1df68033",
   "metadata": {},
   "source": [
    "## Modules\n",
    "\n",
    "By default, python provides a relatively small set of functionality. To carry out more specialized operations, we can *import module*. A module is a set of tools that help us carry out some tasks. For instance, the following module will help us control the execution of python code."
   ]
  },
  {
   "cell_type": "code",
   "execution_count": null,
   "id": "31392aad",
   "metadata": {},
   "outputs": [],
   "source": [
    "# Import a module first\n",
    "from time import sleep\n",
    "\n",
    "# Pause code execution for 5 seconds\n",
    "sleep(5)\n",
    "\n",
    "# Print some output to signal code has reached this point\n",
    "print('Cell is finished running!')\n"
   ]
  },
  {
   "cell_type": "markdown",
   "id": "d42e99e1",
   "metadata": {},
   "source": [
    "In the first line of the above Code cell, we imported a function `sleep()` from a module. A function takes some number of inputs (possibly zero, like `sleep()`), and returns some number of outputs (possibly zero, like `sleep()`). The inputs to a function are called *arguments*, and are put inside the parentheses, if needed.\n",
    "\n",
    "Python modules, even when installed on your machine, must be explicitly imported before they can be used. Some modules, like `time`, are bundled with Python (we might call these \"standard modules\"), while others must be installed separately from an external source (\"third-party modules\") before importing.\n",
    "\n",
    "In later parts of the workshop, we will use some highly-specialized modules to carry out materials informatics tasks."
   ]
  },
  {
   "cell_type": "markdown",
   "id": "74989d28",
   "metadata": {},
   "source": [
    "If we don't import a *specific* object from a module, then we need to explicitly reference the module in order to use its contents. For instance, we could write the above as the following."
   ]
  },
  {
   "cell_type": "code",
   "execution_count": null,
   "id": "64e2672e",
   "metadata": {},
   "outputs": [],
   "source": [
    "import time\n",
    "time.sleep(5)\n",
    "print(\"Cell is finished running!\")\n"
   ]
  },
  {
   "cell_type": "markdown",
   "id": "9e154791",
   "metadata": {},
   "source": [
    "We'll see this a lot later when we start working with the `numpy` and `pandas` modules, where we tend to use *canonical* aliases:\n",
    "\n",
    "```\n",
    "import numpy as np\n",
    "import pandas as pd\n",
    "\n",
    "X = np.array([[1, 2, 3]])\n",
    "df = pd.DataFrame(\n",
    "    data = X,\n",
    "    columns = [\"X\"]\n",
    ")\n",
    "```"
   ]
  },
  {
   "cell_type": "markdown",
   "id": "fd61edf3",
   "metadata": {},
   "source": [
    "### __q6__ Do the math\n",
    "\n",
    "Import the functions `sin, cos` and the constant `pi` from the `math` module, and use them to complete the following code."
   ]
  },
  {
   "cell_type": "code",
   "execution_count": null,
   "id": "25a4bc2c",
   "metadata": {},
   "outputs": [],
   "source": [
    "###\n",
    "# TASK: Compute some trigonometric operations\n",
    "# TODO: Import sin, cos, pi from the math module\n",
    "# TODO: Convert degrees to radians\n",
    "# TODO: Use sin() and cos() to complete the code below\n",
    "###\n",
    "\n",
    "from math import sin, cos, pi\n",
    "angle_degrees = 15\n",
    "# -- WRITE YOUR CODE BELOW -----\n",
    "my_sine = 0  # sin(angle_radians)\n",
    "my_cosine = 0  # cos(angle_radians)\n",
    "result = my_sine**2 + my_cosine**2\n",
    "\n",
    "# -- PRINT THE ANSWER ----\n",
    "result\n"
   ]
  },
  {
   "cell_type": "markdown",
   "id": "31f334d6",
   "metadata": {},
   "source": [
    "## Conditionals and logic\n",
    "\n",
    "Conditionals and logic allow us to adapt a program to the data.  Python conditional statements are `if`, `elif`, and `else`, and they follow a particular syntax:"
   ]
  },
  {
   "cell_type": "code",
   "execution_count": null,
   "id": "790818ca",
   "metadata": {},
   "outputs": [],
   "source": [
    "if True:\n",
    "    print(\"True\")\n",
    "else:\n",
    "    print(\"Not printed....\")\n"
   ]
  },
  {
   "cell_type": "markdown",
   "id": "d19e3150",
   "metadata": {},
   "source": [
    "Note that we **must** either indent or provide four spaces to all lines falling under a conditional.\n",
    "\n",
    "```\n",
    "if True:\n",
    "pass # This will throw an error!\n",
    "###\n",
    "if True:\n",
    "    print(\"This will work!\")\n",
    "```"
   ]
  },
  {
   "cell_type": "markdown",
   "id": "4a7dab18",
   "metadata": {},
   "source": [
    "The reason for this is because python uses *whitespace* in the same way C/C++ uses braces, or MATLAB uses `end` statements. Proponents of python argue that the structure of the language *enforces* readability.\n",
    "\n",
    "- An `if` statement will execute only if its argument evaluates to `True`; we can use this to select particular actions.\n",
    "- An `else` statement must follow an `if` or `elif` statement; it will evaluate if none of the other conditionals are triggered.\n",
    "- An `elif` statement is a python-specific construct, and must follow an `if` or another `elif` statement. An `elif` is like an `if`, but only evaluates if the preceding conditionals are not met.\n",
    "\n",
    "Comparisons for equality are similar to other programming languages (`<`, `<=`, `==`, `>=`, `>`).\n",
    "\n",
    "Logic can be done using *keywords* `not`, `and`, and `or`."
   ]
  },
  {
   "cell_type": "code",
   "execution_count": null,
   "id": "fa4bd972",
   "metadata": {},
   "outputs": [],
   "source": [
    "# Uncomment and pick a number!\n",
    "# n = ???\n",
    "\n",
    "\n",
    "if n > 0:\n",
    "    print('Positive.')\n",
    "elif not n >= 0:\n",
    "    print('Negative.')\n",
    "else:\n",
    "    print('Zero.')\n"
   ]
  },
  {
   "cell_type": "markdown",
   "id": "bf524c60",
   "metadata": {},
   "source": [
    "## Functions\n",
    "\n",
    "Functions are defined in Python using the `def` keyword. We specify the arguments by putting variable names in the parentheses `()`. We can specify a value to provide as output by using the `return` keyword, as demonstrated below:\n",
    "\n",
    "```python\n",
    "def fcn_example(x, y=1):\n",
    "    return x + y\n",
    "```\n",
    "\n",
    "Like with conditional statements, we must end a function definition line with a colon `:`, and start the following lines indented:\n",
    "\n",
    "```python\n",
    " # This will throw an error: Missing colon\n",
    "def fcn_wrong1(x)\n",
    "    return x + 3\n",
    " # This will throw an error: Missing indentation\n",
    "def fcn_wrong2(x):\n",
    "return x + 4\n",
    "```\n",
    "\n",
    "We can then \"call\" (or \"execute\") that function by typing the function name and including the function inputs in parentheses.\n",
    "\n",
    "```python\n",
    "fcn_example(1)\n",
    "fcn_example(1, y=2)\n",
    "```\n",
    "\n",
    "The inputs `x` and `y` are called *arguments*. Arguments without default values must be provided (such as `x`), while arguments with default values are called *keyword arguments* and do not need to be specified when calling the function (such as `y`). Providing a keyword argument (`fcn_example(1, y=2)`) allows us to override the default value.\n"
   ]
  },
  {
   "cell_type": "markdown",
   "id": "526f6926",
   "metadata": {},
   "source": [
    "### __q7__ Define a function\n",
    "\n",
    "Define a function named `fcn_q7` that takes a single input, adds `2`, and returns the result.\n"
   ]
  },
  {
   "cell_type": "code",
   "execution_count": null,
   "id": "a640a34e",
   "metadata": {},
   "outputs": [],
   "source": [
    "## TASK: Define a function `fcn_q7` that adds `2` to the input\n",
    "\n",
    "## Define your function here\n",
    "\n",
    "\n",
    "# No need to edit this; use this to check your work\n",
    "assert \\\n",
    "    fcn_q7(2) == 4, \\\n",
    "    \"Incorrect value\"\n"
   ]
  },
  {
   "cell_type": "markdown",
   "id": "4af903cf",
   "metadata": {},
   "source": [
    "## Getting help\n",
    "\n",
    "If there is a python function that is mysterious to you, you can always consult the *documentation*. You can call the python built-in `help()` function on an object to display its documentation. The following documentation for `list` points to a number of functions that operate on lists that we did not cover; for instance, the `list.sort()` method is *extremely useful* for data science.\n"
   ]
  },
  {
   "cell_type": "code",
   "execution_count": null,
   "id": "6c6cb69e",
   "metadata": {},
   "outputs": [],
   "source": [
    "help(list.sort)\n"
   ]
  },
  {
   "cell_type": "markdown",
   "id": "3a6e99b3",
   "metadata": {},
   "source": [
    "There is a caveat here, which is that `help()` will generally provide *very technical details* on the object in question, which is useful for reference, but often unhelpful when first learning. If you find a particular python object *very mysterious*, try to formulate your question and type it into Google. **Learning how to find useful information about programming concepts is one of the key skills of learning to program well.**\n",
    "\n",
    "```{admonition} Jupyter help shortcut\n",
    "Note that in Jupyter, there's another way to access documentation on a function. If you move your cursor over a function, click there, and press `Shift + Tab`, this will open a documentation panel for easy reference!\n",
    "```"
   ]
  },
  {
   "cell_type": "markdown",
   "id": "89b41b11",
   "metadata": {},
   "source": [
    "### __q8__ Consult the documentation\n",
    "\n",
    "Consult the documentation for `list.sort()` to reverse-sort the following list.\n",
    "\n",
    "*Hint*: You will need to set a certain keyword argument to complete this task.\n"
   ]
  },
  {
   "cell_type": "code",
   "execution_count": null,
   "id": "513c1c1a",
   "metadata": {},
   "outputs": [],
   "source": [
    "## TASK: Reverse-sort the following list\n",
    "l_rev = [5, 3, 1, 4, 2]\n",
    "\n",
    "l_rev.sort()\n",
    "\n",
    "\n",
    "l_rev"
   ]
  },
  {
   "cell_type": "markdown",
   "id": "683fec73",
   "metadata": {},
   "source": [
    "# End Notes\n",
    "\n",
    "The following notes are not required, but you may find these additional Jupyter tips helpsul.\n"
   ]
  },
  {
   "cell_type": "markdown",
   "id": "873addca",
   "metadata": {},
   "source": [
    "## Save, close, quit, and re-open this notebook\n",
    "\n",
    "You can save by clicking the floppy-disk icon in the top-left of this notebook pane, and can close the notebook by clicking the \"X\" of its tab. Re-open by double-clicking on `e-data00-notebooks-assignment.ipynb` in the left-hand navigation pane.\n",
    "\n",
    "You should find that everything is exactly as you had left it! You will have to re-run the cells to load variables, but having the output saved can be helpful, particularly since Jupyter saves figures."
   ]
  },
  {
   "cell_type": "markdown",
   "id": "ddab4ccf",
   "metadata": {},
   "source": [
    "## Additional notebook tips\n",
    "\n",
    "* Save your notebooks frequently! Use the \"**Save**\" icon at the top or the **Ctrl+S**/**Cmd+S** shortcut.\n",
    "* Use **Shift+Enter** to run a cell and move on to the next cell. This allows you to sequentially execute all the cells in your notebook.\n",
    "* **Restart & Clear Output**. This option is found under the *Kernel* menu. It is extremely helpful to reset all code cell executions, stale package imports, and variable values.\n",
    "* Take the time to explore other menu options and tinker around. There's a ton of [keyboard shortcuts](https://www.cheatography.com/weidadeyue/cheat-sheets/jupyter-notebook/pdf_bw/) and [nifty customizations](https://towardsdatascience.com/how-to-effortlessly-optimize-jupyter-notebooks-e864162a06ee) you can do with notebooks."
   ]
  },
  {
   "cell_type": "markdown",
   "id": "7e556226",
   "metadata": {},
   "source": [
    "## Jupyter magic functions\n",
    "\n",
    "[Magic functions](https://ipython.readthedocs.io/en/stable/interactive/magics.html) are a set of commands exclusively for Jupyter notebooks that are part of what makes notebooks so powerful. All magic commands start with a `%` sign, and we give examples of some below."
   ]
  },
  {
   "cell_type": "code",
   "execution_count": null,
   "id": "664c3cb4",
   "metadata": {},
   "outputs": [],
   "source": [
    "import numpy as np\n",
    "\n",
    "# This command will output how long it takes the following inline command to run\n",
    "%time np.mean(np.random.randint(low=1, high=7, size=1000))\n"
   ]
  },
  {
   "cell_type": "code",
   "execution_count": null,
   "id": "3ede0f00",
   "metadata": {},
   "outputs": [],
   "source": [
    "# You'll see this command later; it allows Jupyter to render plots\n",
    "# as output in the notebook instead of opening a new window.\n",
    "%matplotlib inline\n"
   ]
  },
  {
   "cell_type": "code",
   "execution_count": null,
   "id": "0e5bb459",
   "metadata": {},
   "outputs": [],
   "source": [
    "# This shows which variables are in your environment.\n",
    "# Can be packages, functions, variables, and more!\n",
    "%who\n"
   ]
  },
  {
   "cell_type": "code",
   "execution_count": null,
   "id": "a4fb3d94",
   "metadata": {},
   "outputs": [],
   "source": [
    "# You'll see this command later; it allows Jupyter to automatically\n",
    "# pick up on changes in referenced code without reloading the kernel.\n",
    "%load_ext autoreload\n"
   ]
  },
  {
   "cell_type": "code",
   "execution_count": null,
   "id": "8e5c8118",
   "metadata": {},
   "outputs": [],
   "source": [
    "# This command will list your system environment variables.\n",
    "%env\n"
   ]
  }
 ],
 "metadata": {
  "kernelspec": {
   "display_name": "Python 3 (ipykernel)",
   "language": "python",
   "name": "python3"
  },
  "language_info": {
   "codemirror_mode": {
    "name": "ipython",
    "version": 3
   },
   "file_extension": ".py",
   "mimetype": "text/x-python",
   "name": "python",
   "nbconvert_exporter": "python",
   "pygments_lexer": "ipython3",
   "version": "3.9.7"
  }
 },
 "nbformat": 4,
 "nbformat_minor": 5
}
