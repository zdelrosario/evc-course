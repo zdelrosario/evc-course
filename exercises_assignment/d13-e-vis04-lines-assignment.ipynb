{
 "cells": [
  {
   "cell_type": "markdown",
   "id": "fc3f6367",
   "metadata": {},
   "source": [
    "# Vis: Lines and Related Geometries\n",
    "\n",
    "*Purpose*: *Line plots* are a key tool for EDA. In contrast with a scatterplot, a line plot assumes the data have a *function* relation. This can create an issue if we try to plot data that do not satisfy our assumptions. In this exercise, we'll practice some best-practices for constructing line plots.\n"
   ]
  },
  {
   "cell_type": "markdown",
   "id": "89695e71",
   "metadata": {},
   "source": [
    "## Setup\n"
   ]
  },
  {
   "cell_type": "code",
   "execution_count": null,
   "id": "513235e2",
   "metadata": {},
   "outputs": [],
   "source": [
    "import grama as gr\n",
    "DF = gr.Intention()\n",
    "%matplotlib inline"
   ]
  },
  {
   "cell_type": "markdown",
   "id": "3a9ffd23",
   "metadata": {},
   "source": [
    "We'll use the mpg and economics datasets in this exercise.\n"
   ]
  },
  {
   "cell_type": "code",
   "execution_count": null,
   "id": "1de26822",
   "metadata": {},
   "outputs": [],
   "source": [
    "# from grama.data import df_diamonds\n",
    "from plotnine.data import economics as df_economics\n",
    "from plotnine.data import mpg as df_mpg\n"
   ]
  },
  {
   "cell_type": "markdown",
   "id": "43a18477",
   "metadata": {},
   "source": [
    "# Line Plots\n",
    "\n",
    "In the [previous exercise](https://zdelrosario.github.io/evc-course/exercises_solution/d09-e-vis03-scatterplot-solution.html) we learned about using scatterplots to study the relationship between two variables. This works well for a variety of datasets, as our eyes can readily pick out trends in the data even in a \"sea of dots.\"\n"
   ]
  },
  {
   "cell_type": "code",
   "execution_count": null,
   "id": "456ef2b9",
   "metadata": {},
   "outputs": [],
   "source": [
    "## NOTE: No need to edit\n",
    "(\n",
    "    df_mpg\n",
    "    >> gr.ggplot(gr.aes(\"displ\", \"hwy\"))\n",
    "    + gr.geom_count()\n",
    ")"
   ]
  },
  {
   "cell_type": "markdown",
   "id": "d6f52ac5",
   "metadata": {},
   "source": [
    "However, a scatterplot is not always the *ideal* visual; for instance, the following shows the personal savings rate `psavert` of the US Population.\n"
   ]
  },
  {
   "cell_type": "code",
   "execution_count": null,
   "id": "e0212558",
   "metadata": {},
   "outputs": [],
   "source": [
    "## NOTE: No need to edit\n",
    "(\n",
    "    df_economics\n",
    "    >> gr.ggplot(gr.aes(\"date\", \"psavert\"))\n",
    "    + gr.geom_point()\n",
    ")"
   ]
  },
  {
   "cell_type": "markdown",
   "id": "79a6d7b6",
   "metadata": {},
   "source": [
    "Here we can see the overall trend in the data, but it's harder to make out the smaller ups and downs in the value. We could visualize the same dataset with `gr.geom_line()` to directly connect each point with lines:\n"
   ]
  },
  {
   "cell_type": "code",
   "execution_count": null,
   "id": "eb94e2c2",
   "metadata": {},
   "outputs": [],
   "source": [
    "## NOTE: No need to edit\n",
    "(\n",
    "    df_economics\n",
    "    >> gr.ggplot(gr.aes(\"date\", \"psavert\"))\n",
    "    + gr.geom_line()\n",
    ")"
   ]
  },
  {
   "cell_type": "markdown",
   "id": "c5669ed2",
   "metadata": {},
   "source": [
    "Since each point is now directly connected to its neighbor, we can more readily see the small changes in `psavert` across time.\n"
   ]
  },
  {
   "cell_type": "markdown",
   "id": "0bb408bf",
   "metadata": {},
   "source": [
    "## Limitations of Lines: Function relations only\n",
    "\n",
    "While lines have their advantages, they have an important limitation:\n",
    "\n",
    "> A line plot is only appropriate for data that have a *function* relationship; that is, for each `x` value, there is only one `y` value.\n",
    "\n",
    "Let's use the mpg dataset to see what happens when we plot data that *fail* to have this function relationship.\n"
   ]
  },
  {
   "cell_type": "markdown",
   "id": "33bd35ff",
   "metadata": {},
   "source": [
    "### __q1__ Make and assess a line plot\n",
    "\n",
    "Convert the following into a line plot. Answer the questions under *observations* below.\n"
   ]
  },
  {
   "cell_type": "code",
   "execution_count": null,
   "id": "5590a3c0",
   "metadata": {},
   "outputs": [],
   "source": [
    "## TASK: Convert to a line plot\n",
    "(\n",
    "    df_mpg\n",
    "    >> gr.ggplot(gr.aes(\"displ\", \"hwy\"))\n",
    "    # + gr.geom_point()\n",
    "\n",
    ")\n"
   ]
  },
  {
   "cell_type": "markdown",
   "id": "cb216631",
   "metadata": {},
   "source": [
    "*Observations*\n",
    "\n",
    "- Using the scatterplot, can you tell if the data have a function relationship? How do you know?\n",
    "  - (Your response here)\n",
    "- Hide the dots and show the line; does this give you a correct impression of the trends in the data? Why or why not?\n",
    "  - (Your response here)\n"
   ]
  },
  {
   "cell_type": "markdown",
   "id": "0e5cbe65",
   "metadata": {},
   "source": [
    "### Functions within groups\n",
    "\n",
    "Sometimes a dataset will fail to have a function relationship because there are *multiple groups* that each have their own function relationship. For instance, if we were doing sweeps in $x$ for the following function\n",
    "\n",
    "$$y = c \\exp(x),$$\n",
    "\n",
    "and we considered multiple values of $c$, there *would* be a function relationship, but we would need to consider each unique value of $c$ separately. Visualizing multiple values of $c$ together would create an incomprehensible mess:\n"
   ]
  },
  {
   "cell_type": "code",
   "execution_count": null,
   "id": "3ce3882e",
   "metadata": {},
   "outputs": [],
   "source": [
    "## NOTE: No need to edit\n",
    "# Generate a dataset\n",
    "df_groups = (\n",
    "    gr.Model()\n",
    "    >> gr.cp_vec_function(\n",
    "        fun=lambda df: gr.df_make(y=df.c * gr.exp(df.x)),\n",
    "        var=[\"c\", \"x\"],\n",
    "        out=[\"y\"],\n",
    "    )\n",
    "    >> gr.ev_df(df=gr.df_grid(c=[1, 5], x=gr.linspace(-1, 1, 100)))\n",
    ")\n",
    "\n",
    "# Visualize\n",
    "(\n",
    "    df_groups\n",
    "    >> gr.ggplot(gr.aes(\"x\", \"y\"))\n",
    "    + gr.geom_line()\n",
    ")"
   ]
  },
  {
   "cell_type": "markdown",
   "id": "45a0f517",
   "metadata": {},
   "source": [
    "However, we can easily fix this problem by using the `group` aesthetic.\n"
   ]
  },
  {
   "cell_type": "markdown",
   "id": "e3fa5e6c",
   "metadata": {},
   "source": [
    "### __q2__ Separate the lines\n",
    "\n",
    "Use the `group` aesthetic to separate the lines belonging to different values of `c`.\n"
   ]
  },
  {
   "cell_type": "code",
   "execution_count": null,
   "id": "ea650a49",
   "metadata": {
    "tags": []
   },
   "outputs": [],
   "source": [
    "## TASK: Assign the `group` aesthetic to separate the lines\n",
    "(\n",
    "    df_groups\n",
    "    >> gr.ggplot(gr.aes(\n",
    "        x=\"x\",\n",
    "        y=\"y\",\n",
    "\n",
    "    ))\n",
    "    + gr.geom_line()\n",
    ")"
   ]
  },
  {
   "cell_type": "markdown",
   "id": "8848ea34",
   "metadata": {},
   "source": [
    "Note that it's good practice to *visually* distinguish different groups. However, you'll need to assign both the group aesthetic along with the visual aesthetic to make this work. The following plot demonstrates this; try uncommenting the `group` aesthetic to see how this affects the plot.\n"
   ]
  },
  {
   "cell_type": "code",
   "execution_count": null,
   "id": "8eb58355",
   "metadata": {},
   "outputs": [],
   "source": [
    "## TRY IT: Try uncommenting the line below to see how it changes the plot\n",
    "(\n",
    "    df_groups\n",
    "    >> gr.ggplot(gr.aes(\n",
    "        x=\"x\", \n",
    "        y=\"y\", \n",
    "        # group=\"c\", # Try uncommenting this to fix the plot\n",
    "        color=\"c\",\n",
    "    ))\n",
    "    + gr.geom_line()\n",
    "    + gr.theme_minimal()\n",
    ")\n"
   ]
  },
  {
   "cell_type": "markdown",
   "id": "079407db",
   "metadata": {},
   "source": [
    "# Line Helpers\n",
    "\n",
    "In addition to a \"raw\" line plot, there are a variety of related geometries that we can use a \"line-like helpers.\"\n"
   ]
  },
  {
   "cell_type": "markdown",
   "id": "6554a55c",
   "metadata": {},
   "source": [
    "## Guide lines\n",
    "\n",
    "There are a variety of line geometries that are useful as *guide lines*:\n",
    "\n",
    "| Geometry | Use | Key Aesthetics |\n",
    "|----------|-----|----------------|\n",
    "| `gr.geom_hline()` | Horizontal guideline | `yintercept` |\n",
    "| `gr.geom_vline()` | Vertical guideline | `xintercept` |\n",
    "| `gr.geom_abline()` | Diagonal guideline | `intercept, slope` |\n",
    "\n",
    "For example, we can use a horizontal guideline to compare a trend in time against some fixed value of interest. Suppose we were interested in the value $10\\%$; we could mark that value on the economics dataset:\n"
   ]
  },
  {
   "cell_type": "code",
   "execution_count": null,
   "id": "dc435e15",
   "metadata": {},
   "outputs": [],
   "source": [
    "## NOTE: No need to edit\n",
    "(\n",
    "    df_economics\n",
    "    >> gr.ggplot(gr.aes(\"date\", \"psavert\"))\n",
    "    + gr.geom_hline(yintercept=10, linetype=\"dashed\")\n",
    "    + gr.geom_line()\n",
    ")"
   ]
  },
  {
   "cell_type": "markdown",
   "id": "4a010581",
   "metadata": {},
   "source": [
    "Using a `\"dashed\"` line simply helps distinguish it from the plot of the data.\n",
    "\n",
    "However, we can also assign the aesthetic *within* `gr.aes()` in order to use values in the dataset. For instance, we could use this to compute and visualize the mean over all time:\n"
   ]
  },
  {
   "cell_type": "code",
   "execution_count": null,
   "id": "95fae74f",
   "metadata": {},
   "outputs": [],
   "source": [
    "## NOTE: No need to edit\n",
    "(\n",
    "    df_economics\n",
    "    >> gr.ggplot(gr.aes(\"date\", \"psavert\"))\n",
    "    + gr.geom_hline(\n",
    "        data=df_economics\n",
    "        >> gr.tf_summarize(psavert=gr.mean(DF.psavert)),\n",
    "        # NOTE: We're using `yintercept` *inside* gr.aes(...)\n",
    "        mapping=gr.aes(yintercept=\"psavert\"),\n",
    "        # NOTE: We're not using `yintercept` outside gr.aes(...)\n",
    "        # yintercept=???, # This is how we \"hard code\" a value, not how we use data\n",
    "        linetype=\"dashed\",\n",
    "    )\n",
    "    + gr.geom_line()\n",
    ")"
   ]
  },
  {
   "cell_type": "markdown",
   "id": "82654b95",
   "metadata": {},
   "source": [
    "Let's practice applying a guideline to a plot.\n"
   ]
  },
  {
   "cell_type": "markdown",
   "id": "8000d523",
   "metadata": {},
   "source": [
    "### __q3__ Add a diagonal guideline\n",
    "\n",
    "Add a diagonal guideline with a slope of `1` and an intercept of `0`. Answer the questions under *observations* below.\n"
   ]
  },
  {
   "cell_type": "code",
   "execution_count": null,
   "id": "bde4a0c0",
   "metadata": {},
   "outputs": [],
   "source": [
    "## TASK: Add a guideline with slope=1 and intercept=0\n",
    "(\n",
    "    df_mpg\n",
    "    >> gr.ggplot(gr.aes(\"cty\", \"hwy\"))\n",
    "\n",
    "    + gr.geom_count()\n",
    ")"
   ]
  },
  {
   "cell_type": "markdown",
   "id": "86d38b88",
   "metadata": {},
   "source": [
    "*Observations*\n",
    "\n",
    "- Are there any vehicles that have a `cty` value larger than their `hwy` value? How do you know?\n",
    "  - (Your response here)\n"
   ]
  },
  {
   "cell_type": "markdown",
   "id": "891deb8f",
   "metadata": {},
   "source": [
    "Note that we can use additional aesthetics within guidelines such as `gr.geom_vline()` and `gr.geom_hline()`. For instance, the following plot computes a mean `displ` for each vehicle `class`, and visualizes it as a vertical line:\n"
   ]
  },
  {
   "cell_type": "code",
   "execution_count": null,
   "id": "0b4a299a",
   "metadata": {},
   "outputs": [],
   "source": [
    "## NOTE: No need to edit\n",
    "(\n",
    "    df_mpg\n",
    "    >> gr.ggplot(gr.aes(\"displ\", \"hwy\", color=\"class\"))\n",
    "    + gr.geom_vline(\n",
    "        # Summarize across `class`\n",
    "        data=df_mpg\n",
    "        >> gr.tf_group_by(\"class\")\n",
    "        >> gr.tf_summarize(displ=gr.mean(DF.displ)),\n",
    "        mapping=gr.aes(xintercept=\"displ\", color=\"class\"),\n",
    "        size=1.5,\n",
    "        alpha=1/3,\n",
    "    )\n",
    "    + gr.geom_point()\n",
    "    + gr.theme_minimal()\n",
    ")"
   ]
  },
  {
   "cell_type": "markdown",
   "id": "b3e0ebe6",
   "metadata": {},
   "source": [
    "Using a combination of guidelines and aesthetics (possibly driven by the dataset), we have extraordinary flexibility in desining and annotating plots!\n"
   ]
  },
  {
   "cell_type": "markdown",
   "id": "7906a6a5",
   "metadata": {},
   "source": [
    "## Smooth trends\n",
    "\n",
    "When our data do not have a function relationship, we can use *smoothing* to add a trend line to the data. This is useful for highlighting an \"overall\" trend, and often works well when combined with a scatterplot.\n"
   ]
  },
  {
   "cell_type": "code",
   "execution_count": null,
   "id": "c2c48994",
   "metadata": {},
   "outputs": [],
   "source": [
    "## NOTE: No need to edit\n",
    "(\n",
    "    df_mpg\n",
    "    >> gr.ggplot(gr.aes(\"displ\", \"hwy\"))\n",
    "    + gr.geom_smooth(color=\"grey\", size=2)\n",
    "    + gr.geom_count()\n",
    "    + gr.theme_minimal()\n",
    ")"
   ]
  },
  {
   "cell_type": "markdown",
   "id": "5615ea1b",
   "metadata": {},
   "source": [
    "Note that the trend line tends to follow the \"middle\" of the data; for instance, the small set of higher-`hwy` cars at higher `displ` (the `2seater` vehicles) do not strongly affect the trend, which instead follows the bulk of the data.\n",
    "\n",
    "The geometry `gr.geom_smooth()` *also* accepts additional aesthetics, as you'll see in the following task:\n"
   ]
  },
  {
   "cell_type": "markdown",
   "id": "11cd55b9",
   "metadata": {},
   "source": [
    "### __q4__ Add an aesthetic to a smoothed plot\n",
    "\n",
    "Use an additional aesthetic to distinguish between `class` in the following plot. Answer the questions under *observations* below.\n"
   ]
  },
  {
   "cell_type": "code",
   "execution_count": null,
   "id": "2dc2e9ea",
   "metadata": {},
   "outputs": [],
   "source": [
    "## TASK: Add an aesthetic to distinguish the `class` variable\n",
    "(\n",
    "    df_mpg\n",
    "    >> gr.ggplot(gr.aes(\n",
    "        x=\"displ\", \n",
    "        y=\"hwy\", \n",
    "\n",
    "    ))\n",
    "    + gr.geom_smooth()\n",
    "    + gr.geom_point()\n",
    ")"
   ]
  },
  {
   "cell_type": "markdown",
   "id": "5b4c1b1d",
   "metadata": {},
   "source": [
    "*Observations*\n",
    "\n",
    "- What is similar about the smoothed trend across different vehicle `class`es?\n",
    "  - (Your response here)\n",
    "- What is different about the smoothed trend across different vehicle `class`es?\n",
    "  - (Your response here)\n"
   ]
  }
 ],
 "metadata": {
  "kernelspec": {
   "display_name": "Python 3 (ipykernel)",
   "language": "python",
   "name": "python3"
  },
  "language_info": {
   "codemirror_mode": {
    "name": "ipython",
    "version": 3
   },
   "file_extension": ".py",
   "mimetype": "text/x-python",
   "name": "python",
   "nbconvert_exporter": "python",
   "pygments_lexer": "ipython3",
   "version": "3.9.7"
  }
 },
 "nbformat": 4,
 "nbformat_minor": 5
}
