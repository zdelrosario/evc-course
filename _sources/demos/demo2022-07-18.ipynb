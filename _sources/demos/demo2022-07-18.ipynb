{
 "cells": [
  {
   "cell_type": "markdown",
   "id": "a6f67add-8b6b-404e-8fd2-1ea1c05d6c11",
   "metadata": {},
   "source": [
    "(demo2022-07-18)=\n",
    "# Demo Notebook 2022-07-18\n",
    "\n",
    "Demos from the live sessions on 2022-07-18.\n"
   ]
  },
  {
   "cell_type": "markdown",
   "id": "26147fc4-bfd3-4f8e-8217-0a6bad30e404",
   "metadata": {},
   "source": [
    "## Setup\n",
    "\n"
   ]
  },
  {
   "cell_type": "code",
   "execution_count": 1,
   "id": "0079a2f5-dd81-497c-82d5-1c2d439ebd55",
   "metadata": {
    "tags": []
   },
   "outputs": [],
   "source": [
    "import grama as gr\n",
    "import pandas as pd\n",
    "import numpy as np\n",
    "DF = gr.Intention()\n",
    "%matplotlib inline\n"
   ]
  },
  {
   "cell_type": "markdown",
   "id": "d21e04e1-2589-4dff-ba36-a278fbaeda9d",
   "metadata": {},
   "source": [
    "## Load the challenge data\n"
   ]
  },
  {
   "cell_type": "code",
   "execution_count": 2,
   "id": "4edb093e-35d7-459d-bb68-3ff7852d4914",
   "metadata": {},
   "outputs": [
    {
     "data": {
      "text/html": [
       "<div>\n",
       "<style scoped>\n",
       "    .dataframe tbody tr th:only-of-type {\n",
       "        vertical-align: middle;\n",
       "    }\n",
       "\n",
       "    .dataframe tbody tr th {\n",
       "        vertical-align: top;\n",
       "    }\n",
       "\n",
       "    .dataframe thead th {\n",
       "        text-align: right;\n",
       "    }\n",
       "</style>\n",
       "<table border=\"1\" class=\"dataframe\">\n",
       "  <thead>\n",
       "    <tr style=\"text-align: right;\">\n",
       "      <th></th>\n",
       "      <th>E</th>\n",
       "      <th>mu</th>\n",
       "      <th>t</th>\n",
       "      <th>id_machine</th>\n",
       "      <th>id_specimen</th>\n",
       "      <th>id_measurement</th>\n",
       "    </tr>\n",
       "  </thead>\n",
       "  <tbody>\n",
       "    <tr>\n",
       "      <th>0</th>\n",
       "      <td>10113.457096</td>\n",
       "      <td>0.319442</td>\n",
       "      <td>0.250</td>\n",
       "      <td>A</td>\n",
       "      <td>0</td>\n",
       "      <td>g</td>\n",
       "    </tr>\n",
       "    <tr>\n",
       "      <th>1</th>\n",
       "      <td>9432.148720</td>\n",
       "      <td>0.308230</td>\n",
       "      <td>0.250</td>\n",
       "      <td>A</td>\n",
       "      <td>1</td>\n",
       "      <td>g</td>\n",
       "    </tr>\n",
       "    <tr>\n",
       "      <th>2</th>\n",
       "      <td>10468.172283</td>\n",
       "      <td>0.328422</td>\n",
       "      <td>0.250</td>\n",
       "      <td>A</td>\n",
       "      <td>2</td>\n",
       "      <td>g</td>\n",
       "    </tr>\n",
       "    <tr>\n",
       "      <th>3</th>\n",
       "      <td>9474.697920</td>\n",
       "      <td>0.333919</td>\n",
       "      <td>0.250</td>\n",
       "      <td>A</td>\n",
       "      <td>3</td>\n",
       "      <td>g</td>\n",
       "    </tr>\n",
       "    <tr>\n",
       "      <th>4</th>\n",
       "      <td>10010.402837</td>\n",
       "      <td>0.310751</td>\n",
       "      <td>0.250</td>\n",
       "      <td>A</td>\n",
       "      <td>4</td>\n",
       "      <td>g</td>\n",
       "    </tr>\n",
       "    <tr>\n",
       "      <th>...</th>\n",
       "      <td>...</td>\n",
       "      <td>...</td>\n",
       "      <td>...</td>\n",
       "      <td>...</td>\n",
       "      <td>...</td>\n",
       "      <td>...</td>\n",
       "    </tr>\n",
       "    <tr>\n",
       "      <th>715</th>\n",
       "      <td>11935.167126</td>\n",
       "      <td>0.319328</td>\n",
       "      <td>0.125</td>\n",
       "      <td>F</td>\n",
       "      <td>115</td>\n",
       "      <td>l</td>\n",
       "    </tr>\n",
       "    <tr>\n",
       "      <th>716</th>\n",
       "      <td>11552.946124</td>\n",
       "      <td>0.317546</td>\n",
       "      <td>0.125</td>\n",
       "      <td>F</td>\n",
       "      <td>116</td>\n",
       "      <td>l</td>\n",
       "    </tr>\n",
       "    <tr>\n",
       "      <th>717</th>\n",
       "      <td>11985.579932</td>\n",
       "      <td>0.332173</td>\n",
       "      <td>0.125</td>\n",
       "      <td>F</td>\n",
       "      <td>117</td>\n",
       "      <td>l</td>\n",
       "    </tr>\n",
       "    <tr>\n",
       "      <th>718</th>\n",
       "      <td>12092.949690</td>\n",
       "      <td>0.317655</td>\n",
       "      <td>0.125</td>\n",
       "      <td>F</td>\n",
       "      <td>118</td>\n",
       "      <td>l</td>\n",
       "    </tr>\n",
       "    <tr>\n",
       "      <th>719</th>\n",
       "      <td>12170.319166</td>\n",
       "      <td>0.335891</td>\n",
       "      <td>0.125</td>\n",
       "      <td>F</td>\n",
       "      <td>119</td>\n",
       "      <td>l</td>\n",
       "    </tr>\n",
       "  </tbody>\n",
       "</table>\n",
       "<p>720 rows × 6 columns</p>\n",
       "</div>"
      ],
      "text/plain": [
       "                E        mu      t id_machine  id_specimen id_measurement\n",
       "0    10113.457096  0.319442  0.250          A            0              g\n",
       "1     9432.148720  0.308230  0.250          A            1              g\n",
       "2    10468.172283  0.328422  0.250          A            2              g\n",
       "3     9474.697920  0.333919  0.250          A            3              g\n",
       "4    10010.402837  0.310751  0.250          A            4              g\n",
       "..            ...       ...    ...        ...          ...            ...\n",
       "715  11935.167126  0.319328  0.125          F          115              l\n",
       "716  11552.946124  0.317546  0.125          F          116              l\n",
       "717  11985.579932  0.332173  0.125          F          117              l\n",
       "718  12092.949690  0.317655  0.125          F          118              l\n",
       "719  12170.319166  0.335891  0.125          F          119              l\n",
       "\n",
       "[720 rows x 6 columns]"
      ]
     },
     "execution_count": 2,
     "metadata": {},
     "output_type": "execute_result"
    }
   ],
   "source": [
    "df_data = pd.read_csv(\"../challenges/data/c05-data.csv\")\n",
    "df_data"
   ]
  },
  {
   "cell_type": "markdown",
   "id": "d11db992-fe06-4134-b7dd-913befeab660",
   "metadata": {},
   "source": [
    "## Compare across thicknesses"
   ]
  },
  {
   "cell_type": "code",
   "execution_count": 3,
   "id": "f18b0753-ede9-48a8-967a-59db56d8261a",
   "metadata": {},
   "outputs": [
    {
     "data": {
      "image/png": "[encoded data removed]",
      "text/plain": [
       "<Figure size 640x480 with 1 Axes>"
      ]
     },
     "metadata": {},
     "output_type": "display_data"
    },
    {
     "data": {
      "text/plain": [
       "<ggplot: (8726504687951)>"
      ]
     },
     "execution_count": 3,
     "metadata": {},
     "output_type": "execute_result"
    }
   ],
   "source": [
    "## TODO: Compare elasticity across thicknesses\n",
    "## NOTE: There are many ways to do this!\n",
    "(\n",
    "    df_data\n",
    "# solution-begin\n",
    "    >> gr.ggplot(gr.aes(\"t\", \"E\"))\n",
    "    + gr.geom_boxplot(gr.aes(group=\"t\"), notch=True)\n",
    "# solution-end\n",
    ")"
   ]
  },
  {
   "cell_type": "markdown",
   "id": "4c590da3-e887-4004-b982-7ea3b4b1767d",
   "metadata": {},
   "source": [
    "## Fitting a lognorm"
   ]
  },
  {
   "cell_type": "code",
   "execution_count": 4,
   "id": "c8431003-6f2a-4af8-8271-0b29d985f106",
   "metadata": {},
   "outputs": [],
   "source": [
    "## NOTE: No need to edit\n",
    "df_sub = (\n",
    "    df_data\n",
    "    >> gr.tf_filter(\n",
    "        DF.t == 0.250,\n",
    "        DF.id_machine != \"C\",\n",
    "        DF.id_measurement != \"h\",\n",
    "    )\n",
    ")"
   ]
  },
  {
   "cell_type": "code",
   "execution_count": 5,
   "id": "2c367d89-1029-4e32-be6d-291f65a57b30",
   "metadata": {},
   "outputs": [
    {
     "data": {
      "text/html": [
       "<div>\n",
       "<style scoped>\n",
       "    .dataframe tbody tr th:only-of-type {\n",
       "        vertical-align: middle;\n",
       "    }\n",
       "\n",
       "    .dataframe tbody tr th {\n",
       "        vertical-align: top;\n",
       "    }\n",
       "\n",
       "    .dataframe thead th {\n",
       "        text-align: right;\n",
       "    }\n",
       "</style>\n",
       "<table border=\"1\" class=\"dataframe\">\n",
       "  <thead>\n",
       "    <tr style=\"text-align: right;\">\n",
       "      <th></th>\n",
       "      <th>E</th>\n",
       "      <th>mu</th>\n",
       "      <th>t</th>\n",
       "      <th>id_machine</th>\n",
       "      <th>id_specimen</th>\n",
       "      <th>id_measurement</th>\n",
       "    </tr>\n",
       "  </thead>\n",
       "  <tbody>\n",
       "    <tr>\n",
       "      <th>0</th>\n",
       "      <td>10113.457096</td>\n",
       "      <td>0.319442</td>\n",
       "      <td>0.25</td>\n",
       "      <td>A</td>\n",
       "      <td>0</td>\n",
       "      <td>g</td>\n",
       "    </tr>\n",
       "    <tr>\n",
       "      <th>1</th>\n",
       "      <td>9432.148720</td>\n",
       "      <td>0.308230</td>\n",
       "      <td>0.25</td>\n",
       "      <td>A</td>\n",
       "      <td>1</td>\n",
       "      <td>g</td>\n",
       "    </tr>\n",
       "    <tr>\n",
       "      <th>2</th>\n",
       "      <td>10468.172283</td>\n",
       "      <td>0.328422</td>\n",
       "      <td>0.25</td>\n",
       "      <td>A</td>\n",
       "      <td>2</td>\n",
       "      <td>g</td>\n",
       "    </tr>\n",
       "    <tr>\n",
       "      <th>3</th>\n",
       "      <td>9474.697920</td>\n",
       "      <td>0.333919</td>\n",
       "      <td>0.25</td>\n",
       "      <td>A</td>\n",
       "      <td>3</td>\n",
       "      <td>g</td>\n",
       "    </tr>\n",
       "    <tr>\n",
       "      <th>4</th>\n",
       "      <td>10010.402837</td>\n",
       "      <td>0.310751</td>\n",
       "      <td>0.25</td>\n",
       "      <td>A</td>\n",
       "      <td>4</td>\n",
       "      <td>g</td>\n",
       "    </tr>\n",
       "    <tr>\n",
       "      <th>...</th>\n",
       "      <td>...</td>\n",
       "      <td>...</td>\n",
       "      <td>...</td>\n",
       "      <td>...</td>\n",
       "      <td>...</td>\n",
       "      <td>...</td>\n",
       "    </tr>\n",
       "    <tr>\n",
       "      <th>245</th>\n",
       "      <td>11308.345649</td>\n",
       "      <td>0.327115</td>\n",
       "      <td>0.25</td>\n",
       "      <td>F</td>\n",
       "      <td>105</td>\n",
       "      <td>l</td>\n",
       "    </tr>\n",
       "    <tr>\n",
       "      <th>246</th>\n",
       "      <td>10068.336113</td>\n",
       "      <td>0.322171</td>\n",
       "      <td>0.25</td>\n",
       "      <td>F</td>\n",
       "      <td>106</td>\n",
       "      <td>l</td>\n",
       "    </tr>\n",
       "    <tr>\n",
       "      <th>247</th>\n",
       "      <td>9509.337183</td>\n",
       "      <td>0.321234</td>\n",
       "      <td>0.25</td>\n",
       "      <td>F</td>\n",
       "      <td>107</td>\n",
       "      <td>l</td>\n",
       "    </tr>\n",
       "    <tr>\n",
       "      <th>248</th>\n",
       "      <td>9174.206339</td>\n",
       "      <td>0.318443</td>\n",
       "      <td>0.25</td>\n",
       "      <td>F</td>\n",
       "      <td>108</td>\n",
       "      <td>l</td>\n",
       "    </tr>\n",
       "    <tr>\n",
       "      <th>249</th>\n",
       "      <td>9895.380257</td>\n",
       "      <td>0.322483</td>\n",
       "      <td>0.25</td>\n",
       "      <td>F</td>\n",
       "      <td>109</td>\n",
       "      <td>l</td>\n",
       "    </tr>\n",
       "  </tbody>\n",
       "</table>\n",
       "<p>250 rows × 6 columns</p>\n",
       "</div>"
      ],
      "text/plain": [
       "                E        mu     t id_machine  id_specimen id_measurement\n",
       "0    10113.457096  0.319442  0.25          A            0              g\n",
       "1     9432.148720  0.308230  0.25          A            1              g\n",
       "2    10468.172283  0.328422  0.25          A            2              g\n",
       "3     9474.697920  0.333919  0.25          A            3              g\n",
       "4    10010.402837  0.310751  0.25          A            4              g\n",
       "..            ...       ...   ...        ...          ...            ...\n",
       "245  11308.345649  0.327115  0.25          F          105              l\n",
       "246  10068.336113  0.322171  0.25          F          106              l\n",
       "247   9509.337183  0.321234  0.25          F          107              l\n",
       "248   9174.206339  0.318443  0.25          F          108              l\n",
       "249   9895.380257  0.322483  0.25          F          109              l\n",
       "\n",
       "[250 rows x 6 columns]"
      ]
     },
     "execution_count": 5,
     "metadata": {},
     "output_type": "execute_result"
    }
   ],
   "source": [
    "df_sub"
   ]
  },
  {
   "cell_type": "code",
   "execution_count": 6,
   "id": "10c2b737-b6df-4983-bcc3-f6f4b07b6364",
   "metadata": {},
   "outputs": [
    {
     "data": {
      "text/plain": [
       "0.04"
      ]
     },
     "execution_count": 6,
     "metadata": {},
     "output_type": "execute_result"
    }
   ],
   "source": [
    "10/250"
   ]
  },
  {
   "cell_type": "code",
   "execution_count": 7,
   "id": "b95a8554-9b11-49f7-9b9d-9e7b7e12d27b",
   "metadata": {},
   "outputs": [
    {
     "data": {
      "image/png": "[encoded data removed]",
      "text/plain": [
       "<Figure size 640x480 with 1 Axes>"
      ]
     },
     "metadata": {},
     "output_type": "display_data"
    },
    {
     "data": {
      "text/plain": [
       "<ggplot: (8726504642211)>"
      ]
     },
     "execution_count": 7,
     "metadata": {},
     "output_type": "execute_result"
    }
   ],
   "source": [
    "# solution-begin\n",
    "mg_E = gr.marg_fit(\n",
    "    \"lognorm\", \n",
    "    df_sub.E, \n",
    "    floc=0,\n",
    ")\n",
    "\n",
    "mg_E_bad = gr.marg_fit(\n",
    "    \"lognorm\", \n",
    "    df_sub.E, \n",
    "    # floc=0, # Don't set the location parameter to zero\n",
    ")\n",
    "\n",
    "(\n",
    "    df_sub\n",
    "    >> gr.tf_mutate(\n",
    "        q_E=gr.qqvals(DF.E, marg=mg_E),\n",
    "        q_E_bad=gr.qqvals(DF.E, marg=mg_E_bad),\n",
    "    )\n",
    "    \n",
    "    >> gr.ggplot(gr.aes(\"q_E\", \"E\"))\n",
    "    + gr.geom_abline(intercept=0, slope=1, linetype=\"dashed\")\n",
    "    + gr.geom_point()\n",
    ")\n",
    "# solution-end"
   ]
  },
  {
   "cell_type": "code",
   "execution_count": 8,
   "id": "7ec5239a-956e-4cd3-8b98-ae05c2bac0c6",
   "metadata": {},
   "outputs": [
    {
     "name": "stdout",
     "output_type": "stream",
     "text": [
      "(+0) lognorm, {'mean': '9.965e+03', 's.d.': '4.977e+02', 'COV': 0.05, 'skew.': 0.15, 'kurt.': 3.04}\n",
      "(+0) lognorm, {'mean': '2.409e+13', 's.d.': '3.298e+26', 'COV': 13691416095072.72, 'skew.': 2.5665226910475562e+39, 'kurt.': 1.2347725193581465e+105}\n"
     ]
    }
   ],
   "source": [
    "print(mg_E)     # floc == 0\n",
    "print(mg_E_bad) "
   ]
  },
  {
   "cell_type": "markdown",
   "id": "1857ea30-0a44-4f9b-90a5-6e23e95f56e3",
   "metadata": {},
   "source": [
    "## Real variability?\n"
   ]
  },
  {
   "cell_type": "code",
   "execution_count": 9,
   "id": "388c32c8-d253-4f05-9001-450d8592ce77",
   "metadata": {},
   "outputs": [],
   "source": [
    "## NOTE: No need to edit\n",
    "df_real = (\n",
    "    df_sub\n",
    "    >> gr.tf_group_by(DF.id_specimen)\n",
    "    >> gr.tf_summarize(\n",
    "        mu=gr.mean(DF.mu),\n",
    "        E=gr.mean(DF.E),\n",
    "    )\n",
    "    >> gr.tf_ungroup()\n",
    ")"
   ]
  },
  {
   "cell_type": "code",
   "execution_count": 10,
   "id": "ec9a59ea-026d-4fce-a1db-7f02f56019bb",
   "metadata": {},
   "outputs": [
    {
     "data": {
      "image/png": "[encoded data removed]",
      "text/plain": [
       "<Figure size 640x480 with 1 Axes>"
      ]
     },
     "metadata": {},
     "output_type": "display_data"
    },
    {
     "data": {
      "text/plain": [
       "<ggplot: (8726502482327)>"
      ]
     },
     "execution_count": 10,
     "metadata": {},
     "output_type": "execute_result"
    }
   ],
   "source": [
    "# solution-begin\n",
    "mg_E = gr.marg_fit(\n",
    "    \"lognorm\", \n",
    "    df_real.E, \n",
    "    floc=0,\n",
    ")\n",
    "\n",
    "mg_E_bad = gr.marg_fit(\n",
    "    \"lognorm\", \n",
    "    df_real.E, \n",
    "    # floc=0, # Don't set the location parameter to zero\n",
    ")\n",
    "\n",
    "(\n",
    "    df_real\n",
    "    >> gr.tf_mutate(\n",
    "        q_E=gr.qqvals(DF.E, marg=mg_E),\n",
    "        q_E_bad=gr.qqvals(DF.E, marg=mg_E_bad),\n",
    "    )\n",
    "    \n",
    "    >> gr.ggplot(gr.aes(\"q_E\", \"E\"))\n",
    "    + gr.geom_abline(intercept=0, slope=1, linetype=\"dashed\")\n",
    "    + gr.geom_point()\n",
    ")\n",
    "# solution-end"
   ]
  },
  {
   "cell_type": "markdown",
   "id": "8b65b09b-6399-4105-ad57-2978da6ced51",
   "metadata": {},
   "source": [
    "## Further reading\n",
    "\n",
    "- [When are allowables conservative?](https://arc.aiaa.org/doi/full/10.2514/1.J059578)\n"
   ]
  }
 ],
 "metadata": {
  "kernelspec": {
   "display_name": "Python 3 (ipykernel)",
   "language": "python",
   "name": "python3"
  },
  "language_info": {
   "codemirror_mode": {
    "name": "ipython",
    "version": 3
   },
   "file_extension": ".py",
   "mimetype": "text/x-python",
   "name": "python",
   "nbconvert_exporter": "python",
   "pygments_lexer": "ipython3",
   "version": "3.9.7"
  }
 },
 "nbformat": 4,
 "nbformat_minor": 5
}
