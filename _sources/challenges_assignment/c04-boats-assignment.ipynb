{
 "cells": [
  {
   "cell_type": "markdown",
   "id": "aee9848a",
   "metadata": {},
   "source": [
    "# c04-boats\n",
    "\n",
    "*Purpose*: Exploratory model analysis is a way to learn about a model and thus the scenario that it describes. However, computationally-expensive models are challenging to study with EMA, as every function evaluation costs us a lot of compute time. This challenge is about applying EMA ideas to learn about boat hull design, and about interfacing with a more computationally-complex simulation code.\n"
   ]
  },
  {
   "cell_type": "markdown",
   "id": "675176f1",
   "metadata": {},
   "source": [
    "## Informed Consent\n",
    "\n",
    "As a reminder, this course is part of a study of engineers' behavior. While not all parts of the course are part of the study, the homeworks (challenges) are.\n",
    "\n",
    "We will analyze your answers to this homework, and may quote this work as part of published research.\n",
    "\n",
    "You can ask to have your responses excluded from the study after the interview by sending us an email. Please remember that this is required to participate in the professional development course. Before starting this assignment, do you consent to sharing your work with the study?\n"
   ]
  },
  {
   "cell_type": "markdown",
   "id": "38790f82",
   "metadata": {},
   "source": [
    "I agree to share my responses with the study\n",
    "\n",
    "- (Please type your name here)\n"
   ]
  },
  {
   "cell_type": "code",
   "execution_count": null,
   "id": "d86c1f78",
   "metadata": {},
   "outputs": [],
   "source": [
    "import grama as gr\n",
    "import pandas as pd\n",
    "import time\n",
    "DF = gr.Intention()\n",
    "%matplotlib inline"
   ]
  },
  {
   "cell_type": "markdown",
   "id": "e4b42af6",
   "metadata": {},
   "source": [
    "# Context\n",
    "\n",
    "This challenge comes with an additional simulation code written in Python. The code is in the file `boat_utils.py`, which you can inspect if you're interested. For the purposes of this challenge, you only need to load the simulation tools, and read the basics detailed below.\n"
   ]
  },
  {
   "cell_type": "code",
   "execution_count": null,
   "id": "6f4f0f6b",
   "metadata": {},
   "outputs": [],
   "source": [
    "# Boat analysis code\n",
    "import boat_utils as boat"
   ]
  },
  {
   "cell_type": "markdown",
   "id": "4da4e2bf",
   "metadata": {},
   "source": [
    "## Basics of Boat Hull Design\n",
    "\n",
    "In order to float safely, a boat has to displace enough water to support its mass, and rotate back to upright as it is rolled by waves and wind. This desired behavior is governed by a surprisingly complex interplay between geometric and mass distribution factors in the boat's design. The following graphic depicts the cross-section of a simple boat hull, rotated $30^{\\circ}$ from its upright position.\n"
   ]
  },
  {
   "cell_type": "markdown",
   "id": "87d1c2d9",
   "metadata": {},
   "source": [
    "![Boat diagram](images/c04-boat-diagram.png)\n"
   ]
  },
  {
   "cell_type": "markdown",
   "id": "209079f2",
   "metadata": {},
   "source": [
    "Gravity applies a downward force at the center of mass (G), while buoyancy applies an upward force at the center of buoyancy (B'). These two forces apply a torque that rolls the boat---hopefully back towards its upright position! Naval engineers analyze this behavior using the *statical stability curve*---this is what the provided boat simulation tools compute.\n",
    "\n",
    "The following is a statical stability curve for an example boat hull.\n"
   ]
  },
  {
   "cell_type": "code",
   "execution_count": null,
   "id": "74a591ba",
   "metadata": {},
   "outputs": [],
   "source": [
    "# NOTE: No need to edit; this will analyze an example boat\n",
    "t0 = time.time()\n",
    "v_design = [2.5, 3.0, 2.0, 0.30, 0.35]\n",
    "df_example = boat.fun_moment(v_design)\n",
    "t1 = time.time()\n",
    "print(\"Execution time: {0:4.3f} sec\".format(t1 - t0))\n",
    "\n",
    "(\n",
    "    # Visualize the moment curve\n",
    "    df_example\n",
    "    >> gr.ggplot(gr.aes(\"angle * 180/3.14\", \"M_net\"))\n",
    "    + gr.geom_hline(yintercept=0, linetype=\"dashed\")\n",
    "    + gr.geom_line()\n",
    "    \n",
    "    + gr.scale_color_discrete(name=None)\n",
    "    + gr.theme_minimal()\n",
    "    + gr.labs(\n",
    "        x=\"Boat Angle (Degrees)\",\n",
    "        y=\"Net Moment (lbf * in)\",\n",
    "    )\n",
    ")"
   ]
  },
  {
   "cell_type": "markdown",
   "id": "6a484dc6",
   "metadata": {},
   "source": [
    "Some things worth noting about this example:\n",
    "\n",
    "- The Boat Angle is the angle to which the boat hull is rotated (along its long axis).\n",
    "- When the net moment is negative, a restoring torque acts to turn the boat back to upright.\n",
    "- When the net moment is positive, an anti-restoring torque is applied.\n",
    "<!-- - The point where the moment curve passes through the axis `M_net == 0` with positive slope is called the *angle of vanishing stability* (AVS). Rotating the boat beyond this point will cause it to settle upside-down. -->\n",
    "- The boat analysis takes a non-trivial amount of time to run! Analyzing a large number of boat designs will take a fair amount of simulation time.\n"
   ]
  },
  {
   "cell_type": "markdown",
   "id": "561b0d62",
   "metadata": {},
   "source": [
    "## Upright Stability\n",
    "\n",
    "Note that upright stability is *not* guaranteed, even when comparing boats of identical geometry. Upright stability depends on a *restoring* moment acting when the boat is rotated away from upright.\n",
    "\n",
    "> For a boat to be upright-stable, the slope of its moment curve must be **negative** at the angle $\\theta = 0^{\\circ}$.\n",
    "\n",
    "The following boat has identical hull geometry as the previous case, but is lighter (smaller `d`) and has a higher center of mass (larger `f_com`).\n"
   ]
  },
  {
   "cell_type": "code",
   "execution_count": null,
   "id": "a9a3da8d",
   "metadata": {},
   "outputs": [],
   "source": [
    "# NOTE: No need to edit; this will analyze an example boat\n",
    "t0 = time.time()\n",
    "v_light = [2.5, 3.0, 2.0, 0.20, 0.40]\n",
    "df_light = boat.fun_moment(v_light)\n",
    "t1 = time.time()\n",
    "print(\"Execution time: {0:4.3f} sec\".format(t1 - t0))\n",
    "\n",
    "(\n",
    "    # Visualize the moment curve\n",
    "    df_light\n",
    "    >> gr.tf_mutate(source=\"Light loading\")\n",
    "    >> gr.tf_bind_rows(\n",
    "        df_example\n",
    "        >> gr.tf_mutate(source=\"Baseline\")\n",
    "    )\n",
    "    >> gr.ggplot(gr.aes(\"angle * 180/3.14\", \"M_net\", color=\"source\"))\n",
    "    + gr.geom_hline(yintercept=0, linetype=\"dashed\")\n",
    "    + gr.geom_line()\n",
    "    \n",
    "    + gr.scale_color_discrete(name=None)\n",
    "    + gr.theme_minimal()\n",
    "    + gr.labs(\n",
    "        x=\"Boat Angle (Degrees)\",\n",
    "        y=\"Net Moment (lbf * in)\",\n",
    "    )\n",
    ")"
   ]
  },
  {
   "cell_type": "markdown",
   "id": "b0687d5f",
   "metadata": {},
   "source": [
    "Note that the loading conditions of the boat have destabilized it at upright; the slope of the moment curve at $0^{\\circ}$ is now positive.\n",
    "\n",
    "This phenomenon is dangerous for vessels that must operate in both heavily-loaded and lightly-loaded conditions: Imagine a large transport ship in-harbor that has just unloaded cargo. The destabilizing phenomenon we see here would put the crew and dockworkers in considerable danger.\n"
   ]
  },
  {
   "cell_type": "markdown",
   "id": "171fa427",
   "metadata": {},
   "source": [
    "```{admonition} Developing insight through EMA\n",
    "The traditional way to learn about boat stability is to carry out a variety of analytical derivations. In this challenge, you will use computational EMA tools to build some intuition about how design variables affect boat stability.\n",
    "```"
   ]
  },
  {
   "cell_type": "markdown",
   "id": "8a453be6",
   "metadata": {},
   "source": [
    "## Archival Data\n",
    "\n",
    "For this challenge, you have available a set of pre-computed simulation results. The following code loads this archival dataset.\n"
   ]
  },
  {
   "cell_type": "code",
   "execution_count": null,
   "id": "11bfa3aa",
   "metadata": {},
   "outputs": [],
   "source": [
    "# NOTE: No need to edit; load the archival data\n",
    "filename_archival = \"./data/doe-wide.csv\"\n",
    "df_archival = pd.read_csv(filename_archival)\n",
    "df_archival.head()"
   ]
  },
  {
   "cell_type": "markdown",
   "id": "3560e2d2",
   "metadata": {},
   "source": [
    "### Data Dictionary\n",
    "\n",
    "There is *a lot* of information available in this dataset; the following is a summary of what's in the data:\n",
    "\n",
    "| Column | I/O | Meaning |\n",
    "|---|---|---|\n",
    "| `d` | Input | Displacement ratio (-) |\n",
    "| `n` | Input | Shape factor (-) |\n",
    "| `f_com` | Input | Height of COM from boat bottom (-) |\n",
    "| `H` | Input | Height of boat (in) |\n",
    "| `W` | Input | Width of boat (in) |\n",
    "|---|---|---|\n",
    "| `M_max` | Output | Max righting moment (`lbf*in`) |\n",
    "| `M_min` | Output | Min righting moment (`lbf*in`) |\n",
    "| `mass` | Output | Boat mass (lb) |\n",
    "| `dMdtheta_avs` | Output | Slope of moment curve at AVS (`lbf in/rad`) |\n",
    "| `dMdtheta_0` | Output | Slope of moment curve at upright (`lbf*in/rad`) |\n",
    "| `int_M_stable` | Output | Integral of moment curve, up to the AVS (`lbf*in*rad`) |\n",
    "| `BM` | Output | Metacentric radius (in) |\n",
    "| `GM` | Output | Metacentric height (in) |\n",
    "| `angle` | Output | Angle of vanishing stability (rad) |\n"
   ]
  },
  {
   "cell_type": "code",
   "execution_count": null,
   "id": "a76df64a",
   "metadata": {},
   "outputs": [],
   "source": [
    "# NOTE: No need to edit; list out the variable names\n",
    "var = [\"d\", \"n\", \"f_com\", \"H\", \"W\"]\n",
    "out = [\n",
    "    \"M_max\", \n",
    "    \"M_min\", \n",
    "    \"mass\", \n",
    "    \"dMdtheta_avs\", \n",
    "    \"dMdtheta_0\", \n",
    "    \"BM\", \n",
    "    \"GM\",\n",
    "    \"angle\",\n",
    "    \"int_M_stable\",\n",
    "]"
   ]
  },
  {
   "cell_type": "markdown",
   "id": "90482924",
   "metadata": {},
   "source": [
    "# Guided EDA of Archival Data\n",
    "\n",
    "Before going to EMA, let's start with an EDA of the archival data. This will help us frame the model work to come later.\n"
   ]
  },
  {
   "cell_type": "markdown",
   "id": "4bb5f1bf",
   "metadata": {},
   "source": [
    "### __q1__ First look\n",
    "\n",
    "Use simple EDA techniques to answer the questions under *observations* below.\n"
   ]
  },
  {
   "cell_type": "code",
   "execution_count": null,
   "id": "9103bbaf",
   "metadata": {},
   "outputs": [],
   "source": [
    "# TASK: Perform simple EDA, answer the questions below\n",
    "(\n",
    "    df_archival\n",
    "\n",
    ")"
   ]
  },
  {
   "cell_type": "markdown",
   "id": "b68e8ef5",
   "metadata": {},
   "source": [
    "*Observations*\n",
    "\n",
    "- How many observations (distinct boat hulls) are there in-total?\n",
    "  - (Your response here)\n",
    "- What are rough bounds for each of the input variables? (You'll use these in a later task....)\n",
    "  - (Your response here)\n"
   ]
  },
  {
   "cell_type": "markdown",
   "id": "aab30e97",
   "metadata": {},
   "source": [
    "### __q2__ How many designs are upright-stable?\n",
    "\n",
    "Remember that upright-stable means the slope of the moment curve at an upright position is negative. Answer the questions under *observations* below.\n"
   ]
  },
  {
   "cell_type": "code",
   "execution_count": null,
   "id": "82e84580",
   "metadata": {},
   "outputs": [],
   "source": [
    "## TASK: Determine the number and fraction of upright-stable boats\n",
    "(\n",
    "    df_archival\n",
    "\n",
    ")"
   ]
  },
  {
   "cell_type": "markdown",
   "id": "919deb0c",
   "metadata": {},
   "source": [
    "*Observations*\n",
    "\n",
    "- How many boat designs in the dataset are upright-stable?\n",
    "  - (Your response here)\n",
    "- What *fraction* of boat designs in the dataset are upright-stable?\n",
    "  - (Your response here)\n"
   ]
  },
  {
   "cell_type": "markdown",
   "id": "c180eaad",
   "metadata": {},
   "source": [
    "## Hypothesis: Width controls upright stability\n",
    "\n",
    "To help frame the rest of this challenge, let's pose and assess a particular hypothesis:\n",
    "\n",
    "> A wider boat will tend to have greater upright stability. Thus, we can make a boat stable by making it wider.\n",
    "\n",
    "This seems intuitive, but is it true? Let's find out!\n"
   ]
  },
  {
   "cell_type": "markdown",
   "id": "289aaf06",
   "metadata": {},
   "source": [
    "### __q3__ Correlation tile plot\n",
    "\n",
    "Construct a correlation tile plot to study the input/output relationships. Answer the questions under *observations* below.\n"
   ]
  },
  {
   "cell_type": "code",
   "execution_count": null,
   "id": "ae627ff6",
   "metadata": {},
   "outputs": [],
   "source": [
    "(\n",
    "    df_archival\n",
    "    ## Compute the input/output correlation data here\n",
    "\n",
    "    ## NOTE: No need to edit; this will visualize your data\n",
    "    >> gr.pt_auto()\n",
    ")"
   ]
  },
  {
   "cell_type": "markdown",
   "id": "0fd96075",
   "metadata": {},
   "source": [
    "*Observations*\n",
    "\n",
    "- Which inputs correlate strongly with the slope of the moment curve at upright (`dMdtheta_0`)?\n",
    "  - (Your response here)\n",
    "- For each of the inputs you identified above, what is the sign of the correlation? (Positive or negative?) For each input, what kind of change (increase or decrease) is required to increase upright stability?\n",
    "  - (Your response here)\n",
    "- How do these results relate to the hypothesis above?\n",
    "  - (Your response here)\n"
   ]
  },
  {
   "cell_type": "markdown",
   "id": "feaed3e2",
   "metadata": {},
   "source": [
    "### __q4__ Detailed scatterplots\n",
    "\n",
    "Make scatterplots to study relationship between `dMdtheta_0` and the relevant inputs you identified above. Add a smooth trend to each scatterplot with `gr.geom_smooth()`. Answer the questions under *observations* below.\n",
    "\n",
    "*Hint*: While it is possible to construct all three plots in a single code cell, you should feel free to create additional cells as-necessary.\n"
   ]
  },
  {
   "cell_type": "code",
   "execution_count": null,
   "id": "c36345d8",
   "metadata": {},
   "outputs": [],
   "source": [
    "# TODO: Create scatterplots\n"
   ]
  },
  {
   "cell_type": "markdown",
   "id": "b494d8b8",
   "metadata": {},
   "source": [
    "*Observations*\n",
    "\n",
    "- Is the observed variability real or erroneous?\n",
    "  - (Your response here)\n",
    "- Describe the effects of each input on the output `dMdtheta_0`.\n",
    "  - (Your response here)\n",
    "- Do any of the inputs have a more *predictable* effect on `dMdtheta_0`?\n",
    "  - (Your response here)\n",
    "- How do these results relate to the hypothesis above?\n",
    "  - (Your response here)\n"
   ]
  },
  {
   "cell_type": "markdown",
   "id": "c4f12eac",
   "metadata": {},
   "source": [
    "Having carried out an EDA of the archival data, we can move on to studying behavior using the model. However, first we need to *setup* the model.\n"
   ]
  },
  {
   "cell_type": "markdown",
   "id": "510b31fa",
   "metadata": {},
   "source": [
    "# Model Setup\n",
    "\n",
    "The primary tool we need from the boat simulation utilities is the performance function, called like so:\n",
    "\n",
    "```python\n",
    "v = [2.5, 3.0, 2.0, 0.30, 0.35]\n",
    "df_res = boat.fun_performance(v)\n",
    "```\n",
    "\n",
    "We will use this function to compute performance metrics (such as `dMdtheta_0`) for various boat designs. However, before we do so, we should quantify how long it takes to run the performance function. Doing so will help us *plan* our EMA evaluations, so that we don't try to execute a study that will take too long.\n"
   ]
  },
  {
   "cell_type": "markdown",
   "id": "90745ff7",
   "metadata": {},
   "source": [
    "### __q5__ Time the analysis\n",
    "\n",
    "Evaluate the boat performance function *inside* the loop below in order to complete the timing study. You'll use this number later in `gr.cp_function()` (in q7).\n",
    "\n",
    "*Hint*: Remember that `v_design` was assigned above in an example chunk. You can use that as the argument to `fun_performance()`.\n"
   ]
  },
  {
   "cell_type": "code",
   "execution_count": null,
   "id": "3c6f0f4c",
   "metadata": {},
   "outputs": [],
   "source": [
    "## TASK: Evaluate the boat performance to time the simulation\n",
    "n_rep = 5\n",
    "\n",
    "t0 = time.time()\n",
    "for i in range(n_rep):\n",
    "    # Evaluate the boat performance function here to\n",
    "    # complete the timing study\n",
    "\n",
    "t1 = time.time()\n",
    "\n",
    "t_exec = (t1 - t0) / n_rep\n",
    "\n",
    "print(\"Average execution time: {0:} sec\".format(t_exec))\n"
   ]
  },
  {
   "cell_type": "markdown",
   "id": "97432b21",
   "metadata": {},
   "source": [
    "### __q6__ Define the input order\n",
    "\n",
    "List the inputs to `boat.fun_performance()` in the correct order. You will use this to assemble the model below.\n",
    "\n",
    "*Hint*: Remember to consult the documentation for `boat.fun_performance()` to see the order of its arguments.\n"
   ]
  },
  {
   "cell_type": "code",
   "execution_count": null,
   "id": "0af7ff31",
   "metadata": {},
   "outputs": [],
   "source": [
    "## TODO:\n",
    "var_performance = []\n",
    "\n",
    "\n",
    "## NOTE: No need to edit; this defines the output quantities\n",
    "out_performance = [\n",
    "    \"mass\",\n",
    "    \"GM\",\n",
    "    \"angle\",\n",
    "    \"dMdtheta_0\",\n",
    "    \"dMdtheta_avs\",\n",
    "    \"M_max\",\n",
    "    \"M_min\",\n",
    "    \"int_M_stable\",\n",
    "]\n",
    "\n",
    "## NOTE: No need to edit; use this to check your work\n",
    "assert \\\n",
    "    set(var_performance) == set(boat.var_correct), \\\n",
    "    \"Inputs not correct\"\n",
    "assert \\\n",
    "    var_performance == boat.var_correct, \\\n",
    "    \"Inputs are not in the correct order; check \" + \\\n",
    "    \"the documentation for boat.fun_performance().\""
   ]
  },
  {
   "cell_type": "markdown",
   "id": "a215e3a8",
   "metadata": {},
   "source": [
    "```{admonition} Why does order matter?\n",
    "By default, Python functions interpret their inputs based on **order**. Grama takes care of variables based on **name**, but when working with a \"regular\" Python function, we have to be careful to give grama the correct order information. Imagine giving the value for boat height `H` as the shape factor `n`, or vice versa! If we are careful when defining a grama model, we can prevent these order issues later.\n",
    "```"
   ]
  },
  {
   "cell_type": "markdown",
   "id": "11570a63",
   "metadata": {},
   "source": [
    "### __q7__ Assemble the model\n",
    "\n",
    "Complete the code below to assemple the boat performance model. Use the values assigned above as arguments to `gr.cp_function()`, including the variable names, output names, and runtime estimate (value from **q5**). Make sure to add bounds for the inputs that \"enclose\" the observed archival data.\n",
    "\n",
    "```{admonition} Why not `gr.cp_vec_function()`?\n",
    "Here we use `gr.cp_function()` rather than `gr.cp_vec_function()`. This is because the boat performance function is not *vectorized*; it cannot take a DataFrame as its input. Generally we use `gr.cp_function()` with more \"expensive\" to evaluate functions.\n",
    "```"
   ]
  },
  {
   "cell_type": "code",
   "execution_count": null,
   "id": "fdbd35d0",
   "metadata": {},
   "outputs": [],
   "source": [
    "## TODO: Complete the code below\n",
    "md_performance = (\n",
    "    gr.Model(\"Boat performance\")\n",
    "    >> gr.cp_function(\n",
    "        fun=boat.fun_performance,\n",
    "        # Add input and output names;\n",
    "        # runtime estimate\n",
    "\n",
    "    )\n",
    "    >> gr.cp_bounds(\n",
    "        # Add input bounds\n",
    "\n",
    "    )\n",
    ")\n",
    "\n",
    "## NOTE: No need to edit; use this to check your work\n",
    "assert \\\n",
    "    md_performance.functions[0].runtime > 0, \\\n",
    "    \"Model has no runtime estimate\"\n",
    "for v in var_performance:\n",
    "    assert \\\n",
    "        md_performance.domain.bounds[v][0] < df_archival[v].min(), \\\n",
    "        \"Archival data for {} exceeds model lower bound\".format(v)\n",
    "    assert \\\n",
    "        df_archival[v].max() < md_performance.domain.bounds[v][1], \\\n",
    "        \"Archival data for {} exceeds model upper bound\".format(v)\n",
    "\n",
    "md_performance"
   ]
  },
  {
   "cell_type": "markdown",
   "id": "b022f6a3",
   "metadata": {},
   "source": [
    "# EMA with Expensive Models\n",
    "\n",
    "We've seen trends in the detailed scatterplots, but we should confirm them with the real model. A sinew plot will help us confirm what we saw above and better-assess the width hypothesis.\n",
    "\n",
    "*However*, note that the analysis code we're using has a nontrivial runtime; we should be careful about how many evaluations we request or we could be waiting a *long* time for the simulation to run. The following task will guide you through balancing runtime with exploring the model's behavior.\n"
   ]
  },
  {
   "cell_type": "markdown",
   "id": "b4a97491",
   "metadata": {},
   "source": [
    "### __q8__ Plan a study\n",
    "\n",
    "Tune the arguments to achieve a \"reasonable\" runtime. You will need to decide for yourself what a reasonable runtime is (though it will at a minimum be ~3 minutes.) Answer the questions under *observations* below.\n",
    "\n",
    "*Hint 1*: Remember to use the documentation for a function to see which arguments to `gr.ev_sinews()` you can tune.\n",
    "\n",
    "*Hint 2*: Running at least three sweeps will help with the task that comes after this one.\n"
   ]
  },
  {
   "cell_type": "code",
   "execution_count": null,
   "id": "c94877a3",
   "metadata": {},
   "outputs": [],
   "source": [
    "## TODO: Tune the arguments for gr.ev_sinews()\n",
    "# to get a \"reasonable\" runtime\n",
    "(\n",
    "    md_performance\n",
    "    >> gr.ev_sinews(\n",
    "        df_det=\"swp\", # Sweep all deterministic inputs\n",
    "        skip=True,    # This prevents execution!\n",
    "\n",
    "    )\n",
    ")"
   ]
  },
  {
   "cell_type": "markdown",
   "id": "7e329416",
   "metadata": {},
   "source": [
    "*Observations*\n",
    "\n",
    "- What is the predicted runtime?\n",
    "  - (Your response here)\n"
   ]
  },
  {
   "cell_type": "markdown",
   "id": "8b1cd68f",
   "metadata": {},
   "source": [
    "### __q9__ Run the study\n",
    "\n",
    "Now, use the settings you determined above and run the study! Answer the questions under *observations* below.\n",
    "\n",
    "*Note*: It's a good idea to set this to run, go make yourself a coffee, then come back!\n"
   ]
  },
  {
   "cell_type": "code",
   "execution_count": null,
   "id": "7f4dca55",
   "metadata": {},
   "outputs": [],
   "source": [
    "t0 = time.time()\n",
    "df_sinews = (\n",
    "    md_performance\n",
    "    >> gr.ev_sinews(\n",
    "        df_det=\"swp\", # Sweep all deterministic inputs\n",
    "        ## Use the same settings you determined above\n",
    "\n",
    "    )\n",
    ")\n",
    "t1 = time.time()\n",
    "print(\"Execution time: {} sec\".format(t1 - t0))\n"
   ]
  },
  {
   "cell_type": "markdown",
   "id": "fe056333",
   "metadata": {},
   "source": [
    "Once the evaluation is complete, visualize the results with the following code.\n"
   ]
  },
  {
   "cell_type": "code",
   "execution_count": null,
   "id": "d029f85c",
   "metadata": {},
   "outputs": [],
   "source": [
    "# NOTE: No need to edit; use this to visualize the results\n",
    "(\n",
    "    df_sinews\n",
    "    >> gr.pt_auto()\n",
    ")"
   ]
  },
  {
   "cell_type": "markdown",
   "id": "89c5e712",
   "metadata": {},
   "source": [
    "*Observations*\n",
    "\n",
    "- How close to the predicted runtime is the actual runtime?\n",
    "  - (Your response here)\n",
    "- Consider the variables you identified above that affect `dMdtheta_0`. Do they have a *consistent* effect on upright stability, or does their effect depend on the value of other inputs?\n",
    "  - (Your response here)\n"
   ]
  }
 ],
 "metadata": {
  "kernelspec": {
   "display_name": "Python 3 (ipykernel)",
   "language": "python",
   "name": "python3"
  },
  "language_info": {
   "codemirror_mode": {
    "name": "ipython",
    "version": 3
   },
   "file_extension": ".py",
   "mimetype": "text/x-python",
   "name": "python",
   "nbconvert_exporter": "python",
   "pygments_lexer": "ipython3",
   "version": "3.9.7"
  }
 },
 "nbformat": 4,
 "nbformat_minor": 5
}
