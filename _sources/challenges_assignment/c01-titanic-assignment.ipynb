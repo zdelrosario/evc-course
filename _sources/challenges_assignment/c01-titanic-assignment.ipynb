{
 "cells": [
  {
   "cell_type": "markdown",
   "id": "a98e1c72",
   "metadata": {},
   "source": [
    "# c01-titanic\n",
    "\n",
    "*Purpose*: Most datasets have at least a few variables. Part of our task in analyzing a dataset is to understand trends as they vary across these different variables. Unless we're careful and thorough, we can easily miss these patterns. In this challenge you'll analyze a dataset with a small number of categorical variables and try to find differences among the groups.\n",
    "\n",
    "*Reading*: (Optional) [Wikipedia article](https://en.wikipedia.org/wiki/RMS_Titanic) on the RMS Titanic.\n"
   ]
  },
  {
   "cell_type": "markdown",
   "id": "15ada6a8",
   "metadata": {},
   "source": [
    "## Setup"
   ]
  },
  {
   "cell_type": "code",
   "execution_count": null,
   "id": "f3ec6889",
   "metadata": {},
   "outputs": [],
   "source": [
    "import grama as gr\n",
    "import pandas as pd\n",
    "DF = gr.Intention()\n",
    "%matplotlib inline\n"
   ]
  },
  {
   "cell_type": "markdown",
   "id": "54d005d7",
   "metadata": {},
   "source": [
    "## Background\n",
    "\n",
    "*Background*: The RMS Titanic sank on its maiden voyage in 1912; about 67% of its passengers died. We will study a dataset summarizing how many passengers of different groups either survived or perished.\n"
   ]
  },
  {
   "cell_type": "code",
   "execution_count": null,
   "id": "3d03f97d",
   "metadata": {},
   "outputs": [],
   "source": [
    "## NOTE: No need to edit; this loads the data\n",
    "df_titanic = pd.read_csv(\"./data/titanic.csv\")\n",
    "df_titanic\n"
   ]
  },
  {
   "cell_type": "markdown",
   "id": "2b401f63",
   "metadata": {},
   "source": [
    "# Initial look\n"
   ]
  },
  {
   "cell_type": "markdown",
   "id": "1839ed4d",
   "metadata": {},
   "source": [
    "### __q1__ Get the basic facts\n",
    "\n",
    "Inspect `df_titanic`. Answer the questions under *observations* below.\n"
   ]
  },
  {
   "cell_type": "code",
   "execution_count": null,
   "id": "141a2a66",
   "metadata": {},
   "outputs": [],
   "source": [
    "## TASK: Inspect df_titanic\n",
    "(\n",
    "    df_titanic\n",
    "    >> gr.tf_head()\n",
    ")\n",
    "# task-end"
   ]
  },
  {
   "cell_type": "markdown",
   "id": "c2f5b7b7",
   "metadata": {},
   "source": [
    "*Observations*\n",
    "\n",
    "- What variables are in the dataset?\n",
    "  - (Your response here)\n"
   ]
  },
  {
   "cell_type": "markdown",
   "id": "b131f945",
   "metadata": {},
   "source": [
    "### __q2__ Do some background reading\n",
    "\n",
    "Skim the [Wikipedia article](https://en.wikipedia.org/wiki/RMS_Titanic) on the RMS Titanic, and look for a total count of souls aboard. Compare against the total computed below. Are there any differences? Are those differences large or small? What might account for those differences? \n",
    "\n",
    "Answer the questions under *observations* below.\n"
   ]
  },
  {
   "cell_type": "code",
   "execution_count": null,
   "id": "fb3d9b15",
   "metadata": {},
   "outputs": [],
   "source": [
    "## NOTE: No need to edit; we'll learn how to do this calculation later\n",
    "(\n",
    "    df_titanic\n",
    "    >> gr.tf_summarize(total=gr.sum(DF.n))\n",
    ")"
   ]
  },
  {
   "cell_type": "markdown",
   "id": "1d05360d",
   "metadata": {},
   "source": [
    "**Observations**:\n",
    "\n",
    "- Are there any differences between what you read and the `total` persons computed from our dataset?\n",
    "  - (Your response here)\n",
    "- If yes, what might account for those differences?\n",
    "  - (Your response here)\n"
   ]
  },
  {
   "cell_type": "markdown",
   "id": "96462557",
   "metadata": {},
   "source": [
    "### __q3__ Visualize survivor count\n",
    "\n",
    "Create a plot showing the count of persons who *did* survive, along with aesthetics for `Class` and `Sex`. Document your observations below.\n"
   ]
  },
  {
   "cell_type": "code",
   "execution_count": null,
   "id": "90015596",
   "metadata": {},
   "outputs": [],
   "source": [
    "## TASK: Visualize the count of survivors, along with `Class` and `Sex`\n",
    "(\n",
    "    df_titanic\n",
    "\n",
    ")"
   ]
  },
  {
   "cell_type": "markdown",
   "id": "2918a657",
   "metadata": {},
   "source": [
    "**Observations**:\n",
    "\n",
    "- Write your observations here\n",
    "  - (Your response here)\n",
    "  - (Your response here)\n",
    "  - (Your response here)\n"
   ]
  },
  {
   "cell_type": "markdown",
   "id": "235e4b61",
   "metadata": {},
   "source": [
    "# Deeper look\n",
    "\n",
    "Raw counts give us a sense of totals, but they are not as useful for understanding differences between groups. This is because the differences we see in counts could be due to either the relative size of the group OR differences in outcomes for those groups. To make comparisons between groups, we should also consider *proportions*.[1]\n",
    "\n",
    "The following code computes proportions within each `Class, Sex, Age` group.\n"
   ]
  },
  {
   "cell_type": "code",
   "execution_count": null,
   "id": "694d096d",
   "metadata": {},
   "outputs": [],
   "source": [
    "## NOTE: No need to edit\n",
    "df_prop = (\n",
    "    df_titanic\n",
    "    >> gr.tf_group_by(DF.Class, DF.Sex, DF.Age)\n",
    "    >> gr.tf_mutate(\n",
    "        Total=gr.sum(DF.n),\n",
    "        Prop=DF.n/gr.sum(DF.n),\n",
    "    )\n",
    "    >> gr.tf_ungroup()\n",
    ")"
   ]
  },
  {
   "cell_type": "markdown",
   "id": "e2698ab0",
   "metadata": {},
   "source": [
    "### __q4__ Visualize proportions\n",
    "\n",
    "Replicate your visual from q3, but display `Prop` in place of `n`. Document your observations, and note any new/different observations you make in comparison with q3. Is there anything *fishy* in your plot?\n",
    "\n",
    "Answer the questions under *observations* below.\n"
   ]
  },
  {
   "cell_type": "code",
   "execution_count": null,
   "id": "81acca97",
   "metadata": {},
   "outputs": [],
   "source": [
    "## TASK: Visualize the count of survivors, along with `Class` and `Sex`\n",
    "(\n",
    "    df_prop\n",
    "\n",
    ")"
   ]
  },
  {
   "cell_type": "markdown",
   "id": "0ff91781",
   "metadata": {},
   "source": [
    "*Observations*\n",
    "\n",
    "- Write your observations here.\n",
    "  - (Your response here)\n",
    "  - (Your response here)\n",
    "  - (Your response here)\n",
    "- Is there anything *fishy* going on in your plot?\n",
    "  - (Your response here)\n"
   ]
  },
  {
   "cell_type": "markdown",
   "id": "96e507b3",
   "metadata": {},
   "source": [
    "### __q5__ Visualize with more variables\n",
    "\n",
    "Visualize the proportion `Prop` data showing the group-proportion of occupants who *did* survive, along with aesthetics for `Class`, `Sex`, *and* `Age`. Make sure to show the proportions for *all* survivor groups. Document your observations below.\n",
    "\n",
    "*Hint*: You may need to make multiple plots using different filters. Or you can look ahead to `e-vis05-multiples` to learn how to use `gr.facet_grid()`.\n"
   ]
  },
  {
   "cell_type": "code",
   "execution_count": null,
   "id": "1822c662",
   "metadata": {},
   "outputs": [],
   "source": [
    "## TASK:\n",
    "(\n",
    "    df_prop\n",
    "\n",
    ")"
   ]
  },
  {
   "cell_type": "markdown",
   "id": "b5ef1604",
   "metadata": {},
   "source": [
    "*Observations*\n",
    "\n",
    "Document your observations below.\n",
    "\n",
    "- (Your response here)\n",
    "- (Your response here)\n",
    "- (Your response here)\n",
    "- If you saw something *fishy* in q4 above, use your new plot to explain the fishy-ness.\n",
    "  - (Your response here)\n",
    "\n"
   ]
  },
  {
   "cell_type": "markdown",
   "id": "0586a8be",
   "metadata": {},
   "source": [
    "# Notes\n",
    "\n",
    "[1] This is basically the same idea as [Dimensional Analysis](https://en.wikipedia.org/wiki/Dimensional_analysis); computing proportions is akin to non-dimensionalizing a quantity.\n"
   ]
  }
 ],
 "metadata": {
  "kernelspec": {
   "display_name": "Python 3 (ipykernel)",
   "language": "python",
   "name": "python3"
  },
  "language_info": {
   "codemirror_mode": {
    "name": "ipython",
    "version": 3
   },
   "file_extension": ".py",
   "mimetype": "text/x-python",
   "name": "python",
   "nbconvert_exporter": "python",
   "pygments_lexer": "ipython3",
   "version": "3.9.7"
  }
 },
 "nbformat": 4,
 "nbformat_minor": 5
}
