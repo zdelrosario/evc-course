{
 "cells": [
  {
   "cell_type": "markdown",
   "id": "90c7c57f",
   "metadata": {},
   "source": [
    "# Stats: Real and Erroneous Sources of Variability\n",
    "\n",
    "*Purpose*: Variability is an unavoidable reality of engineering: Physical systems do not behave in identical ways, even under similar circumstances. It is important to draw a distinction between sources of variability that corrupt measurements, and other sources of variability that can genuinely change physical outcomes: real vs erroneous variability. Therefore, we should analyze real and erroneous sources of variability differently---this can lead to more accurate data analysis and more efficient engineering designs.\n"
   ]
  },
  {
   "cell_type": "markdown",
   "id": "4d25a2b2",
   "metadata": {},
   "source": [
    "## Setup\n"
   ]
  },
  {
   "cell_type": "code",
   "execution_count": 1,
   "id": "6f718f92",
   "metadata": {
    "collapsed": false
   },
   "outputs": [],
   "source": [
    "import grama as gr\n",
    "import numpy as np\n",
    "DF = gr.Intention()\n",
    "%matplotlib inline"
   ]
  },
  {
   "cell_type": "markdown",
   "id": "933dfb69",
   "metadata": {},
   "source": [
    "# Concepts\n",
    "\n",
    "Let's go over some fundamental concepts.\n",
    "\n",
    "## Variability\n",
    "\n",
    "> *Variability* is a form of uncertainty that occurs when repeated measurements from a single chosen scenario exhibit different outcomes.\n",
    "\n",
    "There are several parts to this definition:\n",
    "\n",
    "*Different outcomes*\n",
    "\n",
    "We must have different outcomes for there to be variability. If repeated measurement of the same quantity produce the same value, then there is no variability.\n",
    "\n",
    "*Repeated measurements*\n",
    "\n",
    "Variability requires repeated measurements, implying that there must be more than one measurement. Unique events that will never occur again cannot be said to exhibit variability.\n",
    "\n",
    "*A single chosen scenario*\n",
    "\n",
    "Variability arises when we focus on a single scenario and take repeated measurements. Different scenarios would logically produce different measurements. We might describe a scenario in terms of detailed qualitative factors (e.g. a particular manufacturing process, a particular machinist) or we may describe a family of scenarios with continuous variables (e.g. a continuum of feed speeds when machining).\n"
   ]
  },
  {
   "cell_type": "markdown",
   "id": "148d4d18",
   "metadata": {},
   "source": [
    "Variability is perhaps best understood by way of example; let's take a look at one.\n"
   ]
  },
  {
   "cell_type": "code",
   "execution_count": 2,
   "id": "e19a06f4",
   "metadata": {
    "collapsed": false
   },
   "outputs": [
    {
     "data": {
      "text/html": [
       "<div>\n",
       "<style scoped>\n",
       "    .dataframe tbody tr th:only-of-type {\n",
       "        vertical-align: middle;\n",
       "    }\n",
       "\n",
       "    .dataframe tbody tr th {\n",
       "        vertical-align: top;\n",
       "    }\n",
       "\n",
       "    .dataframe thead th {\n",
       "        text-align: right;\n",
       "    }\n",
       "</style>\n",
       "<table border=\"1\" class=\"dataframe\">\n",
       "  <thead>\n",
       "    <tr style=\"text-align: right;\">\n",
       "      <th></th>\n",
       "      <th>specimen</th>\n",
       "      <th>tensile_strength</th>\n",
       "      <th>hardness</th>\n",
       "      <th>density</th>\n",
       "    </tr>\n",
       "  </thead>\n",
       "  <tbody>\n",
       "    <tr>\n",
       "      <th>0</th>\n",
       "      <td>1</td>\n",
       "      <td>29314</td>\n",
       "      <td>53.0</td>\n",
       "      <td>2.666</td>\n",
       "    </tr>\n",
       "    <tr>\n",
       "      <th>1</th>\n",
       "      <td>2</td>\n",
       "      <td>34860</td>\n",
       "      <td>70.2</td>\n",
       "      <td>2.708</td>\n",
       "    </tr>\n",
       "    <tr>\n",
       "      <th>2</th>\n",
       "      <td>3</td>\n",
       "      <td>36818</td>\n",
       "      <td>84.3</td>\n",
       "      <td>2.865</td>\n",
       "    </tr>\n",
       "    <tr>\n",
       "      <th>3</th>\n",
       "      <td>4</td>\n",
       "      <td>30120</td>\n",
       "      <td>55.3</td>\n",
       "      <td>2.627</td>\n",
       "    </tr>\n",
       "    <tr>\n",
       "      <th>4</th>\n",
       "      <td>5</td>\n",
       "      <td>34020</td>\n",
       "      <td>78.5</td>\n",
       "      <td>2.581</td>\n",
       "    </tr>\n",
       "  </tbody>\n",
       "</table>\n",
       "</div>"
      ],
      "text/plain": [
       "   specimen  tensile_strength  hardness  density\n",
       "0         1             29314      53.0    2.666\n",
       "1         2             34860      70.2    2.708\n",
       "2         3             36818      84.3    2.865\n",
       "3         4             30120      55.3    2.627\n",
       "4         5             34020      78.5    2.581"
      ]
     },
     "execution_count": 2,
     "metadata": {},
     "output_type": "execute_result"
    }
   ],
   "source": [
    "# Dataset of die cast aluminum specimens\n",
    "from grama.data import df_shewhart\n",
    "df_shewhart.head()"
   ]
  },
  {
   "cell_type": "markdown",
   "id": "6e3e6641",
   "metadata": {},
   "source": [
    "This is a dataset of measured physical properties for individual specimens of a die cast aluminum. You'll investigate this dataset below.\n"
   ]
  },
  {
   "cell_type": "markdown",
   "id": "d2cd5d2d",
   "metadata": {},
   "source": [
    "### __q1__ Make a histogram\n",
    "\n",
    "Make a histogram of the `tensile_strength` in `df_shewhart`. Answer the questions under *observations* below."
   ]
  },
  {
   "cell_type": "code",
   "execution_count": 3,
   "id": "35100849",
   "metadata": {
    "collapsed": false
   },
   "outputs": [
    {
     "name": "stdout",
     "output_type": "stream",
     "text": [
      "             mu           sd       cov\n",
      "0  31869.366667  3996.380795  0.125399\n"
     ]
    },
    {
     "data": {
      "image/png": "[encoded data removed]",
      "text/plain": [
       "<Figure size 640x480 with 1 Axes>"
      ]
     },
     "metadata": {},
     "output_type": "display_data"
    },
    {
     "data": {
      "text/plain": [
       "<ggplot: (8766684710437)>"
      ]
     },
     "execution_count": 3,
     "metadata": {},
     "output_type": "execute_result"
    }
   ],
   "source": [
    "# TASK: Make a histogram\n",
    "# NOTE: I additionally compute statistics about \n",
    "# the observed variability\n",
    "print(\n",
    "    df_shewhart\n",
    "    >> gr.tf_summarize(\n",
    "        mu=gr.mean(DF.tensile_strength),\n",
    "        sd=gr.sd(DF.tensile_strength),\n",
    "    )\n",
    "    >> gr.tf_mutate(cov=DF.sd/DF.mu)\n",
    ")\n",
    "(\n",
    "    df_shewhart\n",
    "    >> gr.ggplot(gr.aes(\"tensile_strength\"))\n",
    "    + gr.geom_histogram(bins=20)\n",
    ")"
   ]
  },
  {
   "cell_type": "markdown",
   "id": "88504748",
   "metadata": {},
   "source": [
    "*Observations*\n",
    "\n",
    "- Are all of the measured `tensile_strength` values identical? Do the measurements exhibit *variability*?\n",
    "  - The measured values are **not** identical; the measurements do exhibit variability.\n",
    "- How much variability do the `tensile_strength` measurements exhibit? (You can use the histogram, or compute a quantitative summary.)\n",
    "  - The measurements are *highly* variable; the coefficient of variation is around `0.13`, which is huge for a material property.\n"
   ]
  },
  {
   "cell_type": "markdown",
   "id": "beb3c22a",
   "metadata": {},
   "source": [
    "## Real vs Erroneous Variability\n",
    "\n",
    "Variability in engineering applications falls into one of two broad categories:\n",
    "\n",
    "> *Real variability* is any source of variability that can affect a physical outcome.\n",
    "\n",
    "> *Error* (or *erroneous variability*) is any source of variability that corrupts a measurement.\n",
    "\n",
    "Note that errors cannot *directly* affect physical outcomes. A corrupted measurement does not reflect actual changes in the physical quantity one is trying to measure. *However*, making an engineering decision based on corrupted information will lead to a corrupted decision. Errors can only affect the physical world through actions taken based on those errors.\n",
    "\n",
    "Real and erroneous sources of variability can only be named in a specific context; to that end, let's look at a specific example.\n"
   ]
  },
  {
   "cell_type": "markdown",
   "id": "aac62233",
   "metadata": {},
   "source": [
    "### Example: Manufacturing of Metals\n",
    "\n",
    "The following image schematically depicts the manufacture and characterization of metallic materials.\n"
   ]
  },
  {
   "cell_type": "markdown",
   "id": "a3bb7417",
   "metadata": {},
   "source": [
    "![Manufacturing example](./images/manufacturing-examples-numbered.png)\n",
    "Image credit: Alana Huitric\n"
   ]
  },
  {
   "cell_type": "markdown",
   "id": "224dda3a",
   "metadata": {},
   "source": [
    "Variability can enter metals manufacturing at different stages and in different ways:\n",
    "\n",
    "1. (Real variability) Mistakes during the formulation stage of metals manufacturing can lead to an off-target composition. This will lead to explainable differences in the realized material properties, and will cause the material to not behave as desired.\n",
    "\n",
    "2. (Real variability) The presence of nicks and cracks in manufactured parts is an unavoidable reality. It is practically impossible to completely eliminate these imperfections. The presence and size of these imperfections will affect the fatigue life of a component. Thus, manufactured parts will tend to exhibit random variability in their fatigue properties.\n",
    "\n",
    "3. (Error) Material properties are characterized by physical tests, such as tensile tests. Mistakes during testing can occur, such as slippage of the part within the mechanical grips. Such mistakes will lead to explainable differences in the *measured* properties, but cannot directly lead to differences in physical outcomes.\n",
    "\n",
    "4. (Error) Property measurements typically involve a conversion from mechanical phenomena to electrical signals. However, we tend to take measurements in an electromagnetically dirty environment: Ambient EM interference can induce electrical noise that corrupts a measurement. Since an EM environment is too complex to explain deterministically, this will tend to lead to random differences in measured properties, but this variability cannot directly lead to differences in physical outcomes.\n"
   ]
  },
  {
   "cell_type": "markdown",
   "id": "8806887c",
   "metadata": {},
   "source": [
    "Variability will have different consequences if it is real or erroneous. You will get some practice reasoning through these consequences in the next task.\n"
   ]
  },
  {
   "cell_type": "markdown",
   "id": "4aca5d16",
   "metadata": {},
   "source": [
    "### __q2__ Consequences of variability\n",
    "\n",
    "The following depicts the `tensile_strength` measurements, but with an additional vertical line depicting the applied stress from a loading scenario. Imagine that multiple parts will be constructed using the same manufacturing process characterized by the dataset. Answer the questions under *observations* below.\n",
    "\n",
    "*Note*: Remember that a part fails if its tensile strength is less than an applied stress.\n"
   ]
  },
  {
   "cell_type": "code",
   "execution_count": 4,
   "id": "3e0542f6",
   "metadata": {
    "collapsed": false
   },
   "outputs": [
    {
     "data": {
      "image/png": "[encoded data removed]",
      "text/plain": [
       "<Figure size 640x480 with 1 Axes>"
      ]
     },
     "metadata": {
      "needs_background": "light"
     },
     "output_type": "display_data"
    },
    {
     "data": {
      "text/plain": [
       "<ggplot: (8766684654641)>"
      ]
     },
     "execution_count": 4,
     "metadata": {},
     "output_type": "execute_result"
    }
   ],
   "source": [
    "# NOTE: No need to edit; run and inspect\n",
    "(\n",
    "    df_shewhart\n",
    "    >> gr.ggplot(gr.aes(\"tensile_strength\"))\n",
    "    + gr.geom_histogram(bins=20, color=\"black\")\n",
    "    + gr.geom_vline(xintercept=25000, linetype=\"dashed\", size=2)\n",
    "    + gr.scale_y_continuous(breaks=range(0, 10))\n",
    "    + gr.theme_minimal()\n",
    ")\n"
   ]
  },
  {
   "cell_type": "markdown",
   "id": "639e7f1f",
   "metadata": {},
   "source": [
    "*Observations*\n",
    "\n",
    "Imagine that multiple parts will be constructed using the same manufacturing process characterized by the dataset. The vertical line represents the stress that will be applied to these parts.\n",
    "\n",
    "- Suppose that the variability depicted above is **purely erroneous**; the tensile strength is actually a fixed constant, and all the observed variability is due to measurement error. How confident would you be that **all** the parts would survive their loading conditions?\n",
    "  - If the variability were purely error, then the tensile strength is a fixed constant most likely somewhere in the middle of the distribution of measured values. In this case, all of the parts are likely to survive their loading conditions.\n",
    "- Now suppose that the variability depicted above is **purely real**; the tensile strength varies from part to part. How confident would you be that **all** the parts would survive their loading conditions?\n",
    "  - If the variability were purely real, then the tensile strength varies with each part. Based on the results above, it is essentially guaranteed that some parts will not survive their loading conditions.\n",
    "- Which of the two assumptions above would be the most *conservative* assumption to make? Why?\n",
    "  - Considering the variability as real is a more conservative assumption; this is the less favorable assumption, one which will encourage us to take defensive design measures against possible failures.\n"
   ]
  },
  {
   "cell_type": "markdown",
   "id": "67cd3ef4",
   "metadata": {},
   "source": [
    "## Scenarios\n",
    "\n",
    "Let's get some practice reasoning with real and erroneous variability. To do so, let's consider the following context:\n",
    "\n",
    "*The Context*: A manufacturer is producing steel parts for a landing gear. The part in question takes a heavy load, and if it fails it will disable the aircraft on the ground. These parts will be manufactured in bulk; approximately 500 will be made and installed in commercial aircraft that will operate for decades.\n"
   ]
  },
  {
   "cell_type": "markdown",
   "id": "391080a4",
   "metadata": {
    "tags": []
   },
   "source": [
    "### __q3__ Multiple measurements, same part\n",
    "\n",
    "Imagine the manufacturer selects one part and performs multiple non-destructive tensile tests on that single part, under similar conditions. The measured elasticity from each test is slightly different. Is this variability real or erroneous?\n",
    "\n",
    "*Questions*\n",
    "\n",
    "- Is this variability most likely real or erroneous?\n",
    "  - Erroneous\n",
    "- Why?\n",
    "  - The properties of the component are largely set at manufacturing time, and the tests are carried out under similar conditions. If multiple measurements on the same part (under similar conditions) return different values, then the variability is most likely induced by the measurement process---thus, erroneous variability.\n"
   ]
  },
  {
   "cell_type": "markdown",
   "id": "db00f46d",
   "metadata": {},
   "source": [
    "### __q4__ Multiple measurements, multiple parts\n",
    "\n",
    "Imagine the manufacturer selects multiple parts and---for each part---performs multiple non-destructive tensile tests, all under similar conditions. The measured elasticity values for each part are averaged to provide a more reliable estimate for each part. Upon comparing the parts, each averaged value is fairly different. Is this variability real or erroneous?\n",
    "\n",
    "*Questions*\n",
    "\n",
    "- Is this variability most likely real or erroneous?\n",
    "  - Real\n",
    "- Why?\n",
    "  - The properties of the component are essentially set at manufacturing time; but no manufacturing process can create items with identical properties. Particularly if variability remains after erroneous variability has been controlled and eliminated (as described in the prompt), then the remaining variability is real.\n"
   ]
  },
  {
   "cell_type": "markdown",
   "id": "de6f96ef",
   "metadata": {},
   "source": [
    "### __q5__ Single measurements, multiple parts\n",
    "\n",
    "Now the manufacturer selects multiple parts and performs a destructive tensile test to characterize the strength of each part, with tests carried out under similar conditions. The measured strength values exhibit a fair amount of variability. Is this variability real or erroneous?\n",
    "\n",
    "*Questions*\n",
    "\n",
    "- Is this variability most likely real or erroneous?\n",
    "  - Without more information, it is impossible to say. It is likely a combination of real and erroneous sources.\n",
    "- Why?\n",
    "  - Real variability can arise from the manufacturing process, and error can arise from the measurement. Since the measurement is destructive, we cannot use multiple measurements to characterize the erroneous variability.\n"
   ]
  },
  {
   "cell_type": "markdown",
   "id": "f477d419",
   "metadata": {},
   "source": [
    "# Heuristics\n",
    "\n",
    "Recognizing whether variability is real or erroneous is important for making data analysis choices. The following two heuristics (rules of thumb) will help you make such choices.\n"
   ]
  },
  {
   "cell_type": "markdown",
   "id": "a563fbc0",
   "metadata": {},
   "source": [
    "## Pure Error: Take the mean\n",
    "\n",
    "The following is a statistical rule-of-thumb when dealing with variability that is *purely* error:\n",
    "\n",
    "> (Mean Heuristic) If the observed variability is purely error, then taking the mean of the data will tend to reduce the variability due to error.\n",
    "\n",
    "```{admonition} Caveat: Bias in measurements\n",
    ":class: warning\n",
    "Of course, if the errors are not actually random but insted exhibit *bias*, then taking the mean will not remove these systematic errors. One way to help combat bias is to take truly *independent* measurements; for instance, have different operators take the same measurement, or use two different measurement techniques on the same specimen.\n",
    "```"
   ]
  },
  {
   "cell_type": "markdown",
   "id": "265cecd5",
   "metadata": {},
   "source": [
    "### __q6__ Take the mean strength\n",
    "\n",
    "Compute the mean `tensile_strength`. Answer the questions under *observations* below.\n"
   ]
  },
  {
   "cell_type": "code",
   "execution_count": 5,
   "id": "46315086",
   "metadata": {
    "collapsed": false
   },
   "outputs": [
    {
     "data": {
      "text/html": [
       "<div>\n",
       "<style scoped>\n",
       "    .dataframe tbody tr th:only-of-type {\n",
       "        vertical-align: middle;\n",
       "    }\n",
       "\n",
       "    .dataframe tbody tr th {\n",
       "        vertical-align: top;\n",
       "    }\n",
       "\n",
       "    .dataframe thead th {\n",
       "        text-align: right;\n",
       "    }\n",
       "</style>\n",
       "<table border=\"1\" class=\"dataframe\">\n",
       "  <thead>\n",
       "    <tr style=\"text-align: right;\">\n",
       "      <th></th>\n",
       "      <th>ts_mean</th>\n",
       "    </tr>\n",
       "  </thead>\n",
       "  <tbody>\n",
       "    <tr>\n",
       "      <th>0</th>\n",
       "      <td>31869.366667</td>\n",
       "    </tr>\n",
       "  </tbody>\n",
       "</table>\n",
       "</div>"
      ],
      "text/plain": [
       "        ts_mean\n",
       "0  31869.366667"
      ]
     },
     "execution_count": 5,
     "metadata": {},
     "output_type": "execute_result"
    }
   ],
   "source": [
    "# TASK: Compute the mean tensile_strength\n",
    "(\n",
    "    df_shewhart\n",
    "    >> gr.tf_summarize(\n",
    "        ts_mean=gr.mean(DF.tensile_strength)\n",
    "    )\n",
    ")"
   ]
  },
  {
   "cell_type": "markdown",
   "id": "eac91581",
   "metadata": {},
   "source": [
    "*Observations*\n",
    "\n",
    "Suppose that multiple parts will be made according to the same manufacturing process and subjected to a tensile load. As the parts are currently designed the applied stress will be `26,000` psi, but you are considering whether to redesign the part (to reduce the applied stress).\n",
    "\n",
    "- Suppose the variability is purely erroneous. Does a redesign seem necessary, based on assuming pure error, the strength value you computed above, and current the applied load?\n",
    "  - The summarized strength of $\\approx31,800$ psi is well above the applied stress of $26,000$ psi. Under the assumption of pure error, redesign does not seem necessary.\n",
    "- Is the analysis above safe for design purposes? Why or why not?\n",
    "  - The analysis above is not safe for design; if the assumption of pure error is wrong, then there exists the strong possibility of failure.\n"
   ]
  },
  {
   "cell_type": "markdown",
   "id": "9f1fb32d",
   "metadata": {},
   "source": [
    "## Purely Real: Use quantiles\n",
    "\n",
    "The following is a statistical rule-of-thumb when dealing with purely real variability:\n",
    "\n",
    "> (Quantile Heuristic) If the observed variability is purely real, then taking a lower or upper quantile of the data is a reasonable summary.\n"
   ]
  },
  {
   "cell_type": "markdown",
   "id": "17b37ea7",
   "metadata": {
    "tags": []
   },
   "source": [
    "### __q7__ Compute a quantile of strength\n",
    "\n",
    "Compute the `0.05` quantile of the `tensile_strength`. Answer the questions under *observations* below.\n"
   ]
  },
  {
   "cell_type": "code",
   "execution_count": 6,
   "id": "5cbfb86e",
   "metadata": {
    "collapsed": false
   },
   "outputs": [
    {
     "data": {
      "text/html": [
       "<div>\n",
       "<style scoped>\n",
       "    .dataframe tbody tr th:only-of-type {\n",
       "        vertical-align: middle;\n",
       "    }\n",
       "\n",
       "    .dataframe tbody tr th {\n",
       "        vertical-align: top;\n",
       "    }\n",
       "\n",
       "    .dataframe thead th {\n",
       "        text-align: right;\n",
       "    }\n",
       "</style>\n",
       "<table border=\"1\" class=\"dataframe\">\n",
       "  <thead>\n",
       "    <tr style=\"text-align: right;\">\n",
       "      <th></th>\n",
       "      <th>ts_lo</th>\n",
       "    </tr>\n",
       "  </thead>\n",
       "  <tbody>\n",
       "    <tr>\n",
       "      <th>0</th>\n",
       "      <td>25629.0</td>\n",
       "    </tr>\n",
       "  </tbody>\n",
       "</table>\n",
       "</div>"
      ],
      "text/plain": [
       "     ts_lo\n",
       "0  25629.0"
      ]
     },
     "execution_count": 6,
     "metadata": {},
     "output_type": "execute_result"
    }
   ],
   "source": [
    "# TASK: Compute the 0.05 quantile of the tensile_strength\n",
    "(\n",
    "    df_shewhart\n",
    "    >> gr.tf_summarize(\n",
    "        ts_lo=gr.quant(DF.tensile_strength, p=0.05)\n",
    "    )\n",
    ")"
   ]
  },
  {
   "cell_type": "markdown",
   "id": "9365be31",
   "metadata": {},
   "source": [
    "*Observations*\n",
    "\n",
    "Suppose that multiple parts will be made according to the same manufacturing process and subjected to a tensile load. As the parts are currently designed the applied stress will be `26,000` psi, but you are considering whether to redesign the part (to reduce the applied stress).\n",
    "\n",
    "- Suppose the variability is purely real. Does a redesign seem necessary, based on assuming real variability, the strength value you computed above, and current the applied load?\n",
    "  - The summarized strength is $\\approx25,600$ psi, which is a bit below the applied stres of $26,000$ psi. This suggests a redesign is necessary to reduce the applied stress and make the parts safer.\n",
    "- What probability of failure is associated with your computed strength value?\n",
    "  - The `0.05` quantile is associated with a probability of failure of $5\\%$.\n",
    "- Is the analysis above safe for design purposes? Why or why not?\n",
    "  - The analysis above is certainly safer than assuming pure error; it helps us to achieve a desired (small) failure rate.\n"
   ]
  },
  {
   "cell_type": "markdown",
   "id": "2f2e8c99",
   "metadata": {},
   "source": [
    "## Mixed Real and Error: Nested data\n",
    "\n",
    "In most practical situations, variability is not purely real or purely error; rather, it is mixed. This is a challenging situation, but we can still use the mean and quantile heuristics to guide choices about data analysis.\n",
    "\n",
    "The following code sets up data collected according to a *nested* collection scheme: Multiple independent measurements are taken on each of multiple specimens.\n"
   ]
  },
  {
   "cell_type": "code",
   "execution_count": 7,
   "id": "44c040f4",
   "metadata": {
    "collapsed": false
   },
   "outputs": [
    {
     "data": {
      "text/html": [
       "<div>\n",
       "<style scoped>\n",
       "    .dataframe tbody tr th:only-of-type {\n",
       "        vertical-align: middle;\n",
       "    }\n",
       "\n",
       "    .dataframe tbody tr th {\n",
       "        vertical-align: top;\n",
       "    }\n",
       "\n",
       "    .dataframe thead th {\n",
       "        text-align: right;\n",
       "    }\n",
       "</style>\n",
       "<table border=\"1\" class=\"dataframe\">\n",
       "  <thead>\n",
       "    <tr style=\"text-align: right;\">\n",
       "      <th></th>\n",
       "      <th>i_sample</th>\n",
       "      <th>i_meas</th>\n",
       "      <th>x_meas</th>\n",
       "    </tr>\n",
       "  </thead>\n",
       "  <tbody>\n",
       "    <tr>\n",
       "      <th>0</th>\n",
       "      <td>0</td>\n",
       "      <td>0</td>\n",
       "      <td>1.042817</td>\n",
       "    </tr>\n",
       "    <tr>\n",
       "      <th>1</th>\n",
       "      <td>0</td>\n",
       "      <td>1</td>\n",
       "      <td>0.902662</td>\n",
       "    </tr>\n",
       "    <tr>\n",
       "      <th>2</th>\n",
       "      <td>0</td>\n",
       "      <td>2</td>\n",
       "      <td>1.042041</td>\n",
       "    </tr>\n",
       "    <tr>\n",
       "      <th>3</th>\n",
       "      <td>0</td>\n",
       "      <td>3</td>\n",
       "      <td>0.870676</td>\n",
       "    </tr>\n",
       "    <tr>\n",
       "      <th>4</th>\n",
       "      <td>0</td>\n",
       "      <td>4</td>\n",
       "      <td>1.005482</td>\n",
       "    </tr>\n",
       "    <tr>\n",
       "      <th>5</th>\n",
       "      <td>0</td>\n",
       "      <td>5</td>\n",
       "      <td>0.914736</td>\n",
       "    </tr>\n",
       "    <tr>\n",
       "      <th>6</th>\n",
       "      <td>0</td>\n",
       "      <td>6</td>\n",
       "      <td>1.111457</td>\n",
       "    </tr>\n",
       "    <tr>\n",
       "      <th>7</th>\n",
       "      <td>0</td>\n",
       "      <td>7</td>\n",
       "      <td>1.077125</td>\n",
       "    </tr>\n",
       "  </tbody>\n",
       "</table>\n",
       "</div>"
      ],
      "text/plain": [
       "   i_sample  i_meas    x_meas\n",
       "0         0       0  1.042817\n",
       "1         0       1  0.902662\n",
       "2         0       2  1.042041\n",
       "3         0       3  0.870676\n",
       "4         0       4  1.005482\n",
       "5         0       5  0.914736\n",
       "6         0       6  1.111457\n",
       "7         0       7  1.077125"
      ]
     },
     "execution_count": 7,
     "metadata": {},
     "output_type": "execute_result"
    }
   ],
   "source": [
    "## NOTE: No need to edit\n",
    "np.random.seed(101)\n",
    "# Parameters for data generation\n",
    "n_sample = 100\n",
    "n_meas = 8\n",
    "var_real = 0.20\n",
    "var_meas = 0.05\n",
    "\n",
    "# Simulate nested data\n",
    "df_nested = (\n",
    "    gr.df_make(\n",
    "        x=gr.marg_mom(\"lognorm\", floc=0, mean=1, var=var_real).r(n_sample),\n",
    "        i_sample=range(n_sample),\n",
    "    )\n",
    "    >> gr.tf_outer(gr.df_make(i_meas=range(n_meas)))\n",
    "    >> gr.tf_mutate(\n",
    "        x_meas=DF.x + gr.marg_mom(\"norm\", mean=0, var=var_meas).r(n_sample*n_meas),\n",
    "    )\n",
    "    >> gr.tf_select(\"i_sample\", \"i_meas\", \"x_meas\")\n",
    "    >> gr.tf_arrange(DF.i_sample, DF.i_meas)\n",
    ")\n",
    "df_nested.head(8)"
   ]
  },
  {
   "cell_type": "markdown",
   "id": "f1e25d67",
   "metadata": {},
   "source": [
    "Here:\n",
    "\n",
    "- `i_sample` denotes the sample ID, each sample is an independent component\n",
    "- `i_meas` denotes the measurement ID, measurement are repeated on each sample\n",
    "  - note that these are per-sample, e.g. `i_meas == 0` for `i_sample == 0` is unrelated to `i_meas == 0` for `i_sample == 1`.\n",
    "- `x_meas` is the measured value\n"
   ]
  },
  {
   "cell_type": "markdown",
   "id": "46e74350",
   "metadata": {},
   "source": [
    "### __q8__ Identify real and erroneous sources\n",
    "\n",
    "Inspect the figure below; answer the questions under *observations* below.\n"
   ]
  },
  {
   "cell_type": "code",
   "execution_count": 8,
   "id": "b344ea24",
   "metadata": {
    "collapsed": false
   },
   "outputs": [
    {
     "data": {
      "image/png": "[encoded data removed]",
      "text/plain": [
       "<Figure size 640x480 with 1 Axes>"
      ]
     },
     "metadata": {},
     "output_type": "display_data"
    },
    {
     "data": {
      "text/plain": [
       "<ggplot: (8766684287618)>"
      ]
     },
     "execution_count": 8,
     "metadata": {},
     "output_type": "execute_result"
    }
   ],
   "source": [
    "# NOTE: No need to edit; run and inspect\n",
    "(\n",
    "    df_nested\n",
    "    >> gr.tf_filter(DF.i_sample <= 8)\n",
    "    >> gr.ggplot(gr.aes(\"i_sample\"))\n",
    "    + gr.geom_point(\n",
    "        gr.aes(y=\"x_meas\"),\n",
    "        size=1,\n",
    "        color=\"grey\",\n",
    "    )\n",
    ")"
   ]
  },
  {
   "cell_type": "markdown",
   "id": "d00bc1f6",
   "metadata": {},
   "source": [
    "*Observations*\n",
    "\n",
    "- Is the variability *within* each group of `i_sample` value most likely real or erroneous?\n",
    "  - This variability is most likely erroneous; these are repeated measurements of the same part.\n",
    "- Is the variability *across* each group of `i_sample` value most likely real or erroneous?\n",
    "  - This variability is most likely mixed; we have the same error mentioned in the previous question, plus the variability across each sample.\n",
    "- Suppose the variability *within* each group of `i_sample` were *purely* erroneous; which heuristic could you apply to each group?\n",
    "  - The mean heuristic\n"
   ]
  },
  {
   "cell_type": "markdown",
   "id": "224152f3",
   "metadata": {
    "tags": []
   },
   "source": [
    "### __q9__ Apply the mean heuristic\n",
    "\n",
    "Use the *mean heuristic* to construct a more stable measurement for each sample.\n",
    "\n",
    "*Hint*: To do this, you will need to `group_by()` an appropriate variable in the data and `summarize()`.\n"
   ]
  },
  {
   "cell_type": "code",
   "execution_count": 9,
   "id": "6c5d17b9",
   "metadata": {
    "collapsed": false
   },
   "outputs": [
    {
     "name": "stdout",
     "output_type": "stream",
     "text": [
      "Success!\n"
     ]
    }
   ],
   "source": [
    "# TASK: Apply the mean heuristic to produce a more stable measurement\n",
    "# for each sample `x_mean`. Compute the variance within the same\n",
    "# grouping `var_meas`.\n",
    "df_nested_mean = (\n",
    "    df_nested\n",
    "    >> gr.tf_group_by(DF.i_sample)\n",
    "    >> gr.tf_summarize(\n",
    "        x_mean=gr.mean(DF.x_meas),\n",
    "        var_meas=gr.var(DF.x_meas),\n",
    "    )\n",
    "    # Ensure the data are ungrouped after all operations\n",
    "    >> gr.tf_ungroup()\n",
    ")\n",
    "\n",
    "# NOTE: No need to edit; use this to check your results\n",
    "assert \\\n",
    "    df_nested_mean.shape[0] == n_sample, \\\n",
    "    \"Incorrect number of rows; make sure you grouped by the correct variable.\"\n",
    "assert \\\n",
    "    \"x_mean\" in df_nested_mean.columns, \\\n",
    "    \"x_mean column not found in result\"\n",
    "assert \\\n",
    "    \"var_meas\" in df_nested_mean.columns, \\\n",
    "    \"var_meas column not found in result\"\n",
    "assert \\\n",
    "    abs(df_nested_mean.x_mean.var() - 0.20) < 0.1, \\\n",
    "    \"Sanity check on x_mean failed; did you take the mean?\"\n",
    "    \n",
    "print(\"Success!\")"
   ]
  },
  {
   "cell_type": "markdown",
   "id": "7914507c",
   "metadata": {},
   "source": [
    "Once you have successfully summarized the data, run the following code and answer the questions under *observations* below.\n"
   ]
  },
  {
   "cell_type": "code",
   "execution_count": 10,
   "id": "b5646c3a",
   "metadata": {
    "collapsed": false
   },
   "outputs": [
    {
     "name": "stdout",
     "output_type": "stream",
     "text": [
      "   var_meas  var_real  var_total\n",
      "0  0.052247  0.169566   0.221813\n"
     ]
    }
   ],
   "source": [
    "## NOTE: No need to edit; use this to inspect your results\n",
    "# This code estimates the variability due to measurement\n",
    "print(\n",
    "    df_nested_mean\n",
    "    >> gr.tf_ungroup()\n",
    "    >> gr.tf_summarize(\n",
    "        var_meas=gr.mean(DF.var_meas),\n",
    "        var_real=gr.var(DF.x_mean),\n",
    "    )\n",
    "    >> gr.tf_mutate(var_total=DF.var_meas + DF.var_real)\n",
    ")"
   ]
  },
  {
   "cell_type": "markdown",
   "id": "88145611",
   "metadata": {},
   "source": [
    "*Observations*\n",
    "\n",
    "- About how much variability is due to error?\n",
    "  - I find that `var_meas ~ 0.05`, which is about $20\\%$ of the total.\n",
    "- About how much variability is real?\n",
    "  - I find that `var_real ~ 0.20`, which is about $80\\%$ of the total.\n"
   ]
  },
  {
   "cell_type": "markdown",
   "id": "64943b4f",
   "metadata": {},
   "source": [
    "### Benefits of eliminating erroneous variability\n",
    "\n",
    "Remember that the mean heuristic helps us reduce erroneous variability; what are the advantages of this technique? Let's compare the nested and summarized datasets:\n"
   ]
  },
  {
   "cell_type": "code",
   "execution_count": 11,
   "id": "e1def4b5",
   "metadata": {
    "collapsed": false
   },
   "outputs": [
    {
     "data": {
      "image/png": "[encoded data removed]",
      "text/plain": [
       "<Figure size 640x480 with 1 Axes>"
      ]
     },
     "metadata": {},
     "output_type": "display_data"
    },
    {
     "data": {
      "text/plain": [
       "<ggplot: (8766684562905)>"
      ]
     },
     "execution_count": 11,
     "metadata": {},
     "output_type": "execute_result"
    }
   ],
   "source": [
    "# NOTE: No need to edit; visualize both the original and summarized data\n",
    "(\n",
    "    gr.ggplot()\n",
    "    + gr.geom_density(\n",
    "        data=df_nested\n",
    "        >> gr.tf_mutate(source=\"Original\"),\n",
    "        mapping=gr.aes(\"x_meas\", color=\"source\"),\n",
    "    )\n",
    "    + gr.geom_density(\n",
    "        data=df_nested_mean\n",
    "        >> gr.tf_mutate(source=\"Summarized\"),\n",
    "        mapping=gr.aes(\"x_mean\", color=\"source\"),\n",
    "    )\n",
    ")"
   ]
  },
  {
   "cell_type": "markdown",
   "id": "63a57d8b",
   "metadata": {},
   "source": [
    "As we might expect, the summarized data appears to be narrower, which would make sense if we had reduced the erroneous variability. This can have useful implications for designs based on our data analysis.\n"
   ]
  },
  {
   "cell_type": "markdown",
   "id": "d8d99f52",
   "metadata": {},
   "source": [
    "### __q10__ Apply the quantile heuristic\n",
    "\n",
    "Apply the quantile heuristic to the summarized data. Use the same quantiles `0.10, 0.90` computed on the original data. Answer the questions under *observations* below.\n",
    "\n",
    "*Hint*: Do you need to group again to apply the quantile heuristic?\n"
   ]
  },
  {
   "cell_type": "code",
   "execution_count": 12,
   "id": "e90edf7c",
   "metadata": {
    "collapsed": false
   },
   "outputs": [
    {
     "name": "stdout",
     "output_type": "stream",
     "text": [
      "Quantiles of original data\n",
      "       x_lo      x_hi     width\n",
      "0  0.444538  1.539972  1.095434\n",
      "\n",
      "Quantiles of summarized data\n",
      "       x_lo     x_hi     width\n",
      "0  0.514268  1.48297  0.968702\n"
     ]
    }
   ],
   "source": [
    "# NOTE: No need to edit; this is an analysis of the original data\n",
    "print(\"Quantiles of original data\")\n",
    "print(\n",
    "    df_nested\n",
    "    >> gr.tf_summarize(\n",
    "        x_lo=gr.quant(DF.x_meas, 0.10),\n",
    "        x_hi=gr.quant(DF.x_meas, 0.90),\n",
    "    )\n",
    "    # Compute the interval width\n",
    "    >> gr.tf_mutate(width=DF.x_hi - DF.x_lo)\n",
    ")\n",
    "\n",
    "# TASK: Modify the code below\n",
    "print(\"\\nQuantiles of summarized data\")\n",
    "print(\n",
    "    df_nested_mean\n",
    "\n",
    "    >> gr.tf_summarize(\n",
    "        x_lo=gr.quant(DF.x_mean, 0.10),\n",
    "        x_hi=gr.quant(DF.x_mean, 0.90),\n",
    "    )\n",
    "    # Compute the interval width\n",
    "    >> gr.tf_mutate(width=DF.x_hi - DF.x_lo)\n",
    ")"
   ]
  },
  {
   "cell_type": "markdown",
   "id": "aa7b28e3",
   "metadata": {},
   "source": [
    "*Observations*\n",
    "\n",
    "- Which interval is narrower (`width`)? The original or the summarized?\n",
    "  - The summarized data gives a narrower interval.\n",
    "- How has applying the mean heuristic affected the width of the interval? Why has this happened?\n",
    "  - Applying the mean heuristic has reduced the width of the interval. This makes sense, as applying the mean heuristic has reduced the variability due to error, allowing us to focus in on the real variability alone.\n",
    "- Suppose we were using these data to guide engineering design decisions, and a narrower interval would enable a more efficient design. Which analysis would enable a more efficient design?\n",
    "  - The summarized approach (using the mean and quantile heuristics) would enable a more efficient design.\n"
   ]
  },
  {
   "cell_type": "markdown",
   "id": "a4bb95d9",
   "metadata": {},
   "source": [
    "Note that this kind of analysis is **only** possible when the data have this kind of nested structure; when we have multiple measurements of each specimen. The next task highlights this important fact.\n"
   ]
  },
  {
   "cell_type": "markdown",
   "id": "1f579d61",
   "metadata": {},
   "source": [
    "### __q11__ Importance of structured data collection\n",
    "\n",
    "Inspect the data, and answer the questions under *observations* below.\n"
   ]
  },
  {
   "cell_type": "code",
   "execution_count": 13,
   "id": "d27096d4",
   "metadata": {
    "collapsed": false
   },
   "outputs": [
    {
     "data": {
      "text/html": [
       "<div>\n",
       "<style scoped>\n",
       "    .dataframe tbody tr th:only-of-type {\n",
       "        vertical-align: middle;\n",
       "    }\n",
       "\n",
       "    .dataframe tbody tr th {\n",
       "        vertical-align: top;\n",
       "    }\n",
       "\n",
       "    .dataframe thead th {\n",
       "        text-align: right;\n",
       "    }\n",
       "</style>\n",
       "<table border=\"1\" class=\"dataframe\">\n",
       "  <thead>\n",
       "    <tr style=\"text-align: right;\">\n",
       "      <th></th>\n",
       "      <th>x_meas</th>\n",
       "    </tr>\n",
       "  </thead>\n",
       "  <tbody>\n",
       "    <tr>\n",
       "      <th>0</th>\n",
       "      <td>1.042817</td>\n",
       "    </tr>\n",
       "    <tr>\n",
       "      <th>1</th>\n",
       "      <td>0.902662</td>\n",
       "    </tr>\n",
       "    <tr>\n",
       "      <th>2</th>\n",
       "      <td>1.042041</td>\n",
       "    </tr>\n",
       "    <tr>\n",
       "      <th>3</th>\n",
       "      <td>0.870676</td>\n",
       "    </tr>\n",
       "    <tr>\n",
       "      <th>4</th>\n",
       "      <td>1.005482</td>\n",
       "    </tr>\n",
       "    <tr>\n",
       "      <th>5</th>\n",
       "      <td>0.914736</td>\n",
       "    </tr>\n",
       "    <tr>\n",
       "      <th>6</th>\n",
       "      <td>1.111457</td>\n",
       "    </tr>\n",
       "    <tr>\n",
       "      <th>7</th>\n",
       "      <td>1.077125</td>\n",
       "    </tr>\n",
       "  </tbody>\n",
       "</table>\n",
       "</div>"
      ],
      "text/plain": [
       "     x_meas\n",
       "0  1.042817\n",
       "1  0.902662\n",
       "2  1.042041\n",
       "3  0.870676\n",
       "4  1.005482\n",
       "5  0.914736\n",
       "6  1.111457\n",
       "7  1.077125"
      ]
     },
     "execution_count": 13,
     "metadata": {},
     "output_type": "execute_result"
    }
   ],
   "source": [
    "# NOTE: No need to edit; run and inspect\n",
    "(\n",
    "    df_nested\n",
    "    >> gr.tf_select(DF.x_meas)\n",
    "    >> gr.tf_head(8)\n",
    ")"
   ]
  },
  {
   "cell_type": "markdown",
   "id": "df4022dd",
   "metadata": {},
   "source": [
    "*Observations*\n",
    "\n",
    "- With this form of `df_nested`, could we apply the mean and quantile heuristics to analyze the data? Why or why not?\n",
    "  - We could not apply the mean and quantile heuristics; this is because we do not have access to information about how the data were collected. Practically, we have no variables to group by.\n"
   ]
  },
  {
   "cell_type": "markdown",
   "id": "7b9348e1",
   "metadata": {
    "jp-MarkdownHeadingCollapsed": true,
    "tags": []
   },
   "source": [
    "# Closing punchline\n",
    "\n",
    "Variability can come in different forms: Real variability affects the outcomes we are interested in, while erroneous variability corrupts measurements and inflates the variability we observe. A careful combination of planned data collection (nested data) and data analysis can help us reduce erroneous variability, which can enable more efficient designs.\n"
   ]
  }
 ],
 "metadata": {
  "kernelspec": {
   "display_name": "Python 3 (ipykernel)",
   "language": "python",
   "name": "python3"
  },
  "language_info": {
   "codemirror_mode": {
    "name": "ipython",
    "version": 3
   },
   "file_extension": ".py",
   "mimetype": "text/x-python",
   "name": "python",
   "nbconvert_exporter": "python",
   "pygments_lexer": "ipython3",
   "version": "3.9.7"
  }
 },
 "nbformat": 4,
 "nbformat_minor": 5
}
