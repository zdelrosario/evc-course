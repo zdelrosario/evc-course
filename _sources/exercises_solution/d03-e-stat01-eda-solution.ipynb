{
 "cells": [
  {
   "cell_type": "markdown",
   "id": "63b07705",
   "metadata": {},
   "source": [
    "# Stats: Introduction to Exploratory Data Analysis\n",
    "\n",
    "*Purpose*: *Exploratory Data Analysis* (EDA) is a __crucial__ skill for a practicing data scientist. Unfortunately, much like human-centered design EDA is hard to teach. This is because EDA is **not** a strict procedure, so much as it is a **mindset**. Also, much like human-centered design, EDA is an *iterative, nonlinear process*. There are two key principles to keep in mind when doing EDA:\n",
    "\n",
    "1. Curiosity: Generate lots of ideas and hypotheses about your data.\n",
    "2. Skepticism: Remain unconvinced of those ideas, unless you can find credible\n",
    "  patterns to support them.\n",
    "\n",
    "Since EDA is both *crucial* and *difficult*, we will practice doing EDA *a lot* in this course!\n"
   ]
  },
  {
   "cell_type": "markdown",
   "id": "0977e3cc",
   "metadata": {},
   "source": [
    "## Reading\n",
    "\n",
    "*Reading*: [Exploratory Data Analysis](https://rstudio.cloud/learn/primers/3.1)\n",
    "\n",
    "*Topics*: (All topics)\n",
    "\n",
    "*Reading Time*: ~45 minutes\n"
   ]
  },
  {
   "cell_type": "markdown",
   "id": "7b683cda",
   "metadata": {},
   "source": [
    "## Setup\n"
   ]
  },
  {
   "cell_type": "code",
   "execution_count": 1,
   "id": "a993faae",
   "metadata": {
    "collapsed": false
   },
   "outputs": [],
   "source": [
    "import grama as gr\n",
    "DF = gr.Intention()\n",
    "%matplotlib inline"
   ]
  },
  {
   "cell_type": "markdown",
   "id": "4564aab5",
   "metadata": {},
   "source": [
    "We'll study the diamonds dataset for this exercise.\n"
   ]
  },
  {
   "cell_type": "code",
   "execution_count": 2,
   "id": "e0434228",
   "metadata": {
    "collapsed": false
   },
   "outputs": [],
   "source": [
    "from grama.data import df_diamonds\n",
    "df_diamonds = (\n",
    "    df_diamonds\n",
    "    >> gr.tf_mutate(\n",
    "        # Order the cut to aid in plotting\n",
    "        cut=gr.as_factor(\n",
    "            DF.cut,\n",
    "            categories=[\n",
    "                \"Fair\",\n",
    "                \"Good\",\n",
    "                \"Very Good\",\n",
    "                \"Premium\",\n",
    "                \"Ideal\"\n",
    "            ]\n",
    "        )\n",
    "    )\n",
    ")\n"
   ]
  },
  {
   "cell_type": "markdown",
   "id": "1a17edf3",
   "metadata": {},
   "source": [
    "# Basic EDA Tools\n",
    "\n",
    "There are a few simple tools we can use to investigate a dataset. We should use these tools even before making visuals of the data.\n"
   ]
  },
  {
   "cell_type": "markdown",
   "id": "8a60cee5",
   "metadata": {},
   "source": [
    "### __q1__ Take the head\n",
    "\n",
    "Use the appropriate function to get the first 5 observations in `df_diamonds`. Answer the questions under *observations* below.\n"
   ]
  },
  {
   "cell_type": "code",
   "execution_count": 3,
   "id": "8b4c0f2f",
   "metadata": {
    "collapsed": false
   },
   "outputs": [
    {
     "data": {
      "text/html": [
       "<div>\n",
       "<style scoped>\n",
       "    .dataframe tbody tr th:only-of-type {\n",
       "        vertical-align: middle;\n",
       "    }\n",
       "\n",
       "    .dataframe tbody tr th {\n",
       "        vertical-align: top;\n",
       "    }\n",
       "\n",
       "    .dataframe thead th {\n",
       "        text-align: right;\n",
       "    }\n",
       "</style>\n",
       "<table border=\"1\" class=\"dataframe\">\n",
       "  <thead>\n",
       "    <tr style=\"text-align: right;\">\n",
       "      <th></th>\n",
       "      <th>carat</th>\n",
       "      <th>cut</th>\n",
       "      <th>color</th>\n",
       "      <th>clarity</th>\n",
       "      <th>depth</th>\n",
       "      <th>table</th>\n",
       "      <th>price</th>\n",
       "      <th>x</th>\n",
       "      <th>y</th>\n",
       "      <th>z</th>\n",
       "    </tr>\n",
       "  </thead>\n",
       "  <tbody>\n",
       "    <tr>\n",
       "      <th>0</th>\n",
       "      <td>0.23</td>\n",
       "      <td>Ideal</td>\n",
       "      <td>E</td>\n",
       "      <td>SI2</td>\n",
       "      <td>61.5</td>\n",
       "      <td>55.0</td>\n",
       "      <td>326</td>\n",
       "      <td>3.95</td>\n",
       "      <td>3.98</td>\n",
       "      <td>2.43</td>\n",
       "    </tr>\n",
       "    <tr>\n",
       "      <th>1</th>\n",
       "      <td>0.21</td>\n",
       "      <td>Premium</td>\n",
       "      <td>E</td>\n",
       "      <td>SI1</td>\n",
       "      <td>59.8</td>\n",
       "      <td>61.0</td>\n",
       "      <td>326</td>\n",
       "      <td>3.89</td>\n",
       "      <td>3.84</td>\n",
       "      <td>2.31</td>\n",
       "    </tr>\n",
       "    <tr>\n",
       "      <th>2</th>\n",
       "      <td>0.23</td>\n",
       "      <td>Good</td>\n",
       "      <td>E</td>\n",
       "      <td>VS1</td>\n",
       "      <td>56.9</td>\n",
       "      <td>65.0</td>\n",
       "      <td>327</td>\n",
       "      <td>4.05</td>\n",
       "      <td>4.07</td>\n",
       "      <td>2.31</td>\n",
       "    </tr>\n",
       "    <tr>\n",
       "      <th>3</th>\n",
       "      <td>0.29</td>\n",
       "      <td>Premium</td>\n",
       "      <td>I</td>\n",
       "      <td>VS2</td>\n",
       "      <td>62.4</td>\n",
       "      <td>58.0</td>\n",
       "      <td>334</td>\n",
       "      <td>4.20</td>\n",
       "      <td>4.23</td>\n",
       "      <td>2.63</td>\n",
       "    </tr>\n",
       "    <tr>\n",
       "      <th>4</th>\n",
       "      <td>0.31</td>\n",
       "      <td>Good</td>\n",
       "      <td>J</td>\n",
       "      <td>SI2</td>\n",
       "      <td>63.3</td>\n",
       "      <td>58.0</td>\n",
       "      <td>335</td>\n",
       "      <td>4.34</td>\n",
       "      <td>4.35</td>\n",
       "      <td>2.75</td>\n",
       "    </tr>\n",
       "  </tbody>\n",
       "</table>\n",
       "</div>"
      ],
      "text/plain": [
       "   carat      cut color clarity  depth  table  price     x     y     z\n",
       "0   0.23    Ideal     E     SI2   61.5   55.0    326  3.95  3.98  2.43\n",
       "1   0.21  Premium     E     SI1   59.8   61.0    326  3.89  3.84  2.31\n",
       "2   0.23     Good     E     VS1   56.9   65.0    327  4.05  4.07  2.31\n",
       "3   0.29  Premium     I     VS2   62.4   58.0    334  4.20  4.23  2.63\n",
       "4   0.31     Good     J     SI2   63.3   58.0    335  4.34  4.35  2.75"
      ]
     },
     "execution_count": 3,
     "metadata": {},
     "output_type": "execute_result"
    }
   ],
   "source": [
    "# TASK: Get the first 10 observations\n",
    "(\n",
    "    df_diamonds\n",
    "    >> gr.tf_head(5)\n",
    ")"
   ]
  },
  {
   "cell_type": "markdown",
   "id": "8706f9b4",
   "metadata": {},
   "source": [
    "*Observations*\n",
    "\n",
    "- What variables does this dataset have?\n",
    "  - `carat`, `cut`, `color`, `clarity`, `depth`, `table`, `price`, `x`, `y`, `z`\n",
    "<!-- solution-end -->"
   ]
  },
  {
   "cell_type": "markdown",
   "id": "91be4ed7",
   "metadata": {},
   "source": [
    "### __q2__ Use descriptive statistics\n",
    "\n",
    "The `gr.tf_describe()` function gives useful descriptive statistics on a dataset. Use these values to answer the questions under *observations* below.\n"
   ]
  },
  {
   "cell_type": "code",
   "execution_count": 4,
   "id": "ce693b5a",
   "metadata": {
    "collapsed": false
   },
   "outputs": [
    {
     "data": {
      "text/html": [
       "<div>\n",
       "<style scoped>\n",
       "    .dataframe tbody tr th:only-of-type {\n",
       "        vertical-align: middle;\n",
       "    }\n",
       "\n",
       "    .dataframe tbody tr th {\n",
       "        vertical-align: top;\n",
       "    }\n",
       "\n",
       "    .dataframe thead th {\n",
       "        text-align: right;\n",
       "    }\n",
       "</style>\n",
       "<table border=\"1\" class=\"dataframe\">\n",
       "  <thead>\n",
       "    <tr style=\"text-align: right;\">\n",
       "      <th></th>\n",
       "      <th>carat</th>\n",
       "      <th>depth</th>\n",
       "      <th>table</th>\n",
       "      <th>price</th>\n",
       "      <th>x</th>\n",
       "      <th>y</th>\n",
       "      <th>z</th>\n",
       "    </tr>\n",
       "  </thead>\n",
       "  <tbody>\n",
       "    <tr>\n",
       "      <th>count</th>\n",
       "      <td>53940.000000</td>\n",
       "      <td>53940.000000</td>\n",
       "      <td>53940.000000</td>\n",
       "      <td>53940.000000</td>\n",
       "      <td>53940.000000</td>\n",
       "      <td>53940.000000</td>\n",
       "      <td>53940.000000</td>\n",
       "    </tr>\n",
       "    <tr>\n",
       "      <th>mean</th>\n",
       "      <td>0.797940</td>\n",
       "      <td>61.749405</td>\n",
       "      <td>57.457184</td>\n",
       "      <td>3932.799722</td>\n",
       "      <td>5.731157</td>\n",
       "      <td>5.734526</td>\n",
       "      <td>3.538734</td>\n",
       "    </tr>\n",
       "    <tr>\n",
       "      <th>std</th>\n",
       "      <td>0.474011</td>\n",
       "      <td>1.432621</td>\n",
       "      <td>2.234491</td>\n",
       "      <td>3989.439738</td>\n",
       "      <td>1.121761</td>\n",
       "      <td>1.142135</td>\n",
       "      <td>0.705699</td>\n",
       "    </tr>\n",
       "    <tr>\n",
       "      <th>min</th>\n",
       "      <td>0.200000</td>\n",
       "      <td>43.000000</td>\n",
       "      <td>43.000000</td>\n",
       "      <td>326.000000</td>\n",
       "      <td>0.000000</td>\n",
       "      <td>0.000000</td>\n",
       "      <td>0.000000</td>\n",
       "    </tr>\n",
       "    <tr>\n",
       "      <th>25%</th>\n",
       "      <td>0.400000</td>\n",
       "      <td>61.000000</td>\n",
       "      <td>56.000000</td>\n",
       "      <td>950.000000</td>\n",
       "      <td>4.710000</td>\n",
       "      <td>4.720000</td>\n",
       "      <td>2.910000</td>\n",
       "    </tr>\n",
       "    <tr>\n",
       "      <th>50%</th>\n",
       "      <td>0.700000</td>\n",
       "      <td>61.800000</td>\n",
       "      <td>57.000000</td>\n",
       "      <td>2401.000000</td>\n",
       "      <td>5.700000</td>\n",
       "      <td>5.710000</td>\n",
       "      <td>3.530000</td>\n",
       "    </tr>\n",
       "    <tr>\n",
       "      <th>75%</th>\n",
       "      <td>1.040000</td>\n",
       "      <td>62.500000</td>\n",
       "      <td>59.000000</td>\n",
       "      <td>5324.250000</td>\n",
       "      <td>6.540000</td>\n",
       "      <td>6.540000</td>\n",
       "      <td>4.040000</td>\n",
       "    </tr>\n",
       "    <tr>\n",
       "      <th>max</th>\n",
       "      <td>5.010000</td>\n",
       "      <td>79.000000</td>\n",
       "      <td>95.000000</td>\n",
       "      <td>18823.000000</td>\n",
       "      <td>10.740000</td>\n",
       "      <td>58.900000</td>\n",
       "      <td>31.800000</td>\n",
       "    </tr>\n",
       "  </tbody>\n",
       "</table>\n",
       "</div>"
      ],
      "text/plain": [
       "              carat         depth         table         price             x  \\\n",
       "count  53940.000000  53940.000000  53940.000000  53940.000000  53940.000000   \n",
       "mean       0.797940     61.749405     57.457184   3932.799722      5.731157   \n",
       "std        0.474011      1.432621      2.234491   3989.439738      1.121761   \n",
       "min        0.200000     43.000000     43.000000    326.000000      0.000000   \n",
       "25%        0.400000     61.000000     56.000000    950.000000      4.710000   \n",
       "50%        0.700000     61.800000     57.000000   2401.000000      5.700000   \n",
       "75%        1.040000     62.500000     59.000000   5324.250000      6.540000   \n",
       "max        5.010000     79.000000     95.000000  18823.000000     10.740000   \n",
       "\n",
       "                  y             z  \n",
       "count  53940.000000  53940.000000  \n",
       "mean       5.734526      3.538734  \n",
       "std        1.142135      0.705699  \n",
       "min        0.000000      0.000000  \n",
       "25%        4.720000      2.910000  \n",
       "50%        5.710000      3.530000  \n",
       "75%        6.540000      4.040000  \n",
       "max       58.900000     31.800000  "
      ]
     },
     "execution_count": 4,
     "metadata": {},
     "output_type": "execute_result"
    }
   ],
   "source": [
    "# NOTE: No need to edit; run and inspect\n",
    "(\n",
    "    df_diamonds\n",
    "    >> gr.tf_describe()\n",
    ")"
   ]
  },
  {
   "cell_type": "markdown",
   "id": "ab4907d6",
   "metadata": {},
   "source": [
    "*Observations*\n",
    "\n",
    "- How many observations are in the dataset?\n",
    "  - There are `53940` observations.\n",
    "- What is a typical value for the `price` of a diamond, according to this dataset?\n",
    "  - A typical price is around `3000`. The mean price is `3932.80` and the median price is `2401`.\n",
    "- What is the largest diamond in the dataset? (According to `carat`.) What is the smallest?\n",
    "  - The smallest carat is `0.2` and the largest carat is `5.01`.\n",
    "- You identified all the variables in the dataset in __q1__ above. Do the results from `gr.tf_describe()` provide information on **all** of these variables?\n",
    "  - No: we do not see results for `cut`, `color`, or `clarity`.\n"
   ]
  },
  {
   "cell_type": "markdown",
   "id": "d4f3e4f7",
   "metadata": {},
   "source": [
    "## Distinct Values (levels)\n",
    "\n",
    "Variables that do not take numerical values are sometimes called *categorical variables*; there are other tools that are useful for investigating categorical variables.\n",
    "\n",
    "The verb `gr.tf_distinct()` is like `gr.tf_filter()`, but it filters for rows that are *distinct* according to the given variables. For instance, if we wanted to know what distinct values of `x` exist in `df_data`, we would call:\n",
    "\n",
    "```python\n",
    "(\n",
    "    df_data\n",
    "    >> gr.tf_distinct(DF.x)\n",
    ")\n",
    "```\n",
    "\n",
    "*Aside*: A categorical variable is sometimes called a *factor*. The unique values of a categorical variable are called *levels*.\n",
    "\n",
    "We can use `gr.tf_distinct()` to figure out what values show up for a categorical variable.\n"
   ]
  },
  {
   "cell_type": "markdown",
   "id": "9f4b246a",
   "metadata": {},
   "source": [
    "### __q3__ Find the distinct `cut` values\n",
    "\n",
    "Use `gr.tf_distinct()` to find the unique values of `cut` in `df_diamonds`.\n"
   ]
  },
  {
   "cell_type": "code",
   "execution_count": 5,
   "id": "3dca5d47",
   "metadata": {
    "collapsed": false
   },
   "outputs": [
    {
     "data": {
      "text/html": [
       "<div>\n",
       "<style scoped>\n",
       "    .dataframe tbody tr th:only-of-type {\n",
       "        vertical-align: middle;\n",
       "    }\n",
       "\n",
       "    .dataframe tbody tr th {\n",
       "        vertical-align: top;\n",
       "    }\n",
       "\n",
       "    .dataframe thead th {\n",
       "        text-align: right;\n",
       "    }\n",
       "</style>\n",
       "<table border=\"1\" class=\"dataframe\">\n",
       "  <thead>\n",
       "    <tr style=\"text-align: right;\">\n",
       "      <th></th>\n",
       "      <th>carat</th>\n",
       "      <th>cut</th>\n",
       "      <th>color</th>\n",
       "      <th>clarity</th>\n",
       "      <th>depth</th>\n",
       "      <th>table</th>\n",
       "      <th>price</th>\n",
       "      <th>x</th>\n",
       "      <th>y</th>\n",
       "      <th>z</th>\n",
       "    </tr>\n",
       "  </thead>\n",
       "  <tbody>\n",
       "    <tr>\n",
       "      <th>0</th>\n",
       "      <td>0.23</td>\n",
       "      <td>Ideal</td>\n",
       "      <td>E</td>\n",
       "      <td>SI2</td>\n",
       "      <td>61.5</td>\n",
       "      <td>55.0</td>\n",
       "      <td>326</td>\n",
       "      <td>3.95</td>\n",
       "      <td>3.98</td>\n",
       "      <td>2.43</td>\n",
       "    </tr>\n",
       "    <tr>\n",
       "      <th>1</th>\n",
       "      <td>0.21</td>\n",
       "      <td>Premium</td>\n",
       "      <td>E</td>\n",
       "      <td>SI1</td>\n",
       "      <td>59.8</td>\n",
       "      <td>61.0</td>\n",
       "      <td>326</td>\n",
       "      <td>3.89</td>\n",
       "      <td>3.84</td>\n",
       "      <td>2.31</td>\n",
       "    </tr>\n",
       "    <tr>\n",
       "      <th>2</th>\n",
       "      <td>0.23</td>\n",
       "      <td>Good</td>\n",
       "      <td>E</td>\n",
       "      <td>VS1</td>\n",
       "      <td>56.9</td>\n",
       "      <td>65.0</td>\n",
       "      <td>327</td>\n",
       "      <td>4.05</td>\n",
       "      <td>4.07</td>\n",
       "      <td>2.31</td>\n",
       "    </tr>\n",
       "    <tr>\n",
       "      <th>3</th>\n",
       "      <td>0.24</td>\n",
       "      <td>Very Good</td>\n",
       "      <td>J</td>\n",
       "      <td>VVS2</td>\n",
       "      <td>62.8</td>\n",
       "      <td>57.0</td>\n",
       "      <td>336</td>\n",
       "      <td>3.94</td>\n",
       "      <td>3.96</td>\n",
       "      <td>2.48</td>\n",
       "    </tr>\n",
       "    <tr>\n",
       "      <th>4</th>\n",
       "      <td>0.22</td>\n",
       "      <td>Fair</td>\n",
       "      <td>E</td>\n",
       "      <td>VS2</td>\n",
       "      <td>65.1</td>\n",
       "      <td>61.0</td>\n",
       "      <td>337</td>\n",
       "      <td>3.87</td>\n",
       "      <td>3.78</td>\n",
       "      <td>2.49</td>\n",
       "    </tr>\n",
       "  </tbody>\n",
       "</table>\n",
       "</div>"
      ],
      "text/plain": [
       "   carat        cut color clarity  depth  table  price     x     y     z\n",
       "0   0.23      Ideal     E     SI2   61.5   55.0    326  3.95  3.98  2.43\n",
       "1   0.21    Premium     E     SI1   59.8   61.0    326  3.89  3.84  2.31\n",
       "2   0.23       Good     E     VS1   56.9   65.0    327  4.05  4.07  2.31\n",
       "3   0.24  Very Good     J    VVS2   62.8   57.0    336  3.94  3.96  2.48\n",
       "4   0.22       Fair     E     VS2   65.1   61.0    337  3.87  3.78  2.49"
      ]
     },
     "execution_count": 5,
     "metadata": {},
     "output_type": "execute_result"
    }
   ],
   "source": [
    "# TASK: Find the distinct `cut` values in the dataset\n",
    "(\n",
    "    df_diamonds\n",
    "    >> gr.tf_distinct(DF.cut)\n",
    ")"
   ]
  },
  {
   "cell_type": "markdown",
   "id": "3fdf625e",
   "metadata": {},
   "source": [
    "## Counts\n",
    "\n",
    "Another approach to assessing a categorical is to simply count the number of rows that correspond to each distinct value. We can do this with the `gr.tf_count()` verb. For instance, if we wanted to know how may rows there are for each value of `x` in `df_data`, we would call:\n",
    "\n",
    "```python\n",
    "(\n",
    "    df_data\n",
    "    >> gr.tf_count(DF.x)\n",
    ")\n",
    "```\n"
   ]
  },
  {
   "cell_type": "markdown",
   "id": "5ada7a30",
   "metadata": {},
   "source": [
    "### __q4__ Find the count of cut values\n",
    "\n",
    "Use `gr.tf_count()` to find the number of rows for each distinct `cut` value in `df_diamonds`.\n"
   ]
  },
  {
   "cell_type": "code",
   "execution_count": 6,
   "id": "6a5c5e1e",
   "metadata": {
    "collapsed": false
   },
   "outputs": [
    {
     "data": {
      "text/html": [
       "<div>\n",
       "<style scoped>\n",
       "    .dataframe tbody tr th:only-of-type {\n",
       "        vertical-align: middle;\n",
       "    }\n",
       "\n",
       "    .dataframe tbody tr th {\n",
       "        vertical-align: top;\n",
       "    }\n",
       "\n",
       "    .dataframe thead th {\n",
       "        text-align: right;\n",
       "    }\n",
       "</style>\n",
       "<table border=\"1\" class=\"dataframe\">\n",
       "  <thead>\n",
       "    <tr style=\"text-align: right;\">\n",
       "      <th></th>\n",
       "      <th>cut</th>\n",
       "      <th>n</th>\n",
       "    </tr>\n",
       "  </thead>\n",
       "  <tbody>\n",
       "    <tr>\n",
       "      <th>0</th>\n",
       "      <td>Fair</td>\n",
       "      <td>1610</td>\n",
       "    </tr>\n",
       "    <tr>\n",
       "      <th>1</th>\n",
       "      <td>Good</td>\n",
       "      <td>4906</td>\n",
       "    </tr>\n",
       "    <tr>\n",
       "      <th>2</th>\n",
       "      <td>Very Good</td>\n",
       "      <td>12082</td>\n",
       "    </tr>\n",
       "    <tr>\n",
       "      <th>3</th>\n",
       "      <td>Premium</td>\n",
       "      <td>13791</td>\n",
       "    </tr>\n",
       "    <tr>\n",
       "      <th>4</th>\n",
       "      <td>Ideal</td>\n",
       "      <td>21551</td>\n",
       "    </tr>\n",
       "  </tbody>\n",
       "</table>\n",
       "</div>"
      ],
      "text/plain": [
       "         cut      n\n",
       "0       Fair   1610\n",
       "1       Good   4906\n",
       "2  Very Good  12082\n",
       "3    Premium  13791\n",
       "4      Ideal  21551"
      ]
     },
     "execution_count": 6,
     "metadata": {},
     "output_type": "execute_result"
    }
   ],
   "source": [
    "# TASK: Find the distinct `cut` values in the dataset\n",
    "(\n",
    "    df_diamonds\n",
    "    >> gr.tf_count(DF.cut)\n",
    ")\n"
   ]
  },
  {
   "cell_type": "markdown",
   "id": "00dfd415",
   "metadata": {},
   "source": [
    "# Guided EDA\n",
    "\n",
    "I'm going to walk you through a train of thought I had when studying the diamonds dataset.\n",
    "\n",
    "There are four standard \"C's\" of [judging](https://en.wikipedia.org/wiki/Diamond_(gemstone)) a diamond. These are `carat, cut, color` and `clarity`, all of which are in the `df_diamonds` dataset."
   ]
  },
  {
   "cell_type": "markdown",
   "id": "bddfb977",
   "metadata": {},
   "source": [
    "*Note*: This remainder of this exercise will consist of interpreting pre-made graphs. You can run the whole notebook to generate all the figures at once. Just make sure to do all the exercises and write your observations!\n"
   ]
  },
  {
   "cell_type": "markdown",
   "id": "31b29d65",
   "metadata": {},
   "source": [
    "## Hypothesis 1\n",
    "\n",
    "Here's a hypothesis:\n",
    "\n",
    ">  `Ideal` is the \"best\" value of `cut` for a diamond. Since an `Ideal` cut seems more labor-intensive, I hypothesize that `Ideal` cut diamonds are less numerous than other cuts."
   ]
  },
  {
   "cell_type": "markdown",
   "id": "18348c9d",
   "metadata": {},
   "source": [
    "### __q5__ Assess hypothesis 1\n",
    "\n",
    "Run the chunk below, and study the plot. Was hypothesis 1 correct? Why\n",
    "or why not?\n"
   ]
  },
  {
   "cell_type": "code",
   "execution_count": 7,
   "id": "dc6e070c",
   "metadata": {
    "collapsed": false
   },
   "outputs": [
    {
     "data": {
      "image/png": "[encoded data removed]",
      "text/plain": [
       "<Figure size 640x480 with 1 Axes>"
      ]
     },
     "metadata": {},
     "output_type": "display_data"
    },
    {
     "data": {
      "text/plain": [
       "<ggplot: (8762373088910)>"
      ]
     },
     "execution_count": 7,
     "metadata": {},
     "output_type": "execute_result"
    }
   ],
   "source": [
    "# NOTE: No need to edit; run and inspect\n",
    "(\n",
    "    df_diamonds\n",
    "    >> gr.ggplot(gr.aes(\"cut\"))\n",
    "    + gr.geom_bar()\n",
    ")\n"
   ]
  },
  {
   "cell_type": "markdown",
   "id": "843ed24c",
   "metadata": {},
   "source": [
    "*Observations*\n",
    "\n",
    "- Is hypothesis 1 true or not?\n",
    "  - The hypothesis was wrong: `Ideal` cut diamonds are *more* numerous than all other cuts! Perhaps because cutting a diamond is easier than mining a new one, gemcutters add value to a diamond by striving for an ideal cut.\n"
   ]
  },
  {
   "cell_type": "markdown",
   "id": "b26c3ce6",
   "metadata": {},
   "source": [
    "## Hypothesis 2\n",
    "\n",
    "Another hypothesis: \n",
    "\n",
    "> The `Ideal` cut diamonds should be the most pricey.\n"
   ]
  },
  {
   "cell_type": "markdown",
   "id": "2c06a6ca",
   "metadata": {},
   "source": [
    "### __q6__ Assess hypothesis 2\n",
    "\n",
    "Study the following graph; does it support, contradict, or not relate to hypothesis 2?\n"
   ]
  },
  {
   "cell_type": "code",
   "execution_count": 8,
   "id": "76baf559",
   "metadata": {
    "collapsed": false
   },
   "outputs": [
    {
     "data": {
      "image/png": "[encoded data removed]",
      "text/plain": [
       "<Figure size 640x480 with 1 Axes>"
      ]
     },
     "metadata": {},
     "output_type": "display_data"
    },
    {
     "data": {
      "text/plain": [
       "<ggplot: (8762375049593)>"
      ]
     },
     "execution_count": 8,
     "metadata": {},
     "output_type": "execute_result"
    }
   ],
   "source": [
    "# NOTE: No need to edit; run and inspect\n",
    "(\n",
    "    df_diamonds\n",
    "    >> gr.ggplot(gr.aes(\"cut\", \"price\"))\n",
    "    + gr.geom_point()\n",
    ")"
   ]
  },
  {
   "cell_type": "markdown",
   "id": "834ba7f0",
   "metadata": {},
   "source": [
    "*Observations*\n",
    "\n",
    "- Does this plot support, contradict, or not relate to hypothesis 2?\n",
    "  - This graph is virtually useless! There is severe overplotting. We cannot address Hypothesis 2 with this graph.\n"
   ]
  },
  {
   "cell_type": "markdown",
   "id": "f79b7e7f",
   "metadata": {},
   "source": [
    "The following is a set of *boxplots*; the middle bar denotes the median, the boxes denote the *quartiles* (upper and lower \"quarters\" of the data), and the lines and dots denote large values and outliers.\n"
   ]
  },
  {
   "cell_type": "markdown",
   "id": "915586a8",
   "metadata": {},
   "source": [
    "### __q7__ Assess hypothesis 2, take 2\n",
    "\n",
    "Study the following graph; does it support or contradict hypothesis 2?\n"
   ]
  },
  {
   "cell_type": "code",
   "execution_count": 9,
   "id": "c4af301c",
   "metadata": {
    "collapsed": false
   },
   "outputs": [
    {
     "data": {
      "image/png": "[encoded data removed]",
      "text/plain": [
       "<Figure size 640x480 with 1 Axes>"
      ]
     },
     "metadata": {},
     "output_type": "display_data"
    },
    {
     "data": {
      "text/plain": [
       "<ggplot: (8762375125170)>"
      ]
     },
     "execution_count": 9,
     "metadata": {},
     "output_type": "execute_result"
    }
   ],
   "source": [
    "# NOTE: No need to edit; run and inspect\n",
    "(\n",
    "    df_diamonds\n",
    "    >> gr.ggplot(gr.aes(\"cut\", \"price\"))\n",
    "    + gr.geom_boxplot()\n",
    ")\n"
   ]
  },
  {
   "cell_type": "markdown",
   "id": "a388557b",
   "metadata": {},
   "source": [
    "*Observations*\n",
    "\n",
    "- Does this plot support or contradict hypothesis 2?\n",
    "  - Surprisingly, `Ideal` diamonds tend to be the *least* pricey! This was very surprising to me.\n"
   ]
  },
  {
   "cell_type": "markdown",
   "id": "a703d91f",
   "metadata": {},
   "source": [
    "Upon making the graph in __q3__, I was *very* surprised, so I did some reading on diamond cuts. It turns out that some gemcutters [sacrifice cut for carat](https://en.wikipedia.org/wiki/Diamond_(gemstone)#Cut). Could this effect explain the surprising pattern above?\n"
   ]
  },
  {
   "cell_type": "markdown",
   "id": "67f5b513",
   "metadata": {},
   "source": [
    "### __q8__ Unravel hypothesis 2\n",
    "\n",
    "Study the following graph; does it support a \"sacrifice cut for carat\" hypothesis? How might this relate to price?\n",
    "\n",
    "*Hint*: The article linked above will help you answer these questions!\n"
   ]
  },
  {
   "cell_type": "code",
   "execution_count": 10,
   "id": "c5e08ca5",
   "metadata": {
    "collapsed": false
   },
   "outputs": [
    {
     "data": {
      "image/png": "[encoded data removed]",
      "text/plain": [
       "<Figure size 640x480 with 1 Axes>"
      ]
     },
     "metadata": {},
     "output_type": "display_data"
    },
    {
     "data": {
      "text/plain": [
       "<ggplot: (8762373433293)>"
      ]
     },
     "execution_count": 10,
     "metadata": {},
     "output_type": "execute_result"
    }
   ],
   "source": [
    "# NOTE: No need to edit; run and inspect\n",
    "(\n",
    "    df_diamonds\n",
    "    >> gr.ggplot(gr.aes(\"cut\", \"carat\"))\n",
    "    + gr.geom_boxplot()\n",
    ")"
   ]
  },
  {
   "cell_type": "markdown",
   "id": "8fa90eca",
   "metadata": {},
   "source": [
    "*Observations*\n",
    "\n",
    "- The median of `Ideal` diamonds is a fair bit lower in `carat` than other cuts. This provides some evidence that gemcutters trade `cut` for `carat`.\n",
    "- The very largest `carat` diamonds tend to be of `Fair` cut; this makes sense, as cutting the gemstone will only reduce weight.\n",
    "- It seems that many diamond purchasers are more interested in carat than fine cut. This provides some rationale for why `Ideal` diamonds are cheaper; they are necessarily lower-carat.\n"
   ]
  }
 ],
 "metadata": {
  "kernelspec": {
   "display_name": "Python 3 (ipykernel)",
   "language": "python",
   "name": "python3"
  },
  "language_info": {
   "codemirror_mode": {
    "name": "ipython",
    "version": 3
   },
   "file_extension": ".py",
   "mimetype": "text/x-python",
   "name": "python",
   "nbconvert_exporter": "python",
   "pygments_lexer": "ipython3",
   "version": "3.9.7"
  }
 },
 "nbformat": 4,
 "nbformat_minor": 5
}
