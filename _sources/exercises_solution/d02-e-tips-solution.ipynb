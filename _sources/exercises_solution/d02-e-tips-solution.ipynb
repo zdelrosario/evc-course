{
 "cells": [
  {
   "cell_type": "markdown",
   "id": "f7782a3d",
   "metadata": {},
   "source": [
    "# Tips for This Course\n",
    "\n",
    "*Purpose*: This short exercise gives you a few tips for how to make this course easier and more effective.\n"
   ]
  },
  {
   "cell_type": "markdown",
   "id": "277ade06",
   "metadata": {},
   "source": [
    "# JupyterLab over Jupyter Notebook\n",
    "\n",
    "There are two primary tools for working with jupyter notebooks: `Jupyter Lab` and (the confusingly named) `Jupyter Notebook`. Both can be run from a terminal (`jupyter lab` or `jupyter notebook`) or from Anaconda Prompt.\n",
    "\n",
    "I recommend you use Jupyter Lab (rather than Notebook): This is a more modern interface that provides a variety of useful features.\n",
    "\n",
    "## Table of Contents\n",
    "\n",
    "Jupyter Lab includes *table of contents* (TOC) feature to help you navigate a notebook. Click the \"three lines\" button in the sidebar panel (pictured below) to display the TOC.\n",
    "\n",
    "![The Table of Contents shows up in the sidebar panel and lists all the markdown headers in the document](images/jupyter-toc.png)\n",
    "\n",
    "Clicking on headers in the TOC allows you to jump to points in the document, as you'll learn in the next task.\n"
   ]
  },
  {
   "cell_type": "markdown",
   "id": "c793972a",
   "metadata": {},
   "source": [
    "### __q1__ Navigate by contents\n",
    "\n",
    "Change the sidebar panel to show the Table of Contents. Click on the link to the `Book Search` section. Then click `q1 Navigate by contents` to come back here.\n"
   ]
  },
  {
   "cell_type": "markdown",
   "id": "b2fb9789",
   "metadata": {},
   "source": [
    "# Solution Manual\n",
    "\n",
    "The solutions to all exercises are available in the [online solution manual](https://zdelrosario.github.io/evc-course/frontmatter/exercises.html). If you ever get stuck on an exercise, make sure to check the solutions!\n",
    "\n",
    "## Tactics\n",
    "\n",
    "Since all the solutions are available at the beginning of the course, it might be tempting to just read the solution manual instead of doing the exercises. Resist this temptation! You'll get a lot more out of this course if you try the exercises on your own first, and consult the solution manual only when you get stuck.\n",
    "\n",
    "## Book Search\n",
    "\n",
    "The [solution manual website](https://zdelrosario.github.io/evc-course/frontmatter/exercises.html) has an *extremely useful* search feature. If you click in the search bar at the top-left of the site (below the title), you can search across *all* of the exercise solutions.\n",
    "\n",
    "![The search bar in the solution manual is in the top-left corner of the website](images/book-search.png)\n"
   ]
  },
  {
   "cell_type": "markdown",
   "id": "4ddff888",
   "metadata": {},
   "source": [
    "### __q2__ Do a search\n",
    "\n",
    "Try searching for the phrase `\"real variability\"` in the solution manual. Use the search results to answer the questions under *observations* below.\n"
   ]
  },
  {
   "cell_type": "markdown",
   "id": "5ad9b00a",
   "metadata": {},
   "source": [
    "*Observations*\n",
    "\n",
    "- What is \"real variability\"?\n",
    "  - Real variability is any source of variability that can affect a physical outcome. This is in contrast with Error: Error (or erroneous variability) is any source of variability that corrupts a measurement.\n",
    "<!-- solution-end -->"
   ]
  }
 ],
 "metadata": {
  "kernelspec": {
   "display_name": "Python 3 (ipykernel)",
   "language": "python",
   "name": "python3"
  },
  "language_info": {
   "codemirror_mode": {
    "name": "ipython",
    "version": 3
   },
   "file_extension": ".py",
   "mimetype": "text/x-python",
   "name": "python",
   "nbconvert_exporter": "python",
   "pygments_lexer": "ipython3",
   "version": "3.9.7"
  }
 },
 "nbformat": 4,
 "nbformat_minor": 5
}
