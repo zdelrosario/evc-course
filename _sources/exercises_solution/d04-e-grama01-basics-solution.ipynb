{
 "cells": [
  {
   "cell_type": "markdown",
   "id": "e6e0ba5d",
   "metadata": {},
   "source": [
    "# Grama: Basics\n",
    "\n",
    "*Purpose*: We will make use of the grama package to work with *models*, which will give us a powerful toolkit to explore and make sense of physical scenarios. To that end, in this exercise we'll go through a brief introduction to the grama package.\n"
   ]
  },
  {
   "cell_type": "markdown",
   "id": "8336093d",
   "metadata": {},
   "source": [
    "## Setup\n"
   ]
  },
  {
   "cell_type": "code",
   "execution_count": 1,
   "id": "8cc43c1c",
   "metadata": {
    "collapsed": false
   },
   "outputs": [],
   "source": [
    "import grama as gr\n",
    "DF = gr.Intention()\n",
    "%matplotlib inline"
   ]
  },
  {
   "cell_type": "markdown",
   "id": "d5a0a0e1",
   "metadata": {},
   "source": [
    "# Grama Verbs\n",
    "\n",
    "Grama is organized around two object classes and four verb classes: The objects are\n",
    "\n",
    "- Data (`df`), as represented by a `pd.DataFrame`: Represents observations from physical experiments, simulations from models, and so on.\n",
    "- Models (`md`), as represented by a `gr.Model`: Represents a model, including inputs, functions providing outputs, and uncertainties.\n",
    "\n",
    "The four verb classes allow us to move between the two object types, as summarized in the image below:\n"
   ]
  },
  {
   "cell_type": "markdown",
   "id": "6c93c681",
   "metadata": {},
   "source": [
    "\n",
    "![Grama verb class diagram](./images/verb-classes.png)\n"
   ]
  },
  {
   "cell_type": "markdown",
   "id": "4a60b54d",
   "metadata": {},
   "source": [
    "## Verb Classes\n",
    "\n",
    "Functions in grama are best thought of as \"verbs\": functions that perform a specified action. The verb classes map between data and models. Every grama verb starts with a two-letter prefix, which gives us a hint as to how the verbs should be used. We've already seen a variety of transformation `tf_*` verbs for working with data. There are four primary verb classes, with an additional class for plotting.\n",
    "\n",
    "| Class | Prefix | In | Out |\n",
    "|-------|--------|----|-----|\n",
    "| Transform | `tf_*` | `df` | `df` |\n",
    "| Composition | `cp_*` | `md` | `md` |\n",
    "| Fitting | `ft_*` | `df` | `md` |\n",
    "| Evaluation | `ev_*` | `md` | `df` |\n",
    "| Plotting | `pt_*` | `df` | (Plot) |\n"
   ]
  },
  {
   "cell_type": "markdown",
   "id": "8f0cfdb8",
   "metadata": {},
   "source": [
    "# Working with (Grama) models\n",
    "\n",
    "Grama is best-explained by way of a simple example. The following code initializes a grama model for a [cantilever beam](https://en.wikipedia.org/wiki/Cantilever). There is a large amount of mathematical theory about cantilever beams, but we will ignore most of that theory for the moment.\n"
   ]
  },
  {
   "cell_type": "code",
   "execution_count": 2,
   "id": "1f800ffa",
   "metadata": {
    "collapsed": false
   },
   "outputs": [],
   "source": [
    "from grama.models import make_cantilever_beam\n",
    "md_beam = make_cantilever_beam()"
   ]
  },
  {
   "cell_type": "markdown",
   "id": "91b3d5e0",
   "metadata": {},
   "source": [
    "## Model summary\n",
    "\n",
    "Grama models contain a large amount of mathematical structure. Evaluation `ev_*` verbs help us make use of that structure to generate data that we can mine for insights. However, before we can start evaluating a model, we need to know some basic facts about it. To that end, let's take a look at a *summary* of the example beam model.\n"
   ]
  },
  {
   "cell_type": "markdown",
   "id": "306fea62",
   "metadata": {},
   "source": [
    "### __q1__ Inspect a model summary\n",
    "\n",
    "Printing the model gives a high-level summary of the model. Run the code below, and answer the questions under *observations* below.\n"
   ]
  },
  {
   "cell_type": "code",
   "execution_count": 3,
   "id": "de7f90b6",
   "metadata": {
    "collapsed": false
   },
   "outputs": [
    {
     "data": {
      "text/plain": [
       "model: Cantilever Beam\n",
       "\n",
       "  inputs:\n",
       "    var_det:\n",
       "      t: [2, 4]\n",
       "      w: [2, 4]\n",
       "\n",
       "    var_rand:\n",
       "      H: (+1) norm, {'loc': 500.0, 'scale': 100.0}\n",
       "      V: (+1) norm, {'loc': 1000.0, 'scale': 100.0}\n",
       "      E: (+0) norm, {'loc': 29000000.0, 'scale': 1450000.0}\n",
       "      Y: (-1) norm, {'loc': 40000.0, 'scale': 2000.0}\n",
       "\n",
       "    copula:\n",
       "      Independence copula\n",
       "\n",
       "  functions:\n",
       "      cross-sectional area: ['w', 't'] -> ['c_area']\n",
       "      limit state: stress: ['w', 't', 'H', 'V', 'E', 'Y'] -> ['g_stress']\n",
       "      limit state: displacement: ['w', 't', 'H', 'V', 'E', 'Y'] -> ['g_disp']"
      ]
     },
     "execution_count": 3,
     "metadata": {},
     "output_type": "execute_result"
    }
   ],
   "source": [
    "# TASK: No need to edit; run and inspect\n",
    "md_beam"
   ]
  },
  {
   "cell_type": "markdown",
   "id": "a8326c9b",
   "metadata": {},
   "source": [
    "*Observations*\n",
    "\n",
    "- What variables `var` does the model have?\n",
    "  - t, w, H, V, E, Y\n",
    "- Which variables are deterministic `det`?\n",
    "  - t, w\n",
    "- Which variables are random `rand`?\n",
    "  - H, V, E, Y\n",
    "- What functions does the model have?\n",
    "  - cross-sectional area, limit state: stress, limit state: displacement\n",
    "- What outputs do those functions provide?\n",
    "  - c_area, g_stress, g_disp\n",
    "<!-- solution-end -->"
   ]
  },
  {
   "cell_type": "markdown",
   "id": "ef1e7e35",
   "metadata": {},
   "source": [
    "## Importance of context\n",
    "\n",
    "Models are much more than *just* mathematical statements; they are used in a particular context. Grama has no way to store the infinite complexities of context in something as rigid as computer code. Thus, when interpreting the results from a model, it is important for the analyst to keep track of this context.\n",
    "\n",
    "One basic way to record context is to tabulate facts about the inputs and outputs of a model. While this is a small *subset* of the full model context, it is an important subset.\n",
    "\n",
    "| Symb. | I/O | Meaning | Units | Meaning |\n",
    "|-------|-----|---------|-------|---------|\n",
    "| `t`   | Input | Beam cross-section height | in | A taller beam resists more vertical load |\n",
    "| `w`   | Input | Beam cross-section width  | in | A wider beam resists more horizontal load |\n",
    "| `H`   | Input | Tip horizontal force      | lbf | A greater forces leads to higher stress and displacement |\n",
    "| `V`   | Input | Tip vertical force        | lbf | A greater forces leads to higher stress and displacement |\n",
    "| `E`   | Input | Elasticity                | psi | A stiffer beam (greater `E`) better resists displacement |\n",
    "| `Y`   | Input | Yield strength            | psi | A higher strength better resists stress |\n",
    "|-------|------|---------------------------|-----|------------------------------------------|\n",
    "| `c_area` | Output | Beam cross-section area | in^2 | A larger beam weights more |\n",
    "| `g_stress` | Output | Maximum stress failure criterion | (-) | Stress failure can lead to structure collapse |\n",
    "| `g_disp` | Output | Tip displacement failure criterion | in | Excessive deformation leads to misalignment |\n",
    "\n",
    "It is also important to note that the failure criteria are formulated such that `g > 0` corresponds to success, and `g <= 0` corresponds to failure.\n",
    "\n",
    "With this bit of context, we can make more sense of results from the model.\n"
   ]
  },
  {
   "cell_type": "markdown",
   "id": "58f91759",
   "metadata": {},
   "source": [
    "## Generate data from a model\n",
    "\n",
    "The philosophy behind grama is to generate data from a model and study that data to gain insights about the model. We'll practice this data generation in the next few tasks. First, let's print the model summary again to help with the next task:\n"
   ]
  },
  {
   "cell_type": "code",
   "execution_count": 4,
   "id": "7bf9de43",
   "metadata": {
    "collapsed": false
   },
   "outputs": [
    {
     "data": {
      "text/plain": [
       "model: Cantilever Beam\n",
       "\n",
       "  inputs:\n",
       "    var_det:\n",
       "      t: [2, 4]\n",
       "      w: [2, 4]\n",
       "\n",
       "    var_rand:\n",
       "      H: (+1) norm, {'loc': 500.0, 'scale': 100.0}\n",
       "      V: (+1) norm, {'loc': 1000.0, 'scale': 100.0}\n",
       "      E: (+0) norm, {'loc': 29000000.0, 'scale': 1450000.0}\n",
       "      Y: (-1) norm, {'loc': 40000.0, 'scale': 2000.0}\n",
       "\n",
       "    copula:\n",
       "      Independence copula\n",
       "\n",
       "  functions:\n",
       "      cross-sectional area: ['w', 't'] -> ['c_area']\n",
       "      limit state: stress: ['w', 't', 'H', 'V', 'E', 'Y'] -> ['g_stress']\n",
       "      limit state: displacement: ['w', 't', 'H', 'V', 'E', 'Y'] -> ['g_disp']"
      ]
     },
     "execution_count": 4,
     "metadata": {},
     "output_type": "execute_result"
    }
   ],
   "source": [
    "# NOTE: No need to edit; us this for reference for the next task\n",
    "md_beam"
   ]
  },
  {
   "cell_type": "markdown",
   "id": "3dd911e9",
   "metadata": {},
   "source": [
    "### __q2__ DataFrame evaluation\n",
    "\n",
    "The following code attempts to evaluate the model at specified input values. However, the code has errors. Fix the code below by specifying values for the missing inputs.\n"
   ]
  },
  {
   "cell_type": "code",
   "execution_count": 5,
   "id": "e3ccecab",
   "metadata": {
    "collapsed": false
   },
   "outputs": [
    {
     "data": {
      "text/html": [
       "<div>\n",
       "<style scoped>\n",
       "    .dataframe tbody tr th:only-of-type {\n",
       "        vertical-align: middle;\n",
       "    }\n",
       "\n",
       "    .dataframe tbody tr th {\n",
       "        vertical-align: top;\n",
       "    }\n",
       "\n",
       "    .dataframe thead th {\n",
       "        text-align: right;\n",
       "    }\n",
       "</style>\n",
       "<table border=\"1\" class=\"dataframe\">\n",
       "  <thead>\n",
       "    <tr style=\"text-align: right;\">\n",
       "      <th></th>\n",
       "      <th>Y</th>\n",
       "      <th>V</th>\n",
       "      <th>E</th>\n",
       "      <th>H</th>\n",
       "      <th>w</th>\n",
       "      <th>t</th>\n",
       "      <th>g_disp</th>\n",
       "      <th>c_area</th>\n",
       "      <th>g_stress</th>\n",
       "    </tr>\n",
       "  </thead>\n",
       "  <tbody>\n",
       "    <tr>\n",
       "      <th>0</th>\n",
       "      <td>40000.0</td>\n",
       "      <td>1000.0</td>\n",
       "      <td>290000000.0</td>\n",
       "      <td>500.0</td>\n",
       "      <td>3.0</td>\n",
       "      <td>3.0</td>\n",
       "      <td>2.063115</td>\n",
       "      <td>9.0</td>\n",
       "      <td>0.166667</td>\n",
       "    </tr>\n",
       "  </tbody>\n",
       "</table>\n",
       "</div>"
      ],
      "text/plain": [
       "         Y       V            E      H    w    t    g_disp  c_area  g_stress\n",
       "0  40000.0  1000.0  290000000.0  500.0  3.0  3.0  2.063115     9.0  0.166667"
      ]
     },
     "execution_count": 5,
     "metadata": {},
     "output_type": "execute_result"
    }
   ],
   "source": [
    "# TASK: Add values for the missing variables\n",
    "(\n",
    "    md_beam\n",
    "    >> gr.ev_df(\n",
    "        df=gr.df_make(\n",
    "            Y=4e4,\n",
    "            V=1e3,\n",
    "            E=29e7,\n",
    "            H=5e2,\n",
    "\n",
    "            w=3.0,\n",
    "            t=3.0,\n",
    "        )\n",
    "    )\n",
    ")"
   ]
  },
  {
   "cell_type": "markdown",
   "id": "bf5d54de",
   "metadata": {},
   "source": [
    "The verb `gr.ev_df()` is a very basic evaluation where we have to specify values for every input. However, there are other evaluation verbs that make intelligent choices for us.\n"
   ]
  },
  {
   "cell_type": "markdown",
   "id": "3cdbb8ae",
   "metadata": {},
   "source": [
    "### __q3__ Sinew evaluation\n",
    "\n",
    "Use the verb `gr.ev_sinews()` to generate \"sweep\" data from the beam model at **nominal** levels for the deterministic inputs. You will need to specify one short keyword argument to complete this task.\n",
    "\n",
    "*Hint*: Remember that you can put your cursor inside a function's arguments in a code cell and press `Shift + Tab` to bring up the documentation. Use this to determine how to set nominal levels for the deterministic variables.\n"
   ]
  },
  {
   "cell_type": "code",
   "execution_count": 6,
   "id": "b580ed15",
   "metadata": {
    "collapsed": false
   },
   "outputs": [
    {
     "data": {
      "text/html": [
       "<div>\n",
       "<style scoped>\n",
       "    .dataframe tbody tr th:only-of-type {\n",
       "        vertical-align: middle;\n",
       "    }\n",
       "\n",
       "    .dataframe tbody tr th {\n",
       "        vertical-align: top;\n",
       "    }\n",
       "\n",
       "    .dataframe thead th {\n",
       "        text-align: right;\n",
       "    }\n",
       "</style>\n",
       "<table border=\"1\" class=\"dataframe\">\n",
       "  <thead>\n",
       "    <tr style=\"text-align: right;\">\n",
       "      <th></th>\n",
       "      <th>Y</th>\n",
       "      <th>H</th>\n",
       "      <th>E</th>\n",
       "      <th>V</th>\n",
       "      <th>sweep_var</th>\n",
       "      <th>sweep_ind</th>\n",
       "      <th>t</th>\n",
       "      <th>w</th>\n",
       "      <th>g_disp</th>\n",
       "      <th>c_area</th>\n",
       "      <th>g_stress</th>\n",
       "    </tr>\n",
       "  </thead>\n",
       "  <tbody>\n",
       "    <tr>\n",
       "      <th>0</th>\n",
       "      <td>38991.356136</td>\n",
       "      <td>267.365213</td>\n",
       "      <td>2.826352e+07</td>\n",
       "      <td>1030.057000</td>\n",
       "      <td>H</td>\n",
       "      <td>0</td>\n",
       "      <td>3.0</td>\n",
       "      <td>3.0</td>\n",
       "      <td>0.394120</td>\n",
       "      <td>9.0</td>\n",
       "      <td>0.253994</td>\n",
       "    </tr>\n",
       "    <tr>\n",
       "      <th>1</th>\n",
       "      <td>38991.356136</td>\n",
       "      <td>377.935965</td>\n",
       "      <td>2.826352e+07</td>\n",
       "      <td>1030.057000</td>\n",
       "      <td>H</td>\n",
       "      <td>0</td>\n",
       "      <td>3.0</td>\n",
       "      <td>3.0</td>\n",
       "      <td>0.336441</td>\n",
       "      <td>9.0</td>\n",
       "      <td>0.192566</td>\n",
       "    </tr>\n",
       "    <tr>\n",
       "      <th>2</th>\n",
       "      <td>38991.356136</td>\n",
       "      <td>423.529033</td>\n",
       "      <td>2.826352e+07</td>\n",
       "      <td>1030.057000</td>\n",
       "      <td>H</td>\n",
       "      <td>0</td>\n",
       "      <td>3.0</td>\n",
       "      <td>3.0</td>\n",
       "      <td>0.307564</td>\n",
       "      <td>9.0</td>\n",
       "      <td>0.167236</td>\n",
       "    </tr>\n",
       "    <tr>\n",
       "      <th>3</th>\n",
       "      <td>38991.356136</td>\n",
       "      <td>456.927270</td>\n",
       "      <td>2.826352e+07</td>\n",
       "      <td>1030.057000</td>\n",
       "      <td>H</td>\n",
       "      <td>0</td>\n",
       "      <td>3.0</td>\n",
       "      <td>3.0</td>\n",
       "      <td>0.284633</td>\n",
       "      <td>9.0</td>\n",
       "      <td>0.148682</td>\n",
       "    </tr>\n",
       "    <tr>\n",
       "      <th>4</th>\n",
       "      <td>38991.356136</td>\n",
       "      <td>486.028970</td>\n",
       "      <td>2.826352e+07</td>\n",
       "      <td>1030.057000</td>\n",
       "      <td>H</td>\n",
       "      <td>0</td>\n",
       "      <td>3.0</td>\n",
       "      <td>3.0</td>\n",
       "      <td>0.263472</td>\n",
       "      <td>9.0</td>\n",
       "      <td>0.132514</td>\n",
       "    </tr>\n",
       "    <tr>\n",
       "      <th>...</th>\n",
       "      <td>...</td>\n",
       "      <td>...</td>\n",
       "      <td>...</td>\n",
       "      <td>...</td>\n",
       "      <td>...</td>\n",
       "      <td>...</td>\n",
       "      <td>...</td>\n",
       "      <td>...</td>\n",
       "      <td>...</td>\n",
       "      <td>...</td>\n",
       "      <td>...</td>\n",
       "    </tr>\n",
       "    <tr>\n",
       "      <th>115</th>\n",
       "      <td>40279.420598</td>\n",
       "      <td>496.167260</td>\n",
       "      <td>2.970458e+07</td>\n",
       "      <td>1080.597377</td>\n",
       "      <td>Y</td>\n",
       "      <td>2</td>\n",
       "      <td>3.0</td>\n",
       "      <td>3.0</td>\n",
       "      <td>0.276727</td>\n",
       "      <td>9.0</td>\n",
       "      <td>0.131005</td>\n",
       "    </tr>\n",
       "    <tr>\n",
       "      <th>116</th>\n",
       "      <td>40861.454599</td>\n",
       "      <td>496.167260</td>\n",
       "      <td>2.970458e+07</td>\n",
       "      <td>1080.597377</td>\n",
       "      <td>Y</td>\n",
       "      <td>2</td>\n",
       "      <td>3.0</td>\n",
       "      <td>3.0</td>\n",
       "      <td>0.276727</td>\n",
       "      <td>9.0</td>\n",
       "      <td>0.145556</td>\n",
       "    </tr>\n",
       "    <tr>\n",
       "      <th>117</th>\n",
       "      <td>41529.419348</td>\n",
       "      <td>496.167260</td>\n",
       "      <td>2.970458e+07</td>\n",
       "      <td>1080.597377</td>\n",
       "      <td>Y</td>\n",
       "      <td>2</td>\n",
       "      <td>3.0</td>\n",
       "      <td>3.0</td>\n",
       "      <td>0.276727</td>\n",
       "      <td>9.0</td>\n",
       "      <td>0.162255</td>\n",
       "    </tr>\n",
       "    <tr>\n",
       "      <th>118</th>\n",
       "      <td>42441.280698</td>\n",
       "      <td>496.167260</td>\n",
       "      <td>2.970458e+07</td>\n",
       "      <td>1080.597377</td>\n",
       "      <td>Y</td>\n",
       "      <td>2</td>\n",
       "      <td>3.0</td>\n",
       "      <td>3.0</td>\n",
       "      <td>0.276727</td>\n",
       "      <td>9.0</td>\n",
       "      <td>0.185052</td>\n",
       "    </tr>\n",
       "    <tr>\n",
       "      <th>119</th>\n",
       "      <td>44652.695748</td>\n",
       "      <td>496.167260</td>\n",
       "      <td>2.970458e+07</td>\n",
       "      <td>1080.597377</td>\n",
       "      <td>Y</td>\n",
       "      <td>2</td>\n",
       "      <td>3.0</td>\n",
       "      <td>3.0</td>\n",
       "      <td>0.276727</td>\n",
       "      <td>9.0</td>\n",
       "      <td>0.240337</td>\n",
       "    </tr>\n",
       "  </tbody>\n",
       "</table>\n",
       "<p>120 rows × 11 columns</p>\n",
       "</div>"
      ],
      "text/plain": [
       "                Y           H             E            V sweep_var  sweep_ind  \\\n",
       "0    38991.356136  267.365213  2.826352e+07  1030.057000         H          0   \n",
       "1    38991.356136  377.935965  2.826352e+07  1030.057000         H          0   \n",
       "2    38991.356136  423.529033  2.826352e+07  1030.057000         H          0   \n",
       "3    38991.356136  456.927270  2.826352e+07  1030.057000         H          0   \n",
       "4    38991.356136  486.028970  2.826352e+07  1030.057000         H          0   \n",
       "..            ...         ...           ...          ...       ...        ...   \n",
       "115  40279.420598  496.167260  2.970458e+07  1080.597377         Y          2   \n",
       "116  40861.454599  496.167260  2.970458e+07  1080.597377         Y          2   \n",
       "117  41529.419348  496.167260  2.970458e+07  1080.597377         Y          2   \n",
       "118  42441.280698  496.167260  2.970458e+07  1080.597377         Y          2   \n",
       "119  44652.695748  496.167260  2.970458e+07  1080.597377         Y          2   \n",
       "\n",
       "       t    w    g_disp  c_area  g_stress  \n",
       "0    3.0  3.0  0.394120     9.0  0.253994  \n",
       "1    3.0  3.0  0.336441     9.0  0.192566  \n",
       "2    3.0  3.0  0.307564     9.0  0.167236  \n",
       "3    3.0  3.0  0.284633     9.0  0.148682  \n",
       "4    3.0  3.0  0.263472     9.0  0.132514  \n",
       "..   ...  ...       ...     ...       ...  \n",
       "115  3.0  3.0  0.276727     9.0  0.131005  \n",
       "116  3.0  3.0  0.276727     9.0  0.145556  \n",
       "117  3.0  3.0  0.276727     9.0  0.162255  \n",
       "118  3.0  3.0  0.276727     9.0  0.185052  \n",
       "119  3.0  3.0  0.276727     9.0  0.240337  \n",
       "\n",
       "[120 rows x 11 columns]"
      ]
     },
     "execution_count": 6,
     "metadata": {},
     "output_type": "execute_result"
    }
   ],
   "source": [
    "# TASK: Successfully call gr.ev_sinews() with nominal levels for the deterministic variables\n",
    "(\n",
    "    md_beam\n",
    "    >> gr.ev_sinews(df_det=\"nom\")\n",
    ")"
   ]
  },
  {
   "cell_type": "markdown",
   "id": "fb7d4dc4",
   "metadata": {},
   "source": [
    "A \"sinew\" evaluation sweeps across input variables while holding the other variables constant. This process is repeated for multiple starting points and for each input variable. We can get a sense for the input values that `gr.ev_sinews()` selects by visualizing part of the input space. The following shows a scatterplot for two of the variables:\n"
   ]
  },
  {
   "cell_type": "code",
   "execution_count": 7,
   "id": "7e58e2c3",
   "metadata": {
    "collapsed": false
   },
   "outputs": [
    {
     "data": {
      "image/png": "[encoded data removed]",
      "text/plain": [
       "<Figure size 640x480 with 1 Axes>"
      ]
     },
     "metadata": {},
     "output_type": "display_data"
    },
    {
     "data": {
      "text/plain": [
       "<ggplot: (8739965030943)>"
      ]
     },
     "execution_count": 7,
     "metadata": {},
     "output_type": "execute_result"
    }
   ],
   "source": [
    "# NOTE: No need to edit; run and inspect\n",
    "(\n",
    "    md_beam\n",
    "    >> gr.ev_sinews(df_det=\"nom\")\n",
    "    \n",
    "    >> gr.ggplot(gr.aes(\"V\", \"H\", color=\"factor(sweep_ind)\"))\n",
    "    + gr.geom_point()\n",
    ")"
   ]
  },
  {
   "cell_type": "markdown",
   "id": "4192c05e",
   "metadata": {},
   "source": [
    "Note that for each sweep (identified by `sweep_ind`) we see a \"cross\" emanating from a single point outwards, parallel to both coordinate axes. This process is repeated for every input variable in order to generate the data.\n"
   ]
  },
  {
   "cell_type": "markdown",
   "id": "a21002a6",
   "metadata": {},
   "source": [
    "## Visualize data from a model\n",
    "\n",
    "Generating data is only part of working with a model; we must also *study* the data to make sense of it. One of the best ways to study data is to visualize it. We can make manual plots with `ggplot()`, but grama provides a much quicker way: Many evaluation verbs work with the special verb `gr.pt_auto()` to generate a sensible default visualization.\n"
   ]
  },
  {
   "cell_type": "markdown",
   "id": "9ad74931",
   "metadata": {},
   "source": [
    "### __q4__ Visualize sinew evaluation data\n",
    "\n",
    "Use the `gr.pt_auto()` routine to visualize the outputs from the sinew evaluation. Answer the questions under *observations* below.\n"
   ]
  },
  {
   "cell_type": "code",
   "execution_count": 8,
   "id": "3bbbb9e9",
   "metadata": {
    "collapsed": false
   },
   "outputs": [
    {
     "name": "stdout",
     "output_type": "stream",
     "text": [
      "Calling plot_sinew_outputs....\n"
     ]
    },
    {
     "data": {
      "image/png": "[encoded data removed]",
      "text/plain": [
       "<Figure size 640x480 with 12 Axes>"
      ]
     },
     "metadata": {
      "needs_background": "light"
     },
     "output_type": "display_data"
    },
    {
     "data": {
      "text/plain": [
       "<ggplot: (8739964777689)>"
      ]
     },
     "execution_count": 8,
     "metadata": {},
     "output_type": "execute_result"
    }
   ],
   "source": [
    "# TASK: Use gr.pt_auto() to visualize the sinew data\n",
    "(\n",
    "    md_beam\n",
    "    >> gr.ev_sinews(df_det=\"nom\")\n",
    "    >> gr.pt_auto()\n",
    ")"
   ]
  },
  {
   "cell_type": "markdown",
   "id": "c7c817af",
   "metadata": {},
   "source": [
    "*Observations*\n",
    "\n",
    "- Do any inputs affect the output `c_area`? What about `w` or `t`? How do you know? (Or *not* know?)\n",
    "  - None of the inputs visualized have any effect on `c_area`. The inputs `w` and `t` have an effect on `c_area`, but we can't tell based on this plot. I know this because `c_area = w * t` is the cross-sectional area of the beam.\n",
    "- Does the input `Y` affect the output `g_disp`? How do you know?\n",
    "  - The input `Y` has no effect on `g_disp`; it has zero slope.\n",
    "- Does the input `E` increase or decrease `g_disp`?\n",
    "  - The input `E` tends to increase `g_disp`.\n",
    "<!-- solution-end -->"
   ]
  },
  {
   "cell_type": "markdown",
   "id": "b79103e3",
   "metadata": {},
   "source": [
    "# Where this course is going\n",
    "\n",
    "This was just a *brief* introduction to how grama works and what it can do. The rest of this course is about learning tools to make full use of the grama toolkit. The exercises in this course are organized into four different categories (`grama`, `data`, `vis`, and `stat`) that represent four broad areas of working with grama:\n"
   ]
  },
  {
   "cell_type": "markdown",
   "id": "84bf59d8",
   "metadata": {},
   "source": [
    "## Build, evaluate, and understand a model with grama (`grama`)\n",
    "\n",
    "We will learn tools to build and sanity-check models using grama. This will involve more evaluation and visualization tools to make sense of models, but also probabilistic tools to build models that encode our uncertainties about a scenario.\n"
   ]
  },
  {
   "cell_type": "markdown",
   "id": "81cd41ab",
   "metadata": {},
   "source": [
    "## Wrangle data (`data`)\n",
    "\n",
    "To manage the data outputs from grama models, we will learn a variety of general-purpose wrangling tools. These will help us work with grama models, but the same tools are useful for **any** dataset.\n"
   ]
  },
  {
   "cell_type": "markdown",
   "id": "9b1ce4ee",
   "metadata": {},
   "source": [
    "## Visualize data to gain insights (`vis`)\n",
    "\n",
    "To make sense of data, we will learn a variety of visualization techniques. These will help us gain insights into grama models, but the same techniques are useful for **any** dataset.\n"
   ]
  },
  {
   "cell_type": "markdown",
   "id": "601a7c64",
   "metadata": {},
   "source": [
    "## Use statistics to quantify uncertainty (`stat`)\n",
    "\n",
    "Datasets are always limited and models inherently include uncertainties. Statistics will allow us to *quantify* these uncertainties and make informed decisions using data and models.\n"
   ]
  }
 ],
 "metadata": {
  "kernelspec": {
   "display_name": "Python 3 (ipykernel)",
   "language": "python",
   "name": "python3"
  },
  "language_info": {
   "codemirror_mode": {
    "name": "ipython",
    "version": 3
   },
   "file_extension": ".py",
   "mimetype": "text/x-python",
   "name": "python",
   "nbconvert_exporter": "python",
   "pygments_lexer": "ipython3",
   "version": "3.9.7"
  }
 },
 "nbformat": 4,
 "nbformat_minor": 5
}
