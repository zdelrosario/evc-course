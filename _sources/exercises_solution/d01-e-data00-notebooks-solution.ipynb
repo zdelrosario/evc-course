{
 "cells": [
  {
   "cell_type": "markdown",
   "id": "47379aa2",
   "metadata": {},
   "source": [
    "# Introduction to Jupyter Notebooks\n",
    "\n",
    "*Original Authors: Enze Chen, Malcolm Davidson, Zach del Rosario*\n",
    "\n",
    "*Purpose*: We're going to use programming tools throughout this workshop. There are many benefits to using programming to do data science, but to reap these benefits you will need to know some basics about coding in Python, and working in Jupyter notebooks.\n"
   ]
  },
  {
   "cell_type": "markdown",
   "id": "722c52ec",
   "metadata": {},
   "source": [
    "## Highest-level View\n",
    "Throughout this day of the workshop, we will be writing computer software. Before diving into the details, it is beneficial to understand what tools we'll be using, and why.\n",
    "\n",
    "### Python\n",
    "Python is a [*programming language*](https://www.python.org), and an extremely popular one at that. Python is praised for its readability, is consistently ranked as a top programming language, and is used by both top [software companies](https://en.wikipedia.org/wiki/Python_(programming_language)#Uses) and scientists doing computation. All of this is to say that knowing how to write Python code is a valuable skill.\n",
    "\n",
    "### Jupyter\n",
    "Jupyter is a [*programming environment*](https://jupyter.org), often used for writing and sharing Python code. Just as one could choose to write English on stone tablets or on paper, one could choose to write Python code in simple files or in *jupyter notebooks*. These notebooks are useful for a number of reasons:\n",
    "\n",
    "1. Multimedia: This document you're reading now is a jupyter notebook -- it is a combination of (executable) Python code and (formatted) plain text. By allowing the juxtaposition of different media (code and natural language, to name a couple options), one can provide human-readable context next to executable software.\n",
    "\n",
    "2. Saves state: Jupyter notebooks *save state*, allowing you to run some code, save the results, close the document and come back to it later. This is certainly possible in other coding environments, but jupyter has built-in facilities to make this easy.\n",
    "\n",
    "3. Reproducible: [Reproducibility](https://en.wikipedia.org/wiki/Reproducibility) is a critical issue in science -- results cannot be considered scientifically valid unless they can be reproduced under similar conditions. The same principles apply to computational experiments; all too often software is written under time pressure, resulting in scattered documentation and analysis. Consolidating documentation and analysis within a single notebook facilitates scientific reproducibility.\n",
    "\n",
    "Jupyter notebooks are not *always* the best media for writing code; for instance, python *packages* are not written in jupyter notebooks. However, for our purposes, jupyter is a good solution."
   ]
  },
  {
   "cell_type": "markdown",
   "id": "d014fe51",
   "metadata": {},
   "source": [
    "---\n",
    "\n",
    "## How to use this Notebook\n",
    "This jupyter notebook is an *interactive exercise* -- it contains some reading, but the focus is on fill-in-the-blank sections that are meant to test your understanding and spark further learning. Pedagogy research shows that so-called *active learning* -- learning by doing -- is far more effective than lecture alone. Thus, you will get the most out of this workshop if you do the work! Try -- to the best of your ability -- to complete the exercises in these notebooks, and please feel free to ask the instructors questions if you get stuck. (It's what we're here for.)\n",
    "\n",
    "```{admonition} Run this notebook locally!\n",
    ":class: warning\n",
    "If you're reading this on the workshop website---and *not* in your local jupyter reader---then it is *necessary* that you download this notebook locally and open it in jupyter. Look for the download bar in the top-right of this page, as pictured below.\n",
    "\n",
    "![The download button is in the top-right of the page](./images/intro-download-button.png)\n",
    "```"
   ]
  },
  {
   "cell_type": "markdown",
   "id": "c80c6c7f",
   "metadata": {},
   "source": [
    "Exercise portions of the notebook will be marked with a \"q\" subheading, like the following:\n",
    "\n",
    "### __q0__: An example question\n",
    "\n",
    "Here's an example of an exercise prompt. Follow the directions here to start the exercise."
   ]
  },
  {
   "cell_type": "markdown",
   "id": "345e9a7b",
   "metadata": {},
   "source": [
    "# Jupyter Introduction"
   ]
  },
  {
   "cell_type": "markdown",
   "id": "08797f80",
   "metadata": {},
   "source": [
    "## Cells \n",
    "\n",
    "A Jupyter notebook is organized as a sequence of different **cells**. Cells contain chunks of information and allow you to switch between text and code.\n",
    "\n",
    "**Current cell**: The currently-selected cell will have a color bar appear on the far left. Use your cursor or arrow keys to select different cells.\n",
    "\n",
    "**Create new cell**: To create a new cell, click the \"**+**\" icon at the top. This will create a cell below the currently selected cell.\n",
    "\n",
    "**Delete a cell**: To delete the currently-selected cell, click the \"**scissors**\" icon at the top."
   ]
  },
  {
   "cell_type": "markdown",
   "id": "27504e11",
   "metadata": {},
   "source": [
    "### __q1__ Create a new cell\n",
    "\n",
    "**Create a new cell below this one.** Note that it has a different background color! This is because cells have different *types*."
   ]
  },
  {
   "cell_type": "markdown",
   "id": "48b039d7",
   "metadata": {},
   "source": [
    "### Types of cells\n",
    "There are two types of cells we will discuss here: `Markdown` and `Code`. A single cell can only have 1 type.\n",
    "\n",
    "**Markdown**: These are text cells that use the [Markdown language](https://en.wikipedia.org/wiki/Markdown) for formatting. You can put instructions, headings, links, images, and much more; even $\\LaTeX$ ([a language for typesetting mathematics](https://www.latex-project.org)). Here is a [cheatsheet](https://github.com/adam-p/markdown-here/wiki/Markdown-Cheatsheet) for Markdown syntax.\n",
    "\n",
    "**Code**: These are cells where you can type Python code, just as you would in a `.py` file. They will have a label `In [ ]:` to their left, or just `[]` if you are using \"jupyter lab\".\n",
    "\n",
    "To switch the type of cell, you can use the dropdown menu at the top of the top of the page. (Note: While you have this cell selected, the dropdown menu should read `Markdown`.)"
   ]
  },
  {
   "cell_type": "markdown",
   "id": "9a3a4edb",
   "metadata": {},
   "source": [
    "### Edit and format / execute cells\n",
    "\n",
    "To edit a Markdown cell, **triple-click** within the cell if you currently see a blue bar. Then type and edit as normal.\n",
    "\n",
    "To format (\"execute\") a Markdown cell, press **Ctrl+Enter** when in \"edit\" mode. The cursor will disappear. Your formatting will also take effect.\n",
    "\n",
    "---\n",
    "To edit a Code cell, click within the cell. Then type and edit as normal.\n",
    "\n",
    "To execute a Code cell, press **Ctrl+Enter** while it is selected. The cursor will disappear.\n",
    "\n",
    "*Cells can also be executed using the Run symbol (play button) at the top of the page.*"
   ]
  },
  {
   "cell_type": "markdown",
   "id": "6dcf0e68",
   "metadata": {},
   "source": [
    "### Code cells\n",
    "\n",
    "So far we've only seen Markdown cells. Let's see what we can do with Code cells! Try selecting the code cell below this one and executing it."
   ]
  },
  {
   "cell_type": "code",
   "execution_count": 1,
   "id": "ac36dadb",
   "metadata": {
    "collapsed": false
   },
   "outputs": [
    {
     "data": {
      "text/plain": [
       "42"
      ]
     },
     "execution_count": 1,
     "metadata": {},
     "output_type": "execute_result"
    }
   ],
   "source": [
    "# This is a python code cell\n",
    "6 * 7\n"
   ]
  },
  {
   "cell_type": "markdown",
   "id": "359615ac",
   "metadata": {},
   "source": [
    "Note that code cells are visually distinct from markdown cells -- they have a grey background and the `[-]:` prefix."
   ]
  },
  {
   "cell_type": "markdown",
   "id": "5ed590e3",
   "metadata": {},
   "source": [
    "# Python Introduction"
   ]
  },
  {
   "cell_type": "markdown",
   "id": "d1a5ef7a",
   "metadata": {},
   "source": [
    "## Simple operations\n",
    "\n",
    "We can use python like a calculator to carry out simple operations. Some of these include:\n",
    "\n",
    "- Simple math operators `(+, -, *, /)`\n",
    "- Other math operators; exponentiation `10 ** 2 == 100`; modulus `3 % 2 == 1`\n",
    "- Parentheses `(, )` for grouping operations\n",
    "- Python functions; console output `print(\"Hello\")`"
   ]
  },
  {
   "cell_type": "markdown",
   "id": "13cde744",
   "metadata": {},
   "source": [
    "### __q2__ Average some values\n",
    "\n",
    "Use basic python operations to average the following numbers: `[2, 4, 6, 8]`."
   ]
  },
  {
   "cell_type": "code",
   "execution_count": 2,
   "id": "eb08e9a6",
   "metadata": {
    "collapsed": false
   },
   "outputs": [
    {
     "data": {
      "text/plain": [
       "5.0"
      ]
     },
     "execution_count": 2,
     "metadata": {},
     "output_type": "execute_result"
    }
   ],
   "source": [
    "###\n",
    "# TASK: Average the numbers [2, 4, 6, 8]\n",
    "# TODO: Use basic python operations to compute the arithmetic mean\n",
    "###\n",
    "\n",
    "\n",
    "(2 + 4 + 6 + 8) / 4\n"
   ]
  },
  {
   "cell_type": "markdown",
   "id": "18dafd71",
   "metadata": {},
   "source": [
    "## Variables\n",
    "\n",
    "Jupyter notebooks will save variables across different cells. We can assign values with the `=` operator. Furthermore, typing just the variable on the last line of a code cell will typically display the variable's values/attributes."
   ]
  },
  {
   "cell_type": "code",
   "execution_count": 3,
   "id": "dc4119b2",
   "metadata": {
    "collapsed": false
   },
   "outputs": [],
   "source": [
    "a = 1\n",
    "b = 2\n",
    "c = a * b\n"
   ]
  },
  {
   "cell_type": "markdown",
   "id": "19de2f1e",
   "metadata": {},
   "source": [
    "### __q3__ Display a variable\n",
    "\n",
    "Display the value of `c` in the chunk below."
   ]
  },
  {
   "cell_type": "code",
   "execution_count": 4,
   "id": "9f7e4a8a",
   "metadata": {
    "collapsed": false
   },
   "outputs": [
    {
     "data": {
      "text/plain": [
       "2"
      ]
     },
     "execution_count": 4,
     "metadata": {},
     "output_type": "execute_result"
    }
   ],
   "source": [
    "###\n",
    "# TASK: Display a variable\n",
    "# TODO: Type the variable name below and execute\n",
    "###\n",
    "c\n"
   ]
  },
  {
   "cell_type": "markdown",
   "id": "2d5fa713",
   "metadata": {},
   "source": [
    "A couple things happened here. First, the variable was saved. Second, Jupyter notebooks will display the value of any lone variables in the last line of each Code cell. This is helpful for debugging.\n",
    "\n",
    "If you want to display multiple quantities from a single cell, you can always use a print statement `print(variable)`. For instance, we could write\n",
    "\n",
    "```\n",
    "print(a)\n",
    "print(b)\n",
    "print(c)\n",
    "```\n",
    "\n",
    "You can also see that Code cells with output will have an associated `Out [#]` right below. Notice what happens to the cell below when the code is running."
   ]
  },
  {
   "cell_type": "markdown",
   "id": "596a8fda",
   "metadata": {},
   "source": [
    "## Lists\n",
    "\n",
    "A *list* is a Python [data structure](https://en.wikipedia.org/wiki/Data_structure). We'll use lists (and other *iterable* data structures) quite a bit when doing data analysis -- generally we have many observations (elements) to consider.\n",
    "\n",
    "Lists (i.e. arrays) in Python are created with square brackets. The entries of a list are called *elements*."
   ]
  },
  {
   "cell_type": "code",
   "execution_count": 5,
   "id": "0c12516d",
   "metadata": {
    "collapsed": false
   },
   "outputs": [],
   "source": [
    "l = [1, 2, 3]\n"
   ]
  },
  {
   "cell_type": "markdown",
   "id": "9cc8068d",
   "metadata": {},
   "source": [
    "The `append()` method adds a single element to the end of the array. Note how we can add elements of different types to the same list (unlike Java or C++)."
   ]
  },
  {
   "cell_type": "code",
   "execution_count": 6,
   "id": "f2510459",
   "metadata": {
    "collapsed": false
   },
   "outputs": [
    {
     "data": {
      "text/plain": [
       "[1, 2, 3, 'a']"
      ]
     },
     "execution_count": 6,
     "metadata": {},
     "output_type": "execute_result"
    }
   ],
   "source": [
    "l = [1, 2, 3]\n",
    "l.append(\"a\")\n",
    "l\n"
   ]
  },
  {
   "cell_type": "markdown",
   "id": "78520dbf",
   "metadata": {},
   "source": [
    "Note that I *needed* to place `l` at the end of the cell to display the result. `append()` modified the list *in place* -- it makes the list longer.\n",
    "\n",
    "We can also *combine* lists with the `+` operator."
   ]
  },
  {
   "cell_type": "code",
   "execution_count": 7,
   "id": "f47fdc7e",
   "metadata": {
    "collapsed": false
   },
   "outputs": [
    {
     "data": {
      "text/plain": [
       "[1, 2, 3, 4, 5, 6]"
      ]
     },
     "execution_count": 7,
     "metadata": {},
     "output_type": "execute_result"
    }
   ],
   "source": [
    "[1, 2, 3] + [4, 5, 6]\n"
   ]
  },
  {
   "cell_type": "markdown",
   "id": "27919a5b",
   "metadata": {},
   "source": [
    "Note that I *did not need* to write an additional line to print the result. This is because the `+` operator *returns* a list as a result, which is printed by jupyter."
   ]
  },
  {
   "cell_type": "markdown",
   "id": "ec44c7cb",
   "metadata": {},
   "source": [
    "### __q4__ Working with lists\n",
    "\n",
    "Test your understanding of lists; make a prediction about what the following code will display:\n",
    "\n",
    "```\n",
    "list_a = [1, 2, 3]\n",
    "list_b = [4, 5, 6]\n",
    "print(list_a + list_b)\n",
    "print(list_a.append(list_b))\n",
    "```\n",
    "\n",
    "*After* you've made a prediction, **make a new cell and test your prediction**."
   ]
  },
  {
   "cell_type": "markdown",
   "id": "4c5e78f6",
   "metadata": {},
   "source": [
    "## Indexing and Slicing\n",
    "\n",
    "We can access specific elements of a list (and other *iterables*) by *indexing*. Python is uses zero-based indexing, meaning the first element of an iterable is `0`, the second is `1`, and so on.\n",
    "\n",
    "```\n",
    "Index    0    1    2    3    4\n",
    "List  [ \"a\", \"b\", \"c\", \"d\", \"e\" ]\n",
    "```\n",
    "\n",
    "For instance:"
   ]
  },
  {
   "cell_type": "code",
   "execution_count": 8,
   "id": "feda040f",
   "metadata": {
    "collapsed": false
   },
   "outputs": [
    {
     "name": "stdout",
     "output_type": "stream",
     "text": [
      "l[0] = a\n",
      "l[1] = b\n",
      "l[2] = c\n"
     ]
    }
   ],
   "source": [
    "l = [\"a\", \"b\", \"c\"]\n",
    "print(\"l[0] = {}\".format(l[0]))\n",
    "print(\"l[1] = {}\".format(l[1]))\n",
    "print(\"l[2] = {}\".format(l[2]))\n"
   ]
  },
  {
   "cell_type": "markdown",
   "id": "1e3256ac",
   "metadata": {},
   "source": [
    "We can also use *negative indices* to conveniently access from the \"right\"."
   ]
  },
  {
   "cell_type": "code",
   "execution_count": 9,
   "id": "4d91492f",
   "metadata": {
    "collapsed": false
   },
   "outputs": [
    {
     "name": "stdout",
     "output_type": "stream",
     "text": [
      "l[-1] = c\n",
      "l[-2] = b\n"
     ]
    }
   ],
   "source": [
    "print(\"l[-1] = {}\".format(l[-1]))\n",
    "print(\"l[-2] = {}\".format(l[-2]))\n"
   ]
  },
  {
   "cell_type": "markdown",
   "id": "17525b77",
   "metadata": {},
   "source": [
    "In Python, it's easy to take subsets of lists and strings (i.e. substrings) using **slicing**. Given a list (string) named `var`, we can take a subset of elements (characters) ranging from `low` to `high-1` with the syntax `var[low:high]`. It can be helpful to remember that the `high` value represents the first value that is not in the selected slice. Run the following code and observe what happens."
   ]
  },
  {
   "cell_type": "code",
   "execution_count": 10,
   "id": "451cc583",
   "metadata": {
    "collapsed": false
   },
   "outputs": [
    {
     "name": "stdout",
     "output_type": "stream",
     "text": [
      "The second element: 1\n",
      "The second and third elements: [1, 2]\n",
      "The second element onwards: [1, 2, 3, 4, 5]\n",
      "Everything before the second element: [0]\n",
      "Everything before the second TO LAST element: [0, 1, 2, 3]\n"
     ]
    }
   ],
   "source": [
    "var = [0, 1, 2, 3, 4, 5]\n",
    "# var = '012345'\n",
    "print('The second element:', var[1])\n",
    "print('The second and third elements:', var[1:3])\n",
    "print('The second element onwards:', var[1:])\n",
    "print('Everything before the second element:', var[:1])\n",
    "print('Everything before the second TO LAST element:', var[:-2])\n"
   ]
  },
  {
   "cell_type": "markdown",
   "id": "d6e52004",
   "metadata": {},
   "source": [
    "### __q5__ Take the middle\n",
    "\n",
    "Using your understanding of python indexing & slicing, select the *middle three elements* of the following list."
   ]
  },
  {
   "cell_type": "code",
   "execution_count": 11,
   "id": "9daf52a9",
   "metadata": {
    "collapsed": false
   },
   "outputs": [
    {
     "data": {
      "text/plain": [
       "[-1, 0, 1]"
      ]
     },
     "execution_count": 11,
     "metadata": {},
     "output_type": "execute_result"
    }
   ],
   "source": [
    "###\n",
    "# TASK: Take the middle values\n",
    "# TODO: Use python slicing to take the middle three values\n",
    "###\n",
    "test = [-2, -1, 0, +1, +2]\n",
    "\n",
    "# -- WRITE YOUR CODE BELOW -----\n",
    "test[1:-1]\n"
   ]
  },
  {
   "cell_type": "markdown",
   "id": "3c3df75f",
   "metadata": {},
   "source": [
    "## Modules\n",
    "\n",
    "By default, python provides a relatively small set of functionality. To carry out more specialized operations, we can *import module*. A module is a set of tools that help us carry out some tasks. For instance, the following module will help us control the execution of python code."
   ]
  },
  {
   "cell_type": "code",
   "execution_count": 12,
   "id": "f5f217b3",
   "metadata": {
    "collapsed": false
   },
   "outputs": [
    {
     "name": "stdout",
     "output_type": "stream",
     "text": [
      "Cell is finished running!\n"
     ]
    }
   ],
   "source": [
    "# Import a module first\n",
    "from time import sleep\n",
    "\n",
    "# Pause code execution for 5 seconds\n",
    "sleep(5)\n",
    "\n",
    "# Print some output to signal code has reached this point\n",
    "print('Cell is finished running!')\n"
   ]
  },
  {
   "cell_type": "markdown",
   "id": "b5ea8c39",
   "metadata": {},
   "source": [
    "In the first line of the above Code cell, we imported a function `sleep()` from a module. A function takes some number of inputs (possibly zero, like `sleep()`), and returns some number of outputs (possibly zero, like `sleep()`). The inputs to a function are called *arguments*, and are put inside the parentheses, if needed.\n",
    "\n",
    "Python modules, even when installed on your machine, must be explicitly imported before they can be used. Some modules, like `time`, are bundled with Python (we might call these \"standard modules\"), while others must be installed separately from an external source (\"third-party modules\") before importing.\n",
    "\n",
    "In later parts of the workshop, we will use some highly-specialized modules to carry out materials informatics tasks."
   ]
  },
  {
   "cell_type": "markdown",
   "id": "5ff0a16d",
   "metadata": {},
   "source": [
    "If we don't import a *specific* object from a module, then we need to explicitly reference the module in order to use its contents. For instance, we could write the above as the following."
   ]
  },
  {
   "cell_type": "code",
   "execution_count": 13,
   "id": "da02e530",
   "metadata": {
    "collapsed": false
   },
   "outputs": [
    {
     "name": "stdout",
     "output_type": "stream",
     "text": [
      "Cell is finished running!\n"
     ]
    }
   ],
   "source": [
    "import time\n",
    "time.sleep(5)\n",
    "print(\"Cell is finished running!\")\n"
   ]
  },
  {
   "cell_type": "markdown",
   "id": "ba37ca21",
   "metadata": {},
   "source": [
    "We'll see this a lot later when we start working with the `numpy` and `pandas` modules, where we tend to use *canonical* aliases:\n",
    "\n",
    "```\n",
    "import numpy as np\n",
    "import pandas as pd\n",
    "\n",
    "X = np.array([[1, 2, 3]])\n",
    "df = pd.DataFrame(\n",
    "    data = X,\n",
    "    columns = [\"X\"]\n",
    ")\n",
    "```"
   ]
  },
  {
   "cell_type": "markdown",
   "id": "347bcfa0",
   "metadata": {},
   "source": [
    "### __q6__ Do the math\n",
    "\n",
    "Import the functions `sin, cos` and the constant `pi` from the `math` module, and use them to complete the following code."
   ]
  },
  {
   "cell_type": "code",
   "execution_count": 14,
   "id": "85c97cfe",
   "metadata": {
    "collapsed": false
   },
   "outputs": [
    {
     "data": {
      "text/plain": [
       "1.0"
      ]
     },
     "execution_count": 14,
     "metadata": {},
     "output_type": "execute_result"
    }
   ],
   "source": [
    "###\n",
    "# TASK: Compute some trigonometric operations\n",
    "# TODO: Import sin, cos, pi from the math module\n",
    "# TODO: Convert degrees to radians\n",
    "# TODO: Use sin() and cos() to complete the code below\n",
    "###\n",
    "\n",
    "from math import sin, cos, pi\n",
    "angle_degrees = 15\n",
    "\n",
    "angle_radians = angle_degrees / 180 * pi\n",
    "my_sine = sin(angle_radians)\n",
    "my_cosine = cos(angle_radians)\n",
    "\n",
    "result = my_sine**2 + my_cosine**2\n",
    "# -- PRINT THE ANSWER ----\n",
    "result\n"
   ]
  },
  {
   "cell_type": "markdown",
   "id": "a0e17043",
   "metadata": {},
   "source": [
    "## Conditionals and logic\n",
    "\n",
    "Conditionals and logic allow us to adapt a program to the data.  Python conditional statements are `if`, `elif`, and `else`, and they follow a particular syntax:"
   ]
  },
  {
   "cell_type": "code",
   "execution_count": 15,
   "id": "371775eb",
   "metadata": {
    "collapsed": false
   },
   "outputs": [
    {
     "name": "stdout",
     "output_type": "stream",
     "text": [
      "True\n"
     ]
    }
   ],
   "source": [
    "if True:\n",
    "    print(\"True\")\n",
    "else:\n",
    "    print(\"Not printed....\")\n"
   ]
  },
  {
   "cell_type": "markdown",
   "id": "a8cd6177",
   "metadata": {},
   "source": [
    "Note that we **must** either indent or provide four spaces to all lines falling under a conditional.\n",
    "\n",
    "```\n",
    "if True:\n",
    "pass # This will throw an error!\n",
    "###\n",
    "if True:\n",
    "    print(\"This will work!\")\n",
    "```"
   ]
  },
  {
   "cell_type": "markdown",
   "id": "e1f135d8",
   "metadata": {},
   "source": [
    "The reason for this is because python uses *whitespace* in the same way C/C++ uses braces, or MATLAB uses `end` statements. Proponents of python argue that the structure of the language *enforces* readability.\n",
    "\n",
    "- An `if` statement will execute only if its argument evaluates to `True`; we can use this to select particular actions.\n",
    "- An `else` statement must follow an `if` or `elif` statement; it will evaluate if none of the other conditionals are triggered.\n",
    "- An `elif` statement is a python-specific construct, and must follow an `if` or another `elif` statement. An `elif` is like an `if`, but only evaluates if the preceding conditionals are not met.\n",
    "\n",
    "Comparisons for equality are similar to other programming languages (`<`, `<=`, `==`, `>=`, `>`).\n",
    "\n",
    "Logic can be done using *keywords* `not`, `and`, and `or`."
   ]
  },
  {
   "cell_type": "code",
   "execution_count": 16,
   "id": "7e10de93",
   "metadata": {
    "collapsed": false
   },
   "outputs": [
    {
     "name": "stdout",
     "output_type": "stream",
     "text": [
      "Zero.\n"
     ]
    }
   ],
   "source": [
    "# Uncomment and pick a number!\n",
    "# n = ???\n",
    "n = 0\n",
    "if n > 0:\n",
    "    print('Positive.')\n",
    "elif not n >= 0:\n",
    "    print('Negative.')\n",
    "else:\n",
    "    print('Zero.')\n"
   ]
  },
  {
   "cell_type": "markdown",
   "id": "ce16a57b",
   "metadata": {},
   "source": [
    "## Functions\n",
    "\n",
    "Functions are defined in Python using the `def` keyword. We specify the arguments by putting variable names in the parentheses `()`. We can specify a value to provide as output by using the `return` keyword, as demonstrated below:\n",
    "\n",
    "```python\n",
    "def fcn_example(x, y=1):\n",
    "    return x + y\n",
    "```\n",
    "\n",
    "Like with conditional statements, we must end a function definition line with a colon `:`, and start the following lines indented:\n",
    "\n",
    "```python\n",
    " # This will throw an error: Missing colon\n",
    "def fcn_wrong1(x)\n",
    "    return x + 3\n",
    " # This will throw an error: Missing indentation\n",
    "def fcn_wrong2(x):\n",
    "return x + 4\n",
    "```\n",
    "\n",
    "We can then \"call\" (or \"execute\") that function by typing the function name and including the function inputs in parentheses.\n",
    "\n",
    "```python\n",
    "fcn_example(1)\n",
    "fcn_example(1, y=2)\n",
    "```\n",
    "\n",
    "The inputs `x` and `y` are called *arguments*. Arguments without default values must be provided (such as `x`), while arguments with default values are called *keyword arguments* and do not need to be specified when calling the function (such as `y`). Providing a keyword argument (`fcn_example(1, y=2)`) allows us to override the default value.\n"
   ]
  },
  {
   "cell_type": "markdown",
   "id": "3ce2a1c7",
   "metadata": {},
   "source": [
    "### __q7__ Define a function\n",
    "\n",
    "Define a function named `fcn_q7` that takes a single input, adds `2`, and returns the result.\n"
   ]
  },
  {
   "cell_type": "code",
   "execution_count": 17,
   "id": "03ccb580",
   "metadata": {
    "collapsed": false
   },
   "outputs": [
    {
     "data": {
      "text/plain": [
       "'Correct value'"
      ]
     },
     "execution_count": 17,
     "metadata": {},
     "output_type": "execute_result"
    }
   ],
   "source": [
    "## TASK: Define a function `fcn_q7` that adds `2` to the input\n",
    "\n",
    "\n",
    "def fcn_q7(x):\n",
    "    return x + 2\n",
    "# No need to edit this; use this to check your work\n",
    "assert \\\n",
    "    fcn_q7(2) == 4, \\\n",
    "    \"Incorrect value\"\n",
    "\"Correct value\""
   ]
  },
  {
   "cell_type": "markdown",
   "id": "1d23690d",
   "metadata": {},
   "source": [
    "## Getting help\n",
    "\n",
    "If there is a python function that is mysterious to you, you can always consult the *documentation*. You can call the python built-in `help()` function on an object to display its documentation. The following documentation for `list` points to a number of functions that operate on lists that we did not cover; for instance, the `list.sort()` method is *extremely useful* for data science.\n"
   ]
  },
  {
   "cell_type": "code",
   "execution_count": 18,
   "id": "923e73cc",
   "metadata": {
    "collapsed": false
   },
   "outputs": [
    {
     "name": "stdout",
     "output_type": "stream",
     "text": [
      "Help on method_descriptor:\n",
      "\n",
      "sort(self, /, *, key=None, reverse=False)\n",
      "    Sort the list in ascending order and return None.\n",
      "    \n",
      "    The sort is in-place (i.e. the list itself is modified) and stable (i.e. the\n",
      "    order of two equal elements is maintained).\n",
      "    \n",
      "    If a key function is given, apply it once to each list item and sort them,\n",
      "    ascending or descending, according to their function values.\n",
      "    \n",
      "    The reverse flag can be set to sort in descending order.\n",
      "\n"
     ]
    }
   ],
   "source": [
    "help(list.sort)\n"
   ]
  },
  {
   "cell_type": "markdown",
   "id": "97844b64",
   "metadata": {},
   "source": [
    "There is a caveat here, which is that `help()` will generally provide *very technical details* on the object in question, which is useful for reference, but often unhelpful when first learning. If you find a particular python object *very mysterious*, try to formulate your question and type it into Google. **Learning how to find useful information about programming concepts is one of the key skills of learning to program well.**\n",
    "\n",
    "```{admonition} Jupyter help shortcut\n",
    "Note that in Jupyter, there's another way to access documentation on a function. If you move your cursor over a function, click there, and press `Shift + Tab`, this will open a documentation panel for easy reference!\n",
    "```"
   ]
  },
  {
   "cell_type": "markdown",
   "id": "dad2fcb8",
   "metadata": {},
   "source": [
    "### __q8__ Consult the documentation\n",
    "\n",
    "Consult the documentation for `list.sort()` to reverse-sort the following list.\n",
    "\n",
    "*Hint*: You will need to set a certain keyword argument to complete this task.\n"
   ]
  },
  {
   "cell_type": "code",
   "execution_count": 19,
   "id": "8cad9cfc",
   "metadata": {
    "collapsed": false
   },
   "outputs": [
    {
     "data": {
      "text/plain": [
       "[5, 4, 3, 2, 1]"
      ]
     },
     "execution_count": 19,
     "metadata": {},
     "output_type": "execute_result"
    }
   ],
   "source": [
    "## TASK: Reverse-sort the following list\n",
    "l_rev = [5, 3, 1, 4, 2]\n",
    "\n",
    "l_rev.sort()\n",
    "l_rev.sort(reverse=True)\n",
    "l_rev"
   ]
  },
  {
   "cell_type": "markdown",
   "id": "924abbf0",
   "metadata": {},
   "source": [
    "Pressing `Tab` (*without* holding `Shift`) will perform *tab completion*. This is useful to both save yourself some typing, and to help you remember variable and function names while you're working. If there are multiple variables or functions with similar names, you'll see a menu of selections. You can use the arrow keys to select, and press `Enter` to make your selection.\n",
    "\n",
    "![If there are multiple options, tab completion will show you all possibilities.](./images/data00-tab-completion.png)\n",
    "\n",
    "Practice using tab completion below.\n"
   ]
  },
  {
   "cell_type": "markdown",
   "id": "841eae9d",
   "metadata": {},
   "source": [
    "### q9 Use tab completion\n",
    "\n",
    "Uncomment the lines below and use tab completion to complete the variable names.\n",
    "\n",
    "*Hint*: Make sure your cursor is at the **end** of the line when you press `Tab`; otherwise you'll indent the line!\n"
   ]
  },
  {
   "cell_type": "code",
   "execution_count": 20,
   "id": "6a067fcf",
   "metadata": {
    "collapsed": false
   },
   "outputs": [
    {
     "data": {
      "text/plain": [
       "0.9659258262890683"
      ]
     },
     "execution_count": 20,
     "metadata": {},
     "output_type": "execute_result"
    }
   ],
   "source": [
    "## TASK: Uncomment the following code, \n",
    "#  use `Tab` (without Shift!) to complete\n",
    "#  the variable name\n",
    "\n",
    "l_rev\n",
    "\n",
    "my_cosine\n"
   ]
  },
  {
   "cell_type": "markdown",
   "id": "c818a6db",
   "metadata": {},
   "source": [
    "# End Notes\n",
    "\n",
    "The following notes are not required, but you may find these additional Jupyter tips helpful.\n"
   ]
  },
  {
   "cell_type": "markdown",
   "id": "e7eca2d1",
   "metadata": {},
   "source": [
    "## Save, close, quit, and re-open this notebook\n",
    "\n",
    "You can save by clicking the floppy-disk icon in the top-left of this notebook pane, and can close the notebook by clicking the \"X\" of its tab. Re-open by double-clicking on `e-data00-notebooks-assignment.ipynb` in the left-hand navigation pane.\n",
    "\n",
    "You should find that everything is exactly as you had left it! You will have to re-run the cells to load variables, but having the output saved can be helpful, particularly since Jupyter saves figures."
   ]
  },
  {
   "cell_type": "markdown",
   "id": "83d707a2",
   "metadata": {},
   "source": [
    "## Additional notebook tips\n",
    "\n",
    "* Save your notebooks frequently! Use the \"**Save**\" icon at the top or the **Ctrl+S**/**Cmd+S** shortcut.\n",
    "* Use **Shift+Enter** to run a cell and move on to the next cell. This allows you to sequentially execute all the cells in your notebook.\n",
    "* **Restart & Clear Output**. This option is found under the *Kernel* menu. It is extremely helpful to reset all code cell executions, stale package imports, and variable values.\n",
    "* Take the time to explore other menu options and tinker around. There's a ton of [keyboard shortcuts](https://www.cheatography.com/weidadeyue/cheat-sheets/jupyter-notebook/pdf_bw/) and [nifty customizations](https://towardsdatascience.com/how-to-effortlessly-optimize-jupyter-notebooks-e864162a06ee) you can do with notebooks."
   ]
  },
  {
   "cell_type": "markdown",
   "id": "08729dc6",
   "metadata": {},
   "source": [
    "## Jupyter magic functions\n",
    "\n",
    "[Magic functions](https://ipython.readthedocs.io/en/stable/interactive/magics.html) are a set of commands exclusively for Jupyter notebooks that are part of what makes notebooks so powerful. All magic commands start with a `%` sign, and we give examples of some below."
   ]
  },
  {
   "cell_type": "code",
   "execution_count": 21,
   "id": "0890ed1b",
   "metadata": {
    "collapsed": false
   },
   "outputs": [
    {
     "name": "stdout",
     "output_type": "stream",
     "text": [
      "CPU times: user 85 µs, sys: 35 µs, total: 120 µs\n",
      "Wall time: 124 µs\n"
     ]
    },
    {
     "data": {
      "text/plain": [
       "3.487"
      ]
     },
     "execution_count": 21,
     "metadata": {},
     "output_type": "execute_result"
    }
   ],
   "source": [
    "import numpy as np\n",
    "\n",
    "# This command will output how long it takes the following inline command to run\n",
    "%time np.mean(np.random.randint(low=1, high=7, size=1000))\n"
   ]
  },
  {
   "cell_type": "code",
   "execution_count": 22,
   "id": "cc3409de",
   "metadata": {
    "collapsed": false
   },
   "outputs": [],
   "source": [
    "# You'll see this command later; it allows Jupyter to render plots\n",
    "# as output in the notebook instead of opening a new window.\n",
    "%matplotlib inline\n"
   ]
  },
  {
   "cell_type": "code",
   "execution_count": 23,
   "id": "6a408a07",
   "metadata": {
    "collapsed": false
   },
   "outputs": [
    {
     "name": "stdout",
     "output_type": "stream",
     "text": [
      "a\t angle_degrees\t angle_radians\t b\t c\t cos\t fcn_q7\t l\t l_rev\t \n",
      "my_cosine\t my_sine\t n\t np\t pi\t result\t sin\t sleep\t test\t \n",
      "time\t var\t \n"
     ]
    }
   ],
   "source": [
    "# This shows which variables are in your environment.\n",
    "# Can be packages, functions, variables, and more!\n",
    "%who\n"
   ]
  },
  {
   "cell_type": "code",
   "execution_count": 24,
   "id": "efc6fc62",
   "metadata": {
    "collapsed": false
   },
   "outputs": [],
   "source": [
    "# You'll see this command later; it allows Jupyter to automatically\n",
    "# pick up on changes in referenced code without reloading the kernel.\n",
    "%load_ext autoreload\n"
   ]
  },
  {
   "cell_type": "code",
   "execution_count": 25,
   "id": "9f1b8f2e",
   "metadata": {
    "collapsed": false
   },
   "outputs": [
    {
     "data": {
      "text/plain": [
       "{'GJS_DEBUG_TOPICS': 'JS ERROR;JS LOG',\n",
       " 'SSH_AUTH_SOCK': '/run/user/1000/keyring/ssh',\n",
       " 'SESSION_MANAGER': 'local/squire:@/tmp/.ICE-unix/1806,unix/squire:/tmp/.ICE-unix/1806',\n",
       " 'GNOME_TERMINAL_SCREEN': '/org/gnome/Terminal/screen/f283b854_2e83_4cde_89a9_d45ecf7b811d',\n",
       " 'SSH_AGENT_PID': '1769',\n",
       " 'XDG_CURRENT_DESKTOP': 'ubuntu:GNOME',\n",
       " 'LANG': 'en_US.UTF-8',\n",
       " 'DEFAULTS_PATH': '/usr/share/gconf/ubuntu.default.path',\n",
       " 'IM_CONFIG_PHASE': '1',\n",
       " 'COLORTERM': 'truecolor',\n",
       " 'QT_IM_MODULE': 'ibus',\n",
       " 'GPG_AGENT_INFO': '/run/user/1000/gnupg/S.gpg-agent:0:1',\n",
       " 'DESKTOP_SESSION': 'ubuntu',\n",
       " 'USER': 'zach',\n",
       " 'XDG_MENU_PREFIX': 'gnome-',\n",
       " 'HOME': '/home/zach',\n",
       " 'GJS_DEBUG_OUTPUT': 'stderr',\n",
       " 'DBUS_SESSION_BUS_ADDRESS': 'unix:path=/run/user/1000/bus',\n",
       " 'PWD': '/home/zach/Git/Olin/evc-course',\n",
       " 'GTK_MODULES': 'gail:atk-bridge',\n",
       " 'XDG_CONFIG_DIRS': '/etc/xdg/xdg-ubuntu:/etc/xdg',\n",
       " 'WINDOWPATH': '2',\n",
       " 'XDG_SESSION_DESKTOP': 'ubuntu',\n",
       " 'JOURNAL_STREAM': '8:42691',\n",
       " 'QT_ACCESSIBILITY': '1',\n",
       " '_': '/home/zach/Bin/anaconda3/envs/evc/bin/jupyter',\n",
       " 'MANAGERPID': '1567',\n",
       " 'MANDATORY_PATH': '/usr/share/gconf/ubuntu.mandatory.path',\n",
       " 'GNOME_DESKTOP_SESSION_ID': 'this-is-deprecated',\n",
       " 'LOGNAME': 'zach',\n",
       " 'GNOME_TERMINAL_SERVICE': ':1.651',\n",
       " 'VTE_VERSION': '6003',\n",
       " 'GNOME_SHELL_SESSION_MODE': 'ubuntu',\n",
       " 'PATH': '/home/zach/Bin/anaconda3/envs/evc/bin:/home/zach/Bin/anaconda3/condabin:/home/zach/Bin/webplotdigitizer:/home/zach/Bin/p4merge/bin:/home/zach/Bin/matlab/bin:/home/zach/.local/bin:/usr/local/sbin:/usr/local/bin:/usr/sbin:/usr/bin:/sbin:/bin:/usr/games:/usr/local/games:/snap/bin',\n",
       " 'XMODIFIERS': '@im=ibus',\n",
       " 'SHELL': '/usr/bin/zsh',\n",
       " 'XDG_RUNTIME_DIR': '/run/user/1000',\n",
       " 'XDG_SESSION_TYPE': 'x11',\n",
       " 'USERNAME': 'zach',\n",
       " 'INVOCATION_ID': '40e1f0789fe448579dbcf89ae9fde03a',\n",
       " 'SHLVL': '1',\n",
       " 'XAUTHORITY': '/run/user/1000/gdm/Xauthority',\n",
       " 'XDG_DATA_DIRS': '/usr/share/ubuntu:/usr/local/share/:/usr/share/:/var/lib/snapd/desktop',\n",
       " 'XDG_SESSION_CLASS': 'user',\n",
       " 'TERM': 'xterm-color',\n",
       " 'GDMSESSION': 'ubuntu',\n",
       " 'DISPLAY': ':1',\n",
       " 'OLDPWD': '/home/zach/Git/py_grama',\n",
       " 'PYTHONPATH': '/home/zach/Git/pybuck:/home/zach/Git/py_grama:',\n",
       " 'CITRINATION_API_KEY': '<hidden>',\n",
       " 'SL_RESULTS': '/home/zach/Documents/sl-results/',\n",
       " 'ZSH': '/home/zach/.oh-my-zsh',\n",
       " 'PAGER': 'cat',\n",
       " 'LESS': '-R',\n",
       " 'LSCOLORS': 'Gxfxcxdxbxegedabagacad',\n",
       " 'LS_COLORS': 'rs=0:di=01;34:ln=01;36:mh=00:pi=40;33:so=01;35:do=01;35:bd=40;33;01:cd=40;33;01:or=40;31;01:mi=00:su=37;41:sg=30;43:ca=30;41:tw=30;42:ow=34;42:st=37;44:ex=01;32:*.tar=01;31:*.tgz=01;31:*.arc=01;31:*.arj=01;31:*.taz=01;31:*.lha=01;31:*.lz4=01;31:*.lzh=01;31:*.lzma=01;31:*.tlz=01;31:*.txz=01;31:*.tzo=01;31:*.t7z=01;31:*.zip=01;31:*.z=01;31:*.dz=01;31:*.gz=01;31:*.lrz=01;31:*.lz=01;31:*.lzo=01;31:*.xz=01;31:*.zst=01;31:*.tzst=01;31:*.bz2=01;31:*.bz=01;31:*.tbz=01;31:*.tbz2=01;31:*.tz=01;31:*.deb=01;31:*.rpm=01;31:*.jar=01;31:*.war=01;31:*.ear=01;31:*.sar=01;31:*.rar=01;31:*.alz=01;31:*.ace=01;31:*.zoo=01;31:*.cpio=01;31:*.7z=01;31:*.rz=01;31:*.cab=01;31:*.wim=01;31:*.swm=01;31:*.dwm=01;31:*.esd=01;31:*.jpg=01;35:*.jpeg=01;35:*.mjpg=01;35:*.mjpeg=01;35:*.gif=01;35:*.bmp=01;35:*.pbm=01;35:*.pgm=01;35:*.ppm=01;35:*.tga=01;35:*.xbm=01;35:*.xpm=01;35:*.tif=01;35:*.tiff=01;35:*.png=01;35:*.svg=01;35:*.svgz=01;35:*.mng=01;35:*.pcx=01;35:*.mov=01;35:*.mpg=01;35:*.mpeg=01;35:*.m2v=01;35:*.mkv=01;35:*.webm=01;35:*.ogm=01;35:*.mp4=01;35:*.m4v=01;35:*.mp4v=01;35:*.vob=01;35:*.qt=01;35:*.nuv=01;35:*.wmv=01;35:*.asf=01;35:*.rm=01;35:*.rmvb=01;35:*.flc=01;35:*.avi=01;35:*.fli=01;35:*.flv=01;35:*.gl=01;35:*.dl=01;35:*.xcf=01;35:*.xwd=01;35:*.yuv=01;35:*.cgm=01;35:*.emf=01;35:*.ogv=01;35:*.ogx=01;35:*.aac=00;36:*.au=00;36:*.flac=00;36:*.m4a=00;36:*.mid=00;36:*.midi=00;36:*.mka=00;36:*.mp3=00;36:*.mpc=00;36:*.ogg=00;36:*.ra=00;36:*.wav=00;36:*.oga=00;36:*.opus=00;36:*.spx=00;36:*.xspf=00;36:',\n",
       " 'CONDA_EXE': '/home/zach/Bin/anaconda3/bin/conda',\n",
       " '_CE_M': '',\n",
       " '_CE_CONDA': '',\n",
       " 'CONDA_PYTHON_EXE': '/home/zach/Bin/anaconda3/bin/python',\n",
       " 'CONDA_SHLVL': '2',\n",
       " 'CONDA_PREFIX': '/home/zach/Bin/anaconda3/envs/evc',\n",
       " 'CONDA_DEFAULT_ENV': 'evc',\n",
       " 'CONDA_PROMPT_MODIFIER': '(evc) ',\n",
       " 'RSTUDIO_PASS': 'temporarylocalkeyphrase',\n",
       " 'VISUAL': 'vim',\n",
       " 'EDITOR': 'vim',\n",
       " 'CONDA_PREFIX_1': '/home/zach/Bin/anaconda3',\n",
       " 'PYDEVD_USE_FRAME_EVAL': 'NO',\n",
       " 'JPY_PARENT_PID': '1648777',\n",
       " 'CLICOLOR': '1',\n",
       " 'GIT_PAGER': 'cat',\n",
       " 'MPLBACKEND': 'module://matplotlib_inline.backend_inline'}"
      ]
     },
     "execution_count": 25,
     "metadata": {},
     "output_type": "execute_result"
    }
   ],
   "source": [
    "# This command will list your system environment variables.\n",
    "%env\n"
   ]
  }
 ],
 "metadata": {
  "kernelspec": {
   "display_name": "Python 3 (ipykernel)",
   "language": "python",
   "name": "python3"
  },
  "language_info": {
   "codemirror_mode": {
    "name": "ipython",
    "version": 3
   },
   "file_extension": ".py",
   "mimetype": "text/x-python",
   "name": "python",
   "nbconvert_exporter": "python",
   "pygments_lexer": "ipython3",
   "version": "3.9.7"
  }
 },
 "nbformat": 4,
 "nbformat_minor": 5
}
