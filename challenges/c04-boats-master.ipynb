{
 "cells": [
  {
   "cell_type": "markdown",
   "id": "37fd605b-6a1b-45f9-a34a-bc36b83411a7",
   "metadata": {},
   "source": [
    "# c04-boats\n",
    "\n",
    "*Purpose*: Exploratory model analysis is a way to learn about a model and thus the scenario that it describes. However, computationally-expensive models are challenging to study with EMA, as every function evaluation costs us a lot of compute time. This challenge is about applying EMA ideas to learn about boat hull design, and about interfacing with a more computationally-complex simulation code.\n"
   ]
  },
  {
   "cell_type": "markdown",
   "id": "0d51df46-2c1a-4893-aee7-35cd6875849c",
   "metadata": {},
   "source": [
    "## Informed Consent\n",
    "\n",
    "As a reminder, this course is part of a study of engineers' behavior. While not all parts of the course are part of the study, the homeworks (challenges) are.\n",
    "\n",
    "We will analyze your answers to this homework, and may quote this work as part of published research.\n",
    "\n",
    "You can ask to have your responses excluded from the study after the interview by sending us an email. Please remember that this is required to participate in the professional development course. Before starting this assignment, do you consent to sharing your work with the study?\n"
   ]
  },
  {
   "cell_type": "markdown",
   "id": "597f27cf-c029-4087-a0d0-5e9e713d0d83",
   "metadata": {},
   "source": [
    "I agree to share my responses with the study\n",
    "\n",
    "- (Please type your name here)\n"
   ]
  },
  {
   "cell_type": "code",
   "execution_count": null,
   "id": "53e12bed-4160-4e0d-8aef-9a50079f18ce",
   "metadata": {},
   "outputs": [],
   "source": [
    "import grama as gr\n",
    "import pandas as pd\n",
    "import time\n",
    "DF = gr.Intention()\n",
    "%matplotlib inline"
   ]
  },
  {
   "cell_type": "markdown",
   "id": "7899ad2f-ec58-4f28-9f8d-9312ef565482",
   "metadata": {},
   "source": [
    "# Context\n",
    "\n",
    "This challenge comes with an additional simulation code written in Python. The code is in the file `boat_utils.py`, which you can inspect if you're interested. For the purposes of this challenge, you only need to load the simulation tools, and read the basics detailed below.\n"
   ]
  },
  {
   "cell_type": "code",
   "execution_count": null,
   "id": "510b4f5c-f345-425d-b822-319846539ce8",
   "metadata": {},
   "outputs": [],
   "source": [
    "# Boat analysis code\n",
    "import boat_utils as boat"
   ]
  },
  {
   "cell_type": "markdown",
   "id": "186d2090-d36f-44a6-b5cf-467cc1940204",
   "metadata": {},
   "source": [
    "## Basics of Boat Hull Design\n",
    "\n",
    "In order to float safely, a boat has to displace enough water to support its mass, and rotate back to upright as it is rolled by waves and wind. This desired behavior is governed by a surprisingly complex interplay between geometric and mass distribution factors in the boat's design. The following graphic depicts the cross-section of a simple boat hull, rotated $30^{\\circ}$ from its upright position.\n"
   ]
  },
  {
   "cell_type": "markdown",
   "id": "01797085-5014-46af-b1bd-6be52b754ffa",
   "metadata": {},
   "source": [
    "![Boat diagram](images/c04-boat-diagram.png)\n"
   ]
  },
  {
   "cell_type": "markdown",
   "id": "878b0da7-62e3-47f8-b9cf-522996118c38",
   "metadata": {},
   "source": [
    "Gravity applies a downward force at the center of mass (G), while buoyancy applies an upward force at the center of buoyancy (B'). These two forces apply a torque that rolls the boat---hopefully back towards its upright position! Naval engineers analyze this behavior using the *statical stability curve*---this is what the provided boat simulation tools compute.\n",
    "\n",
    "The following is a statical stability curve for an example boat hull.\n"
   ]
  },
  {
   "cell_type": "code",
   "execution_count": null,
   "id": "5804a48a-8d9d-49c5-8b47-25134ac1d54d",
   "metadata": {},
   "outputs": [],
   "source": [
    "# NOTE: No need to edit; this will analyze an example boat\n",
    "t0 = time.time()\n",
    "v_design = [2.5, 3.0, 2.0, 0.30, 0.35]\n",
    "df_example = boat.fun_moment(v_design)\n",
    "t1 = time.time()\n",
    "print(\"Execution time: {0:4.3f} sec\".format(t1 - t0))\n",
    "\n",
    "(\n",
    "    # Visualize the moment curve\n",
    "    df_example\n",
    "    >> gr.ggplot(gr.aes(\"angle * 180/3.14\", \"M_net\"))\n",
    "    + gr.geom_hline(yintercept=0, linetype=\"dashed\")\n",
    "    + gr.geom_line()\n",
    "    \n",
    "    + gr.scale_color_discrete(name=None)\n",
    "    + gr.theme_minimal()\n",
    "    + gr.labs(\n",
    "        x=\"Boat Angle (Degrees)\",\n",
    "        y=\"Net Moment (lbf * in)\",\n",
    "    )\n",
    ")"
   ]
  },
  {
   "cell_type": "markdown",
   "id": "43dbd474-464d-412c-b981-6a6d13244693",
   "metadata": {},
   "source": [
    "Some things worth noting about this example:\n",
    "\n",
    "- The Boat Angle is the angle to which the boat hull is rotated (along its long axis).\n",
    "- When the net moment is negative, a restoring torque acts to turn the boat back to upright.\n",
    "- When the net moment is positive, an anti-restoring torque is applied.\n",
    "<!-- - The point where the moment curve passes through the axis `M_net == 0` with positive slope is called the *angle of vanishing stability* (AVS). Rotating the boat beyond this point will cause it to settle upside-down. -->\n",
    "- The boat analysis takes a non-trivial amount of time to run! Analyzing a large number of boat designs will take a fair amount of simulation time.\n"
   ]
  },
  {
   "cell_type": "markdown",
   "id": "ebb71bc5-4d76-4972-9de1-2d6f34c20e59",
   "metadata": {},
   "source": [
    "## Upright Stability\n",
    "\n",
    "Note that upright stability is *not* guaranteed, even when comparing boats of identical geometry. Upright stability depends on a *restoring* moment acting when the boat is rotated away from upright.\n",
    "\n",
    "> For a boat to be upright-stable, the slope of its moment curve must be **negative** at the angle $\\theta = 0^{\\circ}$.\n",
    "\n",
    "The following boat has identical hull geometry as the previous case, but is lighter (smaller `d`) and has a higher center of mass (larger `f_com`).\n"
   ]
  },
  {
   "cell_type": "code",
   "execution_count": null,
   "id": "11c74f2f-5b32-42e6-bcd4-4f8b68ef5957",
   "metadata": {},
   "outputs": [],
   "source": [
    "# NOTE: No need to edit; this will analyze an example boat\n",
    "t0 = time.time()\n",
    "v_light = [2.5, 3.0, 2.0, 0.20, 0.40]\n",
    "df_light = boat.fun_moment(v_light)\n",
    "t1 = time.time()\n",
    "print(\"Execution time: {0:4.3f} sec\".format(t1 - t0))\n",
    "\n",
    "(\n",
    "    # Visualize the moment curve\n",
    "    df_light\n",
    "    >> gr.tf_mutate(source=\"Light loading\")\n",
    "    >> gr.tf_bind_rows(\n",
    "        df_example\n",
    "        >> gr.tf_mutate(source=\"Baseline\")\n",
    "    )\n",
    "    >> gr.ggplot(gr.aes(\"angle * 180/3.14\", \"M_net\", color=\"source\"))\n",
    "    + gr.geom_hline(yintercept=0, linetype=\"dashed\")\n",
    "    + gr.geom_line()\n",
    "    \n",
    "    + gr.scale_color_discrete(name=None)\n",
    "    + gr.theme_minimal()\n",
    "    + gr.labs(\n",
    "        x=\"Boat Angle (Degrees)\",\n",
    "        y=\"Net Moment (lbf * in)\",\n",
    "    )\n",
    ")"
   ]
  },
  {
   "cell_type": "markdown",
   "id": "5fce7cbe-79bd-4b3b-8bb2-2ede4852b51f",
   "metadata": {},
   "source": [
    "Note that the loading conditions of the boat have destabilized it at upright; the slope of the moment curve at $0^{\\circ}$ is now positive.\n",
    "\n",
    "This phenomenon is dangerous for vessels that must operate in both heavily-loaded and lightly-loaded conditions: Imagine a large transport ship in-harbor that has just unloaded cargo. The destabilizing phenomenon we see here would put the crew and dockworkers in considerable danger.\n"
   ]
  },
  {
   "cell_type": "markdown",
   "id": "c3804451-539c-47a6-9ce9-6809b2bbd994",
   "metadata": {},
   "source": [
    "```{admonition} Developing insight through EMA\n",
    "The traditional way to learn about boat stability is to carry out a variety of analytical derivations. In this challenge, you will use computational EMA tools to build some intuition about how design variables affect boat stability.\n",
    "```"
   ]
  },
  {
   "cell_type": "markdown",
   "id": "6e9b5349-ee37-4484-a651-412d3d577abd",
   "metadata": {},
   "source": [
    "## Archival Data\n",
    "\n",
    "For this challenge, you have available a set of pre-computed simulation results. The following code loads this archival dataset.\n"
   ]
  },
  {
   "cell_type": "code",
   "execution_count": null,
   "id": "6383b0c0-d10e-4406-a865-cd4e44f55241",
   "metadata": {},
   "outputs": [],
   "source": [
    "# NOTE: No need to edit; load the archival data\n",
    "filename_archival = \"./data/doe-wide.csv\"\n",
    "df_archival = pd.read_csv(filename_archival)\n",
    "df_archival.head()"
   ]
  },
  {
   "cell_type": "markdown",
   "id": "3a3039f4-73c1-424f-8356-4bfc8ab31b1d",
   "metadata": {},
   "source": [
    "### Data Dictionary\n",
    "\n",
    "There is *a lot* of information available in this dataset; the following is a summary of what's in the data:\n",
    "\n",
    "| Column | I/O | Meaning |\n",
    "|---|---|---|\n",
    "| `d` | Input | Displacement ratio (-) |\n",
    "| `n` | Input | Shape factor (-) |\n",
    "| `f_com` | Input | Height of COM from boat bottom (-) |\n",
    "| `H` | Input | Height of boat (in) |\n",
    "| `W` | Input | Width of boat (in) |\n",
    "|---|---|---|\n",
    "| `M_max` | Output | Max righting moment (`lbf*in`) |\n",
    "| `M_min` | Output | Min righting moment (`lbf*in`) |\n",
    "| `mass` | Output | Boat mass (lb) |\n",
    "| `dMdtheta_avs` | Output | Slope of moment curve at AVS (`lbf in/rad`) |\n",
    "| `dMdtheta_0` | Output | Slope of moment curve at upright (`lbf*in/rad`) |\n",
    "| `int_M_stable` | Output | Integral of moment curve, up to the AVS (`lbf*in*rad`) |\n",
    "| `BM` | Output | Metacentric radius (in) |\n",
    "| `GM` | Output | Metacentric height (in) |\n",
    "| `angle` | Output | Angle of vanishing stability (rad) |\n"
   ]
  },
  {
   "cell_type": "code",
   "execution_count": null,
   "id": "f52e80c5-4e50-493f-b0a9-a77834bbe383",
   "metadata": {},
   "outputs": [],
   "source": [
    "# NOTE: No need to edit; list out the variable names\n",
    "var = [\"d\", \"n\", \"f_com\", \"H\", \"W\"]\n",
    "out = [\n",
    "    \"M_max\", \n",
    "    \"M_min\", \n",
    "    \"mass\", \n",
    "    \"dMdtheta_avs\", \n",
    "    \"dMdtheta_0\", \n",
    "    \"BM\", \n",
    "    \"GM\",\n",
    "    \"angle\",\n",
    "    \"int_M_stable\",\n",
    "]"
   ]
  },
  {
   "cell_type": "markdown",
   "id": "8b87c2b7-251d-4741-b341-eda38854fc43",
   "metadata": {},
   "source": [
    "# Guided EDA of Archival Data\n",
    "\n",
    "Before going to EMA, let's start with an EDA of the archival data. This will help us frame the model work to come later.\n"
   ]
  },
  {
   "cell_type": "markdown",
   "id": "148a147f-ff7e-4d9f-bb4d-b3becb4b1486",
   "metadata": {},
   "source": [
    "### __q1__ First look\n",
    "\n",
    "Use simple EDA techniques to answer the questions under *observations* below.\n"
   ]
  },
  {
   "cell_type": "code",
   "execution_count": null,
   "id": "55cf377c-f5b7-40c7-b607-165951139395",
   "metadata": {},
   "outputs": [],
   "source": [
    "# TASK: Perform simple EDA, answer the questions below\n",
    "(\n",
    "    df_archival\n",
    "# solution-begin\n",
    "    >> gr.tf_select(var)\n",
    "    >> gr.tf_describe()\n",
    "# solution-end\n",
    ")"
   ]
  },
  {
   "cell_type": "markdown",
   "id": "15253cb4-cf99-4a7e-88e7-0bace94e55cc",
   "metadata": {},
   "source": [
    "*Observations*\n",
    "\n",
    "<!-- task-begin -->\n",
    "- How many observations (distinct boat hulls) are there in-total?\n",
    "  - (Your response here)\n",
    "- What are rough bounds for each of the input variables? (You'll use these in a later task....)\n",
    "  - (Your response here)\n",
    "<!-- task-end -->\n",
    "<!-- solution-begin -->\n",
    "- How many observations (distinct boat hulls) are there in-total?\n",
    "  - There are `1000` observations.\n",
    "- What are rough bounds for each of the input variables?\n",
    "\n",
    "| Var | Bounds |\n",
    "|---|---|\n",
    "| `d` | `[0.19, 0.83]` |\n",
    "| `n` | `[0.39, 1.63]` |\n",
    "| `f_com` | `[0.02, 1.07]` |\n",
    "| `H` | `[0.74, 4.26]` |\n",
    "| `W` | `[0.74, 4.26]` |\n",
    "\n",
    "<!-- solution-end -->\n"
   ]
  },
  {
   "cell_type": "markdown",
   "id": "400112bc-20e8-4c8d-96b9-7f48f62abbb4",
   "metadata": {},
   "source": [
    "### __q2__ How many designs are upright-stable?\n",
    "\n",
    "Remember that upright-stable means the slope of the moment curve at an upright position is negative. Answer the questions under *observations* below.\n"
   ]
  },
  {
   "cell_type": "code",
   "execution_count": null,
   "id": "1ae4f78e-b332-4731-830a-b421abce9cfd",
   "metadata": {},
   "outputs": [],
   "source": [
    "## TASK: Determine the number and fraction of upright-stable boats\n",
    "(\n",
    "    df_archival\n",
    "# solution-begin\n",
    "    >> gr.tf_count(DF.dMdtheta_0 < 0)\n",
    "    >> gr.tf_mutate(\n",
    "        f=DF.n / gr.sum(DF.n)\n",
    "    )\n",
    "# solution-end\n",
    ")"
   ]
  },
  {
   "cell_type": "markdown",
   "id": "75eedb7f-3b3f-4121-87eb-dfd7d28f3d83",
   "metadata": {},
   "source": [
    "*Observations*\n",
    "\n",
    "<!-- task-begin -->\n",
    "- How many boat designs in the dataset are upright-stable?\n",
    "  - (Your response here)\n",
    "- What *fraction* of boat designs in the dataset are upright-stable?\n",
    "  - (Your response here)\n",
    "<!-- task-end -->\n",
    "<!-- solution-begin -->\n",
    "- How many boat designs in the dataset are upright-stable?\n",
    "  - There are `670` upright-stable boats.\n",
    "- What *fraction* of boat designs in the dataset are upright-stable?\n",
    "  - This is `67%` percent of the dataset.\n",
    "<!-- solution-end -->\n"
   ]
  },
  {
   "cell_type": "markdown",
   "id": "ba2bf0a4-bc6d-44e2-8f47-f9f01dfa41d4",
   "metadata": {},
   "source": [
    "## Hypothesis: Width controls upright stability\n",
    "\n",
    "To help frame the rest of this challenge, let's pose and assess a particular hypothesis:\n",
    "\n",
    "> A wider boat will tend to have greater upright stability. Thus, we can make a boat stable by making it wider.\n",
    "\n",
    "This seems intuitive, but is it true? Let's find out!\n"
   ]
  },
  {
   "cell_type": "markdown",
   "id": "b8cc28fc-6054-483f-bfd8-17e94b745847",
   "metadata": {},
   "source": [
    "### __q3__ Correlation tile plot\n",
    "\n",
    "Construct a correlation tile plot to study the input/output relationships. Answer the questions under *observations* below.\n"
   ]
  },
  {
   "cell_type": "code",
   "execution_count": null,
   "id": "c79bd944-66f8-415e-8b96-a5b030394d09",
   "metadata": {},
   "outputs": [],
   "source": [
    "(\n",
    "    df_archival\n",
    "# task-begin\n",
    "    ## Compute the input/output correlation data here\n",
    "# task-end\n",
    "# solution-begin\n",
    "    >> gr.tf_iocorr(var=var, out=out, nan_drop=True)\n",
    "# solution-end\n",
    "    ## NOTE: No need to edit; this will visualize your data\n",
    "    >> gr.pt_auto()\n",
    ")"
   ]
  },
  {
   "cell_type": "markdown",
   "id": "8a6a294c-0363-4e40-85bb-8877029937f1",
   "metadata": {},
   "source": [
    "*Observations*\n",
    "\n",
    "<!-- task-begin -->\n",
    "- Which inputs correlate strongly with the slope of the moment curve at upright (`dMdtheta_0`)?\n",
    "  - (Your response here)\n",
    "- For each of the inputs you identified above, what is the sign of the correlation? (Positive or negative?) For each input, what kind of change (increase or decrease) is required to increase upright stability?\n",
    "  - (Your response here)\n",
    "- How do these results relate to the hypothesis above?\n",
    "  - (Your response here)\n",
    "<!-- task-end -->\n",
    "<!-- solution-begin -->\n",
    "- Which inputs correlate strongly with the slope of the moment curve at upright (`dMdtheta_0`)?\n",
    "  - The inputs `W, d, f_com` correlate strongly with `dMdtheta_0`.\n",
    "- For each of the inputs you identified above, what is the sign of the correlation? (Positive or negative?) For each input, what kind of change (increase or decrease) is required to increase upright stability?\n",
    "  - `W` correlates negatively with `dMdtheta_0`; increasing `W` increases stability.\n",
    "  - `d` correlates negatively with `dMdtheta_0`; increasing `d` increases stability.\n",
    "  - `f_com` correlates negatively with `dMdtheta_0`; decreasing `f_com` increases stability.\n",
    "- How do these results relate to the hypothesis above?\n",
    "  - These results are broadly in agreement with the hypothesis; a wider boat is indeed with a more stable boat. It remains to be seen if widening a given boat is sufficient to guarantee its stability.\n",
    "<!-- solution-end -->\n"
   ]
  },
  {
   "cell_type": "markdown",
   "id": "0554efc1-d2e7-4b63-9c8e-a81cdd988c88",
   "metadata": {},
   "source": [
    "### __q4__ Detailed scatterplots\n",
    "\n",
    "Make scatterplots to study relationship between `dMdtheta_0` and the relevant inputs you identified above. Add a smooth trend to each scatterplot with `gr.geom_smooth()`. Answer the questions under *observations* below.\n",
    "\n",
    "*Hint*: While it is possible to construct all three plots in a single code cell, you should feel free to create additional cells as-necessary.\n"
   ]
  },
  {
   "cell_type": "code",
   "execution_count": null,
   "id": "a9cfdac2-7339-40d7-9a4e-82db6bd63ae0",
   "metadata": {},
   "outputs": [],
   "source": [
    "# TODO: Create scatterplots\n",
    "# solution-begin\n",
    "(\n",
    "    df_archival\n",
    "    >> gr.tf_select(\n",
    "        \"dMdtheta_0\",\n",
    "        \"W\",\n",
    "        \"d\",\n",
    "        \"f_com\"\n",
    "    )\n",
    "    >> gr.tf_pivot_longer(\n",
    "        columns=[\"W\", \"d\", \"f_com\"],\n",
    "        names_to=\"var\",\n",
    "        values_to=\"value\",\n",
    "    )\n",
    "    \n",
    "    >> gr.ggplot(gr.aes(\"value\", \"dMdtheta_0\"))\n",
    "    + gr.geom_hline(yintercept=0, color=\"red\")\n",
    "    + gr.geom_point()\n",
    "    + gr.geom_smooth(color=\"blue\")\n",
    "    + gr.facet_grid(\"~var\", scales=\"free_x\")\n",
    "    + gr.theme_minimal()\n",
    ")\n",
    "# solution-end"
   ]
  },
  {
   "cell_type": "markdown",
   "id": "f84ce943-4368-4647-8334-7d8acaaf1d91",
   "metadata": {},
   "source": [
    "*Observations*\n",
    "\n",
    "<!-- task-begin -->\n",
    "- Is the observed variability real or erroneous?\n",
    "  - (Your response here)\n",
    "- Describe the effects of each input on the output `dMdtheta_0`.\n",
    "  - (Your response here)\n",
    "- Do any of the inputs have a more *predictable* effect on `dMdtheta_0`?\n",
    "  - (Your response here)\n",
    "- How do these results relate to the hypothesis above?\n",
    "  - (Your response here)\n",
    "<!-- task-end -->\n",
    "<!-- solution-begin -->\n",
    "- Is the observed variability real or erroneous?\n",
    "  - Real\n",
    "- Describe the effects of each input on the output `dMdtheta_0`.\n",
    "  - `W` and `d` have a negative effect, while `f_com` has a positive effect.\n",
    "- Do any of the inputs have a more *predictable* effect on `dMdtheta_0`?\n",
    "  - `f_com` has a fairly predictive effect on upright stability; note that at `f_com <= 0.3`, we see that all of the archival cases are upright stable (regardless of the other design variables). For larger values `f_com` alone is not sufficient to control upright stability.\n",
    "  - On their own, neither `W` nor `d` is highly predictive of `dMdtheta_0`.\n",
    "- How do these results relate to the hypothesis above?\n",
    "  - While widening a boat does indeed *tend* to increase its upright stability, widening a boat alone is not enough to *guarantee* its stability. We actually see that `f_com` has a more predictable effect on stability than `W`.\n",
    "<!-- solution-end -->\n"
   ]
  },
  {
   "cell_type": "markdown",
   "id": "bc5d0a46-cc6a-42d3-ab8f-e434aef10c51",
   "metadata": {},
   "source": [
    "Having carried out an EDA of the archival data, we can move on to studying behavior using the model. However, first we need to *setup* the model.\n"
   ]
  },
  {
   "cell_type": "markdown",
   "id": "a21ae68c-7a86-42dc-a0f3-b3846254a927",
   "metadata": {},
   "source": [
    "# Model Setup\n",
    "\n",
    "The primary tool we need from the boat simulation utilities is the performance function, called like so:\n",
    "\n",
    "```python\n",
    "v = [2.5, 3.0, 2.0, 0.30, 0.35]\n",
    "df_res = boat.fun_performance(v)\n",
    "```\n",
    "\n",
    "We will use this function to compute performance metrics (such as `dMdtheta_0`) for various boat designs. However, before we do so, we should quantify how long it takes to run the performance function. Doing so will help us *plan* our EMA evaluations, so that we don't try to execute a study that will take too long.\n"
   ]
  },
  {
   "cell_type": "markdown",
   "id": "743a34e3-b84b-49a0-a516-35bb5f05ccd0",
   "metadata": {},
   "source": [
    "### __q5__ Time the analysis\n",
    "\n",
    "Evaluate the boat performance function *inside* the loop below in order to complete the timing study. You'll use this number later in `gr.cp_function()` (in q7).\n",
    "\n",
    "*Hint*: Remember that `v_design` was assigned above in an example chunk. You can use that as the argument to `fun_performance()`.\n"
   ]
  },
  {
   "cell_type": "code",
   "execution_count": null,
   "id": "9c93d9e5-cb30-407c-95e0-92b7203c3afd",
   "metadata": {},
   "outputs": [],
   "source": [
    "## TASK: Evaluate the boat performance to time the simulation\n",
    "n_rep = 5\n",
    "\n",
    "t0 = time.time()\n",
    "for i in range(n_rep):\n",
    "# task-begin\n",
    "    # Evaluate the boat performance function here to\n",
    "    # complete the timing study\n",
    "# task-end\n",
    "# solution-begin\n",
    "    df_res = boat.fun_performance(v_design)\n",
    "# solution-end\n",
    "t1 = time.time()\n",
    "\n",
    "t_exec = (t1 - t0) / n_rep\n",
    "\n",
    "print(\"Average execution time: {0:} sec\".format(t_exec))\n"
   ]
  },
  {
   "cell_type": "markdown",
   "id": "532e77e6-83a5-4b5a-9e9e-abf5f7e3f43c",
   "metadata": {},
   "source": [
    "### __q6__ Define the input order\n",
    "\n",
    "List the inputs to `boat.fun_performance()` in the correct order. You will use this to assemble the model below.\n",
    "\n",
    "*Hint*: Remember to consult the documentation for `boat.fun_performance()` to see the order of its arguments.\n"
   ]
  },
  {
   "cell_type": "code",
   "execution_count": null,
   "id": "8a44e287-750f-4d4f-a435-5c4c3eb9a334",
   "metadata": {},
   "outputs": [],
   "source": [
    "## TODO:\n",
    "# task-begin\n",
    "var_performance = []\n",
    "# task-end\n",
    "# solution-begin\n",
    "var_performance = [\"H\", \"W\", \"n\", \"d\", \"f_com\"]\n",
    "# solution-end\n",
    "\n",
    "## NOTE: No need to edit; this defines the output quantities\n",
    "out_performance = [\n",
    "    \"mass\",\n",
    "    \"GM\",\n",
    "    \"angle\",\n",
    "    \"dMdtheta_0\",\n",
    "    \"dMdtheta_avs\",\n",
    "    \"M_max\",\n",
    "    \"M_min\",\n",
    "    \"int_M_stable\",\n",
    "]\n",
    "\n",
    "## NOTE: No need to edit; use this to check your work\n",
    "assert \\\n",
    "    set(var_performance) == set(boat.var_correct), \\\n",
    "    \"Inputs not correct\"\n",
    "assert \\\n",
    "    var_performance == boat.var_correct, \\\n",
    "    \"Inputs are not in the correct order; check \" + \\\n",
    "    \"the documentation for boat.fun_performance().\""
   ]
  },
  {
   "cell_type": "markdown",
   "id": "8366b175-a298-492e-be34-1af81494c4ba",
   "metadata": {},
   "source": [
    "```{admonition} Why does order matter?\n",
    "By default, Python functions interpret their inputs based on **order**. Grama takes care of variables based on **name**, but when working with a \"regular\" Python function, we have to be careful to give grama the correct order information. Imagine giving the value for boat height `H` as the shape factor `n`, or vice versa! If we are careful when defining a grama model, we can prevent these order issues later.\n",
    "```"
   ]
  },
  {
   "cell_type": "markdown",
   "id": "3aecbe23-4aec-4094-8969-3c9f10e690b5",
   "metadata": {},
   "source": [
    "### __q7__ Assemble the model\n",
    "\n",
    "Complete the code below to assemple the boat performance model. Use the values assigned above as arguments to `gr.cp_function()`, including the variable names, output names, and runtime estimate (value from **q5**). Make sure to add bounds for the inputs that \"enclose\" the observed archival data.\n",
    "\n",
    "```{admonition} Why not `gr.cp_vec_function()`?\n",
    "Here we use `gr.cp_function()` rather than `gr.cp_vec_function()`. This is because the boat performance function is not *vectorized*; it cannot take a DataFrame as its input. Generally we use `gr.cp_function()` with more \"expensive\" to evaluate functions.\n",
    "```"
   ]
  },
  {
   "cell_type": "code",
   "execution_count": null,
   "id": "6416e9f9-51b2-437e-ae01-1346919c15e1",
   "metadata": {},
   "outputs": [],
   "source": [
    "## TODO: Complete the code below\n",
    "md_performance = (\n",
    "    gr.Model(\"Boat performance\")\n",
    "    >> gr.cp_function(\n",
    "        fun=boat.fun_performance,\n",
    "# task-begin\n",
    "        # Add input and output names;\n",
    "        # runtime estimate\n",
    "# task-end\n",
    "# solution-begin\n",
    "        var=var_performance,\n",
    "        out=out_performance,\n",
    "        name=\"Performance metrics\",\n",
    "        runtime=t_exec,\n",
    "# solution-end\n",
    "    )\n",
    "    >> gr.cp_bounds(\n",
    "# task-begin\n",
    "        # Add input bounds\n",
    "# task-end\n",
    "# solution-begin\n",
    "        d=[0.19, 0.83],\n",
    "        n=[0.39, 1.63],\n",
    "        f_com=[0.02, 1.07],\n",
    "        H=[0.74, 4.26],\n",
    "        W=[0.74, 4.26],\n",
    "# solution-end\n",
    "    )\n",
    ")\n",
    "\n",
    "## NOTE: No need to edit; use this to check your work\n",
    "assert \\\n",
    "    md_performance.functions[0].runtime > 0, \\\n",
    "    \"Model has no runtime estimate\"\n",
    "for v in var_performance:\n",
    "    assert \\\n",
    "        md_performance.domain.bounds[v][0] < df_archival[v].min(), \\\n",
    "        \"Archival data for {} exceeds model lower bound\".format(v)\n",
    "    assert \\\n",
    "        df_archival[v].max() < md_performance.domain.bounds[v][1], \\\n",
    "        \"Archival data for {} exceeds model upper bound\".format(v)\n",
    "\n",
    "md_performance"
   ]
  },
  {
   "cell_type": "markdown",
   "id": "eb80a268-fbf5-41d3-a68c-19be155201ed",
   "metadata": {},
   "source": [
    "# EMA with Expensive Models\n",
    "\n",
    "We've seen trends in the detailed scatterplots, but we should confirm them with the real model. A sinew plot will help us confirm what we saw above and better-assess the width hypothesis.\n",
    "\n",
    "*However*, note that the analysis code we're using has a nontrivial runtime; we should be careful about how many evaluations we request or we could be waiting a *long* time for the simulation to run. The following task will guide you through balancing runtime with exploring the model's behavior.\n"
   ]
  },
  {
   "cell_type": "markdown",
   "id": "d276b76b-293f-49da-807f-c5a7a8964241",
   "metadata": {},
   "source": [
    "### __q8__ Plan a study\n",
    "\n",
    "Tune the arguments to achieve a \"reasonable\" runtime. You will need to decide for yourself what a reasonable runtime is (though it will at a minimum be ~3 minutes.) Answer the questions under *observations* below.\n",
    "\n",
    "*Hint 1*: Remember to use the documentation for a function to see which arguments to `gr.ev_sinews()` you can tune.\n",
    "\n",
    "*Hint 2*: Running at least three sweeps will help with the task that comes after this one.\n"
   ]
  },
  {
   "cell_type": "code",
   "execution_count": null,
   "id": "786ce217-f786-4536-a0a0-745e8b0092fb",
   "metadata": {},
   "outputs": [],
   "source": [
    "## TODO: Tune the arguments for gr.ev_sinews()\n",
    "# to get a \"reasonable\" runtime\n",
    "(\n",
    "    md_performance\n",
    "    >> gr.ev_sinews(\n",
    "        df_det=\"swp\", # Sweep all deterministic inputs\n",
    "        skip=True,    # This prevents execution!\n",
    "# solution-begin\n",
    "        n_density=20,\n",
    "        n_sweeps=5,\n",
    "# solution-end\n",
    "    )\n",
    ")"
   ]
  },
  {
   "cell_type": "markdown",
   "id": "6fc0ccd1-5f0c-4d0a-8423-00d5bc37a25f",
   "metadata": {},
   "source": [
    "*Observations*\n",
    "\n",
    "<!-- task-begin -->\n",
    "- What is the predicted runtime?\n",
    "  - (Your response here)\n",
    "<!-- task-end -->\n",
    "<!-- solution-begin -->\n",
    "- What is the predicted runtime?\n",
    "  - For me: `230` seconds, or `3.8` minutes\n",
    "  - This will vary quite a bit based on simulation parameters and machine hardware.\n",
    "<!-- solution-end -->\n"
   ]
  },
  {
   "cell_type": "markdown",
   "id": "5b0cd58f-336e-4c3d-867c-00e51c98e26d",
   "metadata": {},
   "source": [
    "### __q9__ Run the study\n",
    "\n",
    "Now, use the settings you determined above and run the study! Answer the questions under *observations* below.\n",
    "\n",
    "*Note*: It's a good idea to set this to run, go make yourself a coffee, then come back!\n"
   ]
  },
  {
   "cell_type": "code",
   "execution_count": null,
   "id": "6159a874-5c0f-43c3-828c-c85fa79e0ef3",
   "metadata": {},
   "outputs": [],
   "source": [
    "t0 = time.time()\n",
    "df_sinews = (\n",
    "    md_performance\n",
    "    >> gr.ev_sinews(\n",
    "        df_det=\"swp\", # Sweep all deterministic inputs\n",
    "# task-begin\n",
    "        ## Use the same settings you determined above\n",
    "# task-end\n",
    "# solution-begin\n",
    "        n_density=20,\n",
    "        n_sweeps=5,\n",
    "# solution-end\n",
    "    )\n",
    ")\n",
    "t1 = time.time()\n",
    "print(\"Execution time: {} sec\".format(t1 - t0))\n"
   ]
  },
  {
   "cell_type": "markdown",
   "id": "ecf0ef69-9373-4144-b253-207351cc6848",
   "metadata": {},
   "source": [
    "Once the evaluation is complete, visualize the results with the following code.\n"
   ]
  },
  {
   "cell_type": "code",
   "execution_count": null,
   "id": "73b12d73-b99f-4d03-897a-304edc22ebf0",
   "metadata": {},
   "outputs": [],
   "source": [
    "# NOTE: No need to edit; use this to visualize the results\n",
    "(\n",
    "    df_sinews\n",
    "    >> gr.pt_auto()\n",
    ")"
   ]
  },
  {
   "cell_type": "markdown",
   "id": "8895c0cb-86fc-42f5-8f57-e504f45dcf8e",
   "metadata": {},
   "source": [
    "*Observations*\n",
    "\n",
    "<!-- task-begin -->\n",
    "- How close to the predicted runtime is the actual runtime?\n",
    "  - (Your response here)\n",
    "- Consider the variables you identified above that affect `dMdtheta_0`. Do they have a *consistent* effect on upright stability, or does their effect depend on the value of other inputs?\n",
    "  - (Your response here)\n",
    "<!-- task-end -->\n",
    "<!-- solution-begin -->\n",
    "- How close to the predicted runtime is the actual runtime?\n",
    "  - (Your response here)\n",
    "- Consider the variables you identified above that affect `dMdtheta_0`. Do they have a *consistent* effect on upright stability, or does their effect depend on the value of other inputs? Are their effects *always* positive/negative, or can their direction change?\n",
    "  - The effects of `W`, `d` and `f_com` are conditional; rather than parallel curves, I see curves that intersect and have different strength associated with the various sweeps. \n",
    "  - Most surprisingly (and not all students will see this): The \"sign\" of effect for `W` and `d` is not always consistent; for some cases, increasing `W`/`d` actually *decreases* the upright stability.\n",
    "  - From these results it appears that `f_com` always has a consistent effect: Its slope is generally positive, though it does vary in magnitude. \n",
    "<!-- solution-end -->\n"
   ]
  }
 ],
 "metadata": {
  "kernelspec": {
   "display_name": "Python 3 (ipykernel)",
   "language": "python",
   "name": "python3"
  },
  "language_info": {
   "codemirror_mode": {
    "name": "ipython",
    "version": 3
   },
   "file_extension": ".py",
   "mimetype": "text/x-python",
   "name": "python",
   "nbconvert_exporter": "python",
   "pygments_lexer": "ipython3",
   "version": "3.9.7"
  }
 },
 "nbformat": 4,
 "nbformat_minor": 5
}
