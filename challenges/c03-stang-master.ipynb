{
 "cells": [
  {
   "cell_type": "markdown",
   "id": "three-marking",
   "metadata": {},
   "source": [
    "# c03-stang\n",
    "\n",
    "*Purpose*: When designing structures such as bridges, boats, and planes, the design team needs data about *material properties*. Often when we engineers first learn about material properties through coursework, we talk about abstract ideas and look up values in tables without ever looking at the data that gave rise to published properties. In this challenge you'll study an aluminum alloy dataset: This will give you a better sense of the challenges underlying published material values.\n",
    "\n",
    "We will also use grama to connect these material properties to engineering outcomes: This will give you a sense for how variability enters into engineering decision-making.\n",
    "\n",
    "In this challenge, you will load a real dataset, wrangle it into tidy form, and perform EDA to learn more about the data.\n"
   ]
  },
  {
   "cell_type": "markdown",
   "id": "369bc702-2fa5-47e2-a336-e8a010f4f2fd",
   "metadata": {},
   "source": [
    "## Informed Consent\n",
    "\n",
    "As a reminder, this course is part of a study of engineers' behavior. While not all parts of the course are part of the study, the homeworks (challenges) are.\n",
    "\n",
    "We will analyze your answers to this homework, and may quote this work as part of published research.\n",
    "\n",
    "You can ask to have your responses excluded from the study after the interview by sending us an email. Please remember that this is required to participate in the professional development course. Before starting this assignment, do you consent to sharing your work with the study?\n"
   ]
  },
  {
   "cell_type": "markdown",
   "id": "d490fdb6-069a-492c-aa84-5c1651b86d46",
   "metadata": {},
   "source": [
    "I agree to share my responses with the study\n",
    "\n",
    "- (Please type your name here)\n"
   ]
  },
  {
   "cell_type": "code",
   "execution_count": null,
   "id": "fifteen-commissioner",
   "metadata": {},
   "outputs": [],
   "source": [
    "import grama as gr\n",
    "import numpy as np\n",
    "DF = gr.Intention()\n",
    "%matplotlib inline\n",
    "\n",
    "# For assertion\n",
    "from pandas.api.types import is_numeric_dtype\n"
   ]
  },
  {
   "cell_type": "markdown",
   "id": "silent-strength",
   "metadata": {},
   "source": [
    "## Background\n",
    "\n",
    "In 1946, scientists at the Bureau of Standards tested a number of Aluminum plates to determine their [elasticity](https://en.wikipedia.org/wiki/Elastic_modulus) and [Poisson's ratio](https://en.wikipedia.org/wiki/Poisson%27s_ratio) [1]. These are key quantities used in the design of structural members, such as aircraft skin under [buckling loads](https://en.wikipedia.org/wiki/Buckling). These scientists tested plats of various thicknesses, and at different angles with respect to the [rolling](https://en.wikipedia.org/wiki/Rolling_(metalworking)) direction.\n"
   ]
  },
  {
   "cell_type": "code",
   "execution_count": null,
   "id": "lyric-salad",
   "metadata": {},
   "outputs": [],
   "source": [
    "from grama.data import df_stang_wide\n",
    "df_stang_wide"
   ]
  },
  {
   "cell_type": "markdown",
   "id": "religious-postcard",
   "metadata": {},
   "source": [
    "## Setup\n"
   ]
  },
  {
   "cell_type": "markdown",
   "id": "outstanding-color",
   "metadata": {},
   "source": [
    "### __q1__ Tidy the data\n",
    "\n",
    "Tidy `df_stang_wide` to produce `df_stang`. You should have column names `thick, alloy, angle, E, nu`. Make sure the `angle` variable is of correct type. Filter out any invalid values.\n",
    "\n",
    "*Hint*: This is **far easier** if you use the special `\".value\"` argument for `names_to`.\n"
   ]
  },
  {
   "cell_type": "code",
   "execution_count": null,
   "id": "ambient-investigation",
   "metadata": {},
   "outputs": [],
   "source": [
    "## TASK: Tidy df_stang_wide\n",
    "df_stang = (\n",
    "    df_stang_wide\n",
    "# task-begin\n",
    "    ## WRITE YOUR CODE HERE\n",
    "# task-end \n",
    "# solution-begin\n",
    "    >> gr.tf_pivot_longer(\n",
    "        columns=[\"E_00\", \"mu_00\", \"E_45\", \"mu_45\", \"E_90\", \"mu_90\"],\n",
    "        names_to=[\".value\", \"angle\"],\n",
    "        names_sep=\"_\"\n",
    "    )\n",
    "    >> gr.tf_filter(DF.E > 0)\n",
    "    >> gr.tf_mutate(\n",
    "        angle=gr.as_float(DF.angle)\n",
    "    )\n",
    "# solution-end\n",
    ")\n",
    "\n",
    "df_stang"
   ]
  },
  {
   "cell_type": "markdown",
   "id": "convertible-details",
   "metadata": {},
   "source": [
    "Use the following tests to check your work.\n"
   ]
  },
  {
   "cell_type": "code",
   "execution_count": null,
   "id": "charitable-plenty",
   "metadata": {},
   "outputs": [],
   "source": [
    "# Correct columns\n",
    "assert \\\n",
    "    set(df_stang.columns) ==  set([\"thick\", \"alloy\", \"angle\", \"E\", \"mu\"]), \\\n",
    "    \"Incorrect columns in df_stang\"\n",
    "\n",
    "# Dimensions\n",
    "assert \\\n",
    "    (df_stang.shape[0] <= 27), \\\n",
    "    \"Too many rows; did you pivot the data?\"\n",
    "assert \\\n",
    "    (df_stang.shape[0] <= 26), \\\n",
    "    \"Too many rows; did you filter the invalid values?\"\n",
    "assert \\\n",
    "    (df_stang.shape[0] == 26), \\\n",
    "    \"Too few rows; did you filter *only* invalid values?\"\n",
    "    \n",
    "# Types\n",
    "assert \\\n",
    "    (is_numeric_dtype(df_stang[\"angle\"])), \\\n",
    "    \"angle columns is not numeric; make sure to convert this column\"\n"
   ]
  },
  {
   "cell_type": "markdown",
   "id": "seven-processor",
   "metadata": {},
   "source": [
    "## EDA\n"
   ]
  },
  {
   "cell_type": "markdown",
   "id": "wound-turtle",
   "metadata": {},
   "source": [
    "### __q2__ EDA without visualization\n",
    "\n",
    "Perform a basic EDA on the aluminum data *without visualization*. Use your analysis to answer the questions under *observations* below. \n"
   ]
  },
  {
   "cell_type": "code",
   "execution_count": null,
   "id": "swedish-buying",
   "metadata": {},
   "outputs": [],
   "source": [
    "## TASK: Perform EDA *without visualization* here\n",
    "# task-begin\n",
    "## Top-level facts?\n",
    "# task-end\n",
    "# solution-begin\n",
    "# Head\n",
    "print(\n",
    "    df_stang\n",
    "    >> gr.tf_head(10)\n",
    ")\n",
    "\n",
    "# Describe\n",
    "print(\n",
    "    df_stang\n",
    "    >> gr.tf_describe()\n",
    ")\n",
    "# solution-end"
   ]
  },
  {
   "cell_type": "code",
   "execution_count": null,
   "id": "understanding-catalog",
   "metadata": {},
   "outputs": [],
   "source": [
    "# task-begin\n",
    "## Distinct alloys?\n",
    "# task-end\n",
    "# solution-begin\n",
    "print(\"Distinct alloys\")\n",
    "print(\n",
    "    df_stang\n",
    "    >> gr.tf_distinct(\"alloy\")\n",
    ")\n",
    "# solution-end"
   ]
  },
  {
   "cell_type": "code",
   "execution_count": null,
   "id": "intended-hearing",
   "metadata": {},
   "outputs": [],
   "source": [
    "# task-begin\n",
    "## Distinct angles?\n",
    "# task-end\n",
    "# solution-begin\n",
    "print(\"Distinct angles\")\n",
    "print(\n",
    "    df_stang\n",
    "    >> gr.tf_count(DF.angle)\n",
    ")\n",
    "# solution-end"
   ]
  },
  {
   "cell_type": "code",
   "execution_count": null,
   "id": "juvenile-sessions",
   "metadata": {},
   "outputs": [],
   "source": [
    "# task-begin\n",
    "## Distinct thicknesses?\n",
    "# task-end\n",
    "# solution-begin\n",
    "print(\"Distinct thicknesses\")\n",
    "print(\n",
    "    df_stang\n",
    "    >> gr.tf_count(DF.thick)\n",
    ")\n",
    "# solution-end"
   ]
  },
  {
   "cell_type": "markdown",
   "id": "brief-fishing",
   "metadata": {},
   "source": [
    "**Observations**:\n",
    "\n",
    "<!-- task-begin -->\n",
    "- Do you see identical values for the material properties?\n",
    "  - (Your response here)\n",
    "- How many aluminum alloys are in this dataset? How do you know?\n",
    "  - (Your response here)\n",
    "- What angles were tested?\n",
    "  - (Your response here)\n",
    "- Were all angles tested with the same number of observations?\n",
    "  - (Your response here)\n",
    "- What thicknesses were tested?\n",
    "  - (Your response here)\n",
    "<!-- task-end -->\n",
    "<!-- solution-begin -->\n",
    "- Do you see identical values for the material properties?\n",
    "  - No; we see a variety of values for `E` and `nu`.\n",
    "- How many aluminum alloys are in this dataset? How do you know?\n",
    "  - Just one alloy: al_24st. I know because I pulled the column and used `unique()`\n",
    "- What angles were tested?\n",
    "  - Angles: 0, 45, 90 (degrees)\n",
    "- Were all angles tested with the same number of observations?\n",
    "  - No, there were more tests at the thickest setting (0.081 in)\n",
    "- What thicknesses were tested?\n",
    "  - Thicknesses: 0.022, 0.032, 0.064, 0.081 (in)\n",
    "<!-- solution-end -->\n"
   ]
  },
  {
   "cell_type": "markdown",
   "id": "noticed-wagner",
   "metadata": {},
   "source": [
    "### __q3__ Error or real variability?\n",
    "\n",
    "The variability we see in the material properties `E, mu` could be erroneous, real, or some mix of the two. Let's read a bit from the original paper to see what the original investigators thought about their data. Read the following passage, and answer the questions under *observations* below.\n",
    "\n",
    "![Stang passage](images/c03-stang-variability.png)\n"
   ]
  },
  {
   "cell_type": "markdown",
   "id": "responsible-defense",
   "metadata": {},
   "source": [
    "*Observations*\n",
    "\n",
    "<!-- task-begin -->\n",
    "- Based on what the authors wrote, do they believe that the observed variability is *purely* error?\n",
    "  - (Your response here)\n",
    "- Is there likely to be real variability in the observed material properties?\n",
    "  - (Your response here)\n",
    "- Try doing a websearch for `\"elasticity of aluminum\"`; you are likely to find results that quote a single value for `E`. What does your previous observation tell us about the limitations of this \"single number\" view of material properties?\n",
    "<!-- task-end -->\n",
    "\n",
    "<!-- solution-begin -->\n",
    "- Based on what the authors wrote, do they believe that the observed variability is *purely* error?\n",
    "  - No, the authors clearly state that there is \"inherent\" (real) variability \"in the material itself.\"\n",
    "- Is there likely to be real variability in the observed material properties?\n",
    "  - Most likely yes; the original authors believe that there is real variability in the observed properties.\n",
    "- Try doing a websearch for `\"elasticity of aluminum\"`; you are likely to find results that quote a single value for `E`. What does your previous observation tell us about the limitations of this \"single number\" view of material properties?\n",
    "  - Since there can be real variability in material properties, a \"single number\" ignores this variability.\n",
    "<!-- solution-end -->\n"
   ]
  },
  {
   "cell_type": "markdown",
   "id": "third-arrest",
   "metadata": {},
   "source": [
    "## Assess a Claim\n",
    "\n",
    "We can use a combination of visualization tools and critical thinking to do useful work: You'll practice this next.\n"
   ]
  },
  {
   "cell_type": "markdown",
   "id": "indirect-montgomery",
   "metadata": {},
   "source": [
    "### __q4__ Compare evidence against a claim\n",
    "\n",
    "Consider the following definition:\n",
    "\n",
    "> \"A material's property (or material property) is an intensive property of some material, i.e. a physical property that does not depend on the amount of the material.\"[2]\n",
    "\n",
    "Note that the \"amount of material\" would vary with the thickness of a tested plate. Does the following graph support or contradict the following claim?\n",
    "\n",
    "> Claim: Elasticity `E` is an intensive material property.\n",
    "\n",
    "Inspect the graph below, and answer the questions under *observations* below.\n"
   ]
  },
  {
   "cell_type": "code",
   "execution_count": null,
   "id": "unusual-quantum",
   "metadata": {},
   "outputs": [],
   "source": [
    "# NOTE: No need to edit; run and inspect\n",
    "(\n",
    "    df_stang\n",
    "    >> gr.ggplot(gr.aes(\"E\", \"mu\", color=\"factor(thick)\"))\n",
    "    + gr.geom_point(size=4)\n",
    "    \n",
    "    + gr.scale_color_discrete(name=\"Thickness (in)\")\n",
    "    + gr.theme_minimal()\n",
    "    + gr.labs(\n",
    "        x=\"Elasticity (ksi)\",\n",
    "        y=\"Poisson's Ratio (-)\",\n",
    "    )\n",
    ")"
   ]
  },
  {
   "cell_type": "markdown",
   "id": "enclosed-harris",
   "metadata": {},
   "source": [
    "*Observations*\n",
    "\n",
    "<!-- task-begin -->\n",
    "- Does this graph support or contradict the claim above?\n",
    "  - (Your response here)\n",
    "- Is the evidence conclusive?\n",
    "  - (Your response here)\n",
    "<!-- task-end -->\n",
    "\n",
    "<!-- solution-begin -->\n",
    "- The graph contradicts the claim; the elasticity of the alloy is demonstrably smaller for the thickest plates.\n",
    "- The evidence is *not* conclusive; it is possible that other factors could account for this discrepancy. For instance, the article notes (Method a-2, Sec. 2(a)) that the elasticity of the 0.081in plates was measured using a different method, compared to the other plates. Thus calibration issues could account for an offset in values.\n",
    "<!-- solution-end -->\n"
   ]
  },
  {
   "cell_type": "markdown",
   "id": "authorized-training",
   "metadata": {},
   "source": [
    "### __q5__ Check the data collection methods\n",
    "\n",
    "Read the following section from the original paper, and answer the questions below.\n",
    "\n",
    "![Stang image](images/c03-stang-measurements.png)\n"
   ]
  },
  {
   "cell_type": "markdown",
   "id": "finnish-square",
   "metadata": {},
   "source": [
    "*Observations*\n",
    "\n",
    "<!-- task-begin -->\n",
    "- In __q3__ we saw variation in the material properties `E, mu` with thickness. One possible explanation for that variation is that material properties can vary with thickness---hence, they are not intensive properties. What alternative explanation does this section from the paper suggest?\n",
    "  - (Your response here)\n",
    "<!-- task-end -->\n",
    "\n",
    "<!-- solution-begin -->\n",
    "- The article notes (Method a-2, Sec. 2(a)) that the elasticity of the 0.081in plates was measured using a different method, compared to the other (thinner) plates. Thus differences in measurement calibration could account for an offset in values.\n",
    "<!-- solution-end -->"
   ]
  },
  {
   "cell_type": "markdown",
   "id": "amateur-convention",
   "metadata": {},
   "source": [
    "## Study Consequences With a Model\n",
    "\n",
    "The material properties `E` and `mu` are important for numerous engineering design problems. To illustrate how variability in data relates to engineering considerations, we'll study the data in light of a specific context."
   ]
  },
  {
   "cell_type": "markdown",
   "id": "accompanied-venture",
   "metadata": {},
   "source": [
    "### Model: Buckling plate \n",
    "\n",
    "A plate under compression is at risk of *buckling*: bowing inwards, leading to a reduction in the provided compression resisting the inward forces. If the buckling plate is used as a structural member (such as the top skin of an airplane wing), then the critical stress at which the plate buckles is an important design consideration.\n",
    "\n",
    "There are simple analytic models for the critical stress of a [plate buckling](https://en.wikipedia.org/wiki/Buckling#Plate_buckling). Your next task is to implement this model in grama.\n",
    "\n",
    "For convenience, the units of the Stang et al. dataset and other input variables are given below:\n",
    "\n",
    "| Variable | Meaning | Units |\n",
    "|----------|---------|-------|\n",
    "| `E`      | Elasticity | kips/in^2 == 1000 psi |\n",
    "| `mu`     | Poisson's ratio | - |\n",
    "| `a`      | Length  | in    |\n",
    "| `b`      | Width   | in    |\n",
    "| `t`      | Thickness | in    |\n",
    "| `m`      | Wavenumber | -    |"
   ]
  },
  {
   "cell_type": "markdown",
   "id": "static-central",
   "metadata": {},
   "source": [
    "### __q6__ Implement a model for a buckling plate\n",
    "\n",
    "Implement the buckling plate model, given by the following equations:\n",
    "\n",
    "$$\\sigma_{cr} = k_{cr} \\frac{\\pi^2 E}{12 (1 - \\mu^2)} \\left(\\frac{t}{b}\\right)^2$$\n",
    "\n",
    "where\n",
    "\n",
    "$$k_{cr} = \\left(\\frac{mb}{a} + \\frac{a}{mb}\\right)^2.$$\n",
    "\n",
    "Note that `m` is the \"wavenumber\"; that is, the number of ripples in the bending shape.\n",
    "\n",
    "Provide the critical stress $\\sigma_{cr}$ in units of psi.\n",
    "\n",
    "*Hint*: You can use `np.pi` to access the constant $\\pi$.\n"
   ]
  },
  {
   "cell_type": "code",
   "execution_count": null,
   "id": "great-breakfast",
   "metadata": {},
   "outputs": [],
   "source": [
    "## NOTE: This scaffolding will get you started\n",
    "md_plate = (\n",
    "    gr.Model(\"Plate critical buckling stress\")\n",
    "    >> gr.cp_vec_function(\n",
    "        fun=lambda df: gr.df_make(\n",
    "            k_cr=(df.m * df.b / df.a + df.a / df.m / df.b)**2\n",
    "        ),\n",
    "        var=[\"a\", \"b\", \"m\"],\n",
    "        out=[\"k_cr\"],\n",
    "    )\n",
    "# task-begin\n",
    "    ## TASK: Complete the model to provide the sigma_cr output\n",
    "# task-end\n",
    "# solution-begin\n",
    "    >> gr.cp_vec_function(\n",
    "        fun=lambda df: gr.df_make(\n",
    "            # sigma_cr=df.k_cr * (np.pi**2/12) * df.E / (1 - df.mu**2)\n",
    "            sigma_cr=df.k_cr * (np.pi**2/12) * df.E*1e3 / (1 - df.mu**2)\n",
    "                    *(df.t / df.b)**2\n",
    "        ),\n",
    "        var=[\"k_cr\", \"E\", \"mu\", \"t\", \"b\"],\n",
    "        out=[\"sigma_cr\"]\n",
    "    )\n",
    "# solution-end\n",
    ")\n",
    "\n",
    "md_plate"
   ]
  },
  {
   "cell_type": "markdown",
   "id": "level-casting",
   "metadata": {},
   "source": [
    "Use the following to check your work.\n"
   ]
  },
  {
   "cell_type": "code",
   "execution_count": null,
   "id": "amateur-richmond",
   "metadata": {},
   "outputs": [],
   "source": [
    "## NOTE: No need to edit, use this to check your work\n",
    "df_plate_test = (\n",
    "    md_plate\n",
    "    >> gr.ev_df(df=gr.df_make(\n",
    "        a=1,\n",
    "        b=1,\n",
    "        t=0.125,\n",
    "        E=10500,\n",
    "        mu=0.32,\n",
    "        m=1,\n",
    "    ))\n",
    ")\n",
    "print(df_plate_test)\n",
    "\n",
    "assert \\\n",
    "    not (abs(df_plate_test.sigma_cr[0] - 6.01319e2) < 1e-3), \\\n",
    "    \"Incorrect sigma_cr; did you remember to convert E from kips to lbf?\"\n",
    "\n",
    "assert \\\n",
    "    (abs(df_plate_test.sigma_cr[0] - 601319.062706) < 1e-3), \\\n",
    "    \"Incorrect sigma_cr; double-check your work\"\n"
   ]
  },
  {
   "cell_type": "markdown",
   "id": "rocky-pastor",
   "metadata": {},
   "source": [
    "### Two contexts\n",
    "\n",
    "Remember that models and data must be interpreted in a *context*. You will consider two different contexts below, in order to interpret the results.\n"
   ]
  },
  {
   "cell_type": "markdown",
   "id": "african-vitamin",
   "metadata": {},
   "source": [
    "### __q7__ Interpret results, context 1\n",
    "\n",
    "The following code sweeps the model over various aspect ratios (length / width) and wavenumbers `m`, and computes the critical buckling stress. It also considers the variability observed in the material properties `E, mu` and reports this as a band about each curve (as the min and max observed).\n",
    "\n",
    "Inspect the plot below, and answer the questions under *observe*.\n"
   ]
  },
  {
   "cell_type": "code",
   "execution_count": null,
   "id": "regulation-museum",
   "metadata": {},
   "outputs": [],
   "source": [
    "## NOTE: No need to edit; run and inspect\n",
    "(\n",
    "    df_stang\n",
    "    >> gr.tf_filter(DF.thick == 0.032)\n",
    "    >> gr.tf_rename(t=\"thick\")\n",
    "    \n",
    "    # Sweep over additional variables\n",
    "    >> gr.tf_outer(\n",
    "        df_outer=gr.df_grid(\n",
    "            m=[1, 2, 3],\n",
    "            a=gr.linspace(6, 48, 25),\n",
    "            b=12,\n",
    "        )\n",
    "    )\n",
    "    # Use the model as a transformation (evaluation synonym)\n",
    "    >> gr.tf_md(md_plate)\n",
    "    \n",
    "    # Compute summaries\n",
    "    >> gr.tf_group_by(DF.a, DF.m, DF.b)\n",
    "    >> gr.tf_summarize(\n",
    "        sigma_cr_min=gr.min(DF.sigma_cr),\n",
    "        sigma_cr_mean=gr.mean(DF.sigma_cr),\n",
    "        sigma_cr_max=gr.max(DF.sigma_cr),\n",
    "    )\n",
    "    \n",
    "    # Visualize the results\n",
    "    >> gr.ggplot(gr.aes(\"a / b\", color=\"factor(m)\"))\n",
    "    + gr.geom_ribbon(\n",
    "        gr.aes(ymin=\"sigma_cr_min\", ymax=\"sigma_cr_max\"),\n",
    "        linetype=\"dashed\",\n",
    "        fill=None,\n",
    "    )\n",
    "    + gr.geom_line(gr.aes(y=\"sigma_cr_mean\"))\n",
    "    \n",
    "    + gr.scale_y_continuous(limits=(200, 1200))\n",
    "    + gr.scale_color_discrete(name=\"Wavenumber\")\n",
    "    + gr.theme_minimal()\n",
    "    + gr.labs(\n",
    "        x=\"Aspect Ratio (-)\",\n",
    "        y=\"Critical Buckling Stress (psi)\"\n",
    "    )\n",
    ")"
   ]
  },
  {
   "cell_type": "markdown",
   "id": "freelance-diameter",
   "metadata": {},
   "source": [
    "*Observe*\n",
    "\n",
    "Suppose you were making a decision about what aspect ratio of plate to use, deciding between values of `AR == 1` and `AR == 1.5`. Your goal is to make the structure more efficient; to provide a higher critical buckling stress with the least weight possible.\n",
    "\n",
    "<!-- task-begin -->\n",
    "- At an aspect ratio of 1, which buckling mode (wavenumber) will be the most concerning?\n",
    "  - (Your response here)\n",
    "- At an aspect ratio of 1.5, which buckling mode (wavenumber) will be the most concerning?\n",
    "  - (Your response here)\n",
    "- How does the variability in buckling strength due to material properties compare with the variability due to aspect ratio?\n",
    "  - (Your response here)\n",
    "- Would it be necessary to consider the variability of material properties for making decisions about the aspect ratio? Say we were deciding between `AR == 1` and `AR == 1.5`.\n",
    "  - (Your response here)\n",
    "<!-- task-end -->\n",
    "<!-- solution-begin -->\n",
    "- At an aspect ratio of 1, buckling mode 1 (`m == 1`) will be most concerning, as it has the lowest critical buckling stress.\n",
    "- At an aspect ratio of 1.5, buckling mode 2 (`m == 2`) will be most concerning, as it has the lowest critical buckling stress.\n",
    "- The variability due to material properties is far less than the variability due to aspect ratio, at least at the scale we're considering (AR from about 1 to 3).\n",
    "- Since the variability due to material property variation is so small, compared to the variability due to `AR`, we would not need to consider the variability of material properties.\n",
    "<!-- solution-end -->\n"
   ]
  },
  {
   "cell_type": "markdown",
   "id": "institutional-wednesday",
   "metadata": {},
   "source": [
    "### __q8__ Interpret results, context 2\n",
    "\n",
    "Next you'll interpret results from the model in a different context. Run the following code, inspect the visual, and answer the questions under *observations* below.\n"
   ]
  },
  {
   "cell_type": "code",
   "execution_count": null,
   "id": "eight-vacation",
   "metadata": {},
   "outputs": [],
   "source": [
    "## NOTE: No need to edit; run and inspect\n",
    "(\n",
    "    df_stang\n",
    "    >> gr.tf_filter(DF.thick == 0.032)\n",
    "    >> gr.tf_drop(\"thick\")\n",
    "    \n",
    "    # Sweep over thicknesses\n",
    "    >> gr.tf_outer(\n",
    "        df_outer=gr.df_grid(\n",
    "            t=gr.linspace(0.030, 0.04, 25),\n",
    "            a=12 * 1.5,\n",
    "            b=12,\n",
    "            m=2,\n",
    "        )\n",
    "    )\n",
    "    \n",
    "    # Use model as a transform\n",
    "    >> gr.tf_md(md_plate)\n",
    "    \n",
    "    # Compute summaries\n",
    "    >> gr.tf_group_by(DF.t)\n",
    "    >> gr.tf_summarize(\n",
    "        sigma_cr_min=gr.min(DF.sigma_cr),\n",
    "        sigma_cr_mean=gr.mean(DF.sigma_cr),\n",
    "        sigma_cr_max=gr.max(DF.sigma_cr),\n",
    "    )\n",
    "    \n",
    "    # Visualize\n",
    "    >> gr.ggplot(gr.aes(\"t\"))\n",
    "    + gr.geom_hline(yintercept=300, color=\"grey\", size=1.5)\n",
    "    + gr.geom_segment(\n",
    "        data=gr.df_make(\n",
    "            t=0.0323,\n",
    "            y=300-50,\n",
    "            yend=300,\n",
    "        ),\n",
    "        mapping=gr.aes(\"t\", \"y\", xend=\"t\", yend=\"yend\"),\n",
    "        color=\"salmon\",\n",
    "    )\n",
    "    + gr.geom_segment(\n",
    "        data=gr.df_make(\n",
    "            y=300 * 1.25,\n",
    "            t=0.03,\n",
    "            tend=0.0361,\n",
    "        ),\n",
    "        mapping=gr.aes(\"t\", \"y\", xend=\"tend\", yend=\"y\"),\n",
    "        color=\"blue\",\n",
    "    )\n",
    "    + gr.geom_line(gr.aes(y=\"sigma_cr_min\"), linetype=\"dashed\")\n",
    "    + gr.geom_line(gr.aes(y=\"sigma_cr_mean\"))\n",
    "    + gr.geom_line(gr.aes(y=\"sigma_cr_max\"), linetype=\"dashed\")\n",
    "    \n",
    "    + gr.theme_minimal()\n",
    "    + gr.labs(\n",
    "        x=\"Plate Thickness (in)\",\n",
    "        y=\"Critical Buckling Stress (psi)\"\n",
    "    )\n",
    ")"
   ]
  },
  {
   "cell_type": "markdown",
   "id": "rubber-punch",
   "metadata": {},
   "source": [
    "*Observations*\n",
    "\n",
    "Suppose the plate will be subjected to a compressive stress of `300` psi, and your goal is to pick the minimum-thickness possible while ensuring the plate will not buckle.\n",
    "\n",
    "<!-- task-begin -->\n",
    "- Would a plate of thickness `t == 0.0323` in be safe? (This thickness is shown by the salmon-colored vertical line.) Why or why not?\n",
    "  - (Your response here)\n",
    "- A colleague suggests using a factor of safety of `1.25` to increase the applied stress in order to deal with the material variability. (This new applied stress is shown by the horizontal blue line.) Compared to the variability observed, is this margin too small, too large, or just right?\n",
    "  - (Your response here)\n",
    "<!-- task-end -->\n",
    "<!-- solution-begin -->\n",
    "- Would a plate of thickness `t == 0.0323` in be safe? (This thickness is shown by the salmon-colored vertical line.) Why or why not?\n",
    "  - No; at a thickness of `t == 0.0323` in the observed variability can lead to a buckling stress (capacity) lower than the applied stress (demand). A larger thickness is necessary to ensure the plate will not buckle.\n",
    "- A colleague suggests using a factor of safety of `1.25` to increase the applied stress in order to deal with the material variability. (This new applied stress is shown by the horizontal blue line.) Compared to the variability observed, is this margin too small, too large, or just right?\n",
    "  - Compared to the variability observed, a safety factor of `1.25` on the *applied stress* seems excessive. This would lead to a plate thickness around `t == 0.0360` (in), which is much thicker than necessary to account for the material variability. A thickness closer to `0.0325` in would be more reasonable.\n",
    "  - Note that there might be *other* sources of uncertainty that would encourage one to use a larger safety factor.\n",
    "<!-- solution-end -->\n"
   ]
  },
  {
   "cell_type": "markdown",
   "id": "domestic-blade",
   "metadata": {},
   "source": [
    "# References\n",
    "\n",
    "[1] Stang, Greenspan, and Newman, \"Poisson's ratio of some structural alloys for large strains\" (1946) Journal of Research of the National Bureau of Standards, [pdf link](https://nvlpubs.nist.gov/nistpubs/jres/37/jresv37n4p211_A1b.pdf)\n",
    "\n",
    "[2] Wikipedia, *List of material properties*, accessed 2020-06-26, [link](https://en.wikipedia.org/wiki/List_of_materials_properties)\n",
    "\n",
    "[3] Wikipedia, *Buckling: Plate buckling*, accessed 2022-01-09, [link](https://en.wikipedia.org/wiki/Buckling#Plate_buckling)\n"
   ]
  }
 ],
 "metadata": {
  "kernelspec": {
   "display_name": "Python 3 (ipykernel)",
   "language": "python",
   "name": "python3"
  },
  "language_info": {
   "codemirror_mode": {
    "name": "ipython",
    "version": 3
   },
   "file_extension": ".py",
   "mimetype": "text/x-python",
   "name": "python",
   "nbconvert_exporter": "python",
   "pygments_lexer": "ipython3",
   "version": "3.9.7"
  }
 },
 "nbformat": 4,
 "nbformat_minor": 5
}
