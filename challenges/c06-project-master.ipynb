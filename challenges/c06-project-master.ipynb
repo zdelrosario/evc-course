{
 "cells": [
  {
   "cell_type": "markdown",
   "id": "e97a0675-c817-414d-9805-19397e86d506",
   "metadata": {},
   "source": [
    "# c06-project\n",
    "\n",
    "*Purpose*: So far you've worked on externally-defined assignments. In order to help you internalize the lessons from the course and generalize them to other contexts, for this last challenge you'll define and complete your own project!\n"
   ]
  },
  {
   "cell_type": "markdown",
   "id": "056ecef2-7b3b-45b9-8661-c14863919ec5",
   "metadata": {},
   "source": [
    "## Informed Consent\n",
    "\n",
    "As a reminder, this course is part of a study of engineers' behavior. While not all parts of the course include data collection, we will analyze your responses to this homework as part of the research.\n",
    "\n",
    "We will analyze your answers to this homework, and may quote this work as part of published research.\n",
    "\n",
    "You can ask to have your responses excluded from the study after the interview by sending us an email. Before starting this assignment, do you consent to sharing your work with the study?\n"
   ]
  },
  {
   "cell_type": "markdown",
   "id": "2d2d3576-c645-4156-972c-1ae939664bc5",
   "metadata": {},
   "source": [
    "I agree to share my responses with the study\n",
    "\n",
    "- (Please type your name here)\n"
   ]
  },
  {
   "cell_type": "markdown",
   "id": "51ae71b9-6b98-4e3c-88d8-68c0df39dd7c",
   "metadata": {},
   "source": [
    "## Setup\n",
    "\n",
    "You may need to import more libraries, but these should get you started.\n"
   ]
  },
  {
   "cell_type": "code",
   "execution_count": null,
   "id": "7dbd6324-957c-4f58-860a-9ae4fb3ca8b7",
   "metadata": {},
   "outputs": [],
   "source": [
    "import grama as gr\n",
    "import pandas as pd\n",
    "import numpy as np\n",
    "DF = gr.Intention()\n",
    "%matplotlib inline\n"
   ]
  },
  {
   "cell_type": "markdown",
   "id": "5d9375df-128b-4c78-8c75-aa55a3844209",
   "metadata": {
    "tags": []
   },
   "source": [
    "## Checklist\n",
    "\n",
    "Here's a checklist to help you keep track of what should go in this project:\n",
    "\n",
    "| Category | Item | Done? |\n",
    "|----------|------|-------|\n",
    "| Starting | read the instructions | [x] |\n",
    "| Starting | start with a modeling question | [ ] |\n",
    "| Model Building | choose a quantity of interest | [ ] |\n",
    "| Model Building | gather appropriate information | [ ] |\n",
    "| Model Building | build the model | [ ] |\n",
    "| Model Building | assess the model | [ ] |\n",
    "| Answer Question | use the model       | [ ] |\n"
   ]
  },
  {
   "cell_type": "markdown",
   "id": "96ca0173-6049-4b36-9eff-a63b92d581c3",
   "metadata": {},
   "source": [
    "# Starting\n"
   ]
  },
  {
   "cell_type": "markdown",
   "id": "d17e20ae-41fa-4c0f-b008-f6a51f0b998d",
   "metadata": {},
   "source": [
    "### __q0__ Skim this challenge\n",
    "\n",
    "Skim through the tasks in this challenge to get a sense of what the project will entail. Make sure to do this before starting your project! This will help you scope things out.\n",
    "\n",
    "> Look for the quoted sections. These are questions you should answer to help guide your study.\n"
   ]
  },
  {
   "cell_type": "markdown",
   "id": "09d6a769-f895-4632-a946-091f85cd5798",
   "metadata": {},
   "source": [
    "## A Modeling Question\n",
    "\n",
    "What is your \"driving question\" for this project? Good studies usually start with some kind of question that drives the exploration and modeling.  For the boats challenge, my question was \"How do different boat design variables affect the roll stability of a boat?\" For the plates challenge, I wanted to explore the question \"When does variability affect engineering outcomes? When does it not matter so much?\"\n"
   ]
  },
  {
   "cell_type": "markdown",
   "id": "eb36b8e9-3efa-427e-84c6-690f89d06904",
   "metadata": {},
   "source": [
    "### __q1__ Start with a modeling question\n",
    "\n",
    "What question do you want to answer in this project? It can be broad or specific, and you can update it as you go along. \n",
    "\n",
    "> (Write your question here)\n",
    "\n",
    "*Tips*: Try to make sure your question isn't a \"data question\"; for instance, \"What is the global mean temperature?\" can be answered by looking up the appropriate data. \"What effect would painting all roofs white have on the global mean temperature?\" is a question that we would need a model to answer.\n"
   ]
  },
  {
   "cell_type": "markdown",
   "id": "dba6ae06-1eee-4113-8fd8-05feae7c2aa2",
   "metadata": {},
   "source": [
    "# Model Building\n",
    "\n",
    "Once you've got your modeling question defined, you can proceed to build a model to help answer your question.\n"
   ]
  },
  {
   "cell_type": "markdown",
   "id": "3a2856b8-f8ba-4845-8316-7d111caee53c",
   "metadata": {},
   "source": [
    "### __q2__ Choose a quantity of interest\n",
    "\n",
    "What numerical quantity would relate to your modeling question?\n",
    "\n",
    "> (Describe your quantity of interest here. How would this help answer your modeling question?)\n"
   ]
  },
  {
   "cell_type": "markdown",
   "id": "06ecca99-6760-4b62-adce-7b8730ecc524",
   "metadata": {},
   "source": [
    "### __q3__ Gather appropriate information\n",
    "\n",
    "What kind of physical laws could you use to predict your quantity of interest?\n",
    "\n",
    "> (Describe relevant physical laws here---can you build a function model?)\n",
    "\n",
    "*Tips*: If your quantity of interest cannot be predicted by physical laws, you should probably revise your modeling question or quantity of interest. Remember that you can also use simulation packages (e.g. FEA, CFD) to predict quantities of interest!\n"
   ]
  },
  {
   "cell_type": "markdown",
   "id": "ae2e84a7-5be9-457e-a617-7d38c8fe9fff",
   "metadata": {},
   "source": [
    "What inputs would your quantity of interest depend on?\n",
    "\n",
    "> (List your inputs here. Are these inputs deterministic or uncertain? If they are uncertain, can you get a dataset to build a distribution model? If no data are available, can you come up with a reasonable range the inputs?)\n"
   ]
  },
  {
   "cell_type": "code",
   "execution_count": null,
   "id": "73e534ec-5126-4e79-9faa-79da326389ea",
   "metadata": {},
   "outputs": [],
   "source": [
    "## NOTE: You might find it useful to load some datasets and do EDA\n",
    "# Feel free to add more code cells if you need to!\n"
   ]
  },
  {
   "cell_type": "markdown",
   "id": "c104dd8d-299d-4d38-92fb-29924979a528",
   "metadata": {},
   "source": [
    "### __q4__ Build the model\n",
    "\n",
    "With the information above, you should be able to implement your model in grama. Use the information you gathered in the previous task to build your model.\n"
   ]
  },
  {
   "cell_type": "code",
   "execution_count": null,
   "id": "e48c20ab-d7fd-4e11-8834-45acdb2dc20e",
   "metadata": {},
   "outputs": [],
   "source": [
    "## NOTE: Here's a \"model skeleton\" to get you started\n",
    "md_model = (\n",
    "    gr.Model(\"Name your model here\")\n",
    "    ## For vectorized functions\n",
    "    # >> gr.cp_vec_function(\n",
    "    #     fun=lambda df: gr.df_make(\n",
    "    #         y=df.c * gr.exp(df.x),\n",
    "    #     ),\n",
    "    #     var=[\"c\", \"x\"],\n",
    "    #     out=[\"y\"],\n",
    "    # )\n",
    "    ## For non-vectorized functions, e.g. simulation codes\n",
    "    # >> gr.cp_function(\n",
    "    #     fun=fun_simulation,\n",
    "    #     var=[\"x\", \"y\", \"z\"],\n",
    "    #     out=[\"f\"],\n",
    "    # )\n",
    "    \n",
    "    ## Bounds\n",
    "    # >> gr.cp_bounds(\n",
    "    #     x=(-1, +1),\n",
    "    #     c=(0.1, 1.0),\n",
    "    # )\n",
    "    \n",
    "    ## Distributions\n",
    "    # >> gr.cp_marginals(\n",
    "    #     y=gr.marg_mom(\"uniform\", mean=0, sd=1),\n",
    "    #     z=gr.marg_mom(\"beta\", mean=0, sd=1, skew=0, kurt=2),\n",
    "    # )\n",
    "    # >> gr.cp_copula_gaussian(\n",
    "    #     df_corr=gr.df_make(var1=\"y\", var2=\"z\", corr=0.5)\n",
    "    # )\n",
    ")\n",
    "\n",
    "md_model"
   ]
  },
  {
   "cell_type": "markdown",
   "id": "b1c51237-6454-4ece-9610-9f5a681c7ebd",
   "metadata": {},
   "source": [
    "### __q5__ Assess the model\n",
    "\n",
    "Now that your model is built, use a combination of EMA techniques and validation studies to assess your model. Are you relatively confident that your implementation of the model is error-free? Does your model sufficiently represent reality to answer your modeling question?\n"
   ]
  },
  {
   "cell_type": "code",
   "execution_count": null,
   "id": "5df49fd3-3400-42cf-8b3c-51f8cbe0c686",
   "metadata": {},
   "outputs": [],
   "source": [
    "## NOTE: Assess your model below\n",
    "# You can use a combination of EMA techniques and validation studies, as you see fit\n",
    "# Also, feel free to add additional code cells as you need them\n"
   ]
  },
  {
   "cell_type": "markdown",
   "id": "d7f36538-d78f-440a-91d5-caa508740e3d",
   "metadata": {},
   "source": [
    "# Answer Question\n",
    "\n",
    "At last, after all that hard work you can use your model to answer your modeling question!\n"
   ]
  },
  {
   "cell_type": "markdown",
   "id": "2c4e3b40-1339-4164-b7c5-b7b49f186759",
   "metadata": {},
   "source": [
    "### __q6__ Use the model\n",
    "\n",
    "Use your model to answer your modeling question; this may involve a parameter sweep, some kind of numerical prediction, or something else entirely.\n"
   ]
  },
  {
   "cell_type": "code",
   "execution_count": null,
   "id": "597bb5ab-f129-4faa-8665-0f686c0c887d",
   "metadata": {},
   "outputs": [],
   "source": [
    "## NOTE: Use your model to answer your modeling question\n"
   ]
  },
  {
   "cell_type": "markdown",
   "id": "b0c6a0e3-452f-4d24-b91f-4c3de852aa4f",
   "metadata": {},
   "source": [
    "> (What are the results of your study? How do these address your modeling question?)\n"
   ]
  }
 ],
 "metadata": {
  "kernelspec": {
   "display_name": "Python 3 (ipykernel)",
   "language": "python",
   "name": "python3"
  },
  "language_info": {
   "codemirror_mode": {
    "name": "ipython",
    "version": 3
   },
   "file_extension": ".py",
   "mimetype": "text/x-python",
   "name": "python",
   "nbconvert_exporter": "python",
   "pygments_lexer": "ipython3",
   "version": "3.9.7"
  }
 },
 "nbformat": 4,
 "nbformat_minor": 5
}
